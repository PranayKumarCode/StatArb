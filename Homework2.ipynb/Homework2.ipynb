{
 "cells": [
  {
   "cell_type": "code",
   "execution_count": 39,
   "id": "eea7a77f",
   "metadata": {},
   "outputs": [],
   "source": [
    "\n",
    "import pickle\n",
    "import numpy as np\n",
    "import pandas as pd\n",
    "\n",
    "import warnings\n",
    "warnings.filterwarnings(\"ignore\", category=RuntimeWarning)\n",
    "warnings.filterwarnings(\"ignore\", category=FutureWarning)\n",
    "\n",
    "import refinitiv.data as rd\n",
    "from refinitiv.data.content import historical_pricing as hp"
   ]
  },
  {
   "cell_type": "code",
   "execution_count": 3,
   "id": "994f508e",
   "metadata": {},
   "outputs": [
    {
     "name": "stdout",
     "output_type": "stream",
     "text": [
      "<class 'dict'>\n",
      "dict_keys(['name_list', 'industry_list', 'index_list', 'cusip_list', 'universe'])\n"
     ]
    }
   ],
   "source": [
    "with open(\"alldata.pkl\", \"rb\") as f:\n",
    "    data = pickle.load(f)\n",
    "\n",
    "print(type(data))\n",
    "print(data.keys())\n",
    "\n",
    "name_list = data['name_list']\n",
    "industry_list = data['industry_list']\n",
    "index_list = data['index_list']\n",
    "cusip_list = data['cusip_list']\n",
    "universe = data['universe']"
   ]
  },
  {
   "cell_type": "code",
   "execution_count": 4,
   "id": "24cb3f5c",
   "metadata": {},
   "outputs": [
    {
     "data": {
      "text/html": [
       "<div>\n",
       "<style scoped>\n",
       "    .dataframe tbody tr th:only-of-type {\n",
       "        vertical-align: middle;\n",
       "    }\n",
       "\n",
       "    .dataframe tbody tr th {\n",
       "        vertical-align: top;\n",
       "    }\n",
       "\n",
       "    .dataframe thead th {\n",
       "        text-align: right;\n",
       "    }\n",
       "</style>\n",
       "<table border=\"1\" class=\"dataframe\">\n",
       "  <thead>\n",
       "    <tr style=\"text-align: right;\">\n",
       "      <th></th>\n",
       "      <th>RIC</th>\n",
       "      <th>name</th>\n",
       "      <th>date</th>\n",
       "      <th>index</th>\n",
       "      <th>ISIN Code</th>\n",
       "      <th>TRBC Industry</th>\n",
       "      <th>CUSIPE</th>\n",
       "    </tr>\n",
       "  </thead>\n",
       "  <tbody>\n",
       "    <tr>\n",
       "      <th>0</th>\n",
       "      <td>1COVG.DE</td>\n",
       "      <td>COVESTRO ORD</td>\n",
       "      <td>2019-12-31</td>\n",
       "      <td>.GDAXI</td>\n",
       "      <td>DE0006062144</td>\n",
       "      <td>Chemicals</td>\n",
       "      <td>D15349109</td>\n",
       "    </tr>\n",
       "    <tr>\n",
       "      <th>1</th>\n",
       "      <td>AALB.AS</td>\n",
       "      <td>AALBERTS ORD</td>\n",
       "      <td>2019-12-31</td>\n",
       "      <td>.AEX</td>\n",
       "      <td>NL0000852564</td>\n",
       "      <td>Machinery, Tools, Heavy Vehicles, Trains &amp; Ships</td>\n",
       "      <td>N00089271</td>\n",
       "    </tr>\n",
       "    <tr>\n",
       "      <th>2</th>\n",
       "      <td>ABB.ST</td>\n",
       "      <td>ABB ORD</td>\n",
       "      <td>2019-12-31</td>\n",
       "      <td>.OMXS30</td>\n",
       "      <td>CH0012221716</td>\n",
       "      <td>Machinery, Tools, Heavy Vehicles, Trains &amp; Ships</td>\n",
       "      <td>H0010V101</td>\n",
       "    </tr>\n",
       "    <tr>\n",
       "      <th>3</th>\n",
       "      <td>ABI.BR</td>\n",
       "      <td>ANHEUSER-BUSCH INBEV SA/NV ORD</td>\n",
       "      <td>2019-12-31</td>\n",
       "      <td>.BFX</td>\n",
       "      <td>BE0974293251</td>\n",
       "      <td>Beverages</td>\n",
       "      <td>B639CJ108</td>\n",
       "    </tr>\n",
       "    <tr>\n",
       "      <th>4</th>\n",
       "      <td>ABNd.AS</td>\n",
       "      <td>ABN AMRO BANK ORD</td>\n",
       "      <td>2019-12-31</td>\n",
       "      <td>.AEX</td>\n",
       "      <td>NL0011540547</td>\n",
       "      <td>Banking Services</td>\n",
       "      <td>N0162C102</td>\n",
       "    </tr>\n",
       "    <tr>\n",
       "      <th>...</th>\n",
       "      <td>...</td>\n",
       "      <td>...</td>\n",
       "      <td>...</td>\n",
       "      <td>...</td>\n",
       "      <td>...</td>\n",
       "      <td>...</td>\n",
       "      <td>...</td>\n",
       "    </tr>\n",
       "    <tr>\n",
       "      <th>1957</th>\n",
       "      <td>WLSNc.AS</td>\n",
       "      <td>WOLTERS KLUWERS ORD</td>\n",
       "      <td>2024-12-31</td>\n",
       "      <td>.AEX</td>\n",
       "      <td>NL0000395903</td>\n",
       "      <td>Professional &amp; Commercial Services</td>\n",
       "      <td>N9643A197</td>\n",
       "    </tr>\n",
       "    <tr>\n",
       "      <th>1958</th>\n",
       "      <td>WRT1V.HE</td>\n",
       "      <td>WARTSILA ORD</td>\n",
       "      <td>2024-12-31</td>\n",
       "      <td>.OMXH25</td>\n",
       "      <td>FI0009003727</td>\n",
       "      <td>Machinery, Tools, Heavy Vehicles, Trains &amp; Ships</td>\n",
       "      <td>X98155116</td>\n",
       "    </tr>\n",
       "    <tr>\n",
       "      <th>1959</th>\n",
       "      <td>YAR.OL</td>\n",
       "      <td>YARA INTL ORD</td>\n",
       "      <td>2024-12-31</td>\n",
       "      <td>.OBX</td>\n",
       "      <td>NO0010208051</td>\n",
       "      <td>Chemicals</td>\n",
       "      <td>R9900C106</td>\n",
       "    </tr>\n",
       "    <tr>\n",
       "      <th>1960</th>\n",
       "      <td>ZALG.DE</td>\n",
       "      <td>ZALANDO ORD SHS</td>\n",
       "      <td>2024-12-31</td>\n",
       "      <td>.GDAXI</td>\n",
       "      <td>DE000ZAL1111</td>\n",
       "      <td>Software &amp; IT Services</td>\n",
       "      <td>D98423102</td>\n",
       "    </tr>\n",
       "    <tr>\n",
       "      <th>1961</th>\n",
       "      <td>ZELA.CO</td>\n",
       "      <td>ZEALAND PHARMA ORD</td>\n",
       "      <td>2024-12-31</td>\n",
       "      <td>.OMXC20</td>\n",
       "      <td>DK0060257814</td>\n",
       "      <td>Biotechnology &amp; Medical Research</td>\n",
       "      <td>K9898X127</td>\n",
       "    </tr>\n",
       "  </tbody>\n",
       "</table>\n",
       "<p>1962 rows × 7 columns</p>\n",
       "</div>"
      ],
      "text/plain": [
       "           RIC                            name        date    index  \\\n",
       "0     1COVG.DE                    COVESTRO ORD  2019-12-31   .GDAXI   \n",
       "1      AALB.AS                    AALBERTS ORD  2019-12-31     .AEX   \n",
       "2       ABB.ST                         ABB ORD  2019-12-31  .OMXS30   \n",
       "3       ABI.BR  ANHEUSER-BUSCH INBEV SA/NV ORD  2019-12-31     .BFX   \n",
       "4      ABNd.AS               ABN AMRO BANK ORD  2019-12-31     .AEX   \n",
       "...        ...                             ...         ...      ...   \n",
       "1957  WLSNc.AS             WOLTERS KLUWERS ORD  2024-12-31     .AEX   \n",
       "1958  WRT1V.HE                    WARTSILA ORD  2024-12-31  .OMXH25   \n",
       "1959    YAR.OL                   YARA INTL ORD  2024-12-31     .OBX   \n",
       "1960   ZALG.DE                 ZALANDO ORD SHS  2024-12-31   .GDAXI   \n",
       "1961   ZELA.CO              ZEALAND PHARMA ORD  2024-12-31  .OMXC20   \n",
       "\n",
       "         ISIN Code                                     TRBC Industry  \\\n",
       "0     DE0006062144                                         Chemicals   \n",
       "1     NL0000852564  Machinery, Tools, Heavy Vehicles, Trains & Ships   \n",
       "2     CH0012221716  Machinery, Tools, Heavy Vehicles, Trains & Ships   \n",
       "3     BE0974293251                                         Beverages   \n",
       "4     NL0011540547                                  Banking Services   \n",
       "...            ...                                               ...   \n",
       "1957  NL0000395903                Professional & Commercial Services   \n",
       "1958  FI0009003727  Machinery, Tools, Heavy Vehicles, Trains & Ships   \n",
       "1959  NO0010208051                                         Chemicals   \n",
       "1960  DE000ZAL1111                            Software & IT Services   \n",
       "1961  DK0060257814                  Biotechnology & Medical Research   \n",
       "\n",
       "         CUSIPE  \n",
       "0     D15349109  \n",
       "1     N00089271  \n",
       "2     H0010V101  \n",
       "3     B639CJ108  \n",
       "4     N0162C102  \n",
       "...         ...  \n",
       "1957  N9643A197  \n",
       "1958  X98155116  \n",
       "1959  R9900C106  \n",
       "1960  D98423102  \n",
       "1961  K9898X127  \n",
       "\n",
       "[1962 rows x 7 columns]"
      ]
     },
     "execution_count": 4,
     "metadata": {},
     "output_type": "execute_result"
    }
   ],
   "source": [
    "universe"
   ]
  },
  {
   "cell_type": "code",
   "execution_count": 40,
   "id": "04dcae68",
   "metadata": {},
   "outputs": [
    {
     "name": "stdout",
     "output_type": "stream",
     "text": [
      "\n",
      "Fundamental data response:\n",
      "  Instrument       Date  Total Return   Company Market Cap\n",
      "0     ABI.BR 2025-08-01     -2.840467  146008271111.880005\n",
      "1     ABI.BR 2025-07-31    -11.562285  145517230886.640015\n",
      "2     ABI.BR 2025-07-30      0.832755  145060055504.519989\n",
      "3     ABI.BR 2025-07-29      0.348189  143840921152.199005\n",
      "4     ABI.BR 2025-07-28     -3.624161  143078962181.998993\n",
      "5     ABI.BR 2025-07-25     -0.633545  145720419945.359009\n",
      "6     ABI.BR 2025-07-24      0.671366  144162637161.839996\n",
      "7     ABI.BR 2025-07-23       1.08585  144619812543.959991\n",
      "8     ABI.BR 2025-07-22      0.408859  148835985512.399994\n",
      "9     ABI.BR 2025-07-21      0.548133  147633783581.639008\n",
      "\n",
      "Columns: ['Instrument', 'Date', 'Total Return', 'Company Market Cap']\n",
      "\n",
      "Fundamental data with Date index:\n",
      "            Total Return   Company Market Cap\n",
      "Date                                         \n",
      "2025-08-01     -2.840467  146008271111.880005\n",
      "2025-07-31    -11.562285  145517230886.640015\n",
      "2025-07-30      0.832755  145060055504.519989\n",
      "2025-07-29      0.348189  143840921152.199005\n",
      "2025-07-28     -3.624161  143078962181.998993\n",
      "2025-07-25     -0.633545  145720419945.359009\n",
      "2025-07-24      0.671366  144162637161.839996\n",
      "2025-07-23       1.08585  144619812543.959991\n",
      "2025-07-22      0.408859  148835985512.399994\n",
      "2025-07-21      0.548133  147633783581.639008\n",
      "\n",
      "================================================================================\n",
      "FINAL DATASET\n",
      "================================================================================\n",
      "            price       tri        volume                  cap    bid    ask\n",
      "Date                                                                        \n",
      "2019-09-02  86.23  0.034803   58044775.97   89752158411.519699  86.17  86.23\n",
      "2019-09-03  85.94  -0.33631   85772932.64   92376070131.199493  85.91  85.94\n",
      "2019-09-04  85.67 -0.314173   89902869.03     104453252840.959  85.67  85.71\n",
      "2019-09-05  84.95 -0.840434   129880224.9  103590596933.119003  84.94  84.95\n",
      "2019-09-06   84.5 -0.529723   127293081.5  103231156971.518997  84.46   84.5\n",
      "2019-09-09  86.06  1.846154  130301122.38  107113108556.798996  86.06  86.07\n",
      "2019-09-10  85.14 -1.069022   148119335.1  107796044483.839996  85.14  85.15\n",
      "2019-09-11  85.41  0.317125  138647590.38  107077164560.639999  85.41  85.46\n",
      "2019-09-12   87.9  2.915349   230178983.4  105926956683.520004   87.9  87.94\n",
      "2019-09-13  87.19 -0.807736  128714760.64  105495628729.600006  87.19   87.2\n",
      "2019-09-16  86.98 -0.240853  102607957.54  104920524791.039001  86.98  86.99\n",
      "2019-09-17  87.42  0.505863  126854899.74  104884580794.878998  87.41  87.42\n",
      "2019-09-18  87.64  0.251659  101309123.16  103518708940.800003  87.61  87.64\n",
      "2019-09-19   86.4 -1.414879   112623868.8  103698428921.600006   86.4  86.43\n",
      "2019-09-20  88.07   1.93287  407383373.39  104201644867.839996  88.01  88.07\n",
      "\n",
      "Shape: (1517, 6)\n",
      "\n",
      "Columns: ['price', 'tri', 'volume', 'cap', 'bid', 'ask']\n",
      "\n",
      "Null counts:\n",
      "price     0\n",
      "tri       0\n",
      "volume    0\n",
      "cap       0\n",
      "bid       1\n",
      "ask       1\n",
      "dtype: int64\n",
      "\n",
      "Sample with non-null data:\n",
      "            price       tri        volume                  cap    bid    ask\n",
      "Date                                                                        \n",
      "2019-09-02  86.23  0.034803   58044775.97   89752158411.519699  86.17  86.23\n",
      "2019-09-03  85.94  -0.33631   85772932.64   92376070131.199493  85.91  85.94\n",
      "2019-09-04  85.67 -0.314173   89902869.03     104453252840.959  85.67  85.71\n",
      "2019-09-05  84.95 -0.840434   129880224.9  103590596933.119003  84.94  84.95\n",
      "2019-09-06   84.5 -0.529723   127293081.5  103231156971.518997  84.46   84.5\n",
      "2019-09-09  86.06  1.846154  130301122.38  107113108556.798996  86.06  86.07\n",
      "2019-09-10  85.14 -1.069022   148119335.1  107796044483.839996  85.14  85.15\n",
      "2019-09-11  85.41  0.317125  138647590.38  107077164560.639999  85.41  85.46\n",
      "2019-09-12   87.9  2.915349   230178983.4  105926956683.520004   87.9  87.94\n",
      "2019-09-13  87.19 -0.807736  128714760.64  105495628729.600006  87.19   87.2\n",
      "\n",
      "Data saved to ABI_BR_Data.csv\n"
     ]
    }
   ],
   "source": [
    "rd.open_session()\n",
    "\n",
    "ric = \"ABI.BR\"\n",
    "start_date = \"2019-09-01\"\n",
    "end_date = \"2025-08-01\"\n",
    "\n",
    "price_df = rd.get_history(\n",
    "    universe=ric,\n",
    "    start=start_date,\n",
    "    end=end_date,\n",
    "    interval=\"daily\"\n",
    ")\n",
    "\n",
    "df = pd.DataFrame({\n",
    "    'price': price_df['TRDPRC_1'],\n",
    "    'volume_shares': price_df['ACVOL_UNS'],\n",
    "    'bid': price_df['BID'],\n",
    "    'ask': price_df['ASK']\n",
    "})\n",
    "\n",
    "fundamental_response = rd.get_data(\n",
    "    universe=ric,\n",
    "    fields=[\n",
    "        \"TR.TotalReturn.Date\",\n",
    "        \"TR.TotalReturn\",           # Total Return Index\n",
    "        \"TR.PriceToBook\",           # Price to Book (Market-to-Book)\n",
    "        \"TR.CompanyMarketCap\"       # Market Cap\n",
    "    ],\n",
    "    parameters={\n",
    "        \"SDate\": start_date,\n",
    "        \"EDate\": end_date,\n",
    "        \"Frq\": \"D\",\n",
    "        \"Curn\": \"EUR\"\n",
    "    }\n",
    ")\n",
    "\n",
    "print(\"\\nFundamental data response:\")\n",
    "print(fundamental_response.head(10))\n",
    "print(f\"\\nColumns: {fundamental_response.columns.tolist()}\")\n",
    "\n",
    "if fundamental_response is not None and isinstance(fundamental_response, pd.DataFrame):\n",
    "    fund_df = fundamental_response.copy()\n",
    "    \n",
    "    if 'Date' in fund_df.columns:\n",
    "        fund_df['Date'] = pd.to_datetime(fund_df['Date'])\n",
    "        fund_df.set_index('Date', inplace=True)\n",
    "        \n",
    "        if 'Instrument' in fund_df.columns:\n",
    "            fund_df.drop('Instrument', axis=1, inplace=True)\n",
    "        \n",
    "        print(f\"\\nFundamental data with Date index:\")\n",
    "        print(fund_df.head(10))\n",
    "        \n",
    "        df = df.join(fund_df, how='left')\n",
    "    else:\n",
    "        print(\"\\nWARNING: No Date column found in fundamental data!\")\n",
    "        print(\"Available columns:\", fund_df.columns.tolist())\n",
    "\n",
    "column_mapping = {\n",
    "    'Total Return': 'tri',\n",
    "    'Price To Book Value': 'mtbv',\n",
    "    'Company Market Cap': 'cap'\n",
    "}\n",
    "\n",
    "for old_name, new_name in column_mapping.items():\n",
    "    if old_name in df.columns:\n",
    "        df.rename(columns={old_name: new_name}, inplace=True)\n",
    "\n",
    "df['volume'] = df['volume_shares'] * df['price']\n",
    "df.drop('volume_shares', axis=1, inplace=True)\n",
    "\n",
    "if 'mtbv' in df.columns:\n",
    "    df['mtbv'] = df['mtbv'].ffill()\n",
    "if 'cap' in df.columns:\n",
    "    df['cap'] = df['cap'].ffill()\n",
    "\n",
    "desired_order = ['price', 'tri', 'volume', 'mtbv', 'cap', 'bid', 'ask']\n",
    "existing_cols = [col for col in desired_order if col in df.columns]\n",
    "df = df[existing_cols]\n",
    "\n",
    "print(\"\\n\" + \"=\"*80)\n",
    "print(\"FINAL DATASET\")\n",
    "print(\"=\"*80)\n",
    "print(df.head(15))\n",
    "print(f\"\\nShape: {df.shape}\")\n",
    "print(f\"\\nColumns: {df.columns.tolist()}\")\n",
    "print(f\"\\nNull counts:\\n{df.isnull().sum()}\")\n",
    "print(f\"\\nSample with non-null data:\")\n",
    "print(df[df['tri'].notna()].head(10))\n",
    "\n",
    "df.to_csv(\"ABI_BR_Data.csv\", index=True)\n",
    "print(f\"\\nData saved to ABI_BR_Data.csv\")\n",
    "\n",
    "rd.close_session()"
   ]
  },
  {
   "cell_type": "code",
   "execution_count": null,
   "id": "1f2bb338",
   "metadata": {},
   "outputs": [],
   "source": []
  },
  {
   "cell_type": "code",
   "execution_count": null,
   "id": "bbe8b9cb",
   "metadata": {},
   "outputs": [],
   "source": []
  },
  {
   "cell_type": "code",
   "execution_count": 36,
   "id": "4b2f6c3c",
   "metadata": {},
   "outputs": [
    {
     "name": "stdout",
     "output_type": "stream",
     "text": [
      "Total rows in universe: 1962\n",
      "Unique RICs to process: 411\n",
      "\n",
      "Processing 411 unique stocks...\n",
      "[1/411] Processing 1COVG.DE... "
     ]
    },
    {
     "name": "stderr",
     "output_type": "stream",
     "text": [
      "d:\\myenv\\Lib\\site-packages\\refinitiv\\data\\_tools\\_dataframe.py:177:FutureWarning: Downcasting object dtype arrays on .fillna, .ffill, .bfill is deprecated and will change in a future version. Call result.infer_objects(copy=False) instead. To opt-in to the future behavior, set `pd.set_option('future.no_silent_downcasting', True)`\n"
     ]
    },
    {
     "name": "stdout",
     "output_type": "stream",
     "text": [
      "✗ Failed: 'TRDPRC_1'\n",
      "[2/411] Processing AALB.AS... "
     ]
    },
    {
     "name": "stderr",
     "output_type": "stream",
     "text": [
      "d:\\myenv\\Lib\\site-packages\\pandas\\core\\dtypes\\cast.py:1057:RuntimeWarning: invalid value encountered in cast\n",
      "d:\\myenv\\Lib\\site-packages\\pandas\\core\\dtypes\\cast.py:1081:RuntimeWarning: invalid value encountered in cast\n"
     ]
    },
    {
     "name": "stdout",
     "output_type": "stream",
     "text": [
      "✓ 1517 rows\n",
      "[3/411] Processing ABB.ST... "
     ]
    },
    {
     "name": "stderr",
     "output_type": "stream",
     "text": [
      "d:\\myenv\\Lib\\site-packages\\refinitiv\\data\\_tools\\_dataframe.py:177:FutureWarning: Downcasting object dtype arrays on .fillna, .ffill, .bfill is deprecated and will change in a future version. Call result.infer_objects(copy=False) instead. To opt-in to the future behavior, set `pd.set_option('future.no_silent_downcasting', True)`\n",
      "d:\\myenv\\Lib\\site-packages\\pandas\\core\\dtypes\\cast.py:1057:RuntimeWarning: invalid value encountered in cast\n",
      "d:\\myenv\\Lib\\site-packages\\pandas\\core\\dtypes\\cast.py:1081:RuntimeWarning: invalid value encountered in cast\n"
     ]
    },
    {
     "name": "stdout",
     "output_type": "stream",
     "text": [
      "✓ 1488 rows\n",
      "[4/411] Processing ABI.BR... "
     ]
    },
    {
     "name": "stderr",
     "output_type": "stream",
     "text": [
      "d:\\myenv\\Lib\\site-packages\\refinitiv\\data\\_tools\\_dataframe.py:177:FutureWarning: Downcasting object dtype arrays on .fillna, .ffill, .bfill is deprecated and will change in a future version. Call result.infer_objects(copy=False) instead. To opt-in to the future behavior, set `pd.set_option('future.no_silent_downcasting', True)`\n",
      "d:\\myenv\\Lib\\site-packages\\pandas\\core\\dtypes\\cast.py:1057:RuntimeWarning: invalid value encountered in cast\n",
      "d:\\myenv\\Lib\\site-packages\\pandas\\core\\dtypes\\cast.py:1081:RuntimeWarning: invalid value encountered in cast\n"
     ]
    },
    {
     "name": "stdout",
     "output_type": "stream",
     "text": [
      "✓ 1517 rows\n",
      "[5/411] Processing ABNd.AS... "
     ]
    },
    {
     "name": "stderr",
     "output_type": "stream",
     "text": [
      "d:\\myenv\\Lib\\site-packages\\refinitiv\\data\\_tools\\_dataframe.py:177:FutureWarning: Downcasting object dtype arrays on .fillna, .ffill, .bfill is deprecated and will change in a future version. Call result.infer_objects(copy=False) instead. To opt-in to the future behavior, set `pd.set_option('future.no_silent_downcasting', True)`\n",
      "d:\\myenv\\Lib\\site-packages\\pandas\\core\\dtypes\\cast.py:1057:RuntimeWarning: invalid value encountered in cast\n",
      "d:\\myenv\\Lib\\site-packages\\pandas\\core\\dtypes\\cast.py:1081:RuntimeWarning: invalid value encountered in cast\n"
     ]
    },
    {
     "name": "stdout",
     "output_type": "stream",
     "text": [
      "✓ 1517 rows\n",
      "[6/411] Processing ACCP.PA... "
     ]
    },
    {
     "name": "stderr",
     "output_type": "stream",
     "text": [
      "d:\\myenv\\Lib\\site-packages\\refinitiv\\data\\_tools\\_dataframe.py:177:FutureWarning: Downcasting object dtype arrays on .fillna, .ffill, .bfill is deprecated and will change in a future version. Call result.infer_objects(copy=False) instead. To opt-in to the future behavior, set `pd.set_option('future.no_silent_downcasting', True)`\n",
      "d:\\myenv\\Lib\\site-packages\\pandas\\core\\dtypes\\cast.py:1057:RuntimeWarning: invalid value encountered in cast\n",
      "d:\\myenv\\Lib\\site-packages\\pandas\\core\\dtypes\\cast.py:1081:RuntimeWarning: invalid value encountered in cast\n"
     ]
    },
    {
     "name": "stdout",
     "output_type": "stream",
     "text": [
      "✓ 1517 rows\n",
      "[7/411] Processing ACKB.BR... "
     ]
    },
    {
     "name": "stderr",
     "output_type": "stream",
     "text": [
      "d:\\myenv\\Lib\\site-packages\\refinitiv\\data\\_tools\\_dataframe.py:177:FutureWarning: Downcasting object dtype arrays on .fillna, .ffill, .bfill is deprecated and will change in a future version. Call result.infer_objects(copy=False) instead. To opt-in to the future behavior, set `pd.set_option('future.no_silent_downcasting', True)`\n",
      "d:\\myenv\\Lib\\site-packages\\pandas\\core\\dtypes\\cast.py:1057:RuntimeWarning: invalid value encountered in cast\n",
      "d:\\myenv\\Lib\\site-packages\\pandas\\core\\dtypes\\cast.py:1081:RuntimeWarning: invalid value encountered in cast\n"
     ]
    },
    {
     "name": "stdout",
     "output_type": "stream",
     "text": [
      "✓ 1517 rows\n",
      "[8/411] Processing AD.AS... "
     ]
    },
    {
     "name": "stderr",
     "output_type": "stream",
     "text": [
      "d:\\myenv\\Lib\\site-packages\\refinitiv\\data\\_tools\\_dataframe.py:177:FutureWarning: Downcasting object dtype arrays on .fillna, .ffill, .bfill is deprecated and will change in a future version. Call result.infer_objects(copy=False) instead. To opt-in to the future behavior, set `pd.set_option('future.no_silent_downcasting', True)`\n",
      "d:\\myenv\\Lib\\site-packages\\pandas\\core\\dtypes\\cast.py:1057:RuntimeWarning: invalid value encountered in cast\n",
      "d:\\myenv\\Lib\\site-packages\\pandas\\core\\dtypes\\cast.py:1081:RuntimeWarning: invalid value encountered in cast\n"
     ]
    },
    {
     "name": "stdout",
     "output_type": "stream",
     "text": [
      "✓ 1517 rows\n",
      "[9/411] Processing ADP.PA... "
     ]
    },
    {
     "name": "stderr",
     "output_type": "stream",
     "text": [
      "d:\\myenv\\Lib\\site-packages\\refinitiv\\data\\_tools\\_dataframe.py:177:FutureWarning: Downcasting object dtype arrays on .fillna, .ffill, .bfill is deprecated and will change in a future version. Call result.infer_objects(copy=False) instead. To opt-in to the future behavior, set `pd.set_option('future.no_silent_downcasting', True)`\n",
      "d:\\myenv\\Lib\\site-packages\\pandas\\core\\dtypes\\cast.py:1057:RuntimeWarning: invalid value encountered in cast\n",
      "d:\\myenv\\Lib\\site-packages\\pandas\\core\\dtypes\\cast.py:1081:RuntimeWarning: invalid value encountered in cast\n"
     ]
    },
    {
     "name": "stdout",
     "output_type": "stream",
     "text": [
      "✓ 1517 rows\n",
      "[10/411] Processing ADSGn.DE... "
     ]
    },
    {
     "name": "stderr",
     "output_type": "stream",
     "text": [
      "d:\\myenv\\Lib\\site-packages\\refinitiv\\data\\_tools\\_dataframe.py:177:FutureWarning: Downcasting object dtype arrays on .fillna, .ffill, .bfill is deprecated and will change in a future version. Call result.infer_objects(copy=False) instead. To opt-in to the future behavior, set `pd.set_option('future.no_silent_downcasting', True)`\n"
     ]
    },
    {
     "name": "stdout",
     "output_type": "stream",
     "text": [
      "✗ Failed: 'TRDPRC_1'\n",
      "[11/411] Processing ADYEN.AS... "
     ]
    },
    {
     "name": "stderr",
     "output_type": "stream",
     "text": [
      "d:\\myenv\\Lib\\site-packages\\pandas\\core\\dtypes\\cast.py:1057:RuntimeWarning: invalid value encountered in cast\n",
      "d:\\myenv\\Lib\\site-packages\\pandas\\core\\dtypes\\cast.py:1081:RuntimeWarning: invalid value encountered in cast\n"
     ]
    },
    {
     "name": "stdout",
     "output_type": "stream",
     "text": [
      "✓ 1517 rows\n",
      "[12/411] Processing AEGN.AS... "
     ]
    },
    {
     "name": "stderr",
     "output_type": "stream",
     "text": [
      "d:\\myenv\\Lib\\site-packages\\refinitiv\\data\\_tools\\_dataframe.py:177:FutureWarning: Downcasting object dtype arrays on .fillna, .ffill, .bfill is deprecated and will change in a future version. Call result.infer_objects(copy=False) instead. To opt-in to the future behavior, set `pd.set_option('future.no_silent_downcasting', True)`\n",
      "d:\\myenv\\Lib\\site-packages\\pandas\\core\\dtypes\\cast.py:1057:RuntimeWarning: invalid value encountered in cast\n",
      "d:\\myenv\\Lib\\site-packages\\pandas\\core\\dtypes\\cast.py:1081:RuntimeWarning: invalid value encountered in cast\n"
     ]
    },
    {
     "name": "stdout",
     "output_type": "stream",
     "text": [
      "✓ 1517 rows\n",
      "[13/411] Processing AGES.BR... "
     ]
    },
    {
     "name": "stderr",
     "output_type": "stream",
     "text": [
      "d:\\myenv\\Lib\\site-packages\\refinitiv\\data\\_tools\\_dataframe.py:177:FutureWarning: Downcasting object dtype arrays on .fillna, .ffill, .bfill is deprecated and will change in a future version. Call result.infer_objects(copy=False) instead. To opt-in to the future behavior, set `pd.set_option('future.no_silent_downcasting', True)`\n",
      "d:\\myenv\\Lib\\site-packages\\pandas\\core\\dtypes\\cast.py:1057:RuntimeWarning: invalid value encountered in cast\n",
      "d:\\myenv\\Lib\\site-packages\\pandas\\core\\dtypes\\cast.py:1081:RuntimeWarning: invalid value encountered in cast\n"
     ]
    },
    {
     "name": "stdout",
     "output_type": "stream",
     "text": [
      "✓ 1517 rows\n",
      "[14/411] Processing AIR.PA... "
     ]
    },
    {
     "name": "stderr",
     "output_type": "stream",
     "text": [
      "d:\\myenv\\Lib\\site-packages\\refinitiv\\data\\_tools\\_dataframe.py:177:FutureWarning: Downcasting object dtype arrays on .fillna, .ffill, .bfill is deprecated and will change in a future version. Call result.infer_objects(copy=False) instead. To opt-in to the future behavior, set `pd.set_option('future.no_silent_downcasting', True)`\n",
      "d:\\myenv\\Lib\\site-packages\\pandas\\core\\dtypes\\cast.py:1057:RuntimeWarning: invalid value encountered in cast\n",
      "d:\\myenv\\Lib\\site-packages\\pandas\\core\\dtypes\\cast.py:1081:RuntimeWarning: invalid value encountered in cast\n"
     ]
    },
    {
     "name": "stdout",
     "output_type": "stream",
     "text": [
      "✓ 1517 rows\n",
      "[15/411] Processing AIRF.PA... "
     ]
    },
    {
     "name": "stderr",
     "output_type": "stream",
     "text": [
      "d:\\myenv\\Lib\\site-packages\\refinitiv\\data\\_tools\\_dataframe.py:177:FutureWarning: Downcasting object dtype arrays on .fillna, .ffill, .bfill is deprecated and will change in a future version. Call result.infer_objects(copy=False) instead. To opt-in to the future behavior, set `pd.set_option('future.no_silent_downcasting', True)`\n",
      "d:\\myenv\\Lib\\site-packages\\pandas\\core\\dtypes\\cast.py:1057:RuntimeWarning: invalid value encountered in cast\n",
      "d:\\myenv\\Lib\\site-packages\\pandas\\core\\dtypes\\cast.py:1081:RuntimeWarning: invalid value encountered in cast\n"
     ]
    },
    {
     "name": "stdout",
     "output_type": "stream",
     "text": [
      "✓ 1517 rows\n",
      "[16/411] Processing AIRP.PA... "
     ]
    },
    {
     "name": "stderr",
     "output_type": "stream",
     "text": [
      "d:\\myenv\\Lib\\site-packages\\refinitiv\\data\\_tools\\_dataframe.py:177:FutureWarning: Downcasting object dtype arrays on .fillna, .ffill, .bfill is deprecated and will change in a future version. Call result.infer_objects(copy=False) instead. To opt-in to the future behavior, set `pd.set_option('future.no_silent_downcasting', True)`\n",
      "d:\\myenv\\Lib\\site-packages\\pandas\\core\\dtypes\\cast.py:1057:RuntimeWarning: invalid value encountered in cast\n",
      "d:\\myenv\\Lib\\site-packages\\pandas\\core\\dtypes\\cast.py:1081:RuntimeWarning: invalid value encountered in cast\n"
     ]
    },
    {
     "name": "stdout",
     "output_type": "stream",
     "text": [
      "✓ 1517 rows\n",
      "[17/411] Processing AKE.PA... "
     ]
    },
    {
     "name": "stderr",
     "output_type": "stream",
     "text": [
      "d:\\myenv\\Lib\\site-packages\\refinitiv\\data\\_tools\\_dataframe.py:177:FutureWarning: Downcasting object dtype arrays on .fillna, .ffill, .bfill is deprecated and will change in a future version. Call result.infer_objects(copy=False) instead. To opt-in to the future behavior, set `pd.set_option('future.no_silent_downcasting', True)`\n",
      "d:\\myenv\\Lib\\site-packages\\pandas\\core\\dtypes\\cast.py:1057:RuntimeWarning: invalid value encountered in cast\n",
      "d:\\myenv\\Lib\\site-packages\\pandas\\core\\dtypes\\cast.py:1081:RuntimeWarning: invalid value encountered in cast\n"
     ]
    },
    {
     "name": "stdout",
     "output_type": "stream",
     "text": [
      "✓ 1517 rows\n",
      "[18/411] Processing AKER.OL... "
     ]
    },
    {
     "name": "stderr",
     "output_type": "stream",
     "text": [
      "d:\\myenv\\Lib\\site-packages\\refinitiv\\data\\_tools\\_dataframe.py:177:FutureWarning: Downcasting object dtype arrays on .fillna, .ffill, .bfill is deprecated and will change in a future version. Call result.infer_objects(copy=False) instead. To opt-in to the future behavior, set `pd.set_option('future.no_silent_downcasting', True)`\n"
     ]
    },
    {
     "name": "stdout",
     "output_type": "stream",
     "text": [
      "✗ Failed: 'TRDPRC_1'\n",
      "[19/411] Processing AKRBP.OL... "
     ]
    },
    {
     "name": "stderr",
     "output_type": "stream",
     "text": [
      "d:\\myenv\\Lib\\site-packages\\pandas\\core\\dtypes\\cast.py:1057:RuntimeWarning: invalid value encountered in cast\n",
      "d:\\myenv\\Lib\\site-packages\\pandas\\core\\dtypes\\cast.py:1081:RuntimeWarning: invalid value encountered in cast\n"
     ]
    },
    {
     "name": "stdout",
     "output_type": "stream",
     "text": [
      "✗ Failed: 'TRDPRC_1'\n",
      "[20/411] Processing AKZO.AS... "
     ]
    },
    {
     "name": "stderr",
     "output_type": "stream",
     "text": [
      "d:\\myenv\\Lib\\site-packages\\pandas\\core\\dtypes\\cast.py:1057:RuntimeWarning: invalid value encountered in cast\n",
      "d:\\myenv\\Lib\\site-packages\\pandas\\core\\dtypes\\cast.py:1081:RuntimeWarning: invalid value encountered in cast\n"
     ]
    },
    {
     "name": "stdout",
     "output_type": "stream",
     "text": [
      "✓ 1517 rows\n",
      "[21/411] Processing ALFA.ST... "
     ]
    },
    {
     "name": "stderr",
     "output_type": "stream",
     "text": [
      "d:\\myenv\\Lib\\site-packages\\refinitiv\\data\\_tools\\_dataframe.py:177:FutureWarning: Downcasting object dtype arrays on .fillna, .ffill, .bfill is deprecated and will change in a future version. Call result.infer_objects(copy=False) instead. To opt-in to the future behavior, set `pd.set_option('future.no_silent_downcasting', True)`\n",
      "d:\\myenv\\Lib\\site-packages\\pandas\\core\\dtypes\\cast.py:1057:RuntimeWarning: invalid value encountered in cast\n",
      "d:\\myenv\\Lib\\site-packages\\pandas\\core\\dtypes\\cast.py:1081:RuntimeWarning: invalid value encountered in cast\n"
     ]
    },
    {
     "name": "stdout",
     "output_type": "stream",
     "text": [
      "✓ 1488 rows\n",
      "[22/411] Processing ALIVsdb.ST... "
     ]
    },
    {
     "name": "stderr",
     "output_type": "stream",
     "text": [
      "d:\\myenv\\Lib\\site-packages\\refinitiv\\data\\_tools\\_dataframe.py:177:FutureWarning: Downcasting object dtype arrays on .fillna, .ffill, .bfill is deprecated and will change in a future version. Call result.infer_objects(copy=False) instead. To opt-in to the future behavior, set `pd.set_option('future.no_silent_downcasting', True)`\n",
      "d:\\myenv\\Lib\\site-packages\\pandas\\core\\dtypes\\cast.py:1057:RuntimeWarning: invalid value encountered in cast\n",
      "d:\\myenv\\Lib\\site-packages\\pandas\\core\\dtypes\\cast.py:1081:RuntimeWarning: invalid value encountered in cast\n"
     ]
    },
    {
     "name": "stdout",
     "output_type": "stream",
     "text": [
      "✓ 1488 rows\n",
      "[23/411] Processing ALSO.PA... "
     ]
    },
    {
     "name": "stderr",
     "output_type": "stream",
     "text": [
      "d:\\myenv\\Lib\\site-packages\\refinitiv\\data\\_tools\\_dataframe.py:177:FutureWarning: Downcasting object dtype arrays on .fillna, .ffill, .bfill is deprecated and will change in a future version. Call result.infer_objects(copy=False) instead. To opt-in to the future behavior, set `pd.set_option('future.no_silent_downcasting', True)`\n",
      "d:\\myenv\\Lib\\site-packages\\pandas\\core\\dtypes\\cast.py:1057:RuntimeWarning: invalid value encountered in cast\n",
      "d:\\myenv\\Lib\\site-packages\\pandas\\core\\dtypes\\cast.py:1081:RuntimeWarning: invalid value encountered in cast\n"
     ]
    },
    {
     "name": "stdout",
     "output_type": "stream",
     "text": [
      "✓ 1517 rows\n",
      "[24/411] Processing ALTT.PA^D20... "
     ]
    },
    {
     "name": "stderr",
     "output_type": "stream",
     "text": [
      "d:\\myenv\\Lib\\site-packages\\refinitiv\\data\\_tools\\_dataframe.py:177:FutureWarning: Downcasting object dtype arrays on .fillna, .ffill, .bfill is deprecated and will change in a future version. Call result.infer_objects(copy=False) instead. To opt-in to the future behavior, set `pd.set_option('future.no_silent_downcasting', True)`\n",
      "d:\\myenv\\Lib\\site-packages\\pandas\\core\\dtypes\\cast.py:1057:RuntimeWarning: invalid value encountered in cast\n",
      "d:\\myenv\\Lib\\site-packages\\pandas\\core\\dtypes\\cast.py:1081:RuntimeWarning: invalid value encountered in cast\n"
     ]
    },
    {
     "name": "stdout",
     "output_type": "stream",
     "text": [
      "✓ 1524 rows\n",
      "[25/411] Processing ALVG.DE... "
     ]
    },
    {
     "name": "stderr",
     "output_type": "stream",
     "text": [
      "d:\\myenv\\Lib\\site-packages\\refinitiv\\data\\_tools\\_dataframe.py:177:FutureWarning: Downcasting object dtype arrays on .fillna, .ffill, .bfill is deprecated and will change in a future version. Call result.infer_objects(copy=False) instead. To opt-in to the future behavior, set `pd.set_option('future.no_silent_downcasting', True)`\n"
     ]
    },
    {
     "name": "stdout",
     "output_type": "stream",
     "text": [
      "✗ Failed: 'TRDPRC_1'\n",
      "[26/411] Processing AM.PA... "
     ]
    },
    {
     "name": "stderr",
     "output_type": "stream",
     "text": [
      "d:\\myenv\\Lib\\site-packages\\pandas\\core\\dtypes\\cast.py:1057:RuntimeWarning: invalid value encountered in cast\n",
      "d:\\myenv\\Lib\\site-packages\\pandas\\core\\dtypes\\cast.py:1081:RuntimeWarning: invalid value encountered in cast\n"
     ]
    },
    {
     "name": "stdout",
     "output_type": "stream",
     "text": [
      "✓ 1517 rows\n",
      "[27/411] Processing AMBUb.CO... "
     ]
    },
    {
     "name": "stderr",
     "output_type": "stream",
     "text": [
      "d:\\myenv\\Lib\\site-packages\\refinitiv\\data\\_tools\\_dataframe.py:177:FutureWarning: Downcasting object dtype arrays on .fillna, .ffill, .bfill is deprecated and will change in a future version. Call result.infer_objects(copy=False) instead. To opt-in to the future behavior, set `pd.set_option('future.no_silent_downcasting', True)`\n",
      "d:\\myenv\\Lib\\site-packages\\pandas\\core\\dtypes\\cast.py:1057:RuntimeWarning: invalid value encountered in cast\n",
      "d:\\myenv\\Lib\\site-packages\\pandas\\core\\dtypes\\cast.py:1081:RuntimeWarning: invalid value encountered in cast\n",
      "d:\\myenv\\Lib\\site-packages\\pandas\\core\\dtypes\\cast.py:1057:RuntimeWarning: invalid value encountered in cast\n",
      "d:\\myenv\\Lib\\site-packages\\pandas\\core\\dtypes\\cast.py:1081:RuntimeWarning: invalid value encountered in cast\n"
     ]
    },
    {
     "name": "stdout",
     "output_type": "stream",
     "text": [
      "✓ 1481 rows\n",
      "[28/411] Processing AMG.AS... "
     ]
    },
    {
     "name": "stderr",
     "output_type": "stream",
     "text": [
      "d:\\myenv\\Lib\\site-packages\\refinitiv\\data\\_tools\\_dataframe.py:177:FutureWarning: Downcasting object dtype arrays on .fillna, .ffill, .bfill is deprecated and will change in a future version. Call result.infer_objects(copy=False) instead. To opt-in to the future behavior, set `pd.set_option('future.no_silent_downcasting', True)`\n"
     ]
    },
    {
     "name": "stdout",
     "output_type": "stream",
     "text": [
      "✓ 1517 rows\n",
      "[29/411] Processing AMUN.PA... "
     ]
    },
    {
     "name": "stderr",
     "output_type": "stream",
     "text": [
      "d:\\myenv\\Lib\\site-packages\\refinitiv\\data\\_tools\\_dataframe.py:177:FutureWarning: Downcasting object dtype arrays on .fillna, .ffill, .bfill is deprecated and will change in a future version. Call result.infer_objects(copy=False) instead. To opt-in to the future behavior, set `pd.set_option('future.no_silent_downcasting', True)`\n",
      "d:\\myenv\\Lib\\site-packages\\pandas\\core\\dtypes\\cast.py:1057:RuntimeWarning: invalid value encountered in cast\n",
      "d:\\myenv\\Lib\\site-packages\\pandas\\core\\dtypes\\cast.py:1081:RuntimeWarning: invalid value encountered in cast\n"
     ]
    },
    {
     "name": "stdout",
     "output_type": "stream",
     "text": [
      "✓ 1517 rows\n",
      "[30/411] Processing APAM.AS... "
     ]
    },
    {
     "name": "stderr",
     "output_type": "stream",
     "text": [
      "d:\\myenv\\Lib\\site-packages\\refinitiv\\data\\_tools\\_dataframe.py:177:FutureWarning: Downcasting object dtype arrays on .fillna, .ffill, .bfill is deprecated and will change in a future version. Call result.infer_objects(copy=False) instead. To opt-in to the future behavior, set `pd.set_option('future.no_silent_downcasting', True)`\n",
      "d:\\myenv\\Lib\\site-packages\\pandas\\core\\dtypes\\cast.py:1057:RuntimeWarning: invalid value encountered in cast\n",
      "d:\\myenv\\Lib\\site-packages\\pandas\\core\\dtypes\\cast.py:1081:RuntimeWarning: invalid value encountered in cast\n"
     ]
    },
    {
     "name": "stdout",
     "output_type": "stream",
     "text": [
      "✓ 1517 rows\n",
      "[31/411] Processing ARDS.AS... "
     ]
    },
    {
     "name": "stderr",
     "output_type": "stream",
     "text": [
      "d:\\myenv\\Lib\\site-packages\\refinitiv\\data\\_tools\\_dataframe.py:177:FutureWarning: Downcasting object dtype arrays on .fillna, .ffill, .bfill is deprecated and will change in a future version. Call result.infer_objects(copy=False) instead. To opt-in to the future behavior, set `pd.set_option('future.no_silent_downcasting', True)`\n",
      "d:\\myenv\\Lib\\site-packages\\pandas\\core\\dtypes\\cast.py:1057:RuntimeWarning: invalid value encountered in cast\n",
      "d:\\myenv\\Lib\\site-packages\\pandas\\core\\dtypes\\cast.py:1081:RuntimeWarning: invalid value encountered in cast\n"
     ]
    },
    {
     "name": "stdout",
     "output_type": "stream",
     "text": [
      "✓ 1517 rows\n",
      "[32/411] Processing ARGX.BR... "
     ]
    },
    {
     "name": "stderr",
     "output_type": "stream",
     "text": [
      "d:\\myenv\\Lib\\site-packages\\refinitiv\\data\\_tools\\_dataframe.py:177:FutureWarning: Downcasting object dtype arrays on .fillna, .ffill, .bfill is deprecated and will change in a future version. Call result.infer_objects(copy=False) instead. To opt-in to the future behavior, set `pd.set_option('future.no_silent_downcasting', True)`\n",
      "d:\\myenv\\Lib\\site-packages\\pandas\\core\\dtypes\\cast.py:1057:RuntimeWarning: invalid value encountered in cast\n",
      "d:\\myenv\\Lib\\site-packages\\pandas\\core\\dtypes\\cast.py:1081:RuntimeWarning: invalid value encountered in cast\n"
     ]
    },
    {
     "name": "stdout",
     "output_type": "stream",
     "text": [
      "✓ 1521 rows\n",
      "[33/411] Processing ASMI.AS... "
     ]
    },
    {
     "name": "stderr",
     "output_type": "stream",
     "text": [
      "d:\\myenv\\Lib\\site-packages\\refinitiv\\data\\_tools\\_dataframe.py:177:FutureWarning: Downcasting object dtype arrays on .fillna, .ffill, .bfill is deprecated and will change in a future version. Call result.infer_objects(copy=False) instead. To opt-in to the future behavior, set `pd.set_option('future.no_silent_downcasting', True)`\n",
      "d:\\myenv\\Lib\\site-packages\\pandas\\core\\dtypes\\cast.py:1057:RuntimeWarning: invalid value encountered in cast\n",
      "d:\\myenv\\Lib\\site-packages\\pandas\\core\\dtypes\\cast.py:1081:RuntimeWarning: invalid value encountered in cast\n"
     ]
    },
    {
     "name": "stdout",
     "output_type": "stream",
     "text": [
      "✓ 1517 rows\n",
      "[34/411] Processing ASML.AS... "
     ]
    },
    {
     "name": "stderr",
     "output_type": "stream",
     "text": [
      "d:\\myenv\\Lib\\site-packages\\refinitiv\\data\\_tools\\_dataframe.py:177:FutureWarning: Downcasting object dtype arrays on .fillna, .ffill, .bfill is deprecated and will change in a future version. Call result.infer_objects(copy=False) instead. To opt-in to the future behavior, set `pd.set_option('future.no_silent_downcasting', True)`\n",
      "d:\\myenv\\Lib\\site-packages\\pandas\\core\\dtypes\\cast.py:1057:RuntimeWarning: invalid value encountered in cast\n",
      "d:\\myenv\\Lib\\site-packages\\pandas\\core\\dtypes\\cast.py:1081:RuntimeWarning: invalid value encountered in cast\n",
      "d:\\myenv\\Lib\\site-packages\\pandas\\core\\dtypes\\cast.py:1057:RuntimeWarning: invalid value encountered in cast\n",
      "d:\\myenv\\Lib\\site-packages\\pandas\\core\\dtypes\\cast.py:1081:RuntimeWarning: invalid value encountered in cast\n"
     ]
    },
    {
     "name": "stdout",
     "output_type": "stream",
     "text": [
      "✓ 1517 rows\n",
      "[35/411] Processing ASRNL.AS... "
     ]
    },
    {
     "name": "stderr",
     "output_type": "stream",
     "text": [
      "d:\\myenv\\Lib\\site-packages\\refinitiv\\data\\_tools\\_dataframe.py:177:FutureWarning: Downcasting object dtype arrays on .fillna, .ffill, .bfill is deprecated and will change in a future version. Call result.infer_objects(copy=False) instead. To opt-in to the future behavior, set `pd.set_option('future.no_silent_downcasting', True)`\n",
      "d:\\myenv\\Lib\\site-packages\\pandas\\core\\dtypes\\cast.py:1057:RuntimeWarning: invalid value encountered in cast\n",
      "d:\\myenv\\Lib\\site-packages\\pandas\\core\\dtypes\\cast.py:1081:RuntimeWarning: invalid value encountered in cast\n"
     ]
    },
    {
     "name": "stdout",
     "output_type": "stream",
     "text": [
      "✓ 1517 rows\n",
      "[36/411] Processing ASSAb.ST... "
     ]
    },
    {
     "name": "stderr",
     "output_type": "stream",
     "text": [
      "d:\\myenv\\Lib\\site-packages\\refinitiv\\data\\_tools\\_dataframe.py:177:FutureWarning: Downcasting object dtype arrays on .fillna, .ffill, .bfill is deprecated and will change in a future version. Call result.infer_objects(copy=False) instead. To opt-in to the future behavior, set `pd.set_option('future.no_silent_downcasting', True)`\n",
      "d:\\myenv\\Lib\\site-packages\\pandas\\core\\dtypes\\cast.py:1057:RuntimeWarning: invalid value encountered in cast\n",
      "d:\\myenv\\Lib\\site-packages\\pandas\\core\\dtypes\\cast.py:1081:RuntimeWarning: invalid value encountered in cast\n"
     ]
    },
    {
     "name": "stdout",
     "output_type": "stream",
     "text": [
      "✓ 1488 rows\n",
      "[37/411] Processing ATCA.AS^A21... "
     ]
    },
    {
     "name": "stderr",
     "output_type": "stream",
     "text": [
      "d:\\myenv\\Lib\\site-packages\\refinitiv\\data\\_tools\\_dataframe.py:177:FutureWarning: Downcasting object dtype arrays on .fillna, .ffill, .bfill is deprecated and will change in a future version. Call result.infer_objects(copy=False) instead. To opt-in to the future behavior, set `pd.set_option('future.no_silent_downcasting', True)`\n",
      "d:\\myenv\\Lib\\site-packages\\pandas\\core\\dtypes\\cast.py:1057:RuntimeWarning: invalid value encountered in cast\n",
      "d:\\myenv\\Lib\\site-packages\\pandas\\core\\dtypes\\cast.py:1081:RuntimeWarning: invalid value encountered in cast\n"
     ]
    },
    {
     "name": "stdout",
     "output_type": "stream",
     "text": [
      "✓ 1517 rows\n",
      "[38/411] Processing ATCOa.ST... "
     ]
    },
    {
     "name": "stderr",
     "output_type": "stream",
     "text": [
      "d:\\myenv\\Lib\\site-packages\\refinitiv\\data\\_tools\\_dataframe.py:177:FutureWarning: Downcasting object dtype arrays on .fillna, .ffill, .bfill is deprecated and will change in a future version. Call result.infer_objects(copy=False) instead. To opt-in to the future behavior, set `pd.set_option('future.no_silent_downcasting', True)`\n",
      "d:\\myenv\\Lib\\site-packages\\pandas\\core\\dtypes\\cast.py:1057:RuntimeWarning: invalid value encountered in cast\n",
      "d:\\myenv\\Lib\\site-packages\\pandas\\core\\dtypes\\cast.py:1081:RuntimeWarning: invalid value encountered in cast\n",
      "d:\\myenv\\Lib\\site-packages\\pandas\\core\\dtypes\\cast.py:1057:RuntimeWarning: invalid value encountered in cast\n",
      "d:\\myenv\\Lib\\site-packages\\pandas\\core\\dtypes\\cast.py:1081:RuntimeWarning: invalid value encountered in cast\n"
     ]
    },
    {
     "name": "stdout",
     "output_type": "stream",
     "text": [
      "✓ 1488 rows\n",
      "[39/411] Processing ATCOb.ST... "
     ]
    },
    {
     "name": "stderr",
     "output_type": "stream",
     "text": [
      "d:\\myenv\\Lib\\site-packages\\refinitiv\\data\\_tools\\_dataframe.py:177:FutureWarning: Downcasting object dtype arrays on .fillna, .ffill, .bfill is deprecated and will change in a future version. Call result.infer_objects(copy=False) instead. To opt-in to the future behavior, set `pd.set_option('future.no_silent_downcasting', True)`\n",
      "d:\\myenv\\Lib\\site-packages\\pandas\\core\\dtypes\\cast.py:1057:RuntimeWarning: invalid value encountered in cast\n",
      "d:\\myenv\\Lib\\site-packages\\pandas\\core\\dtypes\\cast.py:1081:RuntimeWarning: invalid value encountered in cast\n"
     ]
    },
    {
     "name": "stdout",
     "output_type": "stream",
     "text": [
      "✓ 1488 rows\n",
      "[40/411] Processing ATOS.PA... "
     ]
    },
    {
     "name": "stderr",
     "output_type": "stream",
     "text": [
      "d:\\myenv\\Lib\\site-packages\\refinitiv\\data\\_tools\\_dataframe.py:177:FutureWarning: Downcasting object dtype arrays on .fillna, .ffill, .bfill is deprecated and will change in a future version. Call result.infer_objects(copy=False) instead. To opt-in to the future behavior, set `pd.set_option('future.no_silent_downcasting', True)`\n",
      "d:\\myenv\\Lib\\site-packages\\pandas\\core\\dtypes\\cast.py:1057:RuntimeWarning: invalid value encountered in cast\n",
      "d:\\myenv\\Lib\\site-packages\\pandas\\core\\dtypes\\cast.py:1081:RuntimeWarning: invalid value encountered in cast\n",
      "d:\\myenv\\Lib\\site-packages\\pandas\\core\\dtypes\\cast.py:1057:RuntimeWarning: invalid value encountered in cast\n",
      "d:\\myenv\\Lib\\site-packages\\pandas\\core\\dtypes\\cast.py:1081:RuntimeWarning: invalid value encountered in cast\n"
     ]
    },
    {
     "name": "stdout",
     "output_type": "stream",
     "text": [
      "✓ 1517 rows\n",
      "[41/411] Processing AXAF.PA... "
     ]
    },
    {
     "name": "stderr",
     "output_type": "stream",
     "text": [
      "d:\\myenv\\Lib\\site-packages\\refinitiv\\data\\_tools\\_dataframe.py:177:FutureWarning: Downcasting object dtype arrays on .fillna, .ffill, .bfill is deprecated and will change in a future version. Call result.infer_objects(copy=False) instead. To opt-in to the future behavior, set `pd.set_option('future.no_silent_downcasting', True)`\n",
      "d:\\myenv\\Lib\\site-packages\\pandas\\core\\dtypes\\cast.py:1057:RuntimeWarning: invalid value encountered in cast\n",
      "d:\\myenv\\Lib\\site-packages\\pandas\\core\\dtypes\\cast.py:1081:RuntimeWarning: invalid value encountered in cast\n"
     ]
    },
    {
     "name": "stdout",
     "output_type": "stream",
     "text": [
      "✓ 1517 rows\n",
      "[42/411] Processing AYV.PA... "
     ]
    },
    {
     "name": "stderr",
     "output_type": "stream",
     "text": [
      "d:\\myenv\\Lib\\site-packages\\refinitiv\\data\\_tools\\_dataframe.py:177:FutureWarning: Downcasting object dtype arrays on .fillna, .ffill, .bfill is deprecated and will change in a future version. Call result.infer_objects(copy=False) instead. To opt-in to the future behavior, set `pd.set_option('future.no_silent_downcasting', True)`\n",
      "d:\\myenv\\Lib\\site-packages\\pandas\\core\\dtypes\\cast.py:1057:RuntimeWarning: invalid value encountered in cast\n",
      "d:\\myenv\\Lib\\site-packages\\pandas\\core\\dtypes\\cast.py:1081:RuntimeWarning: invalid value encountered in cast\n"
     ]
    },
    {
     "name": "stdout",
     "output_type": "stream",
     "text": [
      "✓ 1517 rows\n",
      "[43/411] Processing AZN.ST... "
     ]
    },
    {
     "name": "stderr",
     "output_type": "stream",
     "text": [
      "d:\\myenv\\Lib\\site-packages\\refinitiv\\data\\_tools\\_dataframe.py:177:FutureWarning: Downcasting object dtype arrays on .fillna, .ffill, .bfill is deprecated and will change in a future version. Call result.infer_objects(copy=False) instead. To opt-in to the future behavior, set `pd.set_option('future.no_silent_downcasting', True)`\n",
      "d:\\myenv\\Lib\\site-packages\\pandas\\core\\dtypes\\cast.py:1057:RuntimeWarning: invalid value encountered in cast\n",
      "d:\\myenv\\Lib\\site-packages\\pandas\\core\\dtypes\\cast.py:1081:RuntimeWarning: invalid value encountered in cast\n",
      "d:\\myenv\\Lib\\site-packages\\pandas\\core\\dtypes\\cast.py:1057:RuntimeWarning: invalid value encountered in cast\n",
      "d:\\myenv\\Lib\\site-packages\\pandas\\core\\dtypes\\cast.py:1081:RuntimeWarning: invalid value encountered in cast\n"
     ]
    },
    {
     "name": "stdout",
     "output_type": "stream",
     "text": [
      "✓ 1488 rows\n",
      "[44/411] Processing BAKKA.OL... "
     ]
    },
    {
     "name": "stderr",
     "output_type": "stream",
     "text": [
      "d:\\myenv\\Lib\\site-packages\\refinitiv\\data\\_tools\\_dataframe.py:177:FutureWarning: Downcasting object dtype arrays on .fillna, .ffill, .bfill is deprecated and will change in a future version. Call result.infer_objects(copy=False) instead. To opt-in to the future behavior, set `pd.set_option('future.no_silent_downcasting', True)`\n",
      "d:\\myenv\\Lib\\site-packages\\pandas\\core\\dtypes\\cast.py:1057:RuntimeWarning: invalid value encountered in cast\n",
      "d:\\myenv\\Lib\\site-packages\\pandas\\core\\dtypes\\cast.py:1081:RuntimeWarning: invalid value encountered in cast\n"
     ]
    },
    {
     "name": "stdout",
     "output_type": "stream",
     "text": [
      "✗ Failed: 'TRDPRC_1'\n",
      "[45/411] Processing BAMN.AS... "
     ]
    },
    {
     "name": "stderr",
     "output_type": "stream",
     "text": [
      "d:\\myenv\\Lib\\site-packages\\pandas\\core\\dtypes\\cast.py:1057:RuntimeWarning: invalid value encountered in cast\n",
      "d:\\myenv\\Lib\\site-packages\\pandas\\core\\dtypes\\cast.py:1081:RuntimeWarning: invalid value encountered in cast\n"
     ]
    },
    {
     "name": "stdout",
     "output_type": "stream",
     "text": [
      "✓ 1517 rows\n",
      "[46/411] Processing BAR.BR... "
     ]
    },
    {
     "name": "stderr",
     "output_type": "stream",
     "text": [
      "d:\\myenv\\Lib\\site-packages\\refinitiv\\data\\_tools\\_dataframe.py:177:FutureWarning: Downcasting object dtype arrays on .fillna, .ffill, .bfill is deprecated and will change in a future version. Call result.infer_objects(copy=False) instead. To opt-in to the future behavior, set `pd.set_option('future.no_silent_downcasting', True)`\n",
      "d:\\myenv\\Lib\\site-packages\\pandas\\core\\dtypes\\cast.py:1057:RuntimeWarning: invalid value encountered in cast\n",
      "d:\\myenv\\Lib\\site-packages\\pandas\\core\\dtypes\\cast.py:1081:RuntimeWarning: invalid value encountered in cast\n"
     ]
    },
    {
     "name": "stdout",
     "output_type": "stream",
     "text": [
      "✓ 1517 rows\n",
      "[47/411] Processing BASFn.DE... "
     ]
    },
    {
     "name": "stderr",
     "output_type": "stream",
     "text": [
      "d:\\myenv\\Lib\\site-packages\\refinitiv\\data\\_tools\\_dataframe.py:177:FutureWarning: Downcasting object dtype arrays on .fillna, .ffill, .bfill is deprecated and will change in a future version. Call result.infer_objects(copy=False) instead. To opt-in to the future behavior, set `pd.set_option('future.no_silent_downcasting', True)`\n"
     ]
    },
    {
     "name": "stdout",
     "output_type": "stream",
     "text": [
      "✗ Failed: 'TRDPRC_1'\n",
      "[48/411] Processing BAYGn.DE... ✗ Failed: 'TRDPRC_1'\n",
      "[49/411] Processing BEIG.DE... ✗ Failed: 'TRDPRC_1'\n",
      "[50/411] Processing BESI.AS... "
     ]
    },
    {
     "name": "stderr",
     "output_type": "stream",
     "text": [
      "d:\\myenv\\Lib\\site-packages\\pandas\\core\\dtypes\\cast.py:1057:RuntimeWarning: invalid value encountered in cast\n",
      "d:\\myenv\\Lib\\site-packages\\pandas\\core\\dtypes\\cast.py:1081:RuntimeWarning: invalid value encountered in cast\n"
     ]
    },
    {
     "name": "stdout",
     "output_type": "stream",
     "text": [
      "✓ 1517 rows\n",
      "[51/411] Processing BFIT.AS... "
     ]
    },
    {
     "name": "stderr",
     "output_type": "stream",
     "text": [
      "d:\\myenv\\Lib\\site-packages\\refinitiv\\data\\_tools\\_dataframe.py:177:FutureWarning: Downcasting object dtype arrays on .fillna, .ffill, .bfill is deprecated and will change in a future version. Call result.infer_objects(copy=False) instead. To opt-in to the future behavior, set `pd.set_option('future.no_silent_downcasting', True)`\n",
      "d:\\myenv\\Lib\\site-packages\\pandas\\core\\dtypes\\cast.py:1057:RuntimeWarning: invalid value encountered in cast\n",
      "d:\\myenv\\Lib\\site-packages\\pandas\\core\\dtypes\\cast.py:1081:RuntimeWarning: invalid value encountered in cast\n"
     ]
    },
    {
     "name": "stdout",
     "output_type": "stream",
     "text": [
      "✓ 1517 rows\n",
      "[52/411] Processing BICP.PA... "
     ]
    },
    {
     "name": "stderr",
     "output_type": "stream",
     "text": [
      "d:\\myenv\\Lib\\site-packages\\refinitiv\\data\\_tools\\_dataframe.py:177:FutureWarning: Downcasting object dtype arrays on .fillna, .ffill, .bfill is deprecated and will change in a future version. Call result.infer_objects(copy=False) instead. To opt-in to the future behavior, set `pd.set_option('future.no_silent_downcasting', True)`\n",
      "d:\\myenv\\Lib\\site-packages\\pandas\\core\\dtypes\\cast.py:1057:RuntimeWarning: invalid value encountered in cast\n",
      "d:\\myenv\\Lib\\site-packages\\pandas\\core\\dtypes\\cast.py:1081:RuntimeWarning: invalid value encountered in cast\n"
     ]
    },
    {
     "name": "stdout",
     "output_type": "stream",
     "text": [
      "✓ 1517 rows\n",
      "[53/411] Processing BIOX.PA... "
     ]
    },
    {
     "name": "stderr",
     "output_type": "stream",
     "text": [
      "d:\\myenv\\Lib\\site-packages\\refinitiv\\data\\_tools\\_dataframe.py:177:FutureWarning: Downcasting object dtype arrays on .fillna, .ffill, .bfill is deprecated and will change in a future version. Call result.infer_objects(copy=False) instead. To opt-in to the future behavior, set `pd.set_option('future.no_silent_downcasting', True)`\n",
      "d:\\myenv\\Lib\\site-packages\\pandas\\core\\dtypes\\cast.py:1057:RuntimeWarning: invalid value encountered in cast\n",
      "d:\\myenv\\Lib\\site-packages\\pandas\\core\\dtypes\\cast.py:1081:RuntimeWarning: invalid value encountered in cast\n"
     ]
    },
    {
     "name": "stdout",
     "output_type": "stream",
     "text": [
      "✓ 1517 rows\n",
      "[54/411] Processing BMWG.DE... "
     ]
    },
    {
     "name": "stderr",
     "output_type": "stream",
     "text": [
      "d:\\myenv\\Lib\\site-packages\\refinitiv\\data\\_tools\\_dataframe.py:177:FutureWarning: Downcasting object dtype arrays on .fillna, .ffill, .bfill is deprecated and will change in a future version. Call result.infer_objects(copy=False) instead. To opt-in to the future behavior, set `pd.set_option('future.no_silent_downcasting', True)`\n"
     ]
    },
    {
     "name": "stdout",
     "output_type": "stream",
     "text": [
      "✗ Failed: 'TRDPRC_1'\n",
      "[55/411] Processing BNPP.PA... "
     ]
    },
    {
     "name": "stderr",
     "output_type": "stream",
     "text": [
      "d:\\myenv\\Lib\\site-packages\\pandas\\core\\dtypes\\cast.py:1057:RuntimeWarning: invalid value encountered in cast\n",
      "d:\\myenv\\Lib\\site-packages\\pandas\\core\\dtypes\\cast.py:1081:RuntimeWarning: invalid value encountered in cast\n"
     ]
    },
    {
     "name": "stdout",
     "output_type": "stream",
     "text": [
      "✓ 1517 rows\n",
      "[56/411] Processing BOL.ST... "
     ]
    },
    {
     "name": "stderr",
     "output_type": "stream",
     "text": [
      "d:\\myenv\\Lib\\site-packages\\refinitiv\\data\\_tools\\_dataframe.py:177:FutureWarning: Downcasting object dtype arrays on .fillna, .ffill, .bfill is deprecated and will change in a future version. Call result.infer_objects(copy=False) instead. To opt-in to the future behavior, set `pd.set_option('future.no_silent_downcasting', True)`\n",
      "d:\\myenv\\Lib\\site-packages\\pandas\\core\\dtypes\\cast.py:1057:RuntimeWarning: invalid value encountered in cast\n",
      "d:\\myenv\\Lib\\site-packages\\pandas\\core\\dtypes\\cast.py:1081:RuntimeWarning: invalid value encountered in cast\n"
     ]
    },
    {
     "name": "stdout",
     "output_type": "stream",
     "text": [
      "✓ 1488 rows\n",
      "[57/411] Processing BOLL.PA... "
     ]
    },
    {
     "name": "stderr",
     "output_type": "stream",
     "text": [
      "d:\\myenv\\Lib\\site-packages\\refinitiv\\data\\_tools\\_dataframe.py:177:FutureWarning: Downcasting object dtype arrays on .fillna, .ffill, .bfill is deprecated and will change in a future version. Call result.infer_objects(copy=False) instead. To opt-in to the future behavior, set `pd.set_option('future.no_silent_downcasting', True)`\n",
      "d:\\myenv\\Lib\\site-packages\\pandas\\core\\dtypes\\cast.py:1057:RuntimeWarning: invalid value encountered in cast\n",
      "d:\\myenv\\Lib\\site-packages\\pandas\\core\\dtypes\\cast.py:1081:RuntimeWarning: invalid value encountered in cast\n"
     ]
    },
    {
     "name": "stdout",
     "output_type": "stream",
     "text": [
      "✓ 1517 rows\n",
      "[58/411] Processing BOSN.AS^K22... "
     ]
    },
    {
     "name": "stderr",
     "output_type": "stream",
     "text": [
      "d:\\myenv\\Lib\\site-packages\\refinitiv\\data\\_tools\\_dataframe.py:177:FutureWarning: Downcasting object dtype arrays on .fillna, .ffill, .bfill is deprecated and will change in a future version. Call result.infer_objects(copy=False) instead. To opt-in to the future behavior, set `pd.set_option('future.no_silent_downcasting', True)`\n",
      "d:\\myenv\\Lib\\site-packages\\pandas\\core\\dtypes\\cast.py:1057:RuntimeWarning: invalid value encountered in cast\n",
      "d:\\myenv\\Lib\\site-packages\\pandas\\core\\dtypes\\cast.py:1081:RuntimeWarning: invalid value encountered in cast\n"
     ]
    },
    {
     "name": "stdout",
     "output_type": "stream",
     "text": [
      "✓ 1517 rows\n",
      "[59/411] Processing BOUY.PA... "
     ]
    },
    {
     "name": "stderr",
     "output_type": "stream",
     "text": [
      "d:\\myenv\\Lib\\site-packages\\refinitiv\\data\\_tools\\_dataframe.py:177:FutureWarning: Downcasting object dtype arrays on .fillna, .ffill, .bfill is deprecated and will change in a future version. Call result.infer_objects(copy=False) instead. To opt-in to the future behavior, set `pd.set_option('future.no_silent_downcasting', True)`\n",
      "d:\\myenv\\Lib\\site-packages\\pandas\\core\\dtypes\\cast.py:1057:RuntimeWarning: invalid value encountered in cast\n",
      "d:\\myenv\\Lib\\site-packages\\pandas\\core\\dtypes\\cast.py:1081:RuntimeWarning: invalid value encountered in cast\n"
     ]
    },
    {
     "name": "stdout",
     "output_type": "stream",
     "text": [
      "✓ 1517 rows\n",
      "[60/411] Processing BVI.PA... "
     ]
    },
    {
     "name": "stderr",
     "output_type": "stream",
     "text": [
      "d:\\myenv\\Lib\\site-packages\\refinitiv\\data\\_tools\\_dataframe.py:177:FutureWarning: Downcasting object dtype arrays on .fillna, .ffill, .bfill is deprecated and will change in a future version. Call result.infer_objects(copy=False) instead. To opt-in to the future behavior, set `pd.set_option('future.no_silent_downcasting', True)`\n",
      "d:\\myenv\\Lib\\site-packages\\pandas\\core\\dtypes\\cast.py:1057:RuntimeWarning: invalid value encountered in cast\n",
      "d:\\myenv\\Lib\\site-packages\\pandas\\core\\dtypes\\cast.py:1081:RuntimeWarning: invalid value encountered in cast\n"
     ]
    },
    {
     "name": "stdout",
     "output_type": "stream",
     "text": [
      "✓ 1517 rows\n",
      "[61/411] Processing BWLPG.OL... "
     ]
    },
    {
     "name": "stderr",
     "output_type": "stream",
     "text": [
      "d:\\myenv\\Lib\\site-packages\\refinitiv\\data\\_tools\\_dataframe.py:177:FutureWarning: Downcasting object dtype arrays on .fillna, .ffill, .bfill is deprecated and will change in a future version. Call result.infer_objects(copy=False) instead. To opt-in to the future behavior, set `pd.set_option('future.no_silent_downcasting', True)`\n"
     ]
    },
    {
     "name": "stdout",
     "output_type": "stream",
     "text": [
      "✗ Failed: 'TRDPRC_1'\n",
      "[62/411] Processing BWO.OL... ✗ Failed: 'TRDPRC_1'\n",
      "[63/411] Processing CAGR.PA... "
     ]
    },
    {
     "name": "stderr",
     "output_type": "stream",
     "text": [
      "d:\\myenv\\Lib\\site-packages\\pandas\\core\\dtypes\\cast.py:1057:RuntimeWarning: invalid value encountered in cast\n",
      "d:\\myenv\\Lib\\site-packages\\pandas\\core\\dtypes\\cast.py:1081:RuntimeWarning: invalid value encountered in cast\n"
     ]
    },
    {
     "name": "stdout",
     "output_type": "stream",
     "text": [
      "✓ 1517 rows\n",
      "[64/411] Processing CAPP.PA... "
     ]
    },
    {
     "name": "stderr",
     "output_type": "stream",
     "text": [
      "d:\\myenv\\Lib\\site-packages\\refinitiv\\data\\_tools\\_dataframe.py:177:FutureWarning: Downcasting object dtype arrays on .fillna, .ffill, .bfill is deprecated and will change in a future version. Call result.infer_objects(copy=False) instead. To opt-in to the future behavior, set `pd.set_option('future.no_silent_downcasting', True)`\n",
      "d:\\myenv\\Lib\\site-packages\\pandas\\core\\dtypes\\cast.py:1057:RuntimeWarning: invalid value encountered in cast\n",
      "d:\\myenv\\Lib\\site-packages\\pandas\\core\\dtypes\\cast.py:1081:RuntimeWarning: invalid value encountered in cast\n"
     ]
    },
    {
     "name": "stdout",
     "output_type": "stream",
     "text": [
      "✓ 1517 rows\n",
      "[65/411] Processing CARLb.CO... "
     ]
    },
    {
     "name": "stderr",
     "output_type": "stream",
     "text": [
      "d:\\myenv\\Lib\\site-packages\\refinitiv\\data\\_tools\\_dataframe.py:177:FutureWarning: Downcasting object dtype arrays on .fillna, .ffill, .bfill is deprecated and will change in a future version. Call result.infer_objects(copy=False) instead. To opt-in to the future behavior, set `pd.set_option('future.no_silent_downcasting', True)`\n",
      "d:\\myenv\\Lib\\site-packages\\pandas\\core\\dtypes\\cast.py:1057:RuntimeWarning: invalid value encountered in cast\n",
      "d:\\myenv\\Lib\\site-packages\\pandas\\core\\dtypes\\cast.py:1081:RuntimeWarning: invalid value encountered in cast\n"
     ]
    },
    {
     "name": "stdout",
     "output_type": "stream",
     "text": [
      "✓ 1481 rows\n",
      "[66/411] Processing CARR.PA... "
     ]
    },
    {
     "name": "stderr",
     "output_type": "stream",
     "text": [
      "d:\\myenv\\Lib\\site-packages\\refinitiv\\data\\_tools\\_dataframe.py:177:FutureWarning: Downcasting object dtype arrays on .fillna, .ffill, .bfill is deprecated and will change in a future version. Call result.infer_objects(copy=False) instead. To opt-in to the future behavior, set `pd.set_option('future.no_silent_downcasting', True)`\n",
      "d:\\myenv\\Lib\\site-packages\\pandas\\core\\dtypes\\cast.py:1057:RuntimeWarning: invalid value encountered in cast\n",
      "d:\\myenv\\Lib\\site-packages\\pandas\\core\\dtypes\\cast.py:1081:RuntimeWarning: invalid value encountered in cast\n"
     ]
    },
    {
     "name": "stdout",
     "output_type": "stream",
     "text": [
      "✓ 1517 rows\n",
      "[67/411] Processing CASP.PA... "
     ]
    },
    {
     "name": "stderr",
     "output_type": "stream",
     "text": [
      "d:\\myenv\\Lib\\site-packages\\refinitiv\\data\\_tools\\_dataframe.py:177:FutureWarning: Downcasting object dtype arrays on .fillna, .ffill, .bfill is deprecated and will change in a future version. Call result.infer_objects(copy=False) instead. To opt-in to the future behavior, set `pd.set_option('future.no_silent_downcasting', True)`\n",
      "d:\\myenv\\Lib\\site-packages\\pandas\\core\\dtypes\\cast.py:1057:RuntimeWarning: invalid value encountered in cast\n",
      "d:\\myenv\\Lib\\site-packages\\pandas\\core\\dtypes\\cast.py:1081:RuntimeWarning: invalid value encountered in cast\n"
     ]
    },
    {
     "name": "stdout",
     "output_type": "stream",
     "text": [
      "✓ 1526 rows\n",
      "[68/411] Processing CHRH.CO^A24... "
     ]
    },
    {
     "name": "stderr",
     "output_type": "stream",
     "text": [
      "d:\\myenv\\Lib\\site-packages\\refinitiv\\data\\_tools\\_dataframe.py:177:FutureWarning: Downcasting object dtype arrays on .fillna, .ffill, .bfill is deprecated and will change in a future version. Call result.infer_objects(copy=False) instead. To opt-in to the future behavior, set `pd.set_option('future.no_silent_downcasting', True)`\n",
      "d:\\myenv\\Lib\\site-packages\\pandas\\core\\dtypes\\cast.py:1057:RuntimeWarning: invalid value encountered in cast\n",
      "d:\\myenv\\Lib\\site-packages\\pandas\\core\\dtypes\\cast.py:1081:RuntimeWarning: invalid value encountered in cast\n"
     ]
    },
    {
     "name": "stdout",
     "output_type": "stream",
     "text": [
      "✓ 1481 rows\n",
      "[69/411] Processing CLARI.PA... "
     ]
    },
    {
     "name": "stderr",
     "output_type": "stream",
     "text": [
      "d:\\myenv\\Lib\\site-packages\\refinitiv\\data\\_tools\\_dataframe.py:177:FutureWarning: Downcasting object dtype arrays on .fillna, .ffill, .bfill is deprecated and will change in a future version. Call result.infer_objects(copy=False) instead. To opt-in to the future behavior, set `pd.set_option('future.no_silent_downcasting', True)`\n",
      "d:\\myenv\\Lib\\site-packages\\pandas\\core\\dtypes\\cast.py:1057:RuntimeWarning: invalid value encountered in cast\n",
      "d:\\myenv\\Lib\\site-packages\\pandas\\core\\dtypes\\cast.py:1081:RuntimeWarning: invalid value encountered in cast\n"
     ]
    },
    {
     "name": "stdout",
     "output_type": "stream",
     "text": [
      "✓ 1517 rows\n",
      "[70/411] Processing CNAT.PA^G21... "
     ]
    },
    {
     "name": "stderr",
     "output_type": "stream",
     "text": [
      "d:\\myenv\\Lib\\site-packages\\refinitiv\\data\\_tools\\_dataframe.py:177:FutureWarning: Downcasting object dtype arrays on .fillna, .ffill, .bfill is deprecated and will change in a future version. Call result.infer_objects(copy=False) instead. To opt-in to the future behavior, set `pd.set_option('future.no_silent_downcasting', True)`\n",
      "d:\\myenv\\Lib\\site-packages\\pandas\\core\\dtypes\\cast.py:1057:RuntimeWarning: invalid value encountered in cast\n",
      "d:\\myenv\\Lib\\site-packages\\pandas\\core\\dtypes\\cast.py:1081:RuntimeWarning: invalid value encountered in cast\n"
     ]
    },
    {
     "name": "stdout",
     "output_type": "stream",
     "text": [
      "✓ 1524 rows\n",
      "[71/411] Processing CNPP.PA^F22... "
     ]
    },
    {
     "name": "stderr",
     "output_type": "stream",
     "text": [
      "d:\\myenv\\Lib\\site-packages\\refinitiv\\data\\_tools\\_dataframe.py:177:FutureWarning: Downcasting object dtype arrays on .fillna, .ffill, .bfill is deprecated and will change in a future version. Call result.infer_objects(copy=False) instead. To opt-in to the future behavior, set `pd.set_option('future.no_silent_downcasting', True)`\n",
      "d:\\myenv\\Lib\\site-packages\\pandas\\core\\dtypes\\cast.py:1057:RuntimeWarning: invalid value encountered in cast\n",
      "d:\\myenv\\Lib\\site-packages\\pandas\\core\\dtypes\\cast.py:1081:RuntimeWarning: invalid value encountered in cast\n",
      "d:\\myenv\\Lib\\site-packages\\pandas\\core\\dtypes\\cast.py:1057:RuntimeWarning: invalid value encountered in cast\n",
      "d:\\myenv\\Lib\\site-packages\\pandas\\core\\dtypes\\cast.py:1081:RuntimeWarning: invalid value encountered in cast\n"
     ]
    },
    {
     "name": "stdout",
     "output_type": "stream",
     "text": [
      "✓ 1528 rows\n",
      "[72/411] Processing COFA.PA... "
     ]
    },
    {
     "name": "stderr",
     "output_type": "stream",
     "text": [
      "d:\\myenv\\Lib\\site-packages\\refinitiv\\data\\_tools\\_dataframe.py:177:FutureWarning: Downcasting object dtype arrays on .fillna, .ffill, .bfill is deprecated and will change in a future version. Call result.infer_objects(copy=False) instead. To opt-in to the future behavior, set `pd.set_option('future.no_silent_downcasting', True)`\n",
      "d:\\myenv\\Lib\\site-packages\\pandas\\core\\dtypes\\cast.py:1057:RuntimeWarning: invalid value encountered in cast\n",
      "d:\\myenv\\Lib\\site-packages\\pandas\\core\\dtypes\\cast.py:1081:RuntimeWarning: invalid value encountered in cast\n"
     ]
    },
    {
     "name": "stdout",
     "output_type": "stream",
     "text": [
      "✓ 1517 rows\n",
      "[73/411] Processing COFB.BR... "
     ]
    },
    {
     "name": "stderr",
     "output_type": "stream",
     "text": [
      "d:\\myenv\\Lib\\site-packages\\refinitiv\\data\\_tools\\_dataframe.py:177:FutureWarning: Downcasting object dtype arrays on .fillna, .ffill, .bfill is deprecated and will change in a future version. Call result.infer_objects(copy=False) instead. To opt-in to the future behavior, set `pd.set_option('future.no_silent_downcasting', True)`\n",
      "d:\\myenv\\Lib\\site-packages\\pandas\\core\\dtypes\\cast.py:1057:RuntimeWarning: invalid value encountered in cast\n",
      "d:\\myenv\\Lib\\site-packages\\pandas\\core\\dtypes\\cast.py:1081:RuntimeWarning: invalid value encountered in cast\n"
     ]
    },
    {
     "name": "stdout",
     "output_type": "stream",
     "text": [
      "✓ 1517 rows\n",
      "[74/411] Processing COLOb.CO... "
     ]
    },
    {
     "name": "stderr",
     "output_type": "stream",
     "text": [
      "d:\\myenv\\Lib\\site-packages\\refinitiv\\data\\_tools\\_dataframe.py:177:FutureWarning: Downcasting object dtype arrays on .fillna, .ffill, .bfill is deprecated and will change in a future version. Call result.infer_objects(copy=False) instead. To opt-in to the future behavior, set `pd.set_option('future.no_silent_downcasting', True)`\n",
      "d:\\myenv\\Lib\\site-packages\\pandas\\core\\dtypes\\cast.py:1057:RuntimeWarning: invalid value encountered in cast\n",
      "d:\\myenv\\Lib\\site-packages\\pandas\\core\\dtypes\\cast.py:1081:RuntimeWarning: invalid value encountered in cast\n"
     ]
    },
    {
     "name": "stdout",
     "output_type": "stream",
     "text": [
      "✓ 1481 rows\n",
      "[75/411] Processing COLR.BR... "
     ]
    },
    {
     "name": "stderr",
     "output_type": "stream",
     "text": [
      "d:\\myenv\\Lib\\site-packages\\refinitiv\\data\\_tools\\_dataframe.py:177:FutureWarning: Downcasting object dtype arrays on .fillna, .ffill, .bfill is deprecated and will change in a future version. Call result.infer_objects(copy=False) instead. To opt-in to the future behavior, set `pd.set_option('future.no_silent_downcasting', True)`\n",
      "d:\\myenv\\Lib\\site-packages\\pandas\\core\\dtypes\\cast.py:1057:RuntimeWarning: invalid value encountered in cast\n",
      "d:\\myenv\\Lib\\site-packages\\pandas\\core\\dtypes\\cast.py:1081:RuntimeWarning: invalid value encountered in cast\n"
     ]
    },
    {
     "name": "stdout",
     "output_type": "stream",
     "text": [
      "✓ 1517 rows\n",
      "[76/411] Processing CONG.DE... "
     ]
    },
    {
     "name": "stderr",
     "output_type": "stream",
     "text": [
      "d:\\myenv\\Lib\\site-packages\\refinitiv\\data\\_tools\\_dataframe.py:177:FutureWarning: Downcasting object dtype arrays on .fillna, .ffill, .bfill is deprecated and will change in a future version. Call result.infer_objects(copy=False) instead. To opt-in to the future behavior, set `pd.set_option('future.no_silent_downcasting', True)`\n"
     ]
    },
    {
     "name": "stdout",
     "output_type": "stream",
     "text": [
      "✗ Failed: 'TRDPRC_1'\n",
      "[77/411] Processing CORB.AS... "
     ]
    },
    {
     "name": "stderr",
     "output_type": "stream",
     "text": [
      "d:\\myenv\\Lib\\site-packages\\pandas\\core\\dtypes\\cast.py:1057:RuntimeWarning: invalid value encountered in cast\n",
      "d:\\myenv\\Lib\\site-packages\\pandas\\core\\dtypes\\cast.py:1081:RuntimeWarning: invalid value encountered in cast\n"
     ]
    },
    {
     "name": "stdout",
     "output_type": "stream",
     "text": [
      "✓ 1517 rows\n",
      "[78/411] Processing CVO.PA... "
     ]
    },
    {
     "name": "stderr",
     "output_type": "stream",
     "text": [
      "d:\\myenv\\Lib\\site-packages\\refinitiv\\data\\_tools\\_dataframe.py:177:FutureWarning: Downcasting object dtype arrays on .fillna, .ffill, .bfill is deprecated and will change in a future version. Call result.infer_objects(copy=False) instead. To opt-in to the future behavior, set `pd.set_option('future.no_silent_downcasting', True)`\n",
      "d:\\myenv\\Lib\\site-packages\\pandas\\core\\dtypes\\cast.py:1057:RuntimeWarning: invalid value encountered in cast\n",
      "d:\\myenv\\Lib\\site-packages\\pandas\\core\\dtypes\\cast.py:1081:RuntimeWarning: invalid value encountered in cast\n"
     ]
    },
    {
     "name": "stdout",
     "output_type": "stream",
     "text": [
      "✓ 1517 rows\n",
      "[79/411] Processing DANO.PA... "
     ]
    },
    {
     "name": "stderr",
     "output_type": "stream",
     "text": [
      "d:\\myenv\\Lib\\site-packages\\refinitiv\\data\\_tools\\_dataframe.py:177:FutureWarning: Downcasting object dtype arrays on .fillna, .ffill, .bfill is deprecated and will change in a future version. Call result.infer_objects(copy=False) instead. To opt-in to the future behavior, set `pd.set_option('future.no_silent_downcasting', True)`\n",
      "d:\\myenv\\Lib\\site-packages\\pandas\\core\\dtypes\\cast.py:1057:RuntimeWarning: invalid value encountered in cast\n",
      "d:\\myenv\\Lib\\site-packages\\pandas\\core\\dtypes\\cast.py:1081:RuntimeWarning: invalid value encountered in cast\n"
     ]
    },
    {
     "name": "stdout",
     "output_type": "stream",
     "text": [
      "✓ 1517 rows\n",
      "[80/411] Processing DANSKE.CO... "
     ]
    },
    {
     "name": "stderr",
     "output_type": "stream",
     "text": [
      "d:\\myenv\\Lib\\site-packages\\refinitiv\\data\\_tools\\_dataframe.py:177:FutureWarning: Downcasting object dtype arrays on .fillna, .ffill, .bfill is deprecated and will change in a future version. Call result.infer_objects(copy=False) instead. To opt-in to the future behavior, set `pd.set_option('future.no_silent_downcasting', True)`\n",
      "d:\\myenv\\Lib\\site-packages\\pandas\\core\\dtypes\\cast.py:1057:RuntimeWarning: invalid value encountered in cast\n",
      "d:\\myenv\\Lib\\site-packages\\pandas\\core\\dtypes\\cast.py:1081:RuntimeWarning: invalid value encountered in cast\n"
     ]
    },
    {
     "name": "stdout",
     "output_type": "stream",
     "text": [
      "✓ 1481 rows\n",
      "[81/411] Processing DAST.PA... "
     ]
    },
    {
     "name": "stderr",
     "output_type": "stream",
     "text": [
      "d:\\myenv\\Lib\\site-packages\\refinitiv\\data\\_tools\\_dataframe.py:177:FutureWarning: Downcasting object dtype arrays on .fillna, .ffill, .bfill is deprecated and will change in a future version. Call result.infer_objects(copy=False) instead. To opt-in to the future behavior, set `pd.set_option('future.no_silent_downcasting', True)`\n",
      "d:\\myenv\\Lib\\site-packages\\pandas\\core\\dtypes\\cast.py:1057:RuntimeWarning: invalid value encountered in cast\n",
      "d:\\myenv\\Lib\\site-packages\\pandas\\core\\dtypes\\cast.py:1081:RuntimeWarning: invalid value encountered in cast\n"
     ]
    },
    {
     "name": "stdout",
     "output_type": "stream",
     "text": [
      "✓ 1517 rows\n",
      "[82/411] Processing DB1Gn.DE... "
     ]
    },
    {
     "name": "stderr",
     "output_type": "stream",
     "text": [
      "d:\\myenv\\Lib\\site-packages\\refinitiv\\data\\_tools\\_dataframe.py:177:FutureWarning: Downcasting object dtype arrays on .fillna, .ffill, .bfill is deprecated and will change in a future version. Call result.infer_objects(copy=False) instead. To opt-in to the future behavior, set `pd.set_option('future.no_silent_downcasting', True)`\n"
     ]
    },
    {
     "name": "stdout",
     "output_type": "stream",
     "text": [
      "✗ Failed: 'TRDPRC_1'\n",
      "[83/411] Processing DBKGn.DE... ✗ Failed: 'TRDPRC_1'\n",
      "[84/411] Processing DBV.PA... ✓ 1517 rows\n",
      "[85/411] Processing DEMANT.CO... "
     ]
    },
    {
     "name": "stderr",
     "output_type": "stream",
     "text": [
      "d:\\myenv\\Lib\\site-packages\\refinitiv\\data\\_tools\\_dataframe.py:177:FutureWarning: Downcasting object dtype arrays on .fillna, .ffill, .bfill is deprecated and will change in a future version. Call result.infer_objects(copy=False) instead. To opt-in to the future behavior, set `pd.set_option('future.no_silent_downcasting', True)`\n",
      "d:\\myenv\\Lib\\site-packages\\pandas\\core\\dtypes\\cast.py:1057:RuntimeWarning: invalid value encountered in cast\n",
      "d:\\myenv\\Lib\\site-packages\\pandas\\core\\dtypes\\cast.py:1081:RuntimeWarning: invalid value encountered in cast\n"
     ]
    },
    {
     "name": "stdout",
     "output_type": "stream",
     "text": [
      "✓ 1481 rows\n",
      "[86/411] Processing DHLn.DE... "
     ]
    },
    {
     "name": "stderr",
     "output_type": "stream",
     "text": [
      "d:\\myenv\\Lib\\site-packages\\refinitiv\\data\\_tools\\_dataframe.py:177:FutureWarning: Downcasting object dtype arrays on .fillna, .ffill, .bfill is deprecated and will change in a future version. Call result.infer_objects(copy=False) instead. To opt-in to the future behavior, set `pd.set_option('future.no_silent_downcasting', True)`\n"
     ]
    },
    {
     "name": "stdout",
     "output_type": "stream",
     "text": [
      "✗ Failed: 'TRDPRC_1'\n",
      "[87/411] Processing DNB.OL... "
     ]
    },
    {
     "name": "stderr",
     "output_type": "stream",
     "text": [
      "d:\\myenv\\Lib\\site-packages\\pandas\\core\\dtypes\\cast.py:1057:RuntimeWarning: invalid value encountered in cast\n",
      "d:\\myenv\\Lib\\site-packages\\pandas\\core\\dtypes\\cast.py:1081:RuntimeWarning: invalid value encountered in cast\n"
     ]
    },
    {
     "name": "stdout",
     "output_type": "stream",
     "text": [
      "✗ Failed: 'TRDPRC_1'\n",
      "[88/411] Processing DNO.OL... ✗ Failed: 'TRDPRC_1'\n",
      "[89/411] Processing DSMN.AS^E23... "
     ]
    },
    {
     "name": "stderr",
     "output_type": "stream",
     "text": [
      "d:\\myenv\\Lib\\site-packages\\pandas\\core\\dtypes\\cast.py:1057:RuntimeWarning: invalid value encountered in cast\n",
      "d:\\myenv\\Lib\\site-packages\\pandas\\core\\dtypes\\cast.py:1081:RuntimeWarning: invalid value encountered in cast\n"
     ]
    },
    {
     "name": "stdout",
     "output_type": "stream",
     "text": [
      "✓ 1517 rows\n",
      "[90/411] Processing DSV.CO... "
     ]
    },
    {
     "name": "stderr",
     "output_type": "stream",
     "text": [
      "d:\\myenv\\Lib\\site-packages\\refinitiv\\data\\_tools\\_dataframe.py:177:FutureWarning: Downcasting object dtype arrays on .fillna, .ffill, .bfill is deprecated and will change in a future version. Call result.infer_objects(copy=False) instead. To opt-in to the future behavior, set `pd.set_option('future.no_silent_downcasting', True)`\n",
      "d:\\myenv\\Lib\\site-packages\\pandas\\core\\dtypes\\cast.py:1057:RuntimeWarning: invalid value encountered in cast\n",
      "d:\\myenv\\Lib\\site-packages\\pandas\\core\\dtypes\\cast.py:1081:RuntimeWarning: invalid value encountered in cast\n",
      "d:\\myenv\\Lib\\site-packages\\pandas\\core\\dtypes\\cast.py:1057:RuntimeWarning: invalid value encountered in cast\n",
      "d:\\myenv\\Lib\\site-packages\\pandas\\core\\dtypes\\cast.py:1081:RuntimeWarning: invalid value encountered in cast\n"
     ]
    },
    {
     "name": "stdout",
     "output_type": "stream",
     "text": [
      "✓ 1481 rows\n",
      "[91/411] Processing DTEGn.DE... "
     ]
    },
    {
     "name": "stderr",
     "output_type": "stream",
     "text": [
      "d:\\myenv\\Lib\\site-packages\\refinitiv\\data\\_tools\\_dataframe.py:177:FutureWarning: Downcasting object dtype arrays on .fillna, .ffill, .bfill is deprecated and will change in a future version. Call result.infer_objects(copy=False) instead. To opt-in to the future behavior, set `pd.set_option('future.no_silent_downcasting', True)`\n"
     ]
    },
    {
     "name": "stdout",
     "output_type": "stream",
     "text": [
      "✗ Failed: 'TRDPRC_1'\n",
      "[92/411] Processing ECMPA.AS... ✓ 1517 rows\n",
      "[93/411] Processing EDEN.PA... "
     ]
    },
    {
     "name": "stderr",
     "output_type": "stream",
     "text": [
      "d:\\myenv\\Lib\\site-packages\\refinitiv\\data\\_tools\\_dataframe.py:177:FutureWarning: Downcasting object dtype arrays on .fillna, .ffill, .bfill is deprecated and will change in a future version. Call result.infer_objects(copy=False) instead. To opt-in to the future behavior, set `pd.set_option('future.no_silent_downcasting', True)`\n",
      "d:\\myenv\\Lib\\site-packages\\pandas\\core\\dtypes\\cast.py:1057:RuntimeWarning: invalid value encountered in cast\n",
      "d:\\myenv\\Lib\\site-packages\\pandas\\core\\dtypes\\cast.py:1081:RuntimeWarning: invalid value encountered in cast\n"
     ]
    },
    {
     "name": "stdout",
     "output_type": "stream",
     "text": [
      "✓ 1517 rows\n",
      "[94/411] Processing EDF.PA^F23... "
     ]
    },
    {
     "name": "stderr",
     "output_type": "stream",
     "text": [
      "d:\\myenv\\Lib\\site-packages\\refinitiv\\data\\_tools\\_dataframe.py:177:FutureWarning: Downcasting object dtype arrays on .fillna, .ffill, .bfill is deprecated and will change in a future version. Call result.infer_objects(copy=False) instead. To opt-in to the future behavior, set `pd.set_option('future.no_silent_downcasting', True)`\n",
      "d:\\myenv\\Lib\\site-packages\\pandas\\core\\dtypes\\cast.py:1057:RuntimeWarning: invalid value encountered in cast\n",
      "d:\\myenv\\Lib\\site-packages\\pandas\\core\\dtypes\\cast.py:1081:RuntimeWarning: invalid value encountered in cast\n"
     ]
    },
    {
     "name": "stdout",
     "output_type": "stream",
     "text": [
      "✓ 1536 rows\n",
      "[95/411] Processing ELIOR.PA... "
     ]
    },
    {
     "name": "stderr",
     "output_type": "stream",
     "text": [
      "d:\\myenv\\Lib\\site-packages\\refinitiv\\data\\_tools\\_dataframe.py:177:FutureWarning: Downcasting object dtype arrays on .fillna, .ffill, .bfill is deprecated and will change in a future version. Call result.infer_objects(copy=False) instead. To opt-in to the future behavior, set `pd.set_option('future.no_silent_downcasting', True)`\n",
      "d:\\myenv\\Lib\\site-packages\\pandas\\core\\dtypes\\cast.py:1057:RuntimeWarning: invalid value encountered in cast\n",
      "d:\\myenv\\Lib\\site-packages\\pandas\\core\\dtypes\\cast.py:1081:RuntimeWarning: invalid value encountered in cast\n"
     ]
    },
    {
     "name": "stdout",
     "output_type": "stream",
     "text": [
      "✓ 1517 rows\n",
      "[96/411] Processing ELIS.PA... "
     ]
    },
    {
     "name": "stderr",
     "output_type": "stream",
     "text": [
      "d:\\myenv\\Lib\\site-packages\\refinitiv\\data\\_tools\\_dataframe.py:177:FutureWarning: Downcasting object dtype arrays on .fillna, .ffill, .bfill is deprecated and will change in a future version. Call result.infer_objects(copy=False) instead. To opt-in to the future behavior, set `pd.set_option('future.no_silent_downcasting', True)`\n",
      "d:\\myenv\\Lib\\site-packages\\pandas\\core\\dtypes\\cast.py:1057:RuntimeWarning: invalid value encountered in cast\n",
      "d:\\myenv\\Lib\\site-packages\\pandas\\core\\dtypes\\cast.py:1081:RuntimeWarning: invalid value encountered in cast\n"
     ]
    },
    {
     "name": "stdout",
     "output_type": "stream",
     "text": [
      "✓ 1517 rows\n",
      "[97/411] Processing ELISA.HE... "
     ]
    },
    {
     "name": "stderr",
     "output_type": "stream",
     "text": [
      "d:\\myenv\\Lib\\site-packages\\refinitiv\\data\\_tools\\_dataframe.py:177:FutureWarning: Downcasting object dtype arrays on .fillna, .ffill, .bfill is deprecated and will change in a future version. Call result.infer_objects(copy=False) instead. To opt-in to the future behavior, set `pd.set_option('future.no_silent_downcasting', True)`\n",
      "d:\\myenv\\Lib\\site-packages\\pandas\\core\\dtypes\\cast.py:1057:RuntimeWarning: invalid value encountered in cast\n",
      "d:\\myenv\\Lib\\site-packages\\pandas\\core\\dtypes\\cast.py:1081:RuntimeWarning: invalid value encountered in cast\n"
     ]
    },
    {
     "name": "stdout",
     "output_type": "stream",
     "text": [
      "✓ 1487 rows\n",
      "[98/411] Processing ELUXb.ST... "
     ]
    },
    {
     "name": "stderr",
     "output_type": "stream",
     "text": [
      "d:\\myenv\\Lib\\site-packages\\refinitiv\\data\\_tools\\_dataframe.py:177:FutureWarning: Downcasting object dtype arrays on .fillna, .ffill, .bfill is deprecated and will change in a future version. Call result.infer_objects(copy=False) instead. To opt-in to the future behavior, set `pd.set_option('future.no_silent_downcasting', True)`\n",
      "d:\\myenv\\Lib\\site-packages\\pandas\\core\\dtypes\\cast.py:1057:RuntimeWarning: invalid value encountered in cast\n",
      "d:\\myenv\\Lib\\site-packages\\pandas\\core\\dtypes\\cast.py:1081:RuntimeWarning: invalid value encountered in cast\n",
      "d:\\myenv\\Lib\\site-packages\\pandas\\core\\dtypes\\cast.py:1057:RuntimeWarning: invalid value encountered in cast\n",
      "d:\\myenv\\Lib\\site-packages\\pandas\\core\\dtypes\\cast.py:1081:RuntimeWarning: invalid value encountered in cast\n"
     ]
    },
    {
     "name": "stdout",
     "output_type": "stream",
     "text": [
      "✓ 1488 rows\n",
      "[99/411] Processing EMEIS.PA... "
     ]
    },
    {
     "name": "stderr",
     "output_type": "stream",
     "text": [
      "d:\\myenv\\Lib\\site-packages\\refinitiv\\data\\_tools\\_dataframe.py:177:FutureWarning: Downcasting object dtype arrays on .fillna, .ffill, .bfill is deprecated and will change in a future version. Call result.infer_objects(copy=False) instead. To opt-in to the future behavior, set `pd.set_option('future.no_silent_downcasting', True)`\n",
      "d:\\myenv\\Lib\\site-packages\\pandas\\core\\dtypes\\cast.py:1057:RuntimeWarning: invalid value encountered in cast\n",
      "d:\\myenv\\Lib\\site-packages\\pandas\\core\\dtypes\\cast.py:1081:RuntimeWarning: invalid value encountered in cast\n",
      "d:\\myenv\\Lib\\site-packages\\pandas\\core\\dtypes\\cast.py:1057:RuntimeWarning: invalid value encountered in cast\n",
      "d:\\myenv\\Lib\\site-packages\\pandas\\core\\dtypes\\cast.py:1081:RuntimeWarning: invalid value encountered in cast\n"
     ]
    },
    {
     "name": "stdout",
     "output_type": "stream",
     "text": [
      "✓ 1522 rows\n",
      "[100/411] Processing ENGIE.PA... "
     ]
    },
    {
     "name": "stderr",
     "output_type": "stream",
     "text": [
      "d:\\myenv\\Lib\\site-packages\\refinitiv\\data\\_tools\\_dataframe.py:177:FutureWarning: Downcasting object dtype arrays on .fillna, .ffill, .bfill is deprecated and will change in a future version. Call result.infer_objects(copy=False) instead. To opt-in to the future behavior, set `pd.set_option('future.no_silent_downcasting', True)`\n",
      "d:\\myenv\\Lib\\site-packages\\pandas\\core\\dtypes\\cast.py:1057:RuntimeWarning: invalid value encountered in cast\n",
      "d:\\myenv\\Lib\\site-packages\\pandas\\core\\dtypes\\cast.py:1081:RuntimeWarning: invalid value encountered in cast\n"
     ]
    },
    {
     "name": "stdout",
     "output_type": "stream",
     "text": [
      "✓ 1517 rows\n",
      "[101/411] Processing ENX.PA... "
     ]
    },
    {
     "name": "stderr",
     "output_type": "stream",
     "text": [
      "d:\\myenv\\Lib\\site-packages\\refinitiv\\data\\_tools\\_dataframe.py:177:FutureWarning: Downcasting object dtype arrays on .fillna, .ffill, .bfill is deprecated and will change in a future version. Call result.infer_objects(copy=False) instead. To opt-in to the future behavior, set `pd.set_option('future.no_silent_downcasting', True)`\n",
      "d:\\myenv\\Lib\\site-packages\\pandas\\core\\dtypes\\cast.py:1057:RuntimeWarning: invalid value encountered in cast\n",
      "d:\\myenv\\Lib\\site-packages\\pandas\\core\\dtypes\\cast.py:1081:RuntimeWarning: invalid value encountered in cast\n"
     ]
    },
    {
     "name": "stdout",
     "output_type": "stream",
     "text": [
      "✓ 1517 rows\n",
      "[102/411] Processing EONGn.DE... "
     ]
    },
    {
     "name": "stderr",
     "output_type": "stream",
     "text": [
      "d:\\myenv\\Lib\\site-packages\\refinitiv\\data\\_tools\\_dataframe.py:177:FutureWarning: Downcasting object dtype arrays on .fillna, .ffill, .bfill is deprecated and will change in a future version. Call result.infer_objects(copy=False) instead. To opt-in to the future behavior, set `pd.set_option('future.no_silent_downcasting', True)`\n"
     ]
    },
    {
     "name": "stdout",
     "output_type": "stream",
     "text": [
      "✗ Failed: 'TRDPRC_1'\n",
      "[103/411] Processing EQNR.OL... "
     ]
    },
    {
     "name": "stderr",
     "output_type": "stream",
     "text": [
      "d:\\myenv\\Lib\\site-packages\\pandas\\core\\dtypes\\cast.py:1057:RuntimeWarning: invalid value encountered in cast\n",
      "d:\\myenv\\Lib\\site-packages\\pandas\\core\\dtypes\\cast.py:1081:RuntimeWarning: invalid value encountered in cast\n"
     ]
    },
    {
     "name": "stdout",
     "output_type": "stream",
     "text": [
      "✗ Failed: 'TRDPRC_1'\n",
      "[104/411] Processing ERICb.ST... "
     ]
    },
    {
     "name": "stderr",
     "output_type": "stream",
     "text": [
      "d:\\myenv\\Lib\\site-packages\\pandas\\core\\dtypes\\cast.py:1057:RuntimeWarning: invalid value encountered in cast\n",
      "d:\\myenv\\Lib\\site-packages\\pandas\\core\\dtypes\\cast.py:1081:RuntimeWarning: invalid value encountered in cast\n"
     ]
    },
    {
     "name": "stdout",
     "output_type": "stream",
     "text": [
      "✓ 1488 rows\n",
      "[105/411] Processing ERMT.PA... "
     ]
    },
    {
     "name": "stderr",
     "output_type": "stream",
     "text": [
      "d:\\myenv\\Lib\\site-packages\\refinitiv\\data\\_tools\\_dataframe.py:177:FutureWarning: Downcasting object dtype arrays on .fillna, .ffill, .bfill is deprecated and will change in a future version. Call result.infer_objects(copy=False) instead. To opt-in to the future behavior, set `pd.set_option('future.no_silent_downcasting', True)`\n",
      "d:\\myenv\\Lib\\site-packages\\pandas\\core\\dtypes\\cast.py:1057:RuntimeWarning: invalid value encountered in cast\n",
      "d:\\myenv\\Lib\\site-packages\\pandas\\core\\dtypes\\cast.py:1081:RuntimeWarning: invalid value encountered in cast\n"
     ]
    },
    {
     "name": "stdout",
     "output_type": "stream",
     "text": [
      "✓ 1517 rows\n",
      "[106/411] Processing ESLX.PA... "
     ]
    },
    {
     "name": "stderr",
     "output_type": "stream",
     "text": [
      "d:\\myenv\\Lib\\site-packages\\refinitiv\\data\\_tools\\_dataframe.py:177:FutureWarning: Downcasting object dtype arrays on .fillna, .ffill, .bfill is deprecated and will change in a future version. Call result.infer_objects(copy=False) instead. To opt-in to the future behavior, set `pd.set_option('future.no_silent_downcasting', True)`\n",
      "d:\\myenv\\Lib\\site-packages\\pandas\\core\\dtypes\\cast.py:1057:RuntimeWarning: invalid value encountered in cast\n",
      "d:\\myenv\\Lib\\site-packages\\pandas\\core\\dtypes\\cast.py:1081:RuntimeWarning: invalid value encountered in cast\n"
     ]
    },
    {
     "name": "stdout",
     "output_type": "stream",
     "text": [
      "✓ 1517 rows\n",
      "[107/411] Processing ESSITYb.ST... "
     ]
    },
    {
     "name": "stderr",
     "output_type": "stream",
     "text": [
      "d:\\myenv\\Lib\\site-packages\\refinitiv\\data\\_tools\\_dataframe.py:177:FutureWarning: Downcasting object dtype arrays on .fillna, .ffill, .bfill is deprecated and will change in a future version. Call result.infer_objects(copy=False) instead. To opt-in to the future behavior, set `pd.set_option('future.no_silent_downcasting', True)`\n",
      "d:\\myenv\\Lib\\site-packages\\pandas\\core\\dtypes\\cast.py:1057:RuntimeWarning: invalid value encountered in cast\n",
      "d:\\myenv\\Lib\\site-packages\\pandas\\core\\dtypes\\cast.py:1081:RuntimeWarning: invalid value encountered in cast\n",
      "d:\\myenv\\Lib\\site-packages\\pandas\\core\\dtypes\\cast.py:1057:RuntimeWarning: invalid value encountered in cast\n",
      "d:\\myenv\\Lib\\site-packages\\pandas\\core\\dtypes\\cast.py:1081:RuntimeWarning: invalid value encountered in cast\n"
     ]
    },
    {
     "name": "stdout",
     "output_type": "stream",
     "text": [
      "✓ 1488 rows\n",
      "[108/411] Processing ETL.PA... "
     ]
    },
    {
     "name": "stderr",
     "output_type": "stream",
     "text": [
      "d:\\myenv\\Lib\\site-packages\\refinitiv\\data\\_tools\\_dataframe.py:177:FutureWarning: Downcasting object dtype arrays on .fillna, .ffill, .bfill is deprecated and will change in a future version. Call result.infer_objects(copy=False) instead. To opt-in to the future behavior, set `pd.set_option('future.no_silent_downcasting', True)`\n",
      "d:\\myenv\\Lib\\site-packages\\pandas\\core\\dtypes\\cast.py:1057:RuntimeWarning: invalid value encountered in cast\n",
      "d:\\myenv\\Lib\\site-packages\\pandas\\core\\dtypes\\cast.py:1081:RuntimeWarning: invalid value encountered in cast\n"
     ]
    },
    {
     "name": "stdout",
     "output_type": "stream",
     "text": [
      "✓ 1517 rows\n",
      "[109/411] Processing EUCAR.PA^G22... "
     ]
    },
    {
     "name": "stderr",
     "output_type": "stream",
     "text": [
      "d:\\myenv\\Lib\\site-packages\\refinitiv\\data\\_tools\\_dataframe.py:177:FutureWarning: Downcasting object dtype arrays on .fillna, .ffill, .bfill is deprecated and will change in a future version. Call result.infer_objects(copy=False) instead. To opt-in to the future behavior, set `pd.set_option('future.no_silent_downcasting', True)`\n",
      "d:\\myenv\\Lib\\site-packages\\pandas\\core\\dtypes\\cast.py:1057:RuntimeWarning: invalid value encountered in cast\n",
      "d:\\myenv\\Lib\\site-packages\\pandas\\core\\dtypes\\cast.py:1081:RuntimeWarning: invalid value encountered in cast\n"
     ]
    },
    {
     "name": "stdout",
     "output_type": "stream",
     "text": [
      "✓ 1524 rows\n",
      "[110/411] Processing EUFI.PA... "
     ]
    },
    {
     "name": "stderr",
     "output_type": "stream",
     "text": [
      "d:\\myenv\\Lib\\site-packages\\refinitiv\\data\\_tools\\_dataframe.py:177:FutureWarning: Downcasting object dtype arrays on .fillna, .ffill, .bfill is deprecated and will change in a future version. Call result.infer_objects(copy=False) instead. To opt-in to the future behavior, set `pd.set_option('future.no_silent_downcasting', True)`\n",
      "d:\\myenv\\Lib\\site-packages\\pandas\\core\\dtypes\\cast.py:1057:RuntimeWarning: invalid value encountered in cast\n",
      "d:\\myenv\\Lib\\site-packages\\pandas\\core\\dtypes\\cast.py:1081:RuntimeWarning: invalid value encountered in cast\n"
     ]
    },
    {
     "name": "stdout",
     "output_type": "stream",
     "text": [
      "✓ 1517 rows\n",
      "[111/411] Processing EURA.PA... "
     ]
    },
    {
     "name": "stderr",
     "output_type": "stream",
     "text": [
      "d:\\myenv\\Lib\\site-packages\\refinitiv\\data\\_tools\\_dataframe.py:177:FutureWarning: Downcasting object dtype arrays on .fillna, .ffill, .bfill is deprecated and will change in a future version. Call result.infer_objects(copy=False) instead. To opt-in to the future behavior, set `pd.set_option('future.no_silent_downcasting', True)`\n",
      "d:\\myenv\\Lib\\site-packages\\pandas\\core\\dtypes\\cast.py:1057:RuntimeWarning: invalid value encountered in cast\n",
      "d:\\myenv\\Lib\\site-packages\\pandas\\core\\dtypes\\cast.py:1081:RuntimeWarning: invalid value encountered in cast\n"
     ]
    },
    {
     "name": "stdout",
     "output_type": "stream",
     "text": [
      "✓ 1517 rows\n",
      "[112/411] Processing EXHO.PA... "
     ]
    },
    {
     "name": "stderr",
     "output_type": "stream",
     "text": [
      "d:\\myenv\\Lib\\site-packages\\refinitiv\\data\\_tools\\_dataframe.py:177:FutureWarning: Downcasting object dtype arrays on .fillna, .ffill, .bfill is deprecated and will change in a future version. Call result.infer_objects(copy=False) instead. To opt-in to the future behavior, set `pd.set_option('future.no_silent_downcasting', True)`\n",
      "d:\\myenv\\Lib\\site-packages\\pandas\\core\\dtypes\\cast.py:1057:RuntimeWarning: invalid value encountered in cast\n",
      "d:\\myenv\\Lib\\site-packages\\pandas\\core\\dtypes\\cast.py:1081:RuntimeWarning: invalid value encountered in cast\n"
     ]
    },
    {
     "name": "stdout",
     "output_type": "stream",
     "text": [
      "✓ 1517 rows\n",
      "[113/411] Processing FAGRO.BR... "
     ]
    },
    {
     "name": "stderr",
     "output_type": "stream",
     "text": [
      "d:\\myenv\\Lib\\site-packages\\refinitiv\\data\\_tools\\_dataframe.py:177:FutureWarning: Downcasting object dtype arrays on .fillna, .ffill, .bfill is deprecated and will change in a future version. Call result.infer_objects(copy=False) instead. To opt-in to the future behavior, set `pd.set_option('future.no_silent_downcasting', True)`\n"
     ]
    },
    {
     "name": "stdout",
     "output_type": "stream",
     "text": [
      "✓ 1517 rows\n",
      "[114/411] Processing FLOW.AS... "
     ]
    },
    {
     "name": "stderr",
     "output_type": "stream",
     "text": [
      "d:\\myenv\\Lib\\site-packages\\refinitiv\\data\\_tools\\_dataframe.py:177:FutureWarning: Downcasting object dtype arrays on .fillna, .ffill, .bfill is deprecated and will change in a future version. Call result.infer_objects(copy=False) instead. To opt-in to the future behavior, set `pd.set_option('future.no_silent_downcasting', True)`\n"
     ]
    },
    {
     "name": "stdout",
     "output_type": "stream",
     "text": [
      "✓ 1517 rows\n",
      "[115/411] Processing FMEG.DE... "
     ]
    },
    {
     "name": "stderr",
     "output_type": "stream",
     "text": [
      "d:\\myenv\\Lib\\site-packages\\refinitiv\\data\\_tools\\_dataframe.py:177:FutureWarning: Downcasting object dtype arrays on .fillna, .ffill, .bfill is deprecated and will change in a future version. Call result.infer_objects(copy=False) instead. To opt-in to the future behavior, set `pd.set_option('future.no_silent_downcasting', True)`\n"
     ]
    },
    {
     "name": "stdout",
     "output_type": "stream",
     "text": [
      "✗ Failed: 'TRDPRC_1'\n",
      "[116/411] Processing FNAC.PA... ✓ 1517 rows\n",
      "[117/411] Processing FORTUM.HE... "
     ]
    },
    {
     "name": "stderr",
     "output_type": "stream",
     "text": [
      "d:\\myenv\\Lib\\site-packages\\refinitiv\\data\\_tools\\_dataframe.py:177:FutureWarning: Downcasting object dtype arrays on .fillna, .ffill, .bfill is deprecated and will change in a future version. Call result.infer_objects(copy=False) instead. To opt-in to the future behavior, set `pd.set_option('future.no_silent_downcasting', True)`\n",
      "d:\\myenv\\Lib\\site-packages\\pandas\\core\\dtypes\\cast.py:1057:RuntimeWarning: invalid value encountered in cast\n",
      "d:\\myenv\\Lib\\site-packages\\pandas\\core\\dtypes\\cast.py:1081:RuntimeWarning: invalid value encountered in cast\n"
     ]
    },
    {
     "name": "stdout",
     "output_type": "stream",
     "text": [
      "✓ 1487 rows\n",
      "[118/411] Processing FOUG.PA... "
     ]
    },
    {
     "name": "stderr",
     "output_type": "stream",
     "text": [
      "d:\\myenv\\Lib\\site-packages\\refinitiv\\data\\_tools\\_dataframe.py:177:FutureWarning: Downcasting object dtype arrays on .fillna, .ffill, .bfill is deprecated and will change in a future version. Call result.infer_objects(copy=False) instead. To opt-in to the future behavior, set `pd.set_option('future.no_silent_downcasting', True)`\n",
      "d:\\myenv\\Lib\\site-packages\\pandas\\core\\dtypes\\cast.py:1057:RuntimeWarning: invalid value encountered in cast\n",
      "d:\\myenv\\Lib\\site-packages\\pandas\\core\\dtypes\\cast.py:1081:RuntimeWarning: invalid value encountered in cast\n"
     ]
    },
    {
     "name": "stdout",
     "output_type": "stream",
     "text": [
      "✓ 1517 rows\n",
      "[119/411] Processing FREG.DE... "
     ]
    },
    {
     "name": "stderr",
     "output_type": "stream",
     "text": [
      "d:\\myenv\\Lib\\site-packages\\refinitiv\\data\\_tools\\_dataframe.py:177:FutureWarning: Downcasting object dtype arrays on .fillna, .ffill, .bfill is deprecated and will change in a future version. Call result.infer_objects(copy=False) instead. To opt-in to the future behavior, set `pd.set_option('future.no_silent_downcasting', True)`\n"
     ]
    },
    {
     "name": "stdout",
     "output_type": "stream",
     "text": [
      "✗ Failed: 'TRDPRC_1'\n",
      "[120/411] Processing FRO.OL... ✗ Failed: 'TRDPRC_1'\n",
      "[121/411] Processing FRVIA.PA... "
     ]
    },
    {
     "name": "stderr",
     "output_type": "stream",
     "text": [
      "d:\\myenv\\Lib\\site-packages\\pandas\\core\\dtypes\\cast.py:1057:RuntimeWarning: invalid value encountered in cast\n",
      "d:\\myenv\\Lib\\site-packages\\pandas\\core\\dtypes\\cast.py:1081:RuntimeWarning: invalid value encountered in cast\n"
     ]
    },
    {
     "name": "stdout",
     "output_type": "stream",
     "text": [
      "✓ 1518 rows\n",
      "[122/411] Processing FTI.PA^B22... "
     ]
    },
    {
     "name": "stderr",
     "output_type": "stream",
     "text": [
      "d:\\myenv\\Lib\\site-packages\\refinitiv\\data\\_tools\\_dataframe.py:177:FutureWarning: Downcasting object dtype arrays on .fillna, .ffill, .bfill is deprecated and will change in a future version. Call result.infer_objects(copy=False) instead. To opt-in to the future behavior, set `pd.set_option('future.no_silent_downcasting', True)`\n",
      "d:\\myenv\\Lib\\site-packages\\pandas\\core\\dtypes\\cast.py:1057:RuntimeWarning: invalid value encountered in cast\n",
      "d:\\myenv\\Lib\\site-packages\\pandas\\core\\dtypes\\cast.py:1081:RuntimeWarning: invalid value encountered in cast\n"
     ]
    },
    {
     "name": "stdout",
     "output_type": "stream",
     "text": [
      "✓ 1517 rows\n",
      "[123/411] Processing FUGR.AS... "
     ]
    },
    {
     "name": "stderr",
     "output_type": "stream",
     "text": [
      "d:\\myenv\\Lib\\site-packages\\refinitiv\\data\\_tools\\_dataframe.py:177:FutureWarning: Downcasting object dtype arrays on .fillna, .ffill, .bfill is deprecated and will change in a future version. Call result.infer_objects(copy=False) instead. To opt-in to the future behavior, set `pd.set_option('future.no_silent_downcasting', True)`\n",
      "d:\\myenv\\Lib\\site-packages\\pandas\\core\\dtypes\\cast.py:1057:RuntimeWarning: invalid value encountered in cast\n",
      "d:\\myenv\\Lib\\site-packages\\pandas\\core\\dtypes\\cast.py:1081:RuntimeWarning: invalid value encountered in cast\n"
     ]
    },
    {
     "name": "stdout",
     "output_type": "stream",
     "text": [
      "✓ 1517 rows\n",
      "[124/411] Processing GBLB.BR... "
     ]
    },
    {
     "name": "stderr",
     "output_type": "stream",
     "text": [
      "d:\\myenv\\Lib\\site-packages\\refinitiv\\data\\_tools\\_dataframe.py:177:FutureWarning: Downcasting object dtype arrays on .fillna, .ffill, .bfill is deprecated and will change in a future version. Call result.infer_objects(copy=False) instead. To opt-in to the future behavior, set `pd.set_option('future.no_silent_downcasting', True)`\n",
      "d:\\myenv\\Lib\\site-packages\\pandas\\core\\dtypes\\cast.py:1057:RuntimeWarning: invalid value encountered in cast\n",
      "d:\\myenv\\Lib\\site-packages\\pandas\\core\\dtypes\\cast.py:1081:RuntimeWarning: invalid value encountered in cast\n"
     ]
    },
    {
     "name": "stdout",
     "output_type": "stream",
     "text": [
      "✓ 1517 rows\n",
      "[125/411] Processing GETIb.ST... "
     ]
    },
    {
     "name": "stderr",
     "output_type": "stream",
     "text": [
      "d:\\myenv\\Lib\\site-packages\\refinitiv\\data\\_tools\\_dataframe.py:177:FutureWarning: Downcasting object dtype arrays on .fillna, .ffill, .bfill is deprecated and will change in a future version. Call result.infer_objects(copy=False) instead. To opt-in to the future behavior, set `pd.set_option('future.no_silent_downcasting', True)`\n",
      "d:\\myenv\\Lib\\site-packages\\pandas\\core\\dtypes\\cast.py:1057:RuntimeWarning: invalid value encountered in cast\n",
      "d:\\myenv\\Lib\\site-packages\\pandas\\core\\dtypes\\cast.py:1081:RuntimeWarning: invalid value encountered in cast\n",
      "d:\\myenv\\Lib\\site-packages\\pandas\\core\\dtypes\\cast.py:1057:RuntimeWarning: invalid value encountered in cast\n",
      "d:\\myenv\\Lib\\site-packages\\pandas\\core\\dtypes\\cast.py:1081:RuntimeWarning: invalid value encountered in cast\n"
     ]
    },
    {
     "name": "stdout",
     "output_type": "stream",
     "text": [
      "✓ 1488 rows\n",
      "[126/411] Processing GETP.PA... "
     ]
    },
    {
     "name": "stderr",
     "output_type": "stream",
     "text": [
      "d:\\myenv\\Lib\\site-packages\\refinitiv\\data\\_tools\\_dataframe.py:177:FutureWarning: Downcasting object dtype arrays on .fillna, .ffill, .bfill is deprecated and will change in a future version. Call result.infer_objects(copy=False) instead. To opt-in to the future behavior, set `pd.set_option('future.no_silent_downcasting', True)`\n",
      "d:\\myenv\\Lib\\site-packages\\pandas\\core\\dtypes\\cast.py:1057:RuntimeWarning: invalid value encountered in cast\n",
      "d:\\myenv\\Lib\\site-packages\\pandas\\core\\dtypes\\cast.py:1081:RuntimeWarning: invalid value encountered in cast\n"
     ]
    },
    {
     "name": "stdout",
     "output_type": "stream",
     "text": [
      "✓ 1517 rows\n",
      "[127/411] Processing GFCP.PA... "
     ]
    },
    {
     "name": "stderr",
     "output_type": "stream",
     "text": [
      "d:\\myenv\\Lib\\site-packages\\refinitiv\\data\\_tools\\_dataframe.py:177:FutureWarning: Downcasting object dtype arrays on .fillna, .ffill, .bfill is deprecated and will change in a future version. Call result.infer_objects(copy=False) instead. To opt-in to the future behavior, set `pd.set_option('future.no_silent_downcasting', True)`\n",
      "d:\\myenv\\Lib\\site-packages\\pandas\\core\\dtypes\\cast.py:1057:RuntimeWarning: invalid value encountered in cast\n",
      "d:\\myenv\\Lib\\site-packages\\pandas\\core\\dtypes\\cast.py:1081:RuntimeWarning: invalid value encountered in cast\n"
     ]
    },
    {
     "name": "stdout",
     "output_type": "stream",
     "text": [
      "✓ 1517 rows\n",
      "[128/411] Processing GJFG.OL... "
     ]
    },
    {
     "name": "stderr",
     "output_type": "stream",
     "text": [
      "d:\\myenv\\Lib\\site-packages\\refinitiv\\data\\_tools\\_dataframe.py:177:FutureWarning: Downcasting object dtype arrays on .fillna, .ffill, .bfill is deprecated and will change in a future version. Call result.infer_objects(copy=False) instead. To opt-in to the future behavior, set `pd.set_option('future.no_silent_downcasting', True)`\n"
     ]
    },
    {
     "name": "stdout",
     "output_type": "stream",
     "text": [
      "✗ Failed: 'TRDPRC_1'\n",
      "[129/411] Processing GLPG.AS... "
     ]
    },
    {
     "name": "stderr",
     "output_type": "stream",
     "text": [
      "d:\\myenv\\Lib\\site-packages\\pandas\\core\\dtypes\\cast.py:1057:RuntimeWarning: invalid value encountered in cast\n",
      "d:\\myenv\\Lib\\site-packages\\pandas\\core\\dtypes\\cast.py:1081:RuntimeWarning: invalid value encountered in cast\n"
     ]
    },
    {
     "name": "stdout",
     "output_type": "stream",
     "text": [
      "✓ 1517 rows\n",
      "[130/411] Processing GMAB.CO... "
     ]
    },
    {
     "name": "stderr",
     "output_type": "stream",
     "text": [
      "d:\\myenv\\Lib\\site-packages\\refinitiv\\data\\_tools\\_dataframe.py:177:FutureWarning: Downcasting object dtype arrays on .fillna, .ffill, .bfill is deprecated and will change in a future version. Call result.infer_objects(copy=False) instead. To opt-in to the future behavior, set `pd.set_option('future.no_silent_downcasting', True)`\n",
      "d:\\myenv\\Lib\\site-packages\\pandas\\core\\dtypes\\cast.py:1057:RuntimeWarning: invalid value encountered in cast\n",
      "d:\\myenv\\Lib\\site-packages\\pandas\\core\\dtypes\\cast.py:1081:RuntimeWarning: invalid value encountered in cast\n"
     ]
    },
    {
     "name": "stdout",
     "output_type": "stream",
     "text": [
      "✓ 1481 rows\n",
      "[131/411] Processing GN.CO... "
     ]
    },
    {
     "name": "stderr",
     "output_type": "stream",
     "text": [
      "d:\\myenv\\Lib\\site-packages\\refinitiv\\data\\_tools\\_dataframe.py:177:FutureWarning: Downcasting object dtype arrays on .fillna, .ffill, .bfill is deprecated and will change in a future version. Call result.infer_objects(copy=False) instead. To opt-in to the future behavior, set `pd.set_option('future.no_silent_downcasting', True)`\n",
      "d:\\myenv\\Lib\\site-packages\\pandas\\core\\dtypes\\cast.py:1057:RuntimeWarning: invalid value encountered in cast\n",
      "d:\\myenv\\Lib\\site-packages\\pandas\\core\\dtypes\\cast.py:1081:RuntimeWarning: invalid value encountered in cast\n",
      "d:\\myenv\\Lib\\site-packages\\pandas\\core\\dtypes\\cast.py:1057:RuntimeWarning: invalid value encountered in cast\n",
      "d:\\myenv\\Lib\\site-packages\\pandas\\core\\dtypes\\cast.py:1081:RuntimeWarning: invalid value encountered in cast\n"
     ]
    },
    {
     "name": "stdout",
     "output_type": "stream",
     "text": [
      "✓ 1481 rows\n",
      "[132/411] Processing GNFT.PA... "
     ]
    },
    {
     "name": "stderr",
     "output_type": "stream",
     "text": [
      "d:\\myenv\\Lib\\site-packages\\refinitiv\\data\\_tools\\_dataframe.py:177:FutureWarning: Downcasting object dtype arrays on .fillna, .ffill, .bfill is deprecated and will change in a future version. Call result.infer_objects(copy=False) instead. To opt-in to the future behavior, set `pd.set_option('future.no_silent_downcasting', True)`\n"
     ]
    },
    {
     "name": "stdout",
     "output_type": "stream",
     "text": [
      "✓ 1517 rows\n",
      "[133/411] Processing GOGL.OL^H25... "
     ]
    },
    {
     "name": "stderr",
     "output_type": "stream",
     "text": [
      "d:\\myenv\\Lib\\site-packages\\refinitiv\\data\\_tools\\_dataframe.py:177:FutureWarning: Downcasting object dtype arrays on .fillna, .ffill, .bfill is deprecated and will change in a future version. Call result.infer_objects(copy=False) instead. To opt-in to the future behavior, set `pd.set_option('future.no_silent_downcasting', True)`\n"
     ]
    },
    {
     "name": "stdout",
     "output_type": "stream",
     "text": [
      "✗ Failed: 'TRDPRC_1'\n",
      "[134/411] Processing GTT.PA... "
     ]
    },
    {
     "name": "stderr",
     "output_type": "stream",
     "text": [
      "d:\\myenv\\Lib\\site-packages\\pandas\\core\\dtypes\\cast.py:1057:RuntimeWarning: invalid value encountered in cast\n",
      "d:\\myenv\\Lib\\site-packages\\pandas\\core\\dtypes\\cast.py:1081:RuntimeWarning: invalid value encountered in cast\n"
     ]
    },
    {
     "name": "stdout",
     "output_type": "stream",
     "text": [
      "✓ 1517 rows\n",
      "[135/411] Processing GVNV.AS^A22... "
     ]
    },
    {
     "name": "stderr",
     "output_type": "stream",
     "text": [
      "d:\\myenv\\Lib\\site-packages\\refinitiv\\data\\_tools\\_dataframe.py:177:FutureWarning: Downcasting object dtype arrays on .fillna, .ffill, .bfill is deprecated and will change in a future version. Call result.infer_objects(copy=False) instead. To opt-in to the future behavior, set `pd.set_option('future.no_silent_downcasting', True)`\n",
      "d:\\myenv\\Lib\\site-packages\\pandas\\core\\dtypes\\cast.py:1057:RuntimeWarning: invalid value encountered in cast\n",
      "d:\\myenv\\Lib\\site-packages\\pandas\\core\\dtypes\\cast.py:1081:RuntimeWarning: invalid value encountered in cast\n"
     ]
    },
    {
     "name": "stdout",
     "output_type": "stream",
     "text": [
      "✓ 1518 rows\n",
      "[136/411] Processing HEIG.DE... "
     ]
    },
    {
     "name": "stderr",
     "output_type": "stream",
     "text": [
      "d:\\myenv\\Lib\\site-packages\\refinitiv\\data\\_tools\\_dataframe.py:177:FutureWarning: Downcasting object dtype arrays on .fillna, .ffill, .bfill is deprecated and will change in a future version. Call result.infer_objects(copy=False) instead. To opt-in to the future behavior, set `pd.set_option('future.no_silent_downcasting', True)`\n"
     ]
    },
    {
     "name": "stdout",
     "output_type": "stream",
     "text": [
      "✗ Failed: 'TRDPRC_1'\n",
      "[137/411] Processing HEIN.AS... "
     ]
    },
    {
     "name": "stderr",
     "output_type": "stream",
     "text": [
      "d:\\myenv\\Lib\\site-packages\\pandas\\core\\dtypes\\cast.py:1057:RuntimeWarning: invalid value encountered in cast\n",
      "d:\\myenv\\Lib\\site-packages\\pandas\\core\\dtypes\\cast.py:1081:RuntimeWarning: invalid value encountered in cast\n"
     ]
    },
    {
     "name": "stdout",
     "output_type": "stream",
     "text": [
      "✓ 1517 rows\n",
      "[138/411] Processing HEXAb.ST... "
     ]
    },
    {
     "name": "stderr",
     "output_type": "stream",
     "text": [
      "d:\\myenv\\Lib\\site-packages\\refinitiv\\data\\_tools\\_dataframe.py:177:FutureWarning: Downcasting object dtype arrays on .fillna, .ffill, .bfill is deprecated and will change in a future version. Call result.infer_objects(copy=False) instead. To opt-in to the future behavior, set `pd.set_option('future.no_silent_downcasting', True)`\n",
      "d:\\myenv\\Lib\\site-packages\\pandas\\core\\dtypes\\cast.py:1057:RuntimeWarning: invalid value encountered in cast\n",
      "d:\\myenv\\Lib\\site-packages\\pandas\\core\\dtypes\\cast.py:1081:RuntimeWarning: invalid value encountered in cast\n",
      "d:\\myenv\\Lib\\site-packages\\pandas\\core\\dtypes\\cast.py:1057:RuntimeWarning: invalid value encountered in cast\n",
      "d:\\myenv\\Lib\\site-packages\\pandas\\core\\dtypes\\cast.py:1081:RuntimeWarning: invalid value encountered in cast\n"
     ]
    },
    {
     "name": "stdout",
     "output_type": "stream",
     "text": [
      "✓ 1488 rows\n",
      "[139/411] Processing HIAB.HE... "
     ]
    },
    {
     "name": "stderr",
     "output_type": "stream",
     "text": [
      "d:\\myenv\\Lib\\site-packages\\refinitiv\\data\\_tools\\_dataframe.py:177:FutureWarning: Downcasting object dtype arrays on .fillna, .ffill, .bfill is deprecated and will change in a future version. Call result.infer_objects(copy=False) instead. To opt-in to the future behavior, set `pd.set_option('future.no_silent_downcasting', True)`\n",
      "d:\\myenv\\Lib\\site-packages\\pandas\\core\\dtypes\\cast.py:1057:RuntimeWarning: invalid value encountered in cast\n",
      "d:\\myenv\\Lib\\site-packages\\pandas\\core\\dtypes\\cast.py:1081:RuntimeWarning: invalid value encountered in cast\n"
     ]
    },
    {
     "name": "stdout",
     "output_type": "stream",
     "text": [
      "✓ 1487 rows\n",
      "[140/411] Processing HMb.ST... "
     ]
    },
    {
     "name": "stderr",
     "output_type": "stream",
     "text": [
      "d:\\myenv\\Lib\\site-packages\\refinitiv\\data\\_tools\\_dataframe.py:177:FutureWarning: Downcasting object dtype arrays on .fillna, .ffill, .bfill is deprecated and will change in a future version. Call result.infer_objects(copy=False) instead. To opt-in to the future behavior, set `pd.set_option('future.no_silent_downcasting', True)`\n",
      "d:\\myenv\\Lib\\site-packages\\pandas\\core\\dtypes\\cast.py:1057:RuntimeWarning: invalid value encountered in cast\n",
      "d:\\myenv\\Lib\\site-packages\\pandas\\core\\dtypes\\cast.py:1081:RuntimeWarning: invalid value encountered in cast\n",
      "d:\\myenv\\Lib\\site-packages\\pandas\\core\\dtypes\\cast.py:1057:RuntimeWarning: invalid value encountered in cast\n",
      "d:\\myenv\\Lib\\site-packages\\pandas\\core\\dtypes\\cast.py:1081:RuntimeWarning: invalid value encountered in cast\n"
     ]
    },
    {
     "name": "stdout",
     "output_type": "stream",
     "text": [
      "✓ 1488 rows\n",
      "[141/411] Processing HNKG_p.DE... "
     ]
    },
    {
     "name": "stderr",
     "output_type": "stream",
     "text": [
      "d:\\myenv\\Lib\\site-packages\\refinitiv\\data\\_tools\\_dataframe.py:177:FutureWarning: Downcasting object dtype arrays on .fillna, .ffill, .bfill is deprecated and will change in a future version. Call result.infer_objects(copy=False) instead. To opt-in to the future behavior, set `pd.set_option('future.no_silent_downcasting', True)`\n"
     ]
    },
    {
     "name": "stdout",
     "output_type": "stream",
     "text": [
      "✗ Failed: 'TRDPRC_1'\n",
      "[142/411] Processing HRMS.PA... "
     ]
    },
    {
     "name": "stderr",
     "output_type": "stream",
     "text": [
      "d:\\myenv\\Lib\\site-packages\\pandas\\core\\dtypes\\cast.py:1057:RuntimeWarning: invalid value encountered in cast\n",
      "d:\\myenv\\Lib\\site-packages\\pandas\\core\\dtypes\\cast.py:1081:RuntimeWarning: invalid value encountered in cast\n"
     ]
    },
    {
     "name": "stdout",
     "output_type": "stream",
     "text": [
      "✓ 1517 rows\n",
      "[143/411] Processing HUH1V.HE... "
     ]
    },
    {
     "name": "stderr",
     "output_type": "stream",
     "text": [
      "d:\\myenv\\Lib\\site-packages\\refinitiv\\data\\_tools\\_dataframe.py:177:FutureWarning: Downcasting object dtype arrays on .fillna, .ffill, .bfill is deprecated and will change in a future version. Call result.infer_objects(copy=False) instead. To opt-in to the future behavior, set `pd.set_option('future.no_silent_downcasting', True)`\n",
      "d:\\myenv\\Lib\\site-packages\\pandas\\core\\dtypes\\cast.py:1057:RuntimeWarning: invalid value encountered in cast\n",
      "d:\\myenv\\Lib\\site-packages\\pandas\\core\\dtypes\\cast.py:1081:RuntimeWarning: invalid value encountered in cast\n"
     ]
    },
    {
     "name": "stdout",
     "output_type": "stream",
     "text": [
      "✓ 1487 rows\n",
      "[144/411] Processing ICAD.PA... "
     ]
    },
    {
     "name": "stderr",
     "output_type": "stream",
     "text": [
      "d:\\myenv\\Lib\\site-packages\\refinitiv\\data\\_tools\\_dataframe.py:177:FutureWarning: Downcasting object dtype arrays on .fillna, .ffill, .bfill is deprecated and will change in a future version. Call result.infer_objects(copy=False) instead. To opt-in to the future behavior, set `pd.set_option('future.no_silent_downcasting', True)`\n",
      "d:\\myenv\\Lib\\site-packages\\pandas\\core\\dtypes\\cast.py:1057:RuntimeWarning: invalid value encountered in cast\n",
      "d:\\myenv\\Lib\\site-packages\\pandas\\core\\dtypes\\cast.py:1081:RuntimeWarning: invalid value encountered in cast\n"
     ]
    },
    {
     "name": "stdout",
     "output_type": "stream",
     "text": [
      "✓ 1517 rows\n",
      "[145/411] Processing IFXGn.DE... "
     ]
    },
    {
     "name": "stderr",
     "output_type": "stream",
     "text": [
      "d:\\myenv\\Lib\\site-packages\\refinitiv\\data\\_tools\\_dataframe.py:177:FutureWarning: Downcasting object dtype arrays on .fillna, .ffill, .bfill is deprecated and will change in a future version. Call result.infer_objects(copy=False) instead. To opt-in to the future behavior, set `pd.set_option('future.no_silent_downcasting', True)`\n"
     ]
    },
    {
     "name": "stdout",
     "output_type": "stream",
     "text": [
      "✗ Failed: 'TRDPRC_1'\n",
      "[146/411] Processing ILD.PA^J21... "
     ]
    },
    {
     "name": "stderr",
     "output_type": "stream",
     "text": [
      "d:\\myenv\\Lib\\site-packages\\pandas\\core\\dtypes\\cast.py:1057:RuntimeWarning: invalid value encountered in cast\n",
      "d:\\myenv\\Lib\\site-packages\\pandas\\core\\dtypes\\cast.py:1081:RuntimeWarning: invalid value encountered in cast\n"
     ]
    },
    {
     "name": "stdout",
     "output_type": "stream",
     "text": [
      "✓ 1528 rows\n",
      "[147/411] Processing IMCD.AS... "
     ]
    },
    {
     "name": "stderr",
     "output_type": "stream",
     "text": [
      "d:\\myenv\\Lib\\site-packages\\refinitiv\\data\\_tools\\_dataframe.py:177:FutureWarning: Downcasting object dtype arrays on .fillna, .ffill, .bfill is deprecated and will change in a future version. Call result.infer_objects(copy=False) instead. To opt-in to the future behavior, set `pd.set_option('future.no_silent_downcasting', True)`\n",
      "d:\\myenv\\Lib\\site-packages\\pandas\\core\\dtypes\\cast.py:1057:RuntimeWarning: invalid value encountered in cast\n",
      "d:\\myenv\\Lib\\site-packages\\pandas\\core\\dtypes\\cast.py:1081:RuntimeWarning: invalid value encountered in cast\n"
     ]
    },
    {
     "name": "stdout",
     "output_type": "stream",
     "text": [
      "✓ 1517 rows\n",
      "[148/411] Processing IMTP.PA... "
     ]
    },
    {
     "name": "stderr",
     "output_type": "stream",
     "text": [
      "d:\\myenv\\Lib\\site-packages\\refinitiv\\data\\_tools\\_dataframe.py:177:FutureWarning: Downcasting object dtype arrays on .fillna, .ffill, .bfill is deprecated and will change in a future version. Call result.infer_objects(copy=False) instead. To opt-in to the future behavior, set `pd.set_option('future.no_silent_downcasting', True)`\n",
      "d:\\myenv\\Lib\\site-packages\\pandas\\core\\dtypes\\cast.py:1057:RuntimeWarning: invalid value encountered in cast\n",
      "d:\\myenv\\Lib\\site-packages\\pandas\\core\\dtypes\\cast.py:1081:RuntimeWarning: invalid value encountered in cast\n"
     ]
    },
    {
     "name": "stdout",
     "output_type": "stream",
     "text": [
      "✓ 1517 rows\n",
      "[149/411] Processing INGA.AS... "
     ]
    },
    {
     "name": "stderr",
     "output_type": "stream",
     "text": [
      "d:\\myenv\\Lib\\site-packages\\refinitiv\\data\\_tools\\_dataframe.py:177:FutureWarning: Downcasting object dtype arrays on .fillna, .ffill, .bfill is deprecated and will change in a future version. Call result.infer_objects(copy=False) instead. To opt-in to the future behavior, set `pd.set_option('future.no_silent_downcasting', True)`\n",
      "d:\\myenv\\Lib\\site-packages\\pandas\\core\\dtypes\\cast.py:1057:RuntimeWarning: invalid value encountered in cast\n",
      "d:\\myenv\\Lib\\site-packages\\pandas\\core\\dtypes\\cast.py:1081:RuntimeWarning: invalid value encountered in cast\n"
     ]
    },
    {
     "name": "stdout",
     "output_type": "stream",
     "text": [
      "✓ 1517 rows\n",
      "[150/411] Processing INGC.PA^K20... "
     ]
    },
    {
     "name": "stderr",
     "output_type": "stream",
     "text": [
      "d:\\myenv\\Lib\\site-packages\\refinitiv\\data\\_tools\\_dataframe.py:177:FutureWarning: Downcasting object dtype arrays on .fillna, .ffill, .bfill is deprecated and will change in a future version. Call result.infer_objects(copy=False) instead. To opt-in to the future behavior, set `pd.set_option('future.no_silent_downcasting', True)`\n",
      "d:\\myenv\\Lib\\site-packages\\pandas\\core\\dtypes\\cast.py:1057:RuntimeWarning: invalid value encountered in cast\n",
      "d:\\myenv\\Lib\\site-packages\\pandas\\core\\dtypes\\cast.py:1081:RuntimeWarning: invalid value encountered in cast\n"
     ]
    },
    {
     "name": "stdout",
     "output_type": "stream",
     "text": [
      "✓ 1525 rows\n",
      "[151/411] Processing INTER.AS^L22... "
     ]
    },
    {
     "name": "stderr",
     "output_type": "stream",
     "text": [
      "d:\\myenv\\Lib\\site-packages\\refinitiv\\data\\_tools\\_dataframe.py:177:FutureWarning: Downcasting object dtype arrays on .fillna, .ffill, .bfill is deprecated and will change in a future version. Call result.infer_objects(copy=False) instead. To opt-in to the future behavior, set `pd.set_option('future.no_silent_downcasting', True)`\n"
     ]
    },
    {
     "name": "stdout",
     "output_type": "stream",
     "text": [
      "✓ 1517 rows\n",
      "[152/411] Processing INVEb.ST... "
     ]
    },
    {
     "name": "stderr",
     "output_type": "stream",
     "text": [
      "d:\\myenv\\Lib\\site-packages\\refinitiv\\data\\_tools\\_dataframe.py:177:FutureWarning: Downcasting object dtype arrays on .fillna, .ffill, .bfill is deprecated and will change in a future version. Call result.infer_objects(copy=False) instead. To opt-in to the future behavior, set `pd.set_option('future.no_silent_downcasting', True)`\n",
      "d:\\myenv\\Lib\\site-packages\\pandas\\core\\dtypes\\cast.py:1057:RuntimeWarning: invalid value encountered in cast\n",
      "d:\\myenv\\Lib\\site-packages\\pandas\\core\\dtypes\\cast.py:1081:RuntimeWarning: invalid value encountered in cast\n",
      "d:\\myenv\\Lib\\site-packages\\pandas\\core\\dtypes\\cast.py:1057:RuntimeWarning: invalid value encountered in cast\n",
      "d:\\myenv\\Lib\\site-packages\\pandas\\core\\dtypes\\cast.py:1081:RuntimeWarning: invalid value encountered in cast\n"
     ]
    },
    {
     "name": "stdout",
     "output_type": "stream",
     "text": [
      "✓ 1488 rows\n",
      "[153/411] Processing IPN.PA... "
     ]
    },
    {
     "name": "stderr",
     "output_type": "stream",
     "text": [
      "d:\\myenv\\Lib\\site-packages\\refinitiv\\data\\_tools\\_dataframe.py:177:FutureWarning: Downcasting object dtype arrays on .fillna, .ffill, .bfill is deprecated and will change in a future version. Call result.infer_objects(copy=False) instead. To opt-in to the future behavior, set `pd.set_option('future.no_silent_downcasting', True)`\n",
      "d:\\myenv\\Lib\\site-packages\\pandas\\core\\dtypes\\cast.py:1057:RuntimeWarning: invalid value encountered in cast\n",
      "d:\\myenv\\Lib\\site-packages\\pandas\\core\\dtypes\\cast.py:1081:RuntimeWarning: invalid value encountered in cast\n"
     ]
    },
    {
     "name": "stdout",
     "output_type": "stream",
     "text": [
      "✓ 1517 rows\n",
      "[154/411] Processing ISOS.PA... "
     ]
    },
    {
     "name": "stderr",
     "output_type": "stream",
     "text": [
      "d:\\myenv\\Lib\\site-packages\\refinitiv\\data\\_tools\\_dataframe.py:177:FutureWarning: Downcasting object dtype arrays on .fillna, .ffill, .bfill is deprecated and will change in a future version. Call result.infer_objects(copy=False) instead. To opt-in to the future behavior, set `pd.set_option('future.no_silent_downcasting', True)`\n",
      "d:\\myenv\\Lib\\site-packages\\pandas\\core\\dtypes\\cast.py:1057:RuntimeWarning: invalid value encountered in cast\n",
      "d:\\myenv\\Lib\\site-packages\\pandas\\core\\dtypes\\cast.py:1081:RuntimeWarning: invalid value encountered in cast\n"
     ]
    },
    {
     "name": "stdout",
     "output_type": "stream",
     "text": [
      "✓ 1517 rows\n",
      "[155/411] Processing ISS.CO... "
     ]
    },
    {
     "name": "stderr",
     "output_type": "stream",
     "text": [
      "d:\\myenv\\Lib\\site-packages\\refinitiv\\data\\_tools\\_dataframe.py:177:FutureWarning: Downcasting object dtype arrays on .fillna, .ffill, .bfill is deprecated and will change in a future version. Call result.infer_objects(copy=False) instead. To opt-in to the future behavior, set `pd.set_option('future.no_silent_downcasting', True)`\n",
      "d:\\myenv\\Lib\\site-packages\\pandas\\core\\dtypes\\cast.py:1057:RuntimeWarning: invalid value encountered in cast\n",
      "d:\\myenv\\Lib\\site-packages\\pandas\\core\\dtypes\\cast.py:1081:RuntimeWarning: invalid value encountered in cast\n"
     ]
    },
    {
     "name": "stdout",
     "output_type": "stream",
     "text": [
      "✓ 1481 rows\n",
      "[156/411] Processing JCDX.PA... "
     ]
    },
    {
     "name": "stderr",
     "output_type": "stream",
     "text": [
      "d:\\myenv\\Lib\\site-packages\\refinitiv\\data\\_tools\\_dataframe.py:177:FutureWarning: Downcasting object dtype arrays on .fillna, .ffill, .bfill is deprecated and will change in a future version. Call result.infer_objects(copy=False) instead. To opt-in to the future behavior, set `pd.set_option('future.no_silent_downcasting', True)`\n",
      "d:\\myenv\\Lib\\site-packages\\pandas\\core\\dtypes\\cast.py:1057:RuntimeWarning: invalid value encountered in cast\n",
      "d:\\myenv\\Lib\\site-packages\\pandas\\core\\dtypes\\cast.py:1081:RuntimeWarning: invalid value encountered in cast\n"
     ]
    },
    {
     "name": "stdout",
     "output_type": "stream",
     "text": [
      "✓ 1517 rows\n",
      "[157/411] Processing KBC.BR... "
     ]
    },
    {
     "name": "stderr",
     "output_type": "stream",
     "text": [
      "d:\\myenv\\Lib\\site-packages\\refinitiv\\data\\_tools\\_dataframe.py:177:FutureWarning: Downcasting object dtype arrays on .fillna, .ffill, .bfill is deprecated and will change in a future version. Call result.infer_objects(copy=False) instead. To opt-in to the future behavior, set `pd.set_option('future.no_silent_downcasting', True)`\n",
      "d:\\myenv\\Lib\\site-packages\\pandas\\core\\dtypes\\cast.py:1057:RuntimeWarning: invalid value encountered in cast\n",
      "d:\\myenv\\Lib\\site-packages\\pandas\\core\\dtypes\\cast.py:1081:RuntimeWarning: invalid value encountered in cast\n"
     ]
    },
    {
     "name": "stdout",
     "output_type": "stream",
     "text": [
      "✓ 1517 rows\n",
      "[158/411] Processing KCRA.HE... "
     ]
    },
    {
     "name": "stderr",
     "output_type": "stream",
     "text": [
      "d:\\myenv\\Lib\\site-packages\\refinitiv\\data\\_tools\\_dataframe.py:177:FutureWarning: Downcasting object dtype arrays on .fillna, .ffill, .bfill is deprecated and will change in a future version. Call result.infer_objects(copy=False) instead. To opt-in to the future behavior, set `pd.set_option('future.no_silent_downcasting', True)`\n",
      "d:\\myenv\\Lib\\site-packages\\pandas\\core\\dtypes\\cast.py:1057:RuntimeWarning: invalid value encountered in cast\n",
      "d:\\myenv\\Lib\\site-packages\\pandas\\core\\dtypes\\cast.py:1081:RuntimeWarning: invalid value encountered in cast\n"
     ]
    },
    {
     "name": "stdout",
     "output_type": "stream",
     "text": [
      "✓ 1487 rows\n",
      "[159/411] Processing KEMIRA.HE... "
     ]
    },
    {
     "name": "stderr",
     "output_type": "stream",
     "text": [
      "d:\\myenv\\Lib\\site-packages\\refinitiv\\data\\_tools\\_dataframe.py:177:FutureWarning: Downcasting object dtype arrays on .fillna, .ffill, .bfill is deprecated and will change in a future version. Call result.infer_objects(copy=False) instead. To opt-in to the future behavior, set `pd.set_option('future.no_silent_downcasting', True)`\n",
      "d:\\myenv\\Lib\\site-packages\\pandas\\core\\dtypes\\cast.py:1057:RuntimeWarning: invalid value encountered in cast\n",
      "d:\\myenv\\Lib\\site-packages\\pandas\\core\\dtypes\\cast.py:1081:RuntimeWarning: invalid value encountered in cast\n"
     ]
    },
    {
     "name": "stdout",
     "output_type": "stream",
     "text": [
      "✓ 1487 rows\n",
      "[160/411] Processing KESKOB.HE... "
     ]
    },
    {
     "name": "stderr",
     "output_type": "stream",
     "text": [
      "d:\\myenv\\Lib\\site-packages\\refinitiv\\data\\_tools\\_dataframe.py:177:FutureWarning: Downcasting object dtype arrays on .fillna, .ffill, .bfill is deprecated and will change in a future version. Call result.infer_objects(copy=False) instead. To opt-in to the future behavior, set `pd.set_option('future.no_silent_downcasting', True)`\n",
      "d:\\myenv\\Lib\\site-packages\\pandas\\core\\dtypes\\cast.py:1057:RuntimeWarning: invalid value encountered in cast\n",
      "d:\\myenv\\Lib\\site-packages\\pandas\\core\\dtypes\\cast.py:1081:RuntimeWarning: invalid value encountered in cast\n"
     ]
    },
    {
     "name": "stdout",
     "output_type": "stream",
     "text": [
      "✓ 1487 rows\n",
      "[161/411] Processing KINVb.ST... "
     ]
    },
    {
     "name": "stderr",
     "output_type": "stream",
     "text": [
      "d:\\myenv\\Lib\\site-packages\\refinitiv\\data\\_tools\\_dataframe.py:177:FutureWarning: Downcasting object dtype arrays on .fillna, .ffill, .bfill is deprecated and will change in a future version. Call result.infer_objects(copy=False) instead. To opt-in to the future behavior, set `pd.set_option('future.no_silent_downcasting', True)`\n",
      "d:\\myenv\\Lib\\site-packages\\pandas\\core\\dtypes\\cast.py:1057:RuntimeWarning: invalid value encountered in cast\n",
      "d:\\myenv\\Lib\\site-packages\\pandas\\core\\dtypes\\cast.py:1081:RuntimeWarning: invalid value encountered in cast\n",
      "d:\\myenv\\Lib\\site-packages\\pandas\\core\\dtypes\\cast.py:1057:RuntimeWarning: invalid value encountered in cast\n",
      "d:\\myenv\\Lib\\site-packages\\pandas\\core\\dtypes\\cast.py:1081:RuntimeWarning: invalid value encountered in cast\n"
     ]
    },
    {
     "name": "stdout",
     "output_type": "stream",
     "text": [
      "✓ 1488 rows\n",
      "[162/411] Processing KNEBV.HE... "
     ]
    },
    {
     "name": "stderr",
     "output_type": "stream",
     "text": [
      "d:\\myenv\\Lib\\site-packages\\refinitiv\\data\\_tools\\_dataframe.py:177:FutureWarning: Downcasting object dtype arrays on .fillna, .ffill, .bfill is deprecated and will change in a future version. Call result.infer_objects(copy=False) instead. To opt-in to the future behavior, set `pd.set_option('future.no_silent_downcasting', True)`\n",
      "d:\\myenv\\Lib\\site-packages\\pandas\\core\\dtypes\\cast.py:1057:RuntimeWarning: invalid value encountered in cast\n",
      "d:\\myenv\\Lib\\site-packages\\pandas\\core\\dtypes\\cast.py:1081:RuntimeWarning: invalid value encountered in cast\n"
     ]
    },
    {
     "name": "stdout",
     "output_type": "stream",
     "text": [
      "✓ 1487 rows\n",
      "[163/411] Processing KPN.AS... "
     ]
    },
    {
     "name": "stderr",
     "output_type": "stream",
     "text": [
      "d:\\myenv\\Lib\\site-packages\\refinitiv\\data\\_tools\\_dataframe.py:177:FutureWarning: Downcasting object dtype arrays on .fillna, .ffill, .bfill is deprecated and will change in a future version. Call result.infer_objects(copy=False) instead. To opt-in to the future behavior, set `pd.set_option('future.no_silent_downcasting', True)`\n",
      "d:\\myenv\\Lib\\site-packages\\pandas\\core\\dtypes\\cast.py:1057:RuntimeWarning: invalid value encountered in cast\n",
      "d:\\myenv\\Lib\\site-packages\\pandas\\core\\dtypes\\cast.py:1081:RuntimeWarning: invalid value encountered in cast\n"
     ]
    },
    {
     "name": "stdout",
     "output_type": "stream",
     "text": [
      "✓ 1517 rows\n",
      "[164/411] Processing LAGA.PA... "
     ]
    },
    {
     "name": "stderr",
     "output_type": "stream",
     "text": [
      "d:\\myenv\\Lib\\site-packages\\refinitiv\\data\\_tools\\_dataframe.py:177:FutureWarning: Downcasting object dtype arrays on .fillna, .ffill, .bfill is deprecated and will change in a future version. Call result.infer_objects(copy=False) instead. To opt-in to the future behavior, set `pd.set_option('future.no_silent_downcasting', True)`\n",
      "d:\\myenv\\Lib\\site-packages\\pandas\\core\\dtypes\\cast.py:1057:RuntimeWarning: invalid value encountered in cast\n",
      "d:\\myenv\\Lib\\site-packages\\pandas\\core\\dtypes\\cast.py:1081:RuntimeWarning: invalid value encountered in cast\n"
     ]
    },
    {
     "name": "stdout",
     "output_type": "stream",
     "text": [
      "✓ 1517 rows\n",
      "[165/411] Processing LEGD.PA... "
     ]
    },
    {
     "name": "stderr",
     "output_type": "stream",
     "text": [
      "d:\\myenv\\Lib\\site-packages\\refinitiv\\data\\_tools\\_dataframe.py:177:FutureWarning: Downcasting object dtype arrays on .fillna, .ffill, .bfill is deprecated and will change in a future version. Call result.infer_objects(copy=False) instead. To opt-in to the future behavior, set `pd.set_option('future.no_silent_downcasting', True)`\n",
      "d:\\myenv\\Lib\\site-packages\\pandas\\core\\dtypes\\cast.py:1057:RuntimeWarning: invalid value encountered in cast\n",
      "d:\\myenv\\Lib\\site-packages\\pandas\\core\\dtypes\\cast.py:1081:RuntimeWarning: invalid value encountered in cast\n"
     ]
    },
    {
     "name": "stdout",
     "output_type": "stream",
     "text": [
      "✓ 1517 rows\n",
      "[166/411] Processing LHAG.DE... "
     ]
    },
    {
     "name": "stderr",
     "output_type": "stream",
     "text": [
      "d:\\myenv\\Lib\\site-packages\\refinitiv\\data\\_tools\\_dataframe.py:177:FutureWarning: Downcasting object dtype arrays on .fillna, .ffill, .bfill is deprecated and will change in a future version. Call result.infer_objects(copy=False) instead. To opt-in to the future behavior, set `pd.set_option('future.no_silent_downcasting', True)`\n"
     ]
    },
    {
     "name": "stdout",
     "output_type": "stream",
     "text": [
      "✗ Failed: 'TRDPRC_1'\n",
      "[167/411] Processing LIGHT.AS... "
     ]
    },
    {
     "name": "stderr",
     "output_type": "stream",
     "text": [
      "d:\\myenv\\Lib\\site-packages\\pandas\\core\\dtypes\\cast.py:1057:RuntimeWarning: invalid value encountered in cast\n",
      "d:\\myenv\\Lib\\site-packages\\pandas\\core\\dtypes\\cast.py:1081:RuntimeWarning: invalid value encountered in cast\n"
     ]
    },
    {
     "name": "stdout",
     "output_type": "stream",
     "text": [
      "✓ 1517 rows\n",
      "[168/411] Processing LIN.DE... "
     ]
    },
    {
     "name": "stderr",
     "output_type": "stream",
     "text": [
      "d:\\myenv\\Lib\\site-packages\\refinitiv\\data\\_tools\\_dataframe.py:177:FutureWarning: Downcasting object dtype arrays on .fillna, .ffill, .bfill is deprecated and will change in a future version. Call result.infer_objects(copy=False) instead. To opt-in to the future behavior, set `pd.set_option('future.no_silent_downcasting', True)`\n",
      "d:\\myenv\\Lib\\site-packages\\pandas\\core\\dtypes\\cast.py:1057:RuntimeWarning: invalid value encountered in cast\n",
      "d:\\myenv\\Lib\\site-packages\\pandas\\core\\dtypes\\cast.py:1081:RuntimeWarning: invalid value encountered in cast\n"
     ]
    },
    {
     "name": "stdout",
     "output_type": "stream",
     "text": [
      "✗ Failed: 'TRDPRC_1'\n",
      "[169/411] Processing LOIM.PA... "
     ]
    },
    {
     "name": "stderr",
     "output_type": "stream",
     "text": [
      "d:\\myenv\\Lib\\site-packages\\pandas\\core\\dtypes\\cast.py:1057:RuntimeWarning: invalid value encountered in cast\n",
      "d:\\myenv\\Lib\\site-packages\\pandas\\core\\dtypes\\cast.py:1081:RuntimeWarning: invalid value encountered in cast\n"
     ]
    },
    {
     "name": "stdout",
     "output_type": "stream",
     "text": [
      "✓ 1517 rows\n",
      "[170/411] Processing LSG.OL... "
     ]
    },
    {
     "name": "stderr",
     "output_type": "stream",
     "text": [
      "d:\\myenv\\Lib\\site-packages\\refinitiv\\data\\_tools\\_dataframe.py:177:FutureWarning: Downcasting object dtype arrays on .fillna, .ffill, .bfill is deprecated and will change in a future version. Call result.infer_objects(copy=False) instead. To opt-in to the future behavior, set `pd.set_option('future.no_silent_downcasting', True)`\n"
     ]
    },
    {
     "name": "stdout",
     "output_type": "stream",
     "text": [
      "✗ Failed: 'TRDPRC_1'\n",
      "[171/411] Processing LTEN.PA... "
     ]
    },
    {
     "name": "stderr",
     "output_type": "stream",
     "text": [
      "d:\\myenv\\Lib\\site-packages\\pandas\\core\\dtypes\\cast.py:1057:RuntimeWarning: invalid value encountered in cast\n",
      "d:\\myenv\\Lib\\site-packages\\pandas\\core\\dtypes\\cast.py:1081:RuntimeWarning: invalid value encountered in cast\n"
     ]
    },
    {
     "name": "stdout",
     "output_type": "stream",
     "text": [
      "✓ 1517 rows\n",
      "[172/411] Processing LUN.CO^F22... "
     ]
    },
    {
     "name": "stderr",
     "output_type": "stream",
     "text": [
      "d:\\myenv\\Lib\\site-packages\\refinitiv\\data\\_tools\\_dataframe.py:177:FutureWarning: Downcasting object dtype arrays on .fillna, .ffill, .bfill is deprecated and will change in a future version. Call result.infer_objects(copy=False) instead. To opt-in to the future behavior, set `pd.set_option('future.no_silent_downcasting', True)`\n",
      "d:\\myenv\\Lib\\site-packages\\pandas\\core\\dtypes\\cast.py:1057:RuntimeWarning: invalid value encountered in cast\n",
      "d:\\myenv\\Lib\\site-packages\\pandas\\core\\dtypes\\cast.py:1081:RuntimeWarning: invalid value encountered in cast\n"
     ]
    },
    {
     "name": "stdout",
     "output_type": "stream",
     "text": [
      "✓ 1481 rows\n",
      "[173/411] Processing LVMH.PA... "
     ]
    },
    {
     "name": "stderr",
     "output_type": "stream",
     "text": [
      "d:\\myenv\\Lib\\site-packages\\refinitiv\\data\\_tools\\_dataframe.py:177:FutureWarning: Downcasting object dtype arrays on .fillna, .ffill, .bfill is deprecated and will change in a future version. Call result.infer_objects(copy=False) instead. To opt-in to the future behavior, set `pd.set_option('future.no_silent_downcasting', True)`\n",
      "d:\\myenv\\Lib\\site-packages\\pandas\\core\\dtypes\\cast.py:1057:RuntimeWarning: invalid value encountered in cast\n",
      "d:\\myenv\\Lib\\site-packages\\pandas\\core\\dtypes\\cast.py:1081:RuntimeWarning: invalid value encountered in cast\n"
     ]
    },
    {
     "name": "stdout",
     "output_type": "stream",
     "text": [
      "✓ 1517 rows\n",
      "[174/411] Processing MAERSKb.CO... "
     ]
    },
    {
     "name": "stderr",
     "output_type": "stream",
     "text": [
      "d:\\myenv\\Lib\\site-packages\\refinitiv\\data\\_tools\\_dataframe.py:177:FutureWarning: Downcasting object dtype arrays on .fillna, .ffill, .bfill is deprecated and will change in a future version. Call result.infer_objects(copy=False) instead. To opt-in to the future behavior, set `pd.set_option('future.no_silent_downcasting', True)`\n",
      "d:\\myenv\\Lib\\site-packages\\pandas\\core\\dtypes\\cast.py:1057:RuntimeWarning: invalid value encountered in cast\n",
      "d:\\myenv\\Lib\\site-packages\\pandas\\core\\dtypes\\cast.py:1081:RuntimeWarning: invalid value encountered in cast\n"
     ]
    },
    {
     "name": "stdout",
     "output_type": "stream",
     "text": [
      "✓ 1481 rows\n",
      "[175/411] Processing MBGn.DE... "
     ]
    },
    {
     "name": "stderr",
     "output_type": "stream",
     "text": [
      "d:\\myenv\\Lib\\site-packages\\refinitiv\\data\\_tools\\_dataframe.py:177:FutureWarning: Downcasting object dtype arrays on .fillna, .ffill, .bfill is deprecated and will change in a future version. Call result.infer_objects(copy=False) instead. To opt-in to the future behavior, set `pd.set_option('future.no_silent_downcasting', True)`\n"
     ]
    },
    {
     "name": "stdout",
     "output_type": "stream",
     "text": [
      "✗ Failed: 'TRDPRC_1'\n",
      "[176/411] Processing MDM.PA... ✓ 1517 rows\n",
      "[177/411] Processing MERY.PA... "
     ]
    },
    {
     "name": "stderr",
     "output_type": "stream",
     "text": [
      "d:\\myenv\\Lib\\site-packages\\refinitiv\\data\\_tools\\_dataframe.py:177:FutureWarning: Downcasting object dtype arrays on .fillna, .ffill, .bfill is deprecated and will change in a future version. Call result.infer_objects(copy=False) instead. To opt-in to the future behavior, set `pd.set_option('future.no_silent_downcasting', True)`\n"
     ]
    },
    {
     "name": "stdout",
     "output_type": "stream",
     "text": [
      "✓ 1517 rows\n",
      "[178/411] Processing METSB.HE... "
     ]
    },
    {
     "name": "stderr",
     "output_type": "stream",
     "text": [
      "d:\\myenv\\Lib\\site-packages\\refinitiv\\data\\_tools\\_dataframe.py:177:FutureWarning: Downcasting object dtype arrays on .fillna, .ffill, .bfill is deprecated and will change in a future version. Call result.infer_objects(copy=False) instead. To opt-in to the future behavior, set `pd.set_option('future.no_silent_downcasting', True)`\n",
      "d:\\myenv\\Lib\\site-packages\\pandas\\core\\dtypes\\cast.py:1057:RuntimeWarning: invalid value encountered in cast\n",
      "d:\\myenv\\Lib\\site-packages\\pandas\\core\\dtypes\\cast.py:1081:RuntimeWarning: invalid value encountered in cast\n"
     ]
    },
    {
     "name": "stdout",
     "output_type": "stream",
     "text": [
      "✓ 1487 rows\n",
      "[179/411] Processing METSO.HE... "
     ]
    },
    {
     "name": "stderr",
     "output_type": "stream",
     "text": [
      "d:\\myenv\\Lib\\site-packages\\refinitiv\\data\\_tools\\_dataframe.py:177:FutureWarning: Downcasting object dtype arrays on .fillna, .ffill, .bfill is deprecated and will change in a future version. Call result.infer_objects(copy=False) instead. To opt-in to the future behavior, set `pd.set_option('future.no_silent_downcasting', True)`\n",
      "d:\\myenv\\Lib\\site-packages\\pandas\\core\\dtypes\\cast.py:1057:RuntimeWarning: invalid value encountered in cast\n",
      "d:\\myenv\\Lib\\site-packages\\pandas\\core\\dtypes\\cast.py:1081:RuntimeWarning: invalid value encountered in cast\n"
     ]
    },
    {
     "name": "stdout",
     "output_type": "stream",
     "text": [
      "✓ 1487 rows\n",
      "[180/411] Processing MICP.PA... "
     ]
    },
    {
     "name": "stderr",
     "output_type": "stream",
     "text": [
      "d:\\myenv\\Lib\\site-packages\\refinitiv\\data\\_tools\\_dataframe.py:177:FutureWarning: Downcasting object dtype arrays on .fillna, .ffill, .bfill is deprecated and will change in a future version. Call result.infer_objects(copy=False) instead. To opt-in to the future behavior, set `pd.set_option('future.no_silent_downcasting', True)`\n",
      "d:\\myenv\\Lib\\site-packages\\pandas\\core\\dtypes\\cast.py:1057:RuntimeWarning: invalid value encountered in cast\n",
      "d:\\myenv\\Lib\\site-packages\\pandas\\core\\dtypes\\cast.py:1081:RuntimeWarning: invalid value encountered in cast\n"
     ]
    },
    {
     "name": "stdout",
     "output_type": "stream",
     "text": [
      "✓ 1517 rows\n",
      "[181/411] Processing MMTP.PA... "
     ]
    },
    {
     "name": "stderr",
     "output_type": "stream",
     "text": [
      "d:\\myenv\\Lib\\site-packages\\refinitiv\\data\\_tools\\_dataframe.py:177:FutureWarning: Downcasting object dtype arrays on .fillna, .ffill, .bfill is deprecated and will change in a future version. Call result.infer_objects(copy=False) instead. To opt-in to the future behavior, set `pd.set_option('future.no_silent_downcasting', True)`\n",
      "d:\\myenv\\Lib\\site-packages\\pandas\\core\\dtypes\\cast.py:1057:RuntimeWarning: invalid value encountered in cast\n",
      "d:\\myenv\\Lib\\site-packages\\pandas\\core\\dtypes\\cast.py:1081:RuntimeWarning: invalid value encountered in cast\n"
     ]
    },
    {
     "name": "stdout",
     "output_type": "stream",
     "text": [
      "✓ 1517 rows\n",
      "[182/411] Processing MOWI.OL... "
     ]
    },
    {
     "name": "stderr",
     "output_type": "stream",
     "text": [
      "d:\\myenv\\Lib\\site-packages\\refinitiv\\data\\_tools\\_dataframe.py:177:FutureWarning: Downcasting object dtype arrays on .fillna, .ffill, .bfill is deprecated and will change in a future version. Call result.infer_objects(copy=False) instead. To opt-in to the future behavior, set `pd.set_option('future.no_silent_downcasting', True)`\n"
     ]
    },
    {
     "name": "stdout",
     "output_type": "stream",
     "text": [
      "✗ Failed: 'TRDPRC_1'\n",
      "[183/411] Processing MRCG.DE... ✗ Failed: 'TRDPRC_1'\n",
      "[184/411] Processing MT.AS... "
     ]
    },
    {
     "name": "stderr",
     "output_type": "stream",
     "text": [
      "d:\\myenv\\Lib\\site-packages\\pandas\\core\\dtypes\\cast.py:1057:RuntimeWarning: invalid value encountered in cast\n",
      "d:\\myenv\\Lib\\site-packages\\pandas\\core\\dtypes\\cast.py:1081:RuntimeWarning: invalid value encountered in cast\n"
     ]
    },
    {
     "name": "stdout",
     "output_type": "stream",
     "text": [
      "✓ 1517 rows\n",
      "[185/411] Processing MTXGn.DE... "
     ]
    },
    {
     "name": "stderr",
     "output_type": "stream",
     "text": [
      "d:\\myenv\\Lib\\site-packages\\refinitiv\\data\\_tools\\_dataframe.py:177:FutureWarning: Downcasting object dtype arrays on .fillna, .ffill, .bfill is deprecated and will change in a future version. Call result.infer_objects(copy=False) instead. To opt-in to the future behavior, set `pd.set_option('future.no_silent_downcasting', True)`\n"
     ]
    },
    {
     "name": "stdout",
     "output_type": "stream",
     "text": [
      "✗ Failed: 'TRDPRC_1'\n",
      "[186/411] Processing MUVGn.DE... ✗ Failed: 'TRDPRC_1'\n",
      "[187/411] Processing MWDP.PA... "
     ]
    },
    {
     "name": "stderr",
     "output_type": "stream",
     "text": [
      "d:\\myenv\\Lib\\site-packages\\pandas\\core\\dtypes\\cast.py:1057:RuntimeWarning: invalid value encountered in cast\n",
      "d:\\myenv\\Lib\\site-packages\\pandas\\core\\dtypes\\cast.py:1081:RuntimeWarning: invalid value encountered in cast\n"
     ]
    },
    {
     "name": "stdout",
     "output_type": "stream",
     "text": [
      "✓ 1517 rows\n",
      "[188/411] Processing NAS.OL... "
     ]
    },
    {
     "name": "stderr",
     "output_type": "stream",
     "text": [
      "d:\\myenv\\Lib\\site-packages\\refinitiv\\data\\_tools\\_dataframe.py:177:FutureWarning: Downcasting object dtype arrays on .fillna, .ffill, .bfill is deprecated and will change in a future version. Call result.infer_objects(copy=False) instead. To opt-in to the future behavior, set `pd.set_option('future.no_silent_downcasting', True)`\n",
      "d:\\myenv\\Lib\\site-packages\\pandas\\core\\dtypes\\cast.py:1057:RuntimeWarning: invalid value encountered in cast\n",
      "d:\\myenv\\Lib\\site-packages\\pandas\\core\\dtypes\\cast.py:1081:RuntimeWarning: invalid value encountered in cast\n"
     ]
    },
    {
     "name": "stdout",
     "output_type": "stream",
     "text": [
      "✗ Failed: 'TRDPRC_1'\n",
      "[189/411] Processing NDAFI.HE... "
     ]
    },
    {
     "name": "stderr",
     "output_type": "stream",
     "text": [
      "d:\\myenv\\Lib\\site-packages\\pandas\\core\\dtypes\\cast.py:1057:RuntimeWarning: invalid value encountered in cast\n",
      "d:\\myenv\\Lib\\site-packages\\pandas\\core\\dtypes\\cast.py:1081:RuntimeWarning: invalid value encountered in cast\n"
     ]
    },
    {
     "name": "stdout",
     "output_type": "stream",
     "text": [
      "✓ 1487 rows\n",
      "[190/411] Processing NDASE.ST... "
     ]
    },
    {
     "name": "stderr",
     "output_type": "stream",
     "text": [
      "d:\\myenv\\Lib\\site-packages\\refinitiv\\data\\_tools\\_dataframe.py:177:FutureWarning: Downcasting object dtype arrays on .fillna, .ffill, .bfill is deprecated and will change in a future version. Call result.infer_objects(copy=False) instead. To opt-in to the future behavior, set `pd.set_option('future.no_silent_downcasting', True)`\n",
      "d:\\myenv\\Lib\\site-packages\\pandas\\core\\dtypes\\cast.py:1057:RuntimeWarning: invalid value encountered in cast\n",
      "d:\\myenv\\Lib\\site-packages\\pandas\\core\\dtypes\\cast.py:1081:RuntimeWarning: invalid value encountered in cast\n",
      "d:\\myenv\\Lib\\site-packages\\pandas\\core\\dtypes\\cast.py:1057:RuntimeWarning: invalid value encountered in cast\n",
      "d:\\myenv\\Lib\\site-packages\\pandas\\core\\dtypes\\cast.py:1081:RuntimeWarning: invalid value encountered in cast\n"
     ]
    },
    {
     "name": "stdout",
     "output_type": "stream",
     "text": [
      "✓ 1488 rows\n",
      "[191/411] Processing NEL.OL... "
     ]
    },
    {
     "name": "stderr",
     "output_type": "stream",
     "text": [
      "d:\\myenv\\Lib\\site-packages\\refinitiv\\data\\_tools\\_dataframe.py:177:FutureWarning: Downcasting object dtype arrays on .fillna, .ffill, .bfill is deprecated and will change in a future version. Call result.infer_objects(copy=False) instead. To opt-in to the future behavior, set `pd.set_option('future.no_silent_downcasting', True)`\n"
     ]
    },
    {
     "name": "stdout",
     "output_type": "stream",
     "text": [
      "✗ Failed: 'TRDPRC_1'\n",
      "[192/411] Processing NELES.HE^D22... "
     ]
    },
    {
     "name": "stderr",
     "output_type": "stream",
     "text": [
      "d:\\myenv\\Lib\\site-packages\\pandas\\core\\dtypes\\cast.py:1057:RuntimeWarning: invalid value encountered in cast\n",
      "d:\\myenv\\Lib\\site-packages\\pandas\\core\\dtypes\\cast.py:1081:RuntimeWarning: invalid value encountered in cast\n"
     ]
    },
    {
     "name": "stdout",
     "output_type": "stream",
     "text": [
      "✓ 1487 rows\n",
      "[193/411] Processing NESTE.HE... "
     ]
    },
    {
     "name": "stderr",
     "output_type": "stream",
     "text": [
      "d:\\myenv\\Lib\\site-packages\\refinitiv\\data\\_tools\\_dataframe.py:177:FutureWarning: Downcasting object dtype arrays on .fillna, .ffill, .bfill is deprecated and will change in a future version. Call result.infer_objects(copy=False) instead. To opt-in to the future behavior, set `pd.set_option('future.no_silent_downcasting', True)`\n",
      "d:\\myenv\\Lib\\site-packages\\pandas\\core\\dtypes\\cast.py:1057:RuntimeWarning: invalid value encountered in cast\n",
      "d:\\myenv\\Lib\\site-packages\\pandas\\core\\dtypes\\cast.py:1081:RuntimeWarning: invalid value encountered in cast\n"
     ]
    },
    {
     "name": "stdout",
     "output_type": "stream",
     "text": [
      "✓ 1487 rows\n",
      "[194/411] Processing NEXI.PA... "
     ]
    },
    {
     "name": "stderr",
     "output_type": "stream",
     "text": [
      "d:\\myenv\\Lib\\site-packages\\refinitiv\\data\\_tools\\_dataframe.py:177:FutureWarning: Downcasting object dtype arrays on .fillna, .ffill, .bfill is deprecated and will change in a future version. Call result.infer_objects(copy=False) instead. To opt-in to the future behavior, set `pd.set_option('future.no_silent_downcasting', True)`\n",
      "d:\\myenv\\Lib\\site-packages\\pandas\\core\\dtypes\\cast.py:1057:RuntimeWarning: invalid value encountered in cast\n",
      "d:\\myenv\\Lib\\site-packages\\pandas\\core\\dtypes\\cast.py:1081:RuntimeWarning: invalid value encountered in cast\n"
     ]
    },
    {
     "name": "stdout",
     "output_type": "stream",
     "text": [
      "✓ 1517 rows\n",
      "[195/411] Processing NEXS.PA... "
     ]
    },
    {
     "name": "stderr",
     "output_type": "stream",
     "text": [
      "d:\\myenv\\Lib\\site-packages\\refinitiv\\data\\_tools\\_dataframe.py:177:FutureWarning: Downcasting object dtype arrays on .fillna, .ffill, .bfill is deprecated and will change in a future version. Call result.infer_objects(copy=False) instead. To opt-in to the future behavior, set `pd.set_option('future.no_silent_downcasting', True)`\n",
      "d:\\myenv\\Lib\\site-packages\\pandas\\core\\dtypes\\cast.py:1057:RuntimeWarning: invalid value encountered in cast\n",
      "d:\\myenv\\Lib\\site-packages\\pandas\\core\\dtypes\\cast.py:1081:RuntimeWarning: invalid value encountered in cast\n"
     ]
    },
    {
     "name": "stdout",
     "output_type": "stream",
     "text": [
      "✓ 1517 rows\n",
      "[196/411] Processing NHY.OL... "
     ]
    },
    {
     "name": "stderr",
     "output_type": "stream",
     "text": [
      "d:\\myenv\\Lib\\site-packages\\refinitiv\\data\\_tools\\_dataframe.py:177:FutureWarning: Downcasting object dtype arrays on .fillna, .ffill, .bfill is deprecated and will change in a future version. Call result.infer_objects(copy=False) instead. To opt-in to the future behavior, set `pd.set_option('future.no_silent_downcasting', True)`\n"
     ]
    },
    {
     "name": "stdout",
     "output_type": "stream",
     "text": [
      "✗ Failed: 'TRDPRC_1'\n",
      "[197/411] Processing NN.AS... "
     ]
    },
    {
     "name": "stderr",
     "output_type": "stream",
     "text": [
      "d:\\myenv\\Lib\\site-packages\\pandas\\core\\dtypes\\cast.py:1057:RuntimeWarning: invalid value encountered in cast\n",
      "d:\\myenv\\Lib\\site-packages\\pandas\\core\\dtypes\\cast.py:1081:RuntimeWarning: invalid value encountered in cast\n"
     ]
    },
    {
     "name": "stdout",
     "output_type": "stream",
     "text": [
      "✓ 1517 rows\n",
      "[198/411] Processing NOKIA.HE... "
     ]
    },
    {
     "name": "stderr",
     "output_type": "stream",
     "text": [
      "d:\\myenv\\Lib\\site-packages\\refinitiv\\data\\_tools\\_dataframe.py:177:FutureWarning: Downcasting object dtype arrays on .fillna, .ffill, .bfill is deprecated and will change in a future version. Call result.infer_objects(copy=False) instead. To opt-in to the future behavior, set `pd.set_option('future.no_silent_downcasting', True)`\n",
      "d:\\myenv\\Lib\\site-packages\\pandas\\core\\dtypes\\cast.py:1057:RuntimeWarning: invalid value encountered in cast\n",
      "d:\\myenv\\Lib\\site-packages\\pandas\\core\\dtypes\\cast.py:1081:RuntimeWarning: invalid value encountered in cast\n"
     ]
    },
    {
     "name": "stdout",
     "output_type": "stream",
     "text": [
      "✓ 1487 rows\n",
      "[199/411] Processing NOVOb.CO... "
     ]
    },
    {
     "name": "stderr",
     "output_type": "stream",
     "text": [
      "d:\\myenv\\Lib\\site-packages\\refinitiv\\data\\_tools\\_dataframe.py:177:FutureWarning: Downcasting object dtype arrays on .fillna, .ffill, .bfill is deprecated and will change in a future version. Call result.infer_objects(copy=False) instead. To opt-in to the future behavior, set `pd.set_option('future.no_silent_downcasting', True)`\n",
      "d:\\myenv\\Lib\\site-packages\\pandas\\core\\dtypes\\cast.py:1057:RuntimeWarning: invalid value encountered in cast\n",
      "d:\\myenv\\Lib\\site-packages\\pandas\\core\\dtypes\\cast.py:1081:RuntimeWarning: invalid value encountered in cast\n",
      "d:\\myenv\\Lib\\site-packages\\pandas\\core\\dtypes\\cast.py:1057:RuntimeWarning: invalid value encountered in cast\n",
      "d:\\myenv\\Lib\\site-packages\\pandas\\core\\dtypes\\cast.py:1081:RuntimeWarning: invalid value encountered in cast\n"
     ]
    },
    {
     "name": "stdout",
     "output_type": "stream",
     "text": [
      "✓ 1481 rows\n",
      "[200/411] Processing NSISb.CO... "
     ]
    },
    {
     "name": "stderr",
     "output_type": "stream",
     "text": [
      "d:\\myenv\\Lib\\site-packages\\refinitiv\\data\\_tools\\_dataframe.py:177:FutureWarning: Downcasting object dtype arrays on .fillna, .ffill, .bfill is deprecated and will change in a future version. Call result.infer_objects(copy=False) instead. To opt-in to the future behavior, set `pd.set_option('future.no_silent_downcasting', True)`\n",
      "d:\\myenv\\Lib\\site-packages\\pandas\\core\\dtypes\\cast.py:1057:RuntimeWarning: invalid value encountered in cast\n",
      "d:\\myenv\\Lib\\site-packages\\pandas\\core\\dtypes\\cast.py:1081:RuntimeWarning: invalid value encountered in cast\n"
     ]
    },
    {
     "name": "stdout",
     "output_type": "stream",
     "text": [
      "✓ 1481 rows\n",
      "[201/411] Processing OCI.AS... "
     ]
    },
    {
     "name": "stderr",
     "output_type": "stream",
     "text": [
      "d:\\myenv\\Lib\\site-packages\\refinitiv\\data\\_tools\\_dataframe.py:177:FutureWarning: Downcasting object dtype arrays on .fillna, .ffill, .bfill is deprecated and will change in a future version. Call result.infer_objects(copy=False) instead. To opt-in to the future behavior, set `pd.set_option('future.no_silent_downcasting', True)`\n",
      "d:\\myenv\\Lib\\site-packages\\pandas\\core\\dtypes\\cast.py:1057:RuntimeWarning: invalid value encountered in cast\n",
      "d:\\myenv\\Lib\\site-packages\\pandas\\core\\dtypes\\cast.py:1081:RuntimeWarning: invalid value encountered in cast\n"
     ]
    },
    {
     "name": "stdout",
     "output_type": "stream",
     "text": [
      "✓ 1517 rows\n",
      "[202/411] Processing ONTEX.BR... "
     ]
    },
    {
     "name": "stderr",
     "output_type": "stream",
     "text": [
      "d:\\myenv\\Lib\\site-packages\\refinitiv\\data\\_tools\\_dataframe.py:177:FutureWarning: Downcasting object dtype arrays on .fillna, .ffill, .bfill is deprecated and will change in a future version. Call result.infer_objects(copy=False) instead. To opt-in to the future behavior, set `pd.set_option('future.no_silent_downcasting', True)`\n"
     ]
    },
    {
     "name": "stdout",
     "output_type": "stream",
     "text": [
      "✓ 1517 rows\n",
      "[203/411] Processing OPM.PA... "
     ]
    },
    {
     "name": "stderr",
     "output_type": "stream",
     "text": [
      "d:\\myenv\\Lib\\site-packages\\refinitiv\\data\\_tools\\_dataframe.py:177:FutureWarning: Downcasting object dtype arrays on .fillna, .ffill, .bfill is deprecated and will change in a future version. Call result.infer_objects(copy=False) instead. To opt-in to the future behavior, set `pd.set_option('future.no_silent_downcasting', True)`\n",
      "d:\\myenv\\Lib\\site-packages\\pandas\\core\\dtypes\\cast.py:1057:RuntimeWarning: invalid value encountered in cast\n",
      "d:\\myenv\\Lib\\site-packages\\pandas\\core\\dtypes\\cast.py:1081:RuntimeWarning: invalid value encountered in cast\n"
     ]
    },
    {
     "name": "stdout",
     "output_type": "stream",
     "text": [
      "✓ 1517 rows\n",
      "[204/411] Processing ORAN.PA... "
     ]
    },
    {
     "name": "stderr",
     "output_type": "stream",
     "text": [
      "d:\\myenv\\Lib\\site-packages\\refinitiv\\data\\_tools\\_dataframe.py:177:FutureWarning: Downcasting object dtype arrays on .fillna, .ffill, .bfill is deprecated and will change in a future version. Call result.infer_objects(copy=False) instead. To opt-in to the future behavior, set `pd.set_option('future.no_silent_downcasting', True)`\n",
      "d:\\myenv\\Lib\\site-packages\\pandas\\core\\dtypes\\cast.py:1057:RuntimeWarning: invalid value encountered in cast\n",
      "d:\\myenv\\Lib\\site-packages\\pandas\\core\\dtypes\\cast.py:1081:RuntimeWarning: invalid value encountered in cast\n"
     ]
    },
    {
     "name": "stdout",
     "output_type": "stream",
     "text": [
      "✓ 1517 rows\n",
      "[205/411] Processing OREP.PA... "
     ]
    },
    {
     "name": "stderr",
     "output_type": "stream",
     "text": [
      "d:\\myenv\\Lib\\site-packages\\refinitiv\\data\\_tools\\_dataframe.py:177:FutureWarning: Downcasting object dtype arrays on .fillna, .ffill, .bfill is deprecated and will change in a future version. Call result.infer_objects(copy=False) instead. To opt-in to the future behavior, set `pd.set_option('future.no_silent_downcasting', True)`\n",
      "d:\\myenv\\Lib\\site-packages\\pandas\\core\\dtypes\\cast.py:1057:RuntimeWarning: invalid value encountered in cast\n",
      "d:\\myenv\\Lib\\site-packages\\pandas\\core\\dtypes\\cast.py:1081:RuntimeWarning: invalid value encountered in cast\n"
     ]
    },
    {
     "name": "stdout",
     "output_type": "stream",
     "text": [
      "✓ 1517 rows\n",
      "[206/411] Processing ORK.OL... "
     ]
    },
    {
     "name": "stderr",
     "output_type": "stream",
     "text": [
      "d:\\myenv\\Lib\\site-packages\\refinitiv\\data\\_tools\\_dataframe.py:177:FutureWarning: Downcasting object dtype arrays on .fillna, .ffill, .bfill is deprecated and will change in a future version. Call result.infer_objects(copy=False) instead. To opt-in to the future behavior, set `pd.set_option('future.no_silent_downcasting', True)`\n"
     ]
    },
    {
     "name": "stdout",
     "output_type": "stream",
     "text": [
      "✗ Failed: 'TRDPRC_1'\n",
      "[207/411] Processing ORNBV.HE... "
     ]
    },
    {
     "name": "stderr",
     "output_type": "stream",
     "text": [
      "d:\\myenv\\Lib\\site-packages\\pandas\\core\\dtypes\\cast.py:1057:RuntimeWarning: invalid value encountered in cast\n",
      "d:\\myenv\\Lib\\site-packages\\pandas\\core\\dtypes\\cast.py:1081:RuntimeWarning: invalid value encountered in cast\n"
     ]
    },
    {
     "name": "stdout",
     "output_type": "stream",
     "text": [
      "✓ 1487 rows\n",
      "[208/411] Processing ORSTED.CO... "
     ]
    },
    {
     "name": "stderr",
     "output_type": "stream",
     "text": [
      "d:\\myenv\\Lib\\site-packages\\refinitiv\\data\\_tools\\_dataframe.py:177:FutureWarning: Downcasting object dtype arrays on .fillna, .ffill, .bfill is deprecated and will change in a future version. Call result.infer_objects(copy=False) instead. To opt-in to the future behavior, set `pd.set_option('future.no_silent_downcasting', True)`\n",
      "d:\\myenv\\Lib\\site-packages\\pandas\\core\\dtypes\\cast.py:1057:RuntimeWarning: invalid value encountered in cast\n",
      "d:\\myenv\\Lib\\site-packages\\pandas\\core\\dtypes\\cast.py:1081:RuntimeWarning: invalid value encountered in cast\n",
      "d:\\myenv\\Lib\\site-packages\\pandas\\core\\dtypes\\cast.py:1057:RuntimeWarning: invalid value encountered in cast\n",
      "d:\\myenv\\Lib\\site-packages\\pandas\\core\\dtypes\\cast.py:1081:RuntimeWarning: invalid value encountered in cast\n"
     ]
    },
    {
     "name": "stdout",
     "output_type": "stream",
     "text": [
      "✓ 1481 rows\n",
      "[209/411] Processing OUT1V.HE... "
     ]
    },
    {
     "name": "stderr",
     "output_type": "stream",
     "text": [
      "d:\\myenv\\Lib\\site-packages\\refinitiv\\data\\_tools\\_dataframe.py:177:FutureWarning: Downcasting object dtype arrays on .fillna, .ffill, .bfill is deprecated and will change in a future version. Call result.infer_objects(copy=False) instead. To opt-in to the future behavior, set `pd.set_option('future.no_silent_downcasting', True)`\n",
      "d:\\myenv\\Lib\\site-packages\\pandas\\core\\dtypes\\cast.py:1057:RuntimeWarning: invalid value encountered in cast\n",
      "d:\\myenv\\Lib\\site-packages\\pandas\\core\\dtypes\\cast.py:1081:RuntimeWarning: invalid value encountered in cast\n"
     ]
    },
    {
     "name": "stdout",
     "output_type": "stream",
     "text": [
      "✓ 1487 rows\n",
      "[210/411] Processing PERP.PA... "
     ]
    },
    {
     "name": "stderr",
     "output_type": "stream",
     "text": [
      "d:\\myenv\\Lib\\site-packages\\refinitiv\\data\\_tools\\_dataframe.py:177:FutureWarning: Downcasting object dtype arrays on .fillna, .ffill, .bfill is deprecated and will change in a future version. Call result.infer_objects(copy=False) instead. To opt-in to the future behavior, set `pd.set_option('future.no_silent_downcasting', True)`\n",
      "d:\\myenv\\Lib\\site-packages\\pandas\\core\\dtypes\\cast.py:1057:RuntimeWarning: invalid value encountered in cast\n",
      "d:\\myenv\\Lib\\site-packages\\pandas\\core\\dtypes\\cast.py:1081:RuntimeWarning: invalid value encountered in cast\n"
     ]
    },
    {
     "name": "stdout",
     "output_type": "stream",
     "text": [
      "✓ 1517 rows\n",
      "[211/411] Processing PEUP.PA^A21... "
     ]
    },
    {
     "name": "stderr",
     "output_type": "stream",
     "text": [
      "d:\\myenv\\Lib\\site-packages\\refinitiv\\data\\_tools\\_dataframe.py:177:FutureWarning: Downcasting object dtype arrays on .fillna, .ffill, .bfill is deprecated and will change in a future version. Call result.infer_objects(copy=False) instead. To opt-in to the future behavior, set `pd.set_option('future.no_silent_downcasting', True)`\n",
      "d:\\myenv\\Lib\\site-packages\\pandas\\core\\dtypes\\cast.py:1057:RuntimeWarning: invalid value encountered in cast\n",
      "d:\\myenv\\Lib\\site-packages\\pandas\\core\\dtypes\\cast.py:1081:RuntimeWarning: invalid value encountered in cast\n"
     ]
    },
    {
     "name": "stdout",
     "output_type": "stream",
     "text": [
      "✓ 1517 rows\n",
      "[212/411] Processing PHG.AS... "
     ]
    },
    {
     "name": "stderr",
     "output_type": "stream",
     "text": [
      "d:\\myenv\\Lib\\site-packages\\refinitiv\\data\\_tools\\_dataframe.py:177:FutureWarning: Downcasting object dtype arrays on .fillna, .ffill, .bfill is deprecated and will change in a future version. Call result.infer_objects(copy=False) instead. To opt-in to the future behavior, set `pd.set_option('future.no_silent_downcasting', True)`\n",
      "d:\\myenv\\Lib\\site-packages\\pandas\\core\\dtypes\\cast.py:1057:RuntimeWarning: invalid value encountered in cast\n",
      "d:\\myenv\\Lib\\site-packages\\pandas\\core\\dtypes\\cast.py:1081:RuntimeWarning: invalid value encountered in cast\n"
     ]
    },
    {
     "name": "stdout",
     "output_type": "stream",
     "text": [
      "✓ 1517 rows\n",
      "[213/411] Processing PNDORA.CO... "
     ]
    },
    {
     "name": "stderr",
     "output_type": "stream",
     "text": [
      "d:\\myenv\\Lib\\site-packages\\refinitiv\\data\\_tools\\_dataframe.py:177:FutureWarning: Downcasting object dtype arrays on .fillna, .ffill, .bfill is deprecated and will change in a future version. Call result.infer_objects(copy=False) instead. To opt-in to the future behavior, set `pd.set_option('future.no_silent_downcasting', True)`\n",
      "d:\\myenv\\Lib\\site-packages\\pandas\\core\\dtypes\\cast.py:1057:RuntimeWarning: invalid value encountered in cast\n",
      "d:\\myenv\\Lib\\site-packages\\pandas\\core\\dtypes\\cast.py:1081:RuntimeWarning: invalid value encountered in cast\n",
      "d:\\myenv\\Lib\\site-packages\\pandas\\core\\dtypes\\cast.py:1057:RuntimeWarning: invalid value encountered in cast\n",
      "d:\\myenv\\Lib\\site-packages\\pandas\\core\\dtypes\\cast.py:1081:RuntimeWarning: invalid value encountered in cast\n"
     ]
    },
    {
     "name": "stdout",
     "output_type": "stream",
     "text": [
      "✓ 1481 rows\n",
      "[214/411] Processing PROX.BR... "
     ]
    },
    {
     "name": "stderr",
     "output_type": "stream",
     "text": [
      "d:\\myenv\\Lib\\site-packages\\refinitiv\\data\\_tools\\_dataframe.py:177:FutureWarning: Downcasting object dtype arrays on .fillna, .ffill, .bfill is deprecated and will change in a future version. Call result.infer_objects(copy=False) instead. To opt-in to the future behavior, set `pd.set_option('future.no_silent_downcasting', True)`\n",
      "d:\\myenv\\Lib\\site-packages\\pandas\\core\\dtypes\\cast.py:1057:RuntimeWarning: invalid value encountered in cast\n",
      "d:\\myenv\\Lib\\site-packages\\pandas\\core\\dtypes\\cast.py:1081:RuntimeWarning: invalid value encountered in cast\n"
     ]
    },
    {
     "name": "stdout",
     "output_type": "stream",
     "text": [
      "✓ 1517 rows\n",
      "[215/411] Processing PRTP.PA... "
     ]
    },
    {
     "name": "stderr",
     "output_type": "stream",
     "text": [
      "d:\\myenv\\Lib\\site-packages\\refinitiv\\data\\_tools\\_dataframe.py:177:FutureWarning: Downcasting object dtype arrays on .fillna, .ffill, .bfill is deprecated and will change in a future version. Call result.infer_objects(copy=False) instead. To opt-in to the future behavior, set `pd.set_option('future.no_silent_downcasting', True)`\n",
      "d:\\myenv\\Lib\\site-packages\\pandas\\core\\dtypes\\cast.py:1057:RuntimeWarning: invalid value encountered in cast\n",
      "d:\\myenv\\Lib\\site-packages\\pandas\\core\\dtypes\\cast.py:1081:RuntimeWarning: invalid value encountered in cast\n"
     ]
    },
    {
     "name": "stdout",
     "output_type": "stream",
     "text": [
      "✓ 1517 rows\n",
      "[216/411] Processing PRX.AS... "
     ]
    },
    {
     "name": "stderr",
     "output_type": "stream",
     "text": [
      "d:\\myenv\\Lib\\site-packages\\refinitiv\\data\\_tools\\_dataframe.py:177:FutureWarning: Downcasting object dtype arrays on .fillna, .ffill, .bfill is deprecated and will change in a future version. Call result.infer_objects(copy=False) instead. To opt-in to the future behavior, set `pd.set_option('future.no_silent_downcasting', True)`\n",
      "d:\\myenv\\Lib\\site-packages\\pandas\\core\\dtypes\\cast.py:1057:RuntimeWarning: invalid value encountered in cast\n",
      "d:\\myenv\\Lib\\site-packages\\pandas\\core\\dtypes\\cast.py:1081:RuntimeWarning: invalid value encountered in cast\n",
      "d:\\myenv\\Lib\\site-packages\\refinitiv\\data\\_tools\\_dataframe.py:192:FutureWarning: Downcasting behavior in `replace` is deprecated and will be removed in a future version. To retain the old behavior, explicitly call `result.infer_objects(copy=False)`. To opt-in to the future behavior, set `pd.set_option('future.no_silent_downcasting', True)`\n",
      "d:\\myenv\\Lib\\site-packages\\pandas\\core\\dtypes\\cast.py:1057:RuntimeWarning: invalid value encountered in cast\n",
      "d:\\myenv\\Lib\\site-packages\\pandas\\core\\dtypes\\cast.py:1081:RuntimeWarning: invalid value encountered in cast\n"
     ]
    },
    {
     "name": "stdout",
     "output_type": "stream",
     "text": [
      "✓ 1511 rows\n",
      "[217/411] Processing PTNL.AS... "
     ]
    },
    {
     "name": "stderr",
     "output_type": "stream",
     "text": [
      "d:\\myenv\\Lib\\site-packages\\refinitiv\\data\\_tools\\_dataframe.py:177:FutureWarning: Downcasting object dtype arrays on .fillna, .ffill, .bfill is deprecated and will change in a future version. Call result.infer_objects(copy=False) instead. To opt-in to the future behavior, set `pd.set_option('future.no_silent_downcasting', True)`\n",
      "d:\\myenv\\Lib\\site-packages\\pandas\\core\\dtypes\\cast.py:1057:RuntimeWarning: invalid value encountered in cast\n",
      "d:\\myenv\\Lib\\site-packages\\pandas\\core\\dtypes\\cast.py:1081:RuntimeWarning: invalid value encountered in cast\n"
     ]
    },
    {
     "name": "stdout",
     "output_type": "stream",
     "text": [
      "✓ 1517 rows\n",
      "[218/411] Processing PUBP.PA... "
     ]
    },
    {
     "name": "stderr",
     "output_type": "stream",
     "text": [
      "d:\\myenv\\Lib\\site-packages\\refinitiv\\data\\_tools\\_dataframe.py:177:FutureWarning: Downcasting object dtype arrays on .fillna, .ffill, .bfill is deprecated and will change in a future version. Call result.infer_objects(copy=False) instead. To opt-in to the future behavior, set `pd.set_option('future.no_silent_downcasting', True)`\n",
      "d:\\myenv\\Lib\\site-packages\\pandas\\core\\dtypes\\cast.py:1057:RuntimeWarning: invalid value encountered in cast\n",
      "d:\\myenv\\Lib\\site-packages\\pandas\\core\\dtypes\\cast.py:1081:RuntimeWarning: invalid value encountered in cast\n"
     ]
    },
    {
     "name": "stdout",
     "output_type": "stream",
     "text": [
      "✓ 1517 rows\n",
      "[219/411] Processing QDT.PA... "
     ]
    },
    {
     "name": "stderr",
     "output_type": "stream",
     "text": [
      "d:\\myenv\\Lib\\site-packages\\refinitiv\\data\\_tools\\_dataframe.py:177:FutureWarning: Downcasting object dtype arrays on .fillna, .ffill, .bfill is deprecated and will change in a future version. Call result.infer_objects(copy=False) instead. To opt-in to the future behavior, set `pd.set_option('future.no_silent_downcasting', True)`\n"
     ]
    },
    {
     "name": "stdout",
     "output_type": "stream",
     "text": [
      "✓ 1517 rows\n",
      "[220/411] Processing RAND.AS... "
     ]
    },
    {
     "name": "stderr",
     "output_type": "stream",
     "text": [
      "d:\\myenv\\Lib\\site-packages\\refinitiv\\data\\_tools\\_dataframe.py:177:FutureWarning: Downcasting object dtype arrays on .fillna, .ffill, .bfill is deprecated and will change in a future version. Call result.infer_objects(copy=False) instead. To opt-in to the future behavior, set `pd.set_option('future.no_silent_downcasting', True)`\n",
      "d:\\myenv\\Lib\\site-packages\\pandas\\core\\dtypes\\cast.py:1057:RuntimeWarning: invalid value encountered in cast\n",
      "d:\\myenv\\Lib\\site-packages\\pandas\\core\\dtypes\\cast.py:1081:RuntimeWarning: invalid value encountered in cast\n"
     ]
    },
    {
     "name": "stdout",
     "output_type": "stream",
     "text": [
      "✓ 1517 rows\n",
      "[221/411] Processing RBREW.CO... "
     ]
    },
    {
     "name": "stderr",
     "output_type": "stream",
     "text": [
      "d:\\myenv\\Lib\\site-packages\\refinitiv\\data\\_tools\\_dataframe.py:177:FutureWarning: Downcasting object dtype arrays on .fillna, .ffill, .bfill is deprecated and will change in a future version. Call result.infer_objects(copy=False) instead. To opt-in to the future behavior, set `pd.set_option('future.no_silent_downcasting', True)`\n",
      "d:\\myenv\\Lib\\site-packages\\pandas\\core\\dtypes\\cast.py:1057:RuntimeWarning: invalid value encountered in cast\n",
      "d:\\myenv\\Lib\\site-packages\\pandas\\core\\dtypes\\cast.py:1081:RuntimeWarning: invalid value encountered in cast\n"
     ]
    },
    {
     "name": "stdout",
     "output_type": "stream",
     "text": [
      "✓ 1481 rows\n",
      "[222/411] Processing RCOP.PA... "
     ]
    },
    {
     "name": "stderr",
     "output_type": "stream",
     "text": [
      "d:\\myenv\\Lib\\site-packages\\refinitiv\\data\\_tools\\_dataframe.py:177:FutureWarning: Downcasting object dtype arrays on .fillna, .ffill, .bfill is deprecated and will change in a future version. Call result.infer_objects(copy=False) instead. To opt-in to the future behavior, set `pd.set_option('future.no_silent_downcasting', True)`\n",
      "d:\\myenv\\Lib\\site-packages\\pandas\\core\\dtypes\\cast.py:1057:RuntimeWarning: invalid value encountered in cast\n",
      "d:\\myenv\\Lib\\site-packages\\pandas\\core\\dtypes\\cast.py:1081:RuntimeWarning: invalid value encountered in cast\n"
     ]
    },
    {
     "name": "stdout",
     "output_type": "stream",
     "text": [
      "✓ 1517 rows\n",
      "[223/411] Processing REL.AS... "
     ]
    },
    {
     "name": "stderr",
     "output_type": "stream",
     "text": [
      "d:\\myenv\\Lib\\site-packages\\refinitiv\\data\\_tools\\_dataframe.py:177:FutureWarning: Downcasting object dtype arrays on .fillna, .ffill, .bfill is deprecated and will change in a future version. Call result.infer_objects(copy=False) instead. To opt-in to the future behavior, set `pd.set_option('future.no_silent_downcasting', True)`\n",
      "d:\\myenv\\Lib\\site-packages\\pandas\\core\\dtypes\\cast.py:1057:RuntimeWarning: invalid value encountered in cast\n",
      "d:\\myenv\\Lib\\site-packages\\pandas\\core\\dtypes\\cast.py:1081:RuntimeWarning: invalid value encountered in cast\n"
     ]
    },
    {
     "name": "stdout",
     "output_type": "stream",
     "text": [
      "✓ 1517 rows\n",
      "[224/411] Processing RENA.PA... "
     ]
    },
    {
     "name": "stderr",
     "output_type": "stream",
     "text": [
      "d:\\myenv\\Lib\\site-packages\\refinitiv\\data\\_tools\\_dataframe.py:177:FutureWarning: Downcasting object dtype arrays on .fillna, .ffill, .bfill is deprecated and will change in a future version. Call result.infer_objects(copy=False) instead. To opt-in to the future behavior, set `pd.set_option('future.no_silent_downcasting', True)`\n",
      "d:\\myenv\\Lib\\site-packages\\pandas\\core\\dtypes\\cast.py:1057:RuntimeWarning: invalid value encountered in cast\n",
      "d:\\myenv\\Lib\\site-packages\\pandas\\core\\dtypes\\cast.py:1081:RuntimeWarning: invalid value encountered in cast\n"
     ]
    },
    {
     "name": "stdout",
     "output_type": "stream",
     "text": [
      "✓ 1517 rows\n",
      "[225/411] Processing RUBF.PA... "
     ]
    },
    {
     "name": "stderr",
     "output_type": "stream",
     "text": [
      "d:\\myenv\\Lib\\site-packages\\refinitiv\\data\\_tools\\_dataframe.py:177:FutureWarning: Downcasting object dtype arrays on .fillna, .ffill, .bfill is deprecated and will change in a future version. Call result.infer_objects(copy=False) instead. To opt-in to the future behavior, set `pd.set_option('future.no_silent_downcasting', True)`\n",
      "d:\\myenv\\Lib\\site-packages\\pandas\\core\\dtypes\\cast.py:1057:RuntimeWarning: invalid value encountered in cast\n",
      "d:\\myenv\\Lib\\site-packages\\pandas\\core\\dtypes\\cast.py:1081:RuntimeWarning: invalid value encountered in cast\n"
     ]
    },
    {
     "name": "stdout",
     "output_type": "stream",
     "text": [
      "✓ 1517 rows\n",
      "[226/411] Processing RWEG.DE... "
     ]
    },
    {
     "name": "stderr",
     "output_type": "stream",
     "text": [
      "d:\\myenv\\Lib\\site-packages\\refinitiv\\data\\_tools\\_dataframe.py:177:FutureWarning: Downcasting object dtype arrays on .fillna, .ffill, .bfill is deprecated and will change in a future version. Call result.infer_objects(copy=False) instead. To opt-in to the future behavior, set `pd.set_option('future.no_silent_downcasting', True)`\n"
     ]
    },
    {
     "name": "stdout",
     "output_type": "stream",
     "text": [
      "✗ Failed: 'TRDPRC_1'\n",
      "[227/411] Processing RXL.PA... "
     ]
    },
    {
     "name": "stderr",
     "output_type": "stream",
     "text": [
      "d:\\myenv\\Lib\\site-packages\\pandas\\core\\dtypes\\cast.py:1057:RuntimeWarning: invalid value encountered in cast\n",
      "d:\\myenv\\Lib\\site-packages\\pandas\\core\\dtypes\\cast.py:1081:RuntimeWarning: invalid value encountered in cast\n"
     ]
    },
    {
     "name": "stdout",
     "output_type": "stream",
     "text": [
      "✓ 1517 rows\n",
      "[228/411] Processing SAF.PA... "
     ]
    },
    {
     "name": "stderr",
     "output_type": "stream",
     "text": [
      "d:\\myenv\\Lib\\site-packages\\refinitiv\\data\\_tools\\_dataframe.py:177:FutureWarning: Downcasting object dtype arrays on .fillna, .ffill, .bfill is deprecated and will change in a future version. Call result.infer_objects(copy=False) instead. To opt-in to the future behavior, set `pd.set_option('future.no_silent_downcasting', True)`\n",
      "d:\\myenv\\Lib\\site-packages\\pandas\\core\\dtypes\\cast.py:1057:RuntimeWarning: invalid value encountered in cast\n",
      "d:\\myenv\\Lib\\site-packages\\pandas\\core\\dtypes\\cast.py:1081:RuntimeWarning: invalid value encountered in cast\n"
     ]
    },
    {
     "name": "stdout",
     "output_type": "stream",
     "text": [
      "✓ 1517 rows\n",
      "[229/411] Processing SALM.OL... "
     ]
    },
    {
     "name": "stderr",
     "output_type": "stream",
     "text": [
      "d:\\myenv\\Lib\\site-packages\\refinitiv\\data\\_tools\\_dataframe.py:177:FutureWarning: Downcasting object dtype arrays on .fillna, .ffill, .bfill is deprecated and will change in a future version. Call result.infer_objects(copy=False) instead. To opt-in to the future behavior, set `pd.set_option('future.no_silent_downcasting', True)`\n",
      "d:\\myenv\\Lib\\site-packages\\pandas\\core\\dtypes\\cast.py:1057:RuntimeWarning: invalid value encountered in cast\n",
      "d:\\myenv\\Lib\\site-packages\\pandas\\core\\dtypes\\cast.py:1081:RuntimeWarning: invalid value encountered in cast\n"
     ]
    },
    {
     "name": "stdout",
     "output_type": "stream",
     "text": [
      "✗ Failed: 'TRDPRC_1'\n",
      "[230/411] Processing SAMPO.HE... "
     ]
    },
    {
     "name": "stderr",
     "output_type": "stream",
     "text": [
      "d:\\myenv\\Lib\\site-packages\\pandas\\core\\dtypes\\cast.py:1057:RuntimeWarning: invalid value encountered in cast\n",
      "d:\\myenv\\Lib\\site-packages\\pandas\\core\\dtypes\\cast.py:1081:RuntimeWarning: invalid value encountered in cast\n"
     ]
    },
    {
     "name": "stdout",
     "output_type": "stream",
     "text": [
      "✓ 1487 rows\n",
      "[231/411] Processing SAND.ST... "
     ]
    },
    {
     "name": "stderr",
     "output_type": "stream",
     "text": [
      "d:\\myenv\\Lib\\site-packages\\refinitiv\\data\\_tools\\_dataframe.py:177:FutureWarning: Downcasting object dtype arrays on .fillna, .ffill, .bfill is deprecated and will change in a future version. Call result.infer_objects(copy=False) instead. To opt-in to the future behavior, set `pd.set_option('future.no_silent_downcasting', True)`\n",
      "d:\\myenv\\Lib\\site-packages\\pandas\\core\\dtypes\\cast.py:1057:RuntimeWarning: invalid value encountered in cast\n",
      "d:\\myenv\\Lib\\site-packages\\pandas\\core\\dtypes\\cast.py:1081:RuntimeWarning: invalid value encountered in cast\n"
     ]
    },
    {
     "name": "stdout",
     "output_type": "stream",
     "text": [
      "✓ 1488 rows\n",
      "[232/411] Processing SAPG.DE... "
     ]
    },
    {
     "name": "stderr",
     "output_type": "stream",
     "text": [
      "d:\\myenv\\Lib\\site-packages\\refinitiv\\data\\_tools\\_dataframe.py:177:FutureWarning: Downcasting object dtype arrays on .fillna, .ffill, .bfill is deprecated and will change in a future version. Call result.infer_objects(copy=False) instead. To opt-in to the future behavior, set `pd.set_option('future.no_silent_downcasting', True)`\n",
      "d:\\myenv\\Lib\\site-packages\\pandas\\core\\dtypes\\cast.py:1057:RuntimeWarning: invalid value encountered in cast\n",
      "d:\\myenv\\Lib\\site-packages\\pandas\\core\\dtypes\\cast.py:1081:RuntimeWarning: invalid value encountered in cast\n"
     ]
    },
    {
     "name": "stdout",
     "output_type": "stream",
     "text": [
      "✗ Failed: 'TRDPRC_1'\n",
      "[233/411] Processing SASY.PA... "
     ]
    },
    {
     "name": "stderr",
     "output_type": "stream",
     "text": [
      "d:\\myenv\\Lib\\site-packages\\pandas\\core\\dtypes\\cast.py:1057:RuntimeWarning: invalid value encountered in cast\n",
      "d:\\myenv\\Lib\\site-packages\\pandas\\core\\dtypes\\cast.py:1081:RuntimeWarning: invalid value encountered in cast\n"
     ]
    },
    {
     "name": "stdout",
     "output_type": "stream",
     "text": [
      "✓ 1517 rows\n",
      "[234/411] Processing SBMO.AS... "
     ]
    },
    {
     "name": "stderr",
     "output_type": "stream",
     "text": [
      "d:\\myenv\\Lib\\site-packages\\refinitiv\\data\\_tools\\_dataframe.py:177:FutureWarning: Downcasting object dtype arrays on .fillna, .ffill, .bfill is deprecated and will change in a future version. Call result.infer_objects(copy=False) instead. To opt-in to the future behavior, set `pd.set_option('future.no_silent_downcasting', True)`\n",
      "d:\\myenv\\Lib\\site-packages\\pandas\\core\\dtypes\\cast.py:1057:RuntimeWarning: invalid value encountered in cast\n",
      "d:\\myenv\\Lib\\site-packages\\pandas\\core\\dtypes\\cast.py:1081:RuntimeWarning: invalid value encountered in cast\n"
     ]
    },
    {
     "name": "stdout",
     "output_type": "stream",
     "text": [
      "✓ 1517 rows\n",
      "[235/411] Processing SCAb.ST... "
     ]
    },
    {
     "name": "stderr",
     "output_type": "stream",
     "text": [
      "d:\\myenv\\Lib\\site-packages\\refinitiv\\data\\_tools\\_dataframe.py:177:FutureWarning: Downcasting object dtype arrays on .fillna, .ffill, .bfill is deprecated and will change in a future version. Call result.infer_objects(copy=False) instead. To opt-in to the future behavior, set `pd.set_option('future.no_silent_downcasting', True)`\n",
      "d:\\myenv\\Lib\\site-packages\\pandas\\core\\dtypes\\cast.py:1057:RuntimeWarning: invalid value encountered in cast\n",
      "d:\\myenv\\Lib\\site-packages\\pandas\\core\\dtypes\\cast.py:1081:RuntimeWarning: invalid value encountered in cast\n",
      "d:\\myenv\\Lib\\site-packages\\pandas\\core\\dtypes\\cast.py:1057:RuntimeWarning: invalid value encountered in cast\n",
      "d:\\myenv\\Lib\\site-packages\\pandas\\core\\dtypes\\cast.py:1081:RuntimeWarning: invalid value encountered in cast\n"
     ]
    },
    {
     "name": "stdout",
     "output_type": "stream",
     "text": [
      "✓ 1488 rows\n",
      "[236/411] Processing SCHN.PA... "
     ]
    },
    {
     "name": "stderr",
     "output_type": "stream",
     "text": [
      "d:\\myenv\\Lib\\site-packages\\refinitiv\\data\\_tools\\_dataframe.py:177:FutureWarning: Downcasting object dtype arrays on .fillna, .ffill, .bfill is deprecated and will change in a future version. Call result.infer_objects(copy=False) instead. To opt-in to the future behavior, set `pd.set_option('future.no_silent_downcasting', True)`\n",
      "d:\\myenv\\Lib\\site-packages\\pandas\\core\\dtypes\\cast.py:1057:RuntimeWarning: invalid value encountered in cast\n",
      "d:\\myenv\\Lib\\site-packages\\pandas\\core\\dtypes\\cast.py:1081:RuntimeWarning: invalid value encountered in cast\n"
     ]
    },
    {
     "name": "stdout",
     "output_type": "stream",
     "text": [
      "✓ 1517 rows\n",
      "[237/411] Processing SCOR.PA... "
     ]
    },
    {
     "name": "stderr",
     "output_type": "stream",
     "text": [
      "d:\\myenv\\Lib\\site-packages\\refinitiv\\data\\_tools\\_dataframe.py:177:FutureWarning: Downcasting object dtype arrays on .fillna, .ffill, .bfill is deprecated and will change in a future version. Call result.infer_objects(copy=False) instead. To opt-in to the future behavior, set `pd.set_option('future.no_silent_downcasting', True)`\n",
      "d:\\myenv\\Lib\\site-packages\\pandas\\core\\dtypes\\cast.py:1057:RuntimeWarning: invalid value encountered in cast\n",
      "d:\\myenv\\Lib\\site-packages\\pandas\\core\\dtypes\\cast.py:1081:RuntimeWarning: invalid value encountered in cast\n"
     ]
    },
    {
     "name": "stdout",
     "output_type": "stream",
     "text": [
      "✓ 1517 rows\n",
      "[238/411] Processing SEBF.PA... "
     ]
    },
    {
     "name": "stderr",
     "output_type": "stream",
     "text": [
      "d:\\myenv\\Lib\\site-packages\\refinitiv\\data\\_tools\\_dataframe.py:177:FutureWarning: Downcasting object dtype arrays on .fillna, .ffill, .bfill is deprecated and will change in a future version. Call result.infer_objects(copy=False) instead. To opt-in to the future behavior, set `pd.set_option('future.no_silent_downcasting', True)`\n",
      "d:\\myenv\\Lib\\site-packages\\pandas\\core\\dtypes\\cast.py:1057:RuntimeWarning: invalid value encountered in cast\n",
      "d:\\myenv\\Lib\\site-packages\\pandas\\core\\dtypes\\cast.py:1081:RuntimeWarning: invalid value encountered in cast\n"
     ]
    },
    {
     "name": "stdout",
     "output_type": "stream",
     "text": [
      "✓ 1517 rows\n",
      "[239/411] Processing SEBa.ST... "
     ]
    },
    {
     "name": "stderr",
     "output_type": "stream",
     "text": [
      "d:\\myenv\\Lib\\site-packages\\refinitiv\\data\\_tools\\_dataframe.py:177:FutureWarning: Downcasting object dtype arrays on .fillna, .ffill, .bfill is deprecated and will change in a future version. Call result.infer_objects(copy=False) instead. To opt-in to the future behavior, set `pd.set_option('future.no_silent_downcasting', True)`\n",
      "d:\\myenv\\Lib\\site-packages\\pandas\\core\\dtypes\\cast.py:1057:RuntimeWarning: invalid value encountered in cast\n",
      "d:\\myenv\\Lib\\site-packages\\pandas\\core\\dtypes\\cast.py:1081:RuntimeWarning: invalid value encountered in cast\n",
      "d:\\myenv\\Lib\\site-packages\\pandas\\core\\dtypes\\cast.py:1057:RuntimeWarning: invalid value encountered in cast\n",
      "d:\\myenv\\Lib\\site-packages\\pandas\\core\\dtypes\\cast.py:1081:RuntimeWarning: invalid value encountered in cast\n"
     ]
    },
    {
     "name": "stdout",
     "output_type": "stream",
     "text": [
      "✓ 1488 rows\n",
      "[240/411] Processing SECUb.ST... "
     ]
    },
    {
     "name": "stderr",
     "output_type": "stream",
     "text": [
      "d:\\myenv\\Lib\\site-packages\\refinitiv\\data\\_tools\\_dataframe.py:177:FutureWarning: Downcasting object dtype arrays on .fillna, .ffill, .bfill is deprecated and will change in a future version. Call result.infer_objects(copy=False) instead. To opt-in to the future behavior, set `pd.set_option('future.no_silent_downcasting', True)`\n",
      "d:\\myenv\\Lib\\site-packages\\pandas\\core\\dtypes\\cast.py:1057:RuntimeWarning: invalid value encountered in cast\n",
      "d:\\myenv\\Lib\\site-packages\\pandas\\core\\dtypes\\cast.py:1081:RuntimeWarning: invalid value encountered in cast\n"
     ]
    },
    {
     "name": "stdout",
     "output_type": "stream",
     "text": [
      "✓ 1488 rows\n",
      "[241/411] Processing SESFd.PA... "
     ]
    },
    {
     "name": "stderr",
     "output_type": "stream",
     "text": [
      "d:\\myenv\\Lib\\site-packages\\refinitiv\\data\\_tools\\_dataframe.py:177:FutureWarning: Downcasting object dtype arrays on .fillna, .ffill, .bfill is deprecated and will change in a future version. Call result.infer_objects(copy=False) instead. To opt-in to the future behavior, set `pd.set_option('future.no_silent_downcasting', True)`\n",
      "d:\\myenv\\Lib\\site-packages\\pandas\\core\\dtypes\\cast.py:1057:RuntimeWarning: invalid value encountered in cast\n",
      "d:\\myenv\\Lib\\site-packages\\pandas\\core\\dtypes\\cast.py:1081:RuntimeWarning: invalid value encountered in cast\n"
     ]
    },
    {
     "name": "stdout",
     "output_type": "stream",
     "text": [
      "✓ 1517 rows\n",
      "[242/411] Processing SEVI.PA^B22... "
     ]
    },
    {
     "name": "stderr",
     "output_type": "stream",
     "text": [
      "d:\\myenv\\Lib\\site-packages\\refinitiv\\data\\_tools\\_dataframe.py:177:FutureWarning: Downcasting object dtype arrays on .fillna, .ffill, .bfill is deprecated and will change in a future version. Call result.infer_objects(copy=False) instead. To opt-in to the future behavior, set `pd.set_option('future.no_silent_downcasting', True)`\n",
      "d:\\myenv\\Lib\\site-packages\\pandas\\core\\dtypes\\cast.py:1057:RuntimeWarning: invalid value encountered in cast\n",
      "d:\\myenv\\Lib\\site-packages\\pandas\\core\\dtypes\\cast.py:1081:RuntimeWarning: invalid value encountered in cast\n"
     ]
    },
    {
     "name": "stdout",
     "output_type": "stream",
     "text": [
      "✓ 1532 rows\n",
      "[243/411] Processing SGEF.PA... "
     ]
    },
    {
     "name": "stderr",
     "output_type": "stream",
     "text": [
      "d:\\myenv\\Lib\\site-packages\\refinitiv\\data\\_tools\\_dataframe.py:177:FutureWarning: Downcasting object dtype arrays on .fillna, .ffill, .bfill is deprecated and will change in a future version. Call result.infer_objects(copy=False) instead. To opt-in to the future behavior, set `pd.set_option('future.no_silent_downcasting', True)`\n",
      "d:\\myenv\\Lib\\site-packages\\pandas\\core\\dtypes\\cast.py:1057:RuntimeWarning: invalid value encountered in cast\n",
      "d:\\myenv\\Lib\\site-packages\\pandas\\core\\dtypes\\cast.py:1081:RuntimeWarning: invalid value encountered in cast\n"
     ]
    },
    {
     "name": "stdout",
     "output_type": "stream",
     "text": [
      "✓ 1517 rows\n",
      "[244/411] Processing SGOB.PA... "
     ]
    },
    {
     "name": "stderr",
     "output_type": "stream",
     "text": [
      "d:\\myenv\\Lib\\site-packages\\refinitiv\\data\\_tools\\_dataframe.py:177:FutureWarning: Downcasting object dtype arrays on .fillna, .ffill, .bfill is deprecated and will change in a future version. Call result.infer_objects(copy=False) instead. To opt-in to the future behavior, set `pd.set_option('future.no_silent_downcasting', True)`\n",
      "d:\\myenv\\Lib\\site-packages\\pandas\\core\\dtypes\\cast.py:1057:RuntimeWarning: invalid value encountered in cast\n",
      "d:\\myenv\\Lib\\site-packages\\pandas\\core\\dtypes\\cast.py:1081:RuntimeWarning: invalid value encountered in cast\n"
     ]
    },
    {
     "name": "stdout",
     "output_type": "stream",
     "text": [
      "✓ 1517 rows\n",
      "[245/411] Processing SHBa.ST... "
     ]
    },
    {
     "name": "stderr",
     "output_type": "stream",
     "text": [
      "d:\\myenv\\Lib\\site-packages\\refinitiv\\data\\_tools\\_dataframe.py:177:FutureWarning: Downcasting object dtype arrays on .fillna, .ffill, .bfill is deprecated and will change in a future version. Call result.infer_objects(copy=False) instead. To opt-in to the future behavior, set `pd.set_option('future.no_silent_downcasting', True)`\n",
      "d:\\myenv\\Lib\\site-packages\\pandas\\core\\dtypes\\cast.py:1057:RuntimeWarning: invalid value encountered in cast\n",
      "d:\\myenv\\Lib\\site-packages\\pandas\\core\\dtypes\\cast.py:1081:RuntimeWarning: invalid value encountered in cast\n",
      "d:\\myenv\\Lib\\site-packages\\pandas\\core\\dtypes\\cast.py:1057:RuntimeWarning: invalid value encountered in cast\n",
      "d:\\myenv\\Lib\\site-packages\\pandas\\core\\dtypes\\cast.py:1081:RuntimeWarning: invalid value encountered in cast\n"
     ]
    },
    {
     "name": "stdout",
     "output_type": "stream",
     "text": [
      "✓ 1488 rows\n",
      "[246/411] Processing SHEL.AS... "
     ]
    },
    {
     "name": "stderr",
     "output_type": "stream",
     "text": [
      "d:\\myenv\\Lib\\site-packages\\refinitiv\\data\\_tools\\_dataframe.py:177:FutureWarning: Downcasting object dtype arrays on .fillna, .ffill, .bfill is deprecated and will change in a future version. Call result.infer_objects(copy=False) instead. To opt-in to the future behavior, set `pd.set_option('future.no_silent_downcasting', True)`\n",
      "d:\\myenv\\Lib\\site-packages\\pandas\\core\\dtypes\\cast.py:1057:RuntimeWarning: invalid value encountered in cast\n",
      "d:\\myenv\\Lib\\site-packages\\pandas\\core\\dtypes\\cast.py:1081:RuntimeWarning: invalid value encountered in cast\n"
     ]
    },
    {
     "name": "stdout",
     "output_type": "stream",
     "text": [
      "✓ 1517 rows\n",
      "[247/411] Processing SIEGn.DE... "
     ]
    },
    {
     "name": "stderr",
     "output_type": "stream",
     "text": [
      "d:\\myenv\\Lib\\site-packages\\refinitiv\\data\\_tools\\_dataframe.py:177:FutureWarning: Downcasting object dtype arrays on .fillna, .ffill, .bfill is deprecated and will change in a future version. Call result.infer_objects(copy=False) instead. To opt-in to the future behavior, set `pd.set_option('future.no_silent_downcasting', True)`\n"
     ]
    },
    {
     "name": "stdout",
     "output_type": "stream",
     "text": [
      "✗ Failed: 'TRDPRC_1'\n",
      "[248/411] Processing SIM.CO^J23... "
     ]
    },
    {
     "name": "stderr",
     "output_type": "stream",
     "text": [
      "d:\\myenv\\Lib\\site-packages\\pandas\\core\\dtypes\\cast.py:1057:RuntimeWarning: invalid value encountered in cast\n",
      "d:\\myenv\\Lib\\site-packages\\pandas\\core\\dtypes\\cast.py:1081:RuntimeWarning: invalid value encountered in cast\n"
     ]
    },
    {
     "name": "stdout",
     "output_type": "stream",
     "text": [
      "✓ 1481 rows\n",
      "[249/411] Processing SKAb.ST... "
     ]
    },
    {
     "name": "stderr",
     "output_type": "stream",
     "text": [
      "d:\\myenv\\Lib\\site-packages\\refinitiv\\data\\_tools\\_dataframe.py:177:FutureWarning: Downcasting object dtype arrays on .fillna, .ffill, .bfill is deprecated and will change in a future version. Call result.infer_objects(copy=False) instead. To opt-in to the future behavior, set `pd.set_option('future.no_silent_downcasting', True)`\n",
      "d:\\myenv\\Lib\\site-packages\\pandas\\core\\dtypes\\cast.py:1057:RuntimeWarning: invalid value encountered in cast\n",
      "d:\\myenv\\Lib\\site-packages\\pandas\\core\\dtypes\\cast.py:1081:RuntimeWarning: invalid value encountered in cast\n"
     ]
    },
    {
     "name": "stdout",
     "output_type": "stream",
     "text": [
      "✓ 1488 rows\n",
      "[250/411] Processing SKFb.ST... "
     ]
    },
    {
     "name": "stderr",
     "output_type": "stream",
     "text": [
      "d:\\myenv\\Lib\\site-packages\\refinitiv\\data\\_tools\\_dataframe.py:177:FutureWarning: Downcasting object dtype arrays on .fillna, .ffill, .bfill is deprecated and will change in a future version. Call result.infer_objects(copy=False) instead. To opt-in to the future behavior, set `pd.set_option('future.no_silent_downcasting', True)`\n",
      "d:\\myenv\\Lib\\site-packages\\pandas\\core\\dtypes\\cast.py:1057:RuntimeWarning: invalid value encountered in cast\n",
      "d:\\myenv\\Lib\\site-packages\\pandas\\core\\dtypes\\cast.py:1081:RuntimeWarning: invalid value encountered in cast\n"
     ]
    },
    {
     "name": "stdout",
     "output_type": "stream",
     "text": [
      "✓ 1488 rows\n",
      "[251/411] Processing SOF.BR... "
     ]
    },
    {
     "name": "stderr",
     "output_type": "stream",
     "text": [
      "d:\\myenv\\Lib\\site-packages\\refinitiv\\data\\_tools\\_dataframe.py:177:FutureWarning: Downcasting object dtype arrays on .fillna, .ffill, .bfill is deprecated and will change in a future version. Call result.infer_objects(copy=False) instead. To opt-in to the future behavior, set `pd.set_option('future.no_silent_downcasting', True)`\n",
      "d:\\myenv\\Lib\\site-packages\\pandas\\core\\dtypes\\cast.py:1057:RuntimeWarning: invalid value encountered in cast\n",
      "d:\\myenv\\Lib\\site-packages\\pandas\\core\\dtypes\\cast.py:1081:RuntimeWarning: invalid value encountered in cast\n"
     ]
    },
    {
     "name": "stdout",
     "output_type": "stream",
     "text": [
      "✓ 1517 rows\n",
      "[252/411] Processing SOGN.PA... "
     ]
    },
    {
     "name": "stderr",
     "output_type": "stream",
     "text": [
      "d:\\myenv\\Lib\\site-packages\\refinitiv\\data\\_tools\\_dataframe.py:177:FutureWarning: Downcasting object dtype arrays on .fillna, .ffill, .bfill is deprecated and will change in a future version. Call result.infer_objects(copy=False) instead. To opt-in to the future behavior, set `pd.set_option('future.no_silent_downcasting', True)`\n",
      "d:\\myenv\\Lib\\site-packages\\pandas\\core\\dtypes\\cast.py:1057:RuntimeWarning: invalid value encountered in cast\n",
      "d:\\myenv\\Lib\\site-packages\\pandas\\core\\dtypes\\cast.py:1081:RuntimeWarning: invalid value encountered in cast\n"
     ]
    },
    {
     "name": "stdout",
     "output_type": "stream",
     "text": [
      "✓ 1517 rows\n",
      "[253/411] Processing SOIT.PA... "
     ]
    },
    {
     "name": "stderr",
     "output_type": "stream",
     "text": [
      "d:\\myenv\\Lib\\site-packages\\refinitiv\\data\\_tools\\_dataframe.py:177:FutureWarning: Downcasting object dtype arrays on .fillna, .ffill, .bfill is deprecated and will change in a future version. Call result.infer_objects(copy=False) instead. To opt-in to the future behavior, set `pd.set_option('future.no_silent_downcasting', True)`\n",
      "d:\\myenv\\Lib\\site-packages\\pandas\\core\\dtypes\\cast.py:1057:RuntimeWarning: invalid value encountered in cast\n",
      "d:\\myenv\\Lib\\site-packages\\pandas\\core\\dtypes\\cast.py:1081:RuntimeWarning: invalid value encountered in cast\n"
     ]
    },
    {
     "name": "stdout",
     "output_type": "stream",
     "text": [
      "✓ 1517 rows\n",
      "[254/411] Processing SOLB.BR... "
     ]
    },
    {
     "name": "stderr",
     "output_type": "stream",
     "text": [
      "d:\\myenv\\Lib\\site-packages\\refinitiv\\data\\_tools\\_dataframe.py:177:FutureWarning: Downcasting object dtype arrays on .fillna, .ffill, .bfill is deprecated and will change in a future version. Call result.infer_objects(copy=False) instead. To opt-in to the future behavior, set `pd.set_option('future.no_silent_downcasting', True)`\n",
      "d:\\myenv\\Lib\\site-packages\\pandas\\core\\dtypes\\cast.py:1057:RuntimeWarning: invalid value encountered in cast\n",
      "d:\\myenv\\Lib\\site-packages\\pandas\\core\\dtypes\\cast.py:1081:RuntimeWarning: invalid value encountered in cast\n"
     ]
    },
    {
     "name": "stdout",
     "output_type": "stream",
     "text": [
      "✓ 1517 rows\n",
      "[255/411] Processing SOPR.PA... "
     ]
    },
    {
     "name": "stderr",
     "output_type": "stream",
     "text": [
      "d:\\myenv\\Lib\\site-packages\\refinitiv\\data\\_tools\\_dataframe.py:177:FutureWarning: Downcasting object dtype arrays on .fillna, .ffill, .bfill is deprecated and will change in a future version. Call result.infer_objects(copy=False) instead. To opt-in to the future behavior, set `pd.set_option('future.no_silent_downcasting', True)`\n",
      "d:\\myenv\\Lib\\site-packages\\pandas\\core\\dtypes\\cast.py:1057:RuntimeWarning: invalid value encountered in cast\n",
      "d:\\myenv\\Lib\\site-packages\\pandas\\core\\dtypes\\cast.py:1081:RuntimeWarning: invalid value encountered in cast\n"
     ]
    },
    {
     "name": "stdout",
     "output_type": "stream",
     "text": [
      "✓ 1517 rows\n",
      "[256/411] Processing SPIE.PA... "
     ]
    },
    {
     "name": "stderr",
     "output_type": "stream",
     "text": [
      "d:\\myenv\\Lib\\site-packages\\refinitiv\\data\\_tools\\_dataframe.py:177:FutureWarning: Downcasting object dtype arrays on .fillna, .ffill, .bfill is deprecated and will change in a future version. Call result.infer_objects(copy=False) instead. To opt-in to the future behavior, set `pd.set_option('future.no_silent_downcasting', True)`\n",
      "d:\\myenv\\Lib\\site-packages\\pandas\\core\\dtypes\\cast.py:1057:RuntimeWarning: invalid value encountered in cast\n",
      "d:\\myenv\\Lib\\site-packages\\pandas\\core\\dtypes\\cast.py:1081:RuntimeWarning: invalid value encountered in cast\n"
     ]
    },
    {
     "name": "stdout",
     "output_type": "stream",
     "text": [
      "✓ 1517 rows\n",
      "[257/411] Processing SSABa.ST... "
     ]
    },
    {
     "name": "stderr",
     "output_type": "stream",
     "text": [
      "d:\\myenv\\Lib\\site-packages\\refinitiv\\data\\_tools\\_dataframe.py:177:FutureWarning: Downcasting object dtype arrays on .fillna, .ffill, .bfill is deprecated and will change in a future version. Call result.infer_objects(copy=False) instead. To opt-in to the future behavior, set `pd.set_option('future.no_silent_downcasting', True)`\n",
      "d:\\myenv\\Lib\\site-packages\\pandas\\core\\dtypes\\cast.py:1057:RuntimeWarning: invalid value encountered in cast\n",
      "d:\\myenv\\Lib\\site-packages\\pandas\\core\\dtypes\\cast.py:1081:RuntimeWarning: invalid value encountered in cast\n"
     ]
    },
    {
     "name": "stdout",
     "output_type": "stream",
     "text": [
      "✓ 1488 rows\n",
      "[258/411] Processing STB.OL... "
     ]
    },
    {
     "name": "stderr",
     "output_type": "stream",
     "text": [
      "d:\\myenv\\Lib\\site-packages\\refinitiv\\data\\_tools\\_dataframe.py:177:FutureWarning: Downcasting object dtype arrays on .fillna, .ffill, .bfill is deprecated and will change in a future version. Call result.infer_objects(copy=False) instead. To opt-in to the future behavior, set `pd.set_option('future.no_silent_downcasting', True)`\n"
     ]
    },
    {
     "name": "stdout",
     "output_type": "stream",
     "text": [
      "✗ Failed: 'TRDPRC_1'\n",
      "[259/411] Processing STDM.PA... "
     ]
    },
    {
     "name": "stderr",
     "output_type": "stream",
     "text": [
      "d:\\myenv\\Lib\\site-packages\\pandas\\core\\dtypes\\cast.py:1057:RuntimeWarning: invalid value encountered in cast\n",
      "d:\\myenv\\Lib\\site-packages\\pandas\\core\\dtypes\\cast.py:1081:RuntimeWarning: invalid value encountered in cast\n"
     ]
    },
    {
     "name": "stdout",
     "output_type": "stream",
     "text": [
      "✓ 1517 rows\n",
      "[260/411] Processing STERV.HE... "
     ]
    },
    {
     "name": "stderr",
     "output_type": "stream",
     "text": [
      "d:\\myenv\\Lib\\site-packages\\refinitiv\\data\\_tools\\_dataframe.py:177:FutureWarning: Downcasting object dtype arrays on .fillna, .ffill, .bfill is deprecated and will change in a future version. Call result.infer_objects(copy=False) instead. To opt-in to the future behavior, set `pd.set_option('future.no_silent_downcasting', True)`\n",
      "d:\\myenv\\Lib\\site-packages\\pandas\\core\\dtypes\\cast.py:1057:RuntimeWarning: invalid value encountered in cast\n",
      "d:\\myenv\\Lib\\site-packages\\pandas\\core\\dtypes\\cast.py:1081:RuntimeWarning: invalid value encountered in cast\n"
     ]
    },
    {
     "name": "stdout",
     "output_type": "stream",
     "text": [
      "✓ 1487 rows\n",
      "[261/411] Processing STMPA.PA... "
     ]
    },
    {
     "name": "stderr",
     "output_type": "stream",
     "text": [
      "d:\\myenv\\Lib\\site-packages\\refinitiv\\data\\_tools\\_dataframe.py:177:FutureWarning: Downcasting object dtype arrays on .fillna, .ffill, .bfill is deprecated and will change in a future version. Call result.infer_objects(copy=False) instead. To opt-in to the future behavior, set `pd.set_option('future.no_silent_downcasting', True)`\n",
      "d:\\myenv\\Lib\\site-packages\\pandas\\core\\dtypes\\cast.py:1057:RuntimeWarning: invalid value encountered in cast\n",
      "d:\\myenv\\Lib\\site-packages\\pandas\\core\\dtypes\\cast.py:1081:RuntimeWarning: invalid value encountered in cast\n"
     ]
    },
    {
     "name": "stdout",
     "output_type": "stream",
     "text": [
      "✓ 1517 rows\n",
      "[262/411] Processing SUBC.OL... "
     ]
    },
    {
     "name": "stderr",
     "output_type": "stream",
     "text": [
      "d:\\myenv\\Lib\\site-packages\\refinitiv\\data\\_tools\\_dataframe.py:177:FutureWarning: Downcasting object dtype arrays on .fillna, .ffill, .bfill is deprecated and will change in a future version. Call result.infer_objects(copy=False) instead. To opt-in to the future behavior, set `pd.set_option('future.no_silent_downcasting', True)`\n"
     ]
    },
    {
     "name": "stdout",
     "output_type": "stream",
     "text": [
      "✗ Failed: 'TRDPRC_1'\n",
      "[263/411] Processing SWEDa.ST... "
     ]
    },
    {
     "name": "stderr",
     "output_type": "stream",
     "text": [
      "d:\\myenv\\Lib\\site-packages\\pandas\\core\\dtypes\\cast.py:1057:RuntimeWarning: invalid value encountered in cast\n",
      "d:\\myenv\\Lib\\site-packages\\pandas\\core\\dtypes\\cast.py:1081:RuntimeWarning: invalid value encountered in cast\n",
      "d:\\myenv\\Lib\\site-packages\\pandas\\core\\dtypes\\cast.py:1057:RuntimeWarning: invalid value encountered in cast\n",
      "d:\\myenv\\Lib\\site-packages\\pandas\\core\\dtypes\\cast.py:1081:RuntimeWarning: invalid value encountered in cast\n"
     ]
    },
    {
     "name": "stdout",
     "output_type": "stream",
     "text": [
      "✓ 1488 rows\n",
      "[264/411] Processing SWMA.ST^A23... "
     ]
    },
    {
     "name": "stderr",
     "output_type": "stream",
     "text": [
      "d:\\myenv\\Lib\\site-packages\\refinitiv\\data\\_tools\\_dataframe.py:177:FutureWarning: Downcasting object dtype arrays on .fillna, .ffill, .bfill is deprecated and will change in a future version. Call result.infer_objects(copy=False) instead. To opt-in to the future behavior, set `pd.set_option('future.no_silent_downcasting', True)`\n",
      "d:\\myenv\\Lib\\site-packages\\pandas\\core\\dtypes\\cast.py:1057:RuntimeWarning: invalid value encountered in cast\n",
      "d:\\myenv\\Lib\\site-packages\\pandas\\core\\dtypes\\cast.py:1081:RuntimeWarning: invalid value encountered in cast\n"
     ]
    },
    {
     "name": "stdout",
     "output_type": "stream",
     "text": [
      "✓ 1488 rows\n",
      "[265/411] Processing TCFP.PA... "
     ]
    },
    {
     "name": "stderr",
     "output_type": "stream",
     "text": [
      "d:\\myenv\\Lib\\site-packages\\refinitiv\\data\\_tools\\_dataframe.py:177:FutureWarning: Downcasting object dtype arrays on .fillna, .ffill, .bfill is deprecated and will change in a future version. Call result.infer_objects(copy=False) instead. To opt-in to the future behavior, set `pd.set_option('future.no_silent_downcasting', True)`\n",
      "d:\\myenv\\Lib\\site-packages\\pandas\\core\\dtypes\\cast.py:1057:RuntimeWarning: invalid value encountered in cast\n",
      "d:\\myenv\\Lib\\site-packages\\pandas\\core\\dtypes\\cast.py:1081:RuntimeWarning: invalid value encountered in cast\n"
     ]
    },
    {
     "name": "stdout",
     "output_type": "stream",
     "text": [
      "✓ 1517 rows\n",
      "[266/411] Processing TEL.OL... "
     ]
    },
    {
     "name": "stderr",
     "output_type": "stream",
     "text": [
      "d:\\myenv\\Lib\\site-packages\\refinitiv\\data\\_tools\\_dataframe.py:177:FutureWarning: Downcasting object dtype arrays on .fillna, .ffill, .bfill is deprecated and will change in a future version. Call result.infer_objects(copy=False) instead. To opt-in to the future behavior, set `pd.set_option('future.no_silent_downcasting', True)`\n"
     ]
    },
    {
     "name": "stdout",
     "output_type": "stream",
     "text": [
      "✗ Failed: 'TRDPRC_1'\n",
      "[267/411] Processing TEL2b.ST... "
     ]
    },
    {
     "name": "stderr",
     "output_type": "stream",
     "text": [
      "d:\\myenv\\Lib\\site-packages\\pandas\\core\\dtypes\\cast.py:1057:RuntimeWarning: invalid value encountered in cast\n",
      "d:\\myenv\\Lib\\site-packages\\pandas\\core\\dtypes\\cast.py:1081:RuntimeWarning: invalid value encountered in cast\n"
     ]
    },
    {
     "name": "stdout",
     "output_type": "stream",
     "text": [
      "✓ 1488 rows\n",
      "[268/411] Processing TELIA.ST... "
     ]
    },
    {
     "name": "stderr",
     "output_type": "stream",
     "text": [
      "d:\\myenv\\Lib\\site-packages\\refinitiv\\data\\_tools\\_dataframe.py:177:FutureWarning: Downcasting object dtype arrays on .fillna, .ffill, .bfill is deprecated and will change in a future version. Call result.infer_objects(copy=False) instead. To opt-in to the future behavior, set `pd.set_option('future.no_silent_downcasting', True)`\n",
      "d:\\myenv\\Lib\\site-packages\\pandas\\core\\dtypes\\cast.py:1057:RuntimeWarning: invalid value encountered in cast\n",
      "d:\\myenv\\Lib\\site-packages\\pandas\\core\\dtypes\\cast.py:1081:RuntimeWarning: invalid value encountered in cast\n"
     ]
    },
    {
     "name": "stdout",
     "output_type": "stream",
     "text": [
      "✓ 1488 rows\n",
      "[269/411] Processing TELIA1.HE... "
     ]
    },
    {
     "name": "stderr",
     "output_type": "stream",
     "text": [
      "d:\\myenv\\Lib\\site-packages\\refinitiv\\data\\_tools\\_dataframe.py:177:FutureWarning: Downcasting object dtype arrays on .fillna, .ffill, .bfill is deprecated and will change in a future version. Call result.infer_objects(copy=False) instead. To opt-in to the future behavior, set `pd.set_option('future.no_silent_downcasting', True)`\n",
      "d:\\myenv\\Lib\\site-packages\\pandas\\core\\dtypes\\cast.py:1057:RuntimeWarning: invalid value encountered in cast\n",
      "d:\\myenv\\Lib\\site-packages\\pandas\\core\\dtypes\\cast.py:1081:RuntimeWarning: invalid value encountered in cast\n"
     ]
    },
    {
     "name": "stdout",
     "output_type": "stream",
     "text": [
      "✓ 1487 rows\n",
      "[270/411] Processing TEPRF.PA... "
     ]
    },
    {
     "name": "stderr",
     "output_type": "stream",
     "text": [
      "d:\\myenv\\Lib\\site-packages\\refinitiv\\data\\_tools\\_dataframe.py:177:FutureWarning: Downcasting object dtype arrays on .fillna, .ffill, .bfill is deprecated and will change in a future version. Call result.infer_objects(copy=False) instead. To opt-in to the future behavior, set `pd.set_option('future.no_silent_downcasting', True)`\n",
      "d:\\myenv\\Lib\\site-packages\\pandas\\core\\dtypes\\cast.py:1057:RuntimeWarning: invalid value encountered in cast\n",
      "d:\\myenv\\Lib\\site-packages\\pandas\\core\\dtypes\\cast.py:1081:RuntimeWarning: invalid value encountered in cast\n"
     ]
    },
    {
     "name": "stdout",
     "output_type": "stream",
     "text": [
      "✓ 1517 rows\n",
      "[271/411] Processing TFFP.PA... "
     ]
    },
    {
     "name": "stderr",
     "output_type": "stream",
     "text": [
      "d:\\myenv\\Lib\\site-packages\\refinitiv\\data\\_tools\\_dataframe.py:177:FutureWarning: Downcasting object dtype arrays on .fillna, .ffill, .bfill is deprecated and will change in a future version. Call result.infer_objects(copy=False) instead. To opt-in to the future behavior, set `pd.set_option('future.no_silent_downcasting', True)`\n"
     ]
    },
    {
     "name": "stdout",
     "output_type": "stream",
     "text": [
      "✓ 1517 rows\n",
      "[272/411] Processing TGS.OL... "
     ]
    },
    {
     "name": "stderr",
     "output_type": "stream",
     "text": [
      "d:\\myenv\\Lib\\site-packages\\refinitiv\\data\\_tools\\_dataframe.py:177:FutureWarning: Downcasting object dtype arrays on .fillna, .ffill, .bfill is deprecated and will change in a future version. Call result.infer_objects(copy=False) instead. To opt-in to the future behavior, set `pd.set_option('future.no_silent_downcasting', True)`\n"
     ]
    },
    {
     "name": "stdout",
     "output_type": "stream",
     "text": [
      "✗ Failed: 'TRDPRC_1'\n",
      "[273/411] Processing TIETO.HE... "
     ]
    },
    {
     "name": "stderr",
     "output_type": "stream",
     "text": [
      "d:\\myenv\\Lib\\site-packages\\pandas\\core\\dtypes\\cast.py:1057:RuntimeWarning: invalid value encountered in cast\n",
      "d:\\myenv\\Lib\\site-packages\\pandas\\core\\dtypes\\cast.py:1081:RuntimeWarning: invalid value encountered in cast\n"
     ]
    },
    {
     "name": "stdout",
     "output_type": "stream",
     "text": [
      "✓ 1487 rows\n",
      "[274/411] Processing TKTT.PA... "
     ]
    },
    {
     "name": "stderr",
     "output_type": "stream",
     "text": [
      "d:\\myenv\\Lib\\site-packages\\refinitiv\\data\\_tools\\_dataframe.py:177:FutureWarning: Downcasting object dtype arrays on .fillna, .ffill, .bfill is deprecated and will change in a future version. Call result.infer_objects(copy=False) instead. To opt-in to the future behavior, set `pd.set_option('future.no_silent_downcasting', True)`\n"
     ]
    },
    {
     "name": "stdout",
     "output_type": "stream",
     "text": [
      "✓ 1522 rows\n",
      "[275/411] Processing TKWY.AS... "
     ]
    },
    {
     "name": "stderr",
     "output_type": "stream",
     "text": [
      "d:\\myenv\\Lib\\site-packages\\refinitiv\\data\\_tools\\_dataframe.py:177:FutureWarning: Downcasting object dtype arrays on .fillna, .ffill, .bfill is deprecated and will change in a future version. Call result.infer_objects(copy=False) instead. To opt-in to the future behavior, set `pd.set_option('future.no_silent_downcasting', True)`\n",
      "d:\\myenv\\Lib\\site-packages\\pandas\\core\\dtypes\\cast.py:1057:RuntimeWarning: invalid value encountered in cast\n",
      "d:\\myenv\\Lib\\site-packages\\pandas\\core\\dtypes\\cast.py:1081:RuntimeWarning: invalid value encountered in cast\n"
     ]
    },
    {
     "name": "stdout",
     "output_type": "stream",
     "text": [
      "✓ 1517 rows\n",
      "[276/411] Processing TNET.BR^J23... "
     ]
    },
    {
     "name": "stderr",
     "output_type": "stream",
     "text": [
      "d:\\myenv\\Lib\\site-packages\\refinitiv\\data\\_tools\\_dataframe.py:177:FutureWarning: Downcasting object dtype arrays on .fillna, .ffill, .bfill is deprecated and will change in a future version. Call result.infer_objects(copy=False) instead. To opt-in to the future behavior, set `pd.set_option('future.no_silent_downcasting', True)`\n",
      "d:\\myenv\\Lib\\site-packages\\pandas\\core\\dtypes\\cast.py:1057:RuntimeWarning: invalid value encountered in cast\n",
      "d:\\myenv\\Lib\\site-packages\\pandas\\core\\dtypes\\cast.py:1081:RuntimeWarning: invalid value encountered in cast\n"
     ]
    },
    {
     "name": "stdout",
     "output_type": "stream",
     "text": [
      "✓ 1519 rows\n",
      "[277/411] Processing TOM.OL... "
     ]
    },
    {
     "name": "stderr",
     "output_type": "stream",
     "text": [
      "d:\\myenv\\Lib\\site-packages\\refinitiv\\data\\_tools\\_dataframe.py:177:FutureWarning: Downcasting object dtype arrays on .fillna, .ffill, .bfill is deprecated and will change in a future version. Call result.infer_objects(copy=False) instead. To opt-in to the future behavior, set `pd.set_option('future.no_silent_downcasting', True)`\n",
      "d:\\myenv\\Lib\\site-packages\\pandas\\core\\dtypes\\cast.py:1057:RuntimeWarning: invalid value encountered in cast\n",
      "d:\\myenv\\Lib\\site-packages\\pandas\\core\\dtypes\\cast.py:1081:RuntimeWarning: invalid value encountered in cast\n"
     ]
    },
    {
     "name": "stdout",
     "output_type": "stream",
     "text": [
      "✗ Failed: 'TRDPRC_1'\n",
      "[278/411] Processing TRIA.PA... "
     ]
    },
    {
     "name": "stderr",
     "output_type": "stream",
     "text": [
      "d:\\myenv\\Lib\\site-packages\\pandas\\core\\dtypes\\cast.py:1057:RuntimeWarning: invalid value encountered in cast\n",
      "d:\\myenv\\Lib\\site-packages\\pandas\\core\\dtypes\\cast.py:1081:RuntimeWarning: invalid value encountered in cast\n"
     ]
    },
    {
     "name": "stdout",
     "output_type": "stream",
     "text": [
      "✓ 1517 rows\n",
      "[279/411] Processing TRYG.CO... "
     ]
    },
    {
     "name": "stderr",
     "output_type": "stream",
     "text": [
      "d:\\myenv\\Lib\\site-packages\\refinitiv\\data\\_tools\\_dataframe.py:177:FutureWarning: Downcasting object dtype arrays on .fillna, .ffill, .bfill is deprecated and will change in a future version. Call result.infer_objects(copy=False) instead. To opt-in to the future behavior, set `pd.set_option('future.no_silent_downcasting', True)`\n",
      "d:\\myenv\\Lib\\site-packages\\pandas\\core\\dtypes\\cast.py:1057:RuntimeWarning: invalid value encountered in cast\n",
      "d:\\myenv\\Lib\\site-packages\\pandas\\core\\dtypes\\cast.py:1081:RuntimeWarning: invalid value encountered in cast\n",
      "d:\\myenv\\Lib\\site-packages\\pandas\\core\\dtypes\\cast.py:1057:RuntimeWarning: invalid value encountered in cast\n",
      "d:\\myenv\\Lib\\site-packages\\pandas\\core\\dtypes\\cast.py:1081:RuntimeWarning: invalid value encountered in cast\n"
     ]
    },
    {
     "name": "stdout",
     "output_type": "stream",
     "text": [
      "✓ 1481 rows\n",
      "[280/411] Processing TTEF.PA... "
     ]
    },
    {
     "name": "stderr",
     "output_type": "stream",
     "text": [
      "d:\\myenv\\Lib\\site-packages\\refinitiv\\data\\_tools\\_dataframe.py:177:FutureWarning: Downcasting object dtype arrays on .fillna, .ffill, .bfill is deprecated and will change in a future version. Call result.infer_objects(copy=False) instead. To opt-in to the future behavior, set `pd.set_option('future.no_silent_downcasting', True)`\n",
      "d:\\myenv\\Lib\\site-packages\\pandas\\core\\dtypes\\cast.py:1057:RuntimeWarning: invalid value encountered in cast\n",
      "d:\\myenv\\Lib\\site-packages\\pandas\\core\\dtypes\\cast.py:1081:RuntimeWarning: invalid value encountered in cast\n"
     ]
    },
    {
     "name": "stdout",
     "output_type": "stream",
     "text": [
      "✓ 1517 rows\n",
      "[281/411] Processing TWKNc.AS... "
     ]
    },
    {
     "name": "stderr",
     "output_type": "stream",
     "text": [
      "d:\\myenv\\Lib\\site-packages\\refinitiv\\data\\_tools\\_dataframe.py:177:FutureWarning: Downcasting object dtype arrays on .fillna, .ffill, .bfill is deprecated and will change in a future version. Call result.infer_objects(copy=False) instead. To opt-in to the future behavior, set `pd.set_option('future.no_silent_downcasting', True)`\n",
      "d:\\myenv\\Lib\\site-packages\\pandas\\core\\dtypes\\cast.py:1057:RuntimeWarning: invalid value encountered in cast\n",
      "d:\\myenv\\Lib\\site-packages\\pandas\\core\\dtypes\\cast.py:1081:RuntimeWarning: invalid value encountered in cast\n"
     ]
    },
    {
     "name": "stdout",
     "output_type": "stream",
     "text": [
      "✓ 1517 rows\n",
      "[282/411] Processing TYRES.HE... "
     ]
    },
    {
     "name": "stderr",
     "output_type": "stream",
     "text": [
      "d:\\myenv\\Lib\\site-packages\\refinitiv\\data\\_tools\\_dataframe.py:177:FutureWarning: Downcasting object dtype arrays on .fillna, .ffill, .bfill is deprecated and will change in a future version. Call result.infer_objects(copy=False) instead. To opt-in to the future behavior, set `pd.set_option('future.no_silent_downcasting', True)`\n",
      "d:\\myenv\\Lib\\site-packages\\pandas\\core\\dtypes\\cast.py:1057:RuntimeWarning: invalid value encountered in cast\n",
      "d:\\myenv\\Lib\\site-packages\\pandas\\core\\dtypes\\cast.py:1081:RuntimeWarning: invalid value encountered in cast\n"
     ]
    },
    {
     "name": "stdout",
     "output_type": "stream",
     "text": [
      "✓ 1487 rows\n",
      "[283/411] Processing UBIP.PA... "
     ]
    },
    {
     "name": "stderr",
     "output_type": "stream",
     "text": [
      "d:\\myenv\\Lib\\site-packages\\refinitiv\\data\\_tools\\_dataframe.py:177:FutureWarning: Downcasting object dtype arrays on .fillna, .ffill, .bfill is deprecated and will change in a future version. Call result.infer_objects(copy=False) instead. To opt-in to the future behavior, set `pd.set_option('future.no_silent_downcasting', True)`\n",
      "d:\\myenv\\Lib\\site-packages\\pandas\\core\\dtypes\\cast.py:1057:RuntimeWarning: invalid value encountered in cast\n",
      "d:\\myenv\\Lib\\site-packages\\pandas\\core\\dtypes\\cast.py:1081:RuntimeWarning: invalid value encountered in cast\n"
     ]
    },
    {
     "name": "stdout",
     "output_type": "stream",
     "text": [
      "✓ 1517 rows\n",
      "[284/411] Processing UCB.BR... "
     ]
    },
    {
     "name": "stderr",
     "output_type": "stream",
     "text": [
      "d:\\myenv\\Lib\\site-packages\\refinitiv\\data\\_tools\\_dataframe.py:177:FutureWarning: Downcasting object dtype arrays on .fillna, .ffill, .bfill is deprecated and will change in a future version. Call result.infer_objects(copy=False) instead. To opt-in to the future behavior, set `pd.set_option('future.no_silent_downcasting', True)`\n",
      "d:\\myenv\\Lib\\site-packages\\pandas\\core\\dtypes\\cast.py:1057:RuntimeWarning: invalid value encountered in cast\n",
      "d:\\myenv\\Lib\\site-packages\\pandas\\core\\dtypes\\cast.py:1081:RuntimeWarning: invalid value encountered in cast\n"
     ]
    },
    {
     "name": "stdout",
     "output_type": "stream",
     "text": [
      "✓ 1517 rows\n",
      "[285/411] Processing UMI.BR... "
     ]
    },
    {
     "name": "stderr",
     "output_type": "stream",
     "text": [
      "d:\\myenv\\Lib\\site-packages\\refinitiv\\data\\_tools\\_dataframe.py:177:FutureWarning: Downcasting object dtype arrays on .fillna, .ffill, .bfill is deprecated and will change in a future version. Call result.infer_objects(copy=False) instead. To opt-in to the future behavior, set `pd.set_option('future.no_silent_downcasting', True)`\n",
      "d:\\myenv\\Lib\\site-packages\\pandas\\core\\dtypes\\cast.py:1057:RuntimeWarning: invalid value encountered in cast\n",
      "d:\\myenv\\Lib\\site-packages\\pandas\\core\\dtypes\\cast.py:1081:RuntimeWarning: invalid value encountered in cast\n"
     ]
    },
    {
     "name": "stdout",
     "output_type": "stream",
     "text": [
      "✓ 1517 rows\n",
      "[286/411] Processing UNA.AS^K20... "
     ]
    },
    {
     "name": "stderr",
     "output_type": "stream",
     "text": [
      "d:\\myenv\\Lib\\site-packages\\refinitiv\\data\\_tools\\_dataframe.py:177:FutureWarning: Downcasting object dtype arrays on .fillna, .ffill, .bfill is deprecated and will change in a future version. Call result.infer_objects(copy=False) instead. To opt-in to the future behavior, set `pd.set_option('future.no_silent_downcasting', True)`\n",
      "d:\\myenv\\Lib\\site-packages\\pandas\\core\\dtypes\\cast.py:1057:RuntimeWarning: invalid value encountered in cast\n",
      "d:\\myenv\\Lib\\site-packages\\pandas\\core\\dtypes\\cast.py:1081:RuntimeWarning: invalid value encountered in cast\n",
      "d:\\myenv\\Lib\\site-packages\\pandas\\core\\dtypes\\cast.py:1057:RuntimeWarning: invalid value encountered in cast\n",
      "d:\\myenv\\Lib\\site-packages\\pandas\\core\\dtypes\\cast.py:1081:RuntimeWarning: invalid value encountered in cast\n"
     ]
    },
    {
     "name": "stdout",
     "output_type": "stream",
     "text": [
      "✓ 1517 rows\n",
      "[287/411] Processing UPM.HE... "
     ]
    },
    {
     "name": "stderr",
     "output_type": "stream",
     "text": [
      "d:\\myenv\\Lib\\site-packages\\refinitiv\\data\\_tools\\_dataframe.py:177:FutureWarning: Downcasting object dtype arrays on .fillna, .ffill, .bfill is deprecated and will change in a future version. Call result.infer_objects(copy=False) instead. To opt-in to the future behavior, set `pd.set_option('future.no_silent_downcasting', True)`\n",
      "d:\\myenv\\Lib\\site-packages\\pandas\\core\\dtypes\\cast.py:1057:RuntimeWarning: invalid value encountered in cast\n",
      "d:\\myenv\\Lib\\site-packages\\pandas\\core\\dtypes\\cast.py:1081:RuntimeWarning: invalid value encountered in cast\n"
     ]
    },
    {
     "name": "stdout",
     "output_type": "stream",
     "text": [
      "✓ 1487 rows\n",
      "[288/411] Processing URW.PA... "
     ]
    },
    {
     "name": "stderr",
     "output_type": "stream",
     "text": [
      "d:\\myenv\\Lib\\site-packages\\refinitiv\\data\\_tools\\_dataframe.py:177:FutureWarning: Downcasting object dtype arrays on .fillna, .ffill, .bfill is deprecated and will change in a future version. Call result.infer_objects(copy=False) instead. To opt-in to the future behavior, set `pd.set_option('future.no_silent_downcasting', True)`\n",
      "d:\\myenv\\Lib\\site-packages\\pandas\\core\\dtypes\\cast.py:1057:RuntimeWarning: invalid value encountered in cast\n",
      "d:\\myenv\\Lib\\site-packages\\pandas\\core\\dtypes\\cast.py:1081:RuntimeWarning: invalid value encountered in cast\n"
     ]
    },
    {
     "name": "stdout",
     "output_type": "stream",
     "text": [
      "✓ 1517 rows\n",
      "[289/411] Processing VALMT.HE... "
     ]
    },
    {
     "name": "stderr",
     "output_type": "stream",
     "text": [
      "d:\\myenv\\Lib\\site-packages\\refinitiv\\data\\_tools\\_dataframe.py:177:FutureWarning: Downcasting object dtype arrays on .fillna, .ffill, .bfill is deprecated and will change in a future version. Call result.infer_objects(copy=False) instead. To opt-in to the future behavior, set `pd.set_option('future.no_silent_downcasting', True)`\n",
      "d:\\myenv\\Lib\\site-packages\\pandas\\core\\dtypes\\cast.py:1057:RuntimeWarning: invalid value encountered in cast\n",
      "d:\\myenv\\Lib\\site-packages\\pandas\\core\\dtypes\\cast.py:1081:RuntimeWarning: invalid value encountered in cast\n"
     ]
    },
    {
     "name": "stdout",
     "output_type": "stream",
     "text": [
      "✓ 1487 rows\n",
      "[290/411] Processing VCTP.PA... "
     ]
    },
    {
     "name": "stderr",
     "output_type": "stream",
     "text": [
      "d:\\myenv\\Lib\\site-packages\\refinitiv\\data\\_tools\\_dataframe.py:177:FutureWarning: Downcasting object dtype arrays on .fillna, .ffill, .bfill is deprecated and will change in a future version. Call result.infer_objects(copy=False) instead. To opt-in to the future behavior, set `pd.set_option('future.no_silent_downcasting', True)`\n",
      "d:\\myenv\\Lib\\site-packages\\pandas\\core\\dtypes\\cast.py:1057:RuntimeWarning: invalid value encountered in cast\n",
      "d:\\myenv\\Lib\\site-packages\\pandas\\core\\dtypes\\cast.py:1081:RuntimeWarning: invalid value encountered in cast\n"
     ]
    },
    {
     "name": "stdout",
     "output_type": "stream",
     "text": [
      "✓ 1517 rows\n",
      "[291/411] Processing VENDA.OL... ✗ Failed: Error code -1 | No data to return, please check errors: ERROR: No successful response.\n",
      "(TS.Interday.UserRequestError.70005, The universe is not found)\n",
      "[292/411] Processing VIE.PA... "
     ]
    },
    {
     "name": "stderr",
     "output_type": "stream",
     "text": [
      "d:\\myenv\\Lib\\site-packages\\refinitiv\\data\\_tools\\_dataframe.py:177:FutureWarning: Downcasting object dtype arrays on .fillna, .ffill, .bfill is deprecated and will change in a future version. Call result.infer_objects(copy=False) instead. To opt-in to the future behavior, set `pd.set_option('future.no_silent_downcasting', True)`\n",
      "d:\\myenv\\Lib\\site-packages\\pandas\\core\\dtypes\\cast.py:1057:RuntimeWarning: invalid value encountered in cast\n",
      "d:\\myenv\\Lib\\site-packages\\pandas\\core\\dtypes\\cast.py:1081:RuntimeWarning: invalid value encountered in cast\n"
     ]
    },
    {
     "name": "stdout",
     "output_type": "stream",
     "text": [
      "✓ 1517 rows\n",
      "[293/411] Processing VIRB.PA... "
     ]
    },
    {
     "name": "stderr",
     "output_type": "stream",
     "text": [
      "d:\\myenv\\Lib\\site-packages\\refinitiv\\data\\_tools\\_dataframe.py:177:FutureWarning: Downcasting object dtype arrays on .fillna, .ffill, .bfill is deprecated and will change in a future version. Call result.infer_objects(copy=False) instead. To opt-in to the future behavior, set `pd.set_option('future.no_silent_downcasting', True)`\n",
      "d:\\myenv\\Lib\\site-packages\\pandas\\core\\dtypes\\cast.py:1057:RuntimeWarning: invalid value encountered in cast\n",
      "d:\\myenv\\Lib\\site-packages\\pandas\\core\\dtypes\\cast.py:1081:RuntimeWarning: invalid value encountered in cast\n"
     ]
    },
    {
     "name": "stdout",
     "output_type": "stream",
     "text": [
      "✓ 1517 rows\n",
      "[294/411] Processing VIRI.PA... "
     ]
    },
    {
     "name": "stderr",
     "output_type": "stream",
     "text": [
      "d:\\myenv\\Lib\\site-packages\\refinitiv\\data\\_tools\\_dataframe.py:177:FutureWarning: Downcasting object dtype arrays on .fillna, .ffill, .bfill is deprecated and will change in a future version. Call result.infer_objects(copy=False) instead. To opt-in to the future behavior, set `pd.set_option('future.no_silent_downcasting', True)`\n",
      "d:\\myenv\\Lib\\site-packages\\pandas\\core\\dtypes\\cast.py:1057:RuntimeWarning: invalid value encountered in cast\n",
      "d:\\myenv\\Lib\\site-packages\\pandas\\core\\dtypes\\cast.py:1081:RuntimeWarning: invalid value encountered in cast\n"
     ]
    },
    {
     "name": "stdout",
     "output_type": "stream",
     "text": [
      "✓ 1517 rows\n",
      "[295/411] Processing VIV.PA... "
     ]
    },
    {
     "name": "stderr",
     "output_type": "stream",
     "text": [
      "d:\\myenv\\Lib\\site-packages\\refinitiv\\data\\_tools\\_dataframe.py:177:FutureWarning: Downcasting object dtype arrays on .fillna, .ffill, .bfill is deprecated and will change in a future version. Call result.infer_objects(copy=False) instead. To opt-in to the future behavior, set `pd.set_option('future.no_silent_downcasting', True)`\n",
      "d:\\myenv\\Lib\\site-packages\\pandas\\core\\dtypes\\cast.py:1057:RuntimeWarning: invalid value encountered in cast\n",
      "d:\\myenv\\Lib\\site-packages\\pandas\\core\\dtypes\\cast.py:1081:RuntimeWarning: invalid value encountered in cast\n"
     ]
    },
    {
     "name": "stdout",
     "output_type": "stream",
     "text": [
      "✓ 1517 rows\n",
      "[296/411] Processing VLLP.PA... "
     ]
    },
    {
     "name": "stderr",
     "output_type": "stream",
     "text": [
      "d:\\myenv\\Lib\\site-packages\\refinitiv\\data\\_tools\\_dataframe.py:177:FutureWarning: Downcasting object dtype arrays on .fillna, .ffill, .bfill is deprecated and will change in a future version. Call result.infer_objects(copy=False) instead. To opt-in to the future behavior, set `pd.set_option('future.no_silent_downcasting', True)`\n",
      "d:\\myenv\\Lib\\site-packages\\pandas\\core\\dtypes\\cast.py:1057:RuntimeWarning: invalid value encountered in cast\n",
      "d:\\myenv\\Lib\\site-packages\\pandas\\core\\dtypes\\cast.py:1081:RuntimeWarning: invalid value encountered in cast\n"
     ]
    },
    {
     "name": "stdout",
     "output_type": "stream",
     "text": [
      "✓ 1520 rows\n",
      "[297/411] Processing VLOF.PA... "
     ]
    },
    {
     "name": "stderr",
     "output_type": "stream",
     "text": [
      "d:\\myenv\\Lib\\site-packages\\refinitiv\\data\\_tools\\_dataframe.py:177:FutureWarning: Downcasting object dtype arrays on .fillna, .ffill, .bfill is deprecated and will change in a future version. Call result.infer_objects(copy=False) instead. To opt-in to the future behavior, set `pd.set_option('future.no_silent_downcasting', True)`\n",
      "d:\\myenv\\Lib\\site-packages\\pandas\\core\\dtypes\\cast.py:1057:RuntimeWarning: invalid value encountered in cast\n",
      "d:\\myenv\\Lib\\site-packages\\pandas\\core\\dtypes\\cast.py:1081:RuntimeWarning: invalid value encountered in cast\n"
     ]
    },
    {
     "name": "stdout",
     "output_type": "stream",
     "text": [
      "✓ 1517 rows\n",
      "[298/411] Processing VNAn.DE... "
     ]
    },
    {
     "name": "stderr",
     "output_type": "stream",
     "text": [
      "d:\\myenv\\Lib\\site-packages\\refinitiv\\data\\_tools\\_dataframe.py:177:FutureWarning: Downcasting object dtype arrays on .fillna, .ffill, .bfill is deprecated and will change in a future version. Call result.infer_objects(copy=False) instead. To opt-in to the future behavior, set `pd.set_option('future.no_silent_downcasting', True)`\n"
     ]
    },
    {
     "name": "stdout",
     "output_type": "stream",
     "text": [
      "✗ Failed: 'TRDPRC_1'\n",
      "[299/411] Processing VOLVb.ST... "
     ]
    },
    {
     "name": "stderr",
     "output_type": "stream",
     "text": [
      "d:\\myenv\\Lib\\site-packages\\pandas\\core\\dtypes\\cast.py:1057:RuntimeWarning: invalid value encountered in cast\n",
      "d:\\myenv\\Lib\\site-packages\\pandas\\core\\dtypes\\cast.py:1081:RuntimeWarning: invalid value encountered in cast\n",
      "d:\\myenv\\Lib\\site-packages\\pandas\\core\\dtypes\\cast.py:1057:RuntimeWarning: invalid value encountered in cast\n",
      "d:\\myenv\\Lib\\site-packages\\pandas\\core\\dtypes\\cast.py:1081:RuntimeWarning: invalid value encountered in cast\n"
     ]
    },
    {
     "name": "stdout",
     "output_type": "stream",
     "text": [
      "✓ 1488 rows\n",
      "[300/411] Processing VOPA.AS... "
     ]
    },
    {
     "name": "stderr",
     "output_type": "stream",
     "text": [
      "d:\\myenv\\Lib\\site-packages\\refinitiv\\data\\_tools\\_dataframe.py:177:FutureWarning: Downcasting object dtype arrays on .fillna, .ffill, .bfill is deprecated and will change in a future version. Call result.infer_objects(copy=False) instead. To opt-in to the future behavior, set `pd.set_option('future.no_silent_downcasting', True)`\n",
      "d:\\myenv\\Lib\\site-packages\\pandas\\core\\dtypes\\cast.py:1057:RuntimeWarning: invalid value encountered in cast\n",
      "d:\\myenv\\Lib\\site-packages\\pandas\\core\\dtypes\\cast.py:1081:RuntimeWarning: invalid value encountered in cast\n"
     ]
    },
    {
     "name": "stdout",
     "output_type": "stream",
     "text": [
      "✓ 1517 rows\n",
      "[301/411] Processing VOWG_p.DE... "
     ]
    },
    {
     "name": "stderr",
     "output_type": "stream",
     "text": [
      "d:\\myenv\\Lib\\site-packages\\refinitiv\\data\\_tools\\_dataframe.py:177:FutureWarning: Downcasting object dtype arrays on .fillna, .ffill, .bfill is deprecated and will change in a future version. Call result.infer_objects(copy=False) instead. To opt-in to the future behavior, set `pd.set_option('future.no_silent_downcasting', True)`\n"
     ]
    },
    {
     "name": "stdout",
     "output_type": "stream",
     "text": [
      "✗ Failed: 'TRDPRC_1'\n",
      "[302/411] Processing VRLA.PA... "
     ]
    },
    {
     "name": "stderr",
     "output_type": "stream",
     "text": [
      "d:\\myenv\\Lib\\site-packages\\refinitiv\\data\\_tools\\_dataframe.py:192:FutureWarning: Downcasting behavior in `replace` is deprecated and will be removed in a future version. To retain the old behavior, explicitly call `result.infer_objects(copy=False)`. To opt-in to the future behavior, set `pd.set_option('future.no_silent_downcasting', True)`\n",
      "d:\\myenv\\Lib\\site-packages\\pandas\\core\\dtypes\\cast.py:1057:RuntimeWarning: invalid value encountered in cast\n",
      "d:\\myenv\\Lib\\site-packages\\pandas\\core\\dtypes\\cast.py:1081:RuntimeWarning: invalid value encountered in cast\n"
     ]
    },
    {
     "name": "stdout",
     "output_type": "stream",
     "text": [
      "✓ 1494 rows\n",
      "[303/411] Processing VWS.CO... "
     ]
    },
    {
     "name": "stderr",
     "output_type": "stream",
     "text": [
      "d:\\myenv\\Lib\\site-packages\\refinitiv\\data\\_tools\\_dataframe.py:177:FutureWarning: Downcasting object dtype arrays on .fillna, .ffill, .bfill is deprecated and will change in a future version. Call result.infer_objects(copy=False) instead. To opt-in to the future behavior, set `pd.set_option('future.no_silent_downcasting', True)`\n",
      "d:\\myenv\\Lib\\site-packages\\pandas\\core\\dtypes\\cast.py:1057:RuntimeWarning: invalid value encountered in cast\n",
      "d:\\myenv\\Lib\\site-packages\\pandas\\core\\dtypes\\cast.py:1081:RuntimeWarning: invalid value encountered in cast\n",
      "d:\\myenv\\Lib\\site-packages\\pandas\\core\\dtypes\\cast.py:1057:RuntimeWarning: invalid value encountered in cast\n",
      "d:\\myenv\\Lib\\site-packages\\pandas\\core\\dtypes\\cast.py:1081:RuntimeWarning: invalid value encountered in cast\n"
     ]
    },
    {
     "name": "stdout",
     "output_type": "stream",
     "text": [
      "✓ 1481 rows\n",
      "[304/411] Processing WDIG.DE^A21... "
     ]
    },
    {
     "name": "stderr",
     "output_type": "stream",
     "text": [
      "d:\\myenv\\Lib\\site-packages\\refinitiv\\data\\_tools\\_dataframe.py:177:FutureWarning: Downcasting object dtype arrays on .fillna, .ffill, .bfill is deprecated and will change in a future version. Call result.infer_objects(copy=False) instead. To opt-in to the future behavior, set `pd.set_option('future.no_silent_downcasting', True)`\n"
     ]
    },
    {
     "name": "stdout",
     "output_type": "stream",
     "text": [
      "✗ Failed: 'TRDPRC_1'\n",
      "[305/411] Processing WDPP.BR... "
     ]
    },
    {
     "name": "stderr",
     "output_type": "stream",
     "text": [
      "d:\\myenv\\Lib\\site-packages\\pandas\\core\\dtypes\\cast.py:1057:RuntimeWarning: invalid value encountered in cast\n",
      "d:\\myenv\\Lib\\site-packages\\pandas\\core\\dtypes\\cast.py:1081:RuntimeWarning: invalid value encountered in cast\n"
     ]
    },
    {
     "name": "stdout",
     "output_type": "stream",
     "text": [
      "✓ 1517 rows\n",
      "[306/411] Processing WEHA.AS... "
     ]
    },
    {
     "name": "stderr",
     "output_type": "stream",
     "text": [
      "d:\\myenv\\Lib\\site-packages\\refinitiv\\data\\_tools\\_dataframe.py:177:FutureWarning: Downcasting object dtype arrays on .fillna, .ffill, .bfill is deprecated and will change in a future version. Call result.infer_objects(copy=False) instead. To opt-in to the future behavior, set `pd.set_option('future.no_silent_downcasting', True)`\n"
     ]
    },
    {
     "name": "stdout",
     "output_type": "stream",
     "text": [
      "✓ 1517 rows\n",
      "[307/411] Processing WLN.PA... "
     ]
    },
    {
     "name": "stderr",
     "output_type": "stream",
     "text": [
      "d:\\myenv\\Lib\\site-packages\\refinitiv\\data\\_tools\\_dataframe.py:177:FutureWarning: Downcasting object dtype arrays on .fillna, .ffill, .bfill is deprecated and will change in a future version. Call result.infer_objects(copy=False) instead. To opt-in to the future behavior, set `pd.set_option('future.no_silent_downcasting', True)`\n",
      "d:\\myenv\\Lib\\site-packages\\pandas\\core\\dtypes\\cast.py:1057:RuntimeWarning: invalid value encountered in cast\n",
      "d:\\myenv\\Lib\\site-packages\\pandas\\core\\dtypes\\cast.py:1081:RuntimeWarning: invalid value encountered in cast\n"
     ]
    },
    {
     "name": "stdout",
     "output_type": "stream",
     "text": [
      "✓ 1517 rows\n",
      "[308/411] Processing WLSNc.AS... "
     ]
    },
    {
     "name": "stderr",
     "output_type": "stream",
     "text": [
      "d:\\myenv\\Lib\\site-packages\\refinitiv\\data\\_tools\\_dataframe.py:177:FutureWarning: Downcasting object dtype arrays on .fillna, .ffill, .bfill is deprecated and will change in a future version. Call result.infer_objects(copy=False) instead. To opt-in to the future behavior, set `pd.set_option('future.no_silent_downcasting', True)`\n",
      "d:\\myenv\\Lib\\site-packages\\pandas\\core\\dtypes\\cast.py:1057:RuntimeWarning: invalid value encountered in cast\n",
      "d:\\myenv\\Lib\\site-packages\\pandas\\core\\dtypes\\cast.py:1081:RuntimeWarning: invalid value encountered in cast\n"
     ]
    },
    {
     "name": "stdout",
     "output_type": "stream",
     "text": [
      "✓ 1517 rows\n",
      "[309/411] Processing WRT1V.HE... "
     ]
    },
    {
     "name": "stderr",
     "output_type": "stream",
     "text": [
      "d:\\myenv\\Lib\\site-packages\\refinitiv\\data\\_tools\\_dataframe.py:177:FutureWarning: Downcasting object dtype arrays on .fillna, .ffill, .bfill is deprecated and will change in a future version. Call result.infer_objects(copy=False) instead. To opt-in to the future behavior, set `pd.set_option('future.no_silent_downcasting', True)`\n",
      "d:\\myenv\\Lib\\site-packages\\pandas\\core\\dtypes\\cast.py:1057:RuntimeWarning: invalid value encountered in cast\n",
      "d:\\myenv\\Lib\\site-packages\\pandas\\core\\dtypes\\cast.py:1081:RuntimeWarning: invalid value encountered in cast\n"
     ]
    },
    {
     "name": "stdout",
     "output_type": "stream",
     "text": [
      "✓ 1487 rows\n",
      "[310/411] Processing YAR.OL... "
     ]
    },
    {
     "name": "stderr",
     "output_type": "stream",
     "text": [
      "d:\\myenv\\Lib\\site-packages\\refinitiv\\data\\_tools\\_dataframe.py:177:FutureWarning: Downcasting object dtype arrays on .fillna, .ffill, .bfill is deprecated and will change in a future version. Call result.infer_objects(copy=False) instead. To opt-in to the future behavior, set `pd.set_option('future.no_silent_downcasting', True)`\n"
     ]
    },
    {
     "name": "stdout",
     "output_type": "stream",
     "text": [
      "✗ Failed: 'TRDPRC_1'\n",
      "[311/411] Processing ABIO.PA^J22... ✓ 1538 rows\n",
      "[312/411] Processing ALMCP.PA... "
     ]
    },
    {
     "name": "stderr",
     "output_type": "stream",
     "text": [
      "d:\\myenv\\Lib\\site-packages\\refinitiv\\data\\_tools\\_dataframe.py:177:FutureWarning: Downcasting object dtype arrays on .fillna, .ffill, .bfill is deprecated and will change in a future version. Call result.infer_objects(copy=False) instead. To opt-in to the future behavior, set `pd.set_option('future.no_silent_downcasting', True)`\n"
     ]
    },
    {
     "name": "stdout",
     "output_type": "stream",
     "text": [
      "✓ 1537 rows\n",
      "[313/411] Processing AOO.BR... "
     ]
    },
    {
     "name": "stderr",
     "output_type": "stream",
     "text": [
      "d:\\myenv\\Lib\\site-packages\\refinitiv\\data\\_tools\\_dataframe.py:177:FutureWarning: Downcasting object dtype arrays on .fillna, .ffill, .bfill is deprecated and will change in a future version. Call result.infer_objects(copy=False) instead. To opt-in to the future behavior, set `pd.set_option('future.no_silent_downcasting', True)`\n",
      "d:\\myenv\\Lib\\site-packages\\pandas\\core\\dtypes\\cast.py:1057:RuntimeWarning: invalid value encountered in cast\n",
      "d:\\myenv\\Lib\\site-packages\\pandas\\core\\dtypes\\cast.py:1081:RuntimeWarning: invalid value encountered in cast\n"
     ]
    },
    {
     "name": "stdout",
     "output_type": "stream",
     "text": [
      "✓ 1517 rows\n",
      "[314/411] Processing CARM.PA... "
     ]
    },
    {
     "name": "stderr",
     "output_type": "stream",
     "text": [
      "d:\\myenv\\Lib\\site-packages\\refinitiv\\data\\_tools\\_dataframe.py:177:FutureWarning: Downcasting object dtype arrays on .fillna, .ffill, .bfill is deprecated and will change in a future version. Call result.infer_objects(copy=False) instead. To opt-in to the future behavior, set `pd.set_option('future.no_silent_downcasting', True)`\n",
      "d:\\myenv\\Lib\\site-packages\\pandas\\core\\dtypes\\cast.py:1057:RuntimeWarning: invalid value encountered in cast\n",
      "d:\\myenv\\Lib\\site-packages\\pandas\\core\\dtypes\\cast.py:1081:RuntimeWarning: invalid value encountered in cast\n"
     ]
    },
    {
     "name": "stdout",
     "output_type": "stream",
     "text": [
      "✓ 1517 rows\n",
      "[315/411] Processing DHER.DE... "
     ]
    },
    {
     "name": "stderr",
     "output_type": "stream",
     "text": [
      "d:\\myenv\\Lib\\site-packages\\refinitiv\\data\\_tools\\_dataframe.py:177:FutureWarning: Downcasting object dtype arrays on .fillna, .ffill, .bfill is deprecated and will change in a future version. Call result.infer_objects(copy=False) instead. To opt-in to the future behavior, set `pd.set_option('future.no_silent_downcasting', True)`\n"
     ]
    },
    {
     "name": "stdout",
     "output_type": "stream",
     "text": [
      "✗ Failed: 'TRDPRC_1'\n",
      "[316/411] Processing DWNG.DE... ✗ Failed: 'TRDPRC_1'\n",
      "[317/411] Processing ENTRA.OL... "
     ]
    },
    {
     "name": "stderr",
     "output_type": "stream",
     "text": [
      "d:\\myenv\\Lib\\site-packages\\pandas\\core\\dtypes\\cast.py:1057:RuntimeWarning: invalid value encountered in cast\n",
      "d:\\myenv\\Lib\\site-packages\\pandas\\core\\dtypes\\cast.py:1081:RuntimeWarning: invalid value encountered in cast\n"
     ]
    },
    {
     "name": "stdout",
     "output_type": "stream",
     "text": [
      "✗ Failed: 'TRDPRC_1'\n",
      "[318/411] Processing FDJU.PA... "
     ]
    },
    {
     "name": "stderr",
     "output_type": "stream",
     "text": [
      "d:\\myenv\\Lib\\site-packages\\refinitiv\\data\\_tools\\_dataframe.py:192:FutureWarning: Downcasting behavior in `replace` is deprecated and will be removed in a future version. To retain the old behavior, explicitly call `result.infer_objects(copy=False)`. To opt-in to the future behavior, set `pd.set_option('future.no_silent_downcasting', True)`\n",
      "d:\\myenv\\Lib\\site-packages\\pandas\\core\\dtypes\\cast.py:1057:RuntimeWarning: invalid value encountered in cast\n",
      "d:\\myenv\\Lib\\site-packages\\pandas\\core\\dtypes\\cast.py:1081:RuntimeWarning: invalid value encountered in cast\n"
     ]
    },
    {
     "name": "stdout",
     "output_type": "stream",
     "text": [
      "✓ 1461 rows\n",
      "[319/411] Processing JDEP.AS... "
     ]
    },
    {
     "name": "stderr",
     "output_type": "stream",
     "text": [
      "d:\\myenv\\Lib\\site-packages\\refinitiv\\data\\_tools\\_dataframe.py:177:FutureWarning: Downcasting object dtype arrays on .fillna, .ffill, .bfill is deprecated and will change in a future version. Call result.infer_objects(copy=False) instead. To opt-in to the future behavior, set `pd.set_option('future.no_silent_downcasting', True)`\n",
      "d:\\myenv\\Lib\\site-packages\\refinitiv\\data\\_tools\\_dataframe.py:192:FutureWarning: Downcasting behavior in `replace` is deprecated and will be removed in a future version. To retain the old behavior, explicitly call `result.infer_objects(copy=False)`. To opt-in to the future behavior, set `pd.set_option('future.no_silent_downcasting', True)`\n",
      "d:\\myenv\\Lib\\site-packages\\pandas\\core\\dtypes\\cast.py:1057:RuntimeWarning: invalid value encountered in cast\n",
      "d:\\myenv\\Lib\\site-packages\\pandas\\core\\dtypes\\cast.py:1081:RuntimeWarning: invalid value encountered in cast\n"
     ]
    },
    {
     "name": "stdout",
     "output_type": "stream",
     "text": [
      "✓ 1329 rows\n",
      "[320/411] Processing KOF.PA... "
     ]
    },
    {
     "name": "stderr",
     "output_type": "stream",
     "text": [
      "d:\\myenv\\Lib\\site-packages\\refinitiv\\data\\_tools\\_dataframe.py:177:FutureWarning: Downcasting object dtype arrays on .fillna, .ffill, .bfill is deprecated and will change in a future version. Call result.infer_objects(copy=False) instead. To opt-in to the future behavior, set `pd.set_option('future.no_silent_downcasting', True)`\n"
     ]
    },
    {
     "name": "stdout",
     "output_type": "stream",
     "text": [
      "✓ 1517 rows\n",
      "[321/411] Processing KOJAMO.HE... "
     ]
    },
    {
     "name": "stderr",
     "output_type": "stream",
     "text": [
      "d:\\myenv\\Lib\\site-packages\\refinitiv\\data\\_tools\\_dataframe.py:177:FutureWarning: Downcasting object dtype arrays on .fillna, .ffill, .bfill is deprecated and will change in a future version. Call result.infer_objects(copy=False) instead. To opt-in to the future behavior, set `pd.set_option('future.no_silent_downcasting', True)`\n",
      "d:\\myenv\\Lib\\site-packages\\pandas\\core\\dtypes\\cast.py:1057:RuntimeWarning: invalid value encountered in cast\n",
      "d:\\myenv\\Lib\\site-packages\\pandas\\core\\dtypes\\cast.py:1081:RuntimeWarning: invalid value encountered in cast\n"
     ]
    },
    {
     "name": "stdout",
     "output_type": "stream",
     "text": [
      "✓ 1487 rows\n",
      "[322/411] Processing NEOEN.PA^D25... "
     ]
    },
    {
     "name": "stderr",
     "output_type": "stream",
     "text": [
      "d:\\myenv\\Lib\\site-packages\\refinitiv\\data\\_tools\\_dataframe.py:177:FutureWarning: Downcasting object dtype arrays on .fillna, .ffill, .bfill is deprecated and will change in a future version. Call result.infer_objects(copy=False) instead. To opt-in to the future behavior, set `pd.set_option('future.no_silent_downcasting', True)`\n",
      "d:\\myenv\\Lib\\site-packages\\pandas\\core\\dtypes\\cast.py:1057:RuntimeWarning: invalid value encountered in cast\n",
      "d:\\myenv\\Lib\\site-packages\\pandas\\core\\dtypes\\cast.py:1081:RuntimeWarning: invalid value encountered in cast\n",
      "d:\\myenv\\Lib\\site-packages\\pandas\\core\\dtypes\\cast.py:1057:RuntimeWarning: invalid value encountered in cast\n",
      "d:\\myenv\\Lib\\site-packages\\pandas\\core\\dtypes\\cast.py:1081:RuntimeWarning: invalid value encountered in cast\n"
     ]
    },
    {
     "name": "stdout",
     "output_type": "stream",
     "text": [
      "✓ 1531 rows\n",
      "[323/411] Processing NSTEc.AS... "
     ]
    },
    {
     "name": "stderr",
     "output_type": "stream",
     "text": [
      "d:\\myenv\\Lib\\site-packages\\refinitiv\\data\\_tools\\_dataframe.py:177:FutureWarning: Downcasting object dtype arrays on .fillna, .ffill, .bfill is deprecated and will change in a future version. Call result.infer_objects(copy=False) instead. To opt-in to the future behavior, set `pd.set_option('future.no_silent_downcasting', True)`\n"
     ]
    },
    {
     "name": "stdout",
     "output_type": "stream",
     "text": [
      "✓ 1517 rows\n",
      "[324/411] Processing PHAR.AS... "
     ]
    },
    {
     "name": "stderr",
     "output_type": "stream",
     "text": [
      "d:\\myenv\\Lib\\site-packages\\refinitiv\\data\\_tools\\_dataframe.py:177:FutureWarning: Downcasting object dtype arrays on .fillna, .ffill, .bfill is deprecated and will change in a future version. Call result.infer_objects(copy=False) instead. To opt-in to the future behavior, set `pd.set_option('future.no_silent_downcasting', True)`\n"
     ]
    },
    {
     "name": "stdout",
     "output_type": "stream",
     "text": [
      "✓ 1517 rows\n",
      "[325/411] Processing ROBF.PA... "
     ]
    },
    {
     "name": "stderr",
     "output_type": "stream",
     "text": [
      "d:\\myenv\\Lib\\site-packages\\refinitiv\\data\\_tools\\_dataframe.py:177:FutureWarning: Downcasting object dtype arrays on .fillna, .ffill, .bfill is deprecated and will change in a future version. Call result.infer_objects(copy=False) instead. To opt-in to the future behavior, set `pd.set_option('future.no_silent_downcasting', True)`\n",
      "d:\\myenv\\Lib\\site-packages\\pandas\\core\\dtypes\\cast.py:1057:RuntimeWarning: invalid value encountered in cast\n",
      "d:\\myenv\\Lib\\site-packages\\pandas\\core\\dtypes\\cast.py:1081:RuntimeWarning: invalid value encountered in cast\n"
     ]
    },
    {
     "name": "stdout",
     "output_type": "stream",
     "text": [
      "✓ 1517 rows\n",
      "[326/411] Processing ROCKb.CO... "
     ]
    },
    {
     "name": "stderr",
     "output_type": "stream",
     "text": [
      "d:\\myenv\\Lib\\site-packages\\refinitiv\\data\\_tools\\_dataframe.py:177:FutureWarning: Downcasting object dtype arrays on .fillna, .ffill, .bfill is deprecated and will change in a future version. Call result.infer_objects(copy=False) instead. To opt-in to the future behavior, set `pd.set_option('future.no_silent_downcasting', True)`\n",
      "d:\\myenv\\Lib\\site-packages\\pandas\\core\\dtypes\\cast.py:1057:RuntimeWarning: invalid value encountered in cast\n",
      "d:\\myenv\\Lib\\site-packages\\pandas\\core\\dtypes\\cast.py:1081:RuntimeWarning: invalid value encountered in cast\n"
     ]
    },
    {
     "name": "stdout",
     "output_type": "stream",
     "text": [
      "✓ 1481 rows\n",
      "[327/411] Processing S30.PA... "
     ]
    },
    {
     "name": "stderr",
     "output_type": "stream",
     "text": [
      "d:\\myenv\\Lib\\site-packages\\refinitiv\\data\\_tools\\_dataframe.py:177:FutureWarning: Downcasting object dtype arrays on .fillna, .ffill, .bfill is deprecated and will change in a future version. Call result.infer_objects(copy=False) instead. To opt-in to the future behavior, set `pd.set_option('future.no_silent_downcasting', True)`\n"
     ]
    },
    {
     "name": "stdout",
     "output_type": "stream",
     "text": [
      "✓ 1529 rows\n",
      "[328/411] Processing SCATC.OL... "
     ]
    },
    {
     "name": "stderr",
     "output_type": "stream",
     "text": [
      "d:\\myenv\\Lib\\site-packages\\refinitiv\\data\\_tools\\_dataframe.py:177:FutureWarning: Downcasting object dtype arrays on .fillna, .ffill, .bfill is deprecated and will change in a future version. Call result.infer_objects(copy=False) instead. To opt-in to the future behavior, set `pd.set_option('future.no_silent_downcasting', True)`\n"
     ]
    },
    {
     "name": "stdout",
     "output_type": "stream",
     "text": [
      "✗ Failed: 'TRDPRC_1'\n",
      "[329/411] Processing ULVR.AS... "
     ]
    },
    {
     "name": "stderr",
     "output_type": "stream",
     "text": [
      "d:\\myenv\\Lib\\site-packages\\pandas\\core\\dtypes\\cast.py:1057:RuntimeWarning: invalid value encountered in cast\n",
      "d:\\myenv\\Lib\\site-packages\\pandas\\core\\dtypes\\cast.py:1081:RuntimeWarning: invalid value encountered in cast\n",
      "d:\\myenv\\Lib\\site-packages\\pandas\\core\\dtypes\\cast.py:1057:RuntimeWarning: invalid value encountered in cast\n",
      "d:\\myenv\\Lib\\site-packages\\pandas\\core\\dtypes\\cast.py:1081:RuntimeWarning: invalid value encountered in cast\n"
     ]
    },
    {
     "name": "stdout",
     "output_type": "stream",
     "text": [
      "✓ 1517 rows\n",
      "[330/411] Processing ADEA.OL^F24... "
     ]
    },
    {
     "name": "stderr",
     "output_type": "stream",
     "text": [
      "d:\\myenv\\Lib\\site-packages\\refinitiv\\data\\_tools\\_dataframe.py:177:FutureWarning: Downcasting object dtype arrays on .fillna, .ffill, .bfill is deprecated and will change in a future version. Call result.infer_objects(copy=False) instead. To opt-in to the future behavior, set `pd.set_option('future.no_silent_downcasting', True)`\n",
      "d:\\myenv\\Lib\\site-packages\\pandas\\core\\dtypes\\cast.py:1057:RuntimeWarning: invalid value encountered in cast\n",
      "d:\\myenv\\Lib\\site-packages\\pandas\\core\\dtypes\\cast.py:1081:RuntimeWarning: invalid value encountered in cast\n"
     ]
    },
    {
     "name": "stdout",
     "output_type": "stream",
     "text": [
      "✗ Failed: 'TRDPRC_1'\n",
      "[331/411] Processing AIRG.DE... ✗ Failed: 'TRDPRC_1'\n",
      "[332/411] Processing ALFEN.AS... "
     ]
    },
    {
     "name": "stderr",
     "output_type": "stream",
     "text": [
      "d:\\myenv\\Lib\\site-packages\\pandas\\core\\dtypes\\cast.py:1057:RuntimeWarning: invalid value encountered in cast\n",
      "d:\\myenv\\Lib\\site-packages\\pandas\\core\\dtypes\\cast.py:1081:RuntimeWarning: invalid value encountered in cast\n"
     ]
    },
    {
     "name": "stdout",
     "output_type": "stream",
     "text": [
      "✓ 1517 rows\n",
      "[333/411] Processing BNRGn.DE... "
     ]
    },
    {
     "name": "stderr",
     "output_type": "stream",
     "text": [
      "d:\\myenv\\Lib\\site-packages\\refinitiv\\data\\_tools\\_dataframe.py:177:FutureWarning: Downcasting object dtype arrays on .fillna, .ffill, .bfill is deprecated and will change in a future version. Call result.infer_objects(copy=False) instead. To opt-in to the future behavior, set `pd.set_option('future.no_silent_downcasting', True)`\n"
     ]
    },
    {
     "name": "stdout",
     "output_type": "stream",
     "text": [
      "✗ Failed: 'TRDPRC_1'\n",
      "[334/411] Processing DBG.PA... ✓ 1517 rows\n",
      "[335/411] Processing ELI.BR... "
     ]
    },
    {
     "name": "stderr",
     "output_type": "stream",
     "text": [
      "d:\\myenv\\Lib\\site-packages\\refinitiv\\data\\_tools\\_dataframe.py:177:FutureWarning: Downcasting object dtype arrays on .fillna, .ffill, .bfill is deprecated and will change in a future version. Call result.infer_objects(copy=False) instead. To opt-in to the future behavior, set `pd.set_option('future.no_silent_downcasting', True)`\n",
      "d:\\myenv\\Lib\\site-packages\\pandas\\core\\dtypes\\cast.py:1057:RuntimeWarning: invalid value encountered in cast\n",
      "d:\\myenv\\Lib\\site-packages\\pandas\\core\\dtypes\\cast.py:1081:RuntimeWarning: invalid value encountered in cast\n"
     ]
    },
    {
     "name": "stdout",
     "output_type": "stream",
     "text": [
      "✓ 1517 rows\n",
      "[336/411] Processing ENR1n.DE... "
     ]
    },
    {
     "name": "stderr",
     "output_type": "stream",
     "text": [
      "d:\\myenv\\Lib\\site-packages\\refinitiv\\data\\_tools\\_dataframe.py:177:FutureWarning: Downcasting object dtype arrays on .fillna, .ffill, .bfill is deprecated and will change in a future version. Call result.infer_objects(copy=False) instead. To opt-in to the future behavior, set `pd.set_option('future.no_silent_downcasting', True)`\n"
     ]
    },
    {
     "name": "stdout",
     "output_type": "stream",
     "text": [
      "✗ Failed: 'TRDPRC_1'\n",
      "[337/411] Processing EVOG.ST... "
     ]
    },
    {
     "name": "stderr",
     "output_type": "stream",
     "text": [
      "d:\\myenv\\Lib\\site-packages\\pandas\\core\\dtypes\\cast.py:1057:RuntimeWarning: invalid value encountered in cast\n",
      "d:\\myenv\\Lib\\site-packages\\pandas\\core\\dtypes\\cast.py:1081:RuntimeWarning: invalid value encountered in cast\n",
      "d:\\myenv\\Lib\\site-packages\\pandas\\core\\dtypes\\cast.py:1057:RuntimeWarning: invalid value encountered in cast\n",
      "d:\\myenv\\Lib\\site-packages\\pandas\\core\\dtypes\\cast.py:1081:RuntimeWarning: invalid value encountered in cast\n"
     ]
    },
    {
     "name": "stdout",
     "output_type": "stream",
     "text": [
      "✓ 1488 rows\n",
      "[338/411] Processing HFGG.DE... "
     ]
    },
    {
     "name": "stderr",
     "output_type": "stream",
     "text": [
      "d:\\myenv\\Lib\\site-packages\\refinitiv\\data\\_tools\\_dataframe.py:177:FutureWarning: Downcasting object dtype arrays on .fillna, .ffill, .bfill is deprecated and will change in a future version. Call result.infer_objects(copy=False) instead. To opt-in to the future behavior, set `pd.set_option('future.no_silent_downcasting', True)`\n"
     ]
    },
    {
     "name": "stdout",
     "output_type": "stream",
     "text": [
      "✗ Failed: 'TRDPRC_1'\n",
      "[339/411] Processing INPST.AS... "
     ]
    },
    {
     "name": "stderr",
     "output_type": "stream",
     "text": [
      "d:\\myenv\\Lib\\site-packages\\refinitiv\\data\\_tools\\_dataframe.py:192:FutureWarning: Downcasting behavior in `replace` is deprecated and will be removed in a future version. To retain the old behavior, explicitly call `result.infer_objects(copy=False)`. To opt-in to the future behavior, set `pd.set_option('future.no_silent_downcasting', True)`\n",
      "d:\\myenv\\Lib\\site-packages\\pandas\\core\\dtypes\\cast.py:1057:RuntimeWarning: invalid value encountered in cast\n",
      "d:\\myenv\\Lib\\site-packages\\pandas\\core\\dtypes\\cast.py:1081:RuntimeWarning: invalid value encountered in cast\n"
     ]
    },
    {
     "name": "stdout",
     "output_type": "stream",
     "text": [
      "✓ 1159 rows\n",
      "[340/411] Processing KAHOT.OL^A24... "
     ]
    },
    {
     "name": "stderr",
     "output_type": "stream",
     "text": [
      "d:\\myenv\\Lib\\site-packages\\refinitiv\\data\\_tools\\_dataframe.py:177:FutureWarning: Downcasting object dtype arrays on .fillna, .ffill, .bfill is deprecated and will change in a future version. Call result.infer_objects(copy=False) instead. To opt-in to the future behavior, set `pd.set_option('future.no_silent_downcasting', True)`\n",
      "d:\\myenv\\Lib\\site-packages\\pandas\\core\\dtypes\\cast.py:1057:RuntimeWarning: invalid value encountered in cast\n",
      "d:\\myenv\\Lib\\site-packages\\pandas\\core\\dtypes\\cast.py:1081:RuntimeWarning: invalid value encountered in cast\n"
     ]
    },
    {
     "name": "stdout",
     "output_type": "stream",
     "text": [
      "✗ Failed: 'TRDPRC_1'\n",
      "[341/411] Processing MAERSKa.CO... "
     ]
    },
    {
     "name": "stderr",
     "output_type": "stream",
     "text": [
      "d:\\myenv\\Lib\\site-packages\\pandas\\core\\dtypes\\cast.py:1057:RuntimeWarning: invalid value encountered in cast\n",
      "d:\\myenv\\Lib\\site-packages\\pandas\\core\\dtypes\\cast.py:1081:RuntimeWarning: invalid value encountered in cast\n"
     ]
    },
    {
     "name": "stdout",
     "output_type": "stream",
     "text": [
      "✓ 1481 rows\n",
      "[342/411] Processing MLXS.BR... "
     ]
    },
    {
     "name": "stderr",
     "output_type": "stream",
     "text": [
      "d:\\myenv\\Lib\\site-packages\\refinitiv\\data\\_tools\\_dataframe.py:177:FutureWarning: Downcasting object dtype arrays on .fillna, .ffill, .bfill is deprecated and will change in a future version. Call result.infer_objects(copy=False) instead. To opt-in to the future behavior, set `pd.set_option('future.no_silent_downcasting', True)`\n",
      "d:\\myenv\\Lib\\site-packages\\pandas\\core\\dtypes\\cast.py:1057:RuntimeWarning: invalid value encountered in cast\n",
      "d:\\myenv\\Lib\\site-packages\\pandas\\core\\dtypes\\cast.py:1081:RuntimeWarning: invalid value encountered in cast\n"
     ]
    },
    {
     "name": "stdout",
     "output_type": "stream",
     "text": [
      "✓ 1517 rows\n",
      "[343/411] Processing MPCC.OL... "
     ]
    },
    {
     "name": "stderr",
     "output_type": "stream",
     "text": [
      "d:\\myenv\\Lib\\site-packages\\refinitiv\\data\\_tools\\_dataframe.py:177:FutureWarning: Downcasting object dtype arrays on .fillna, .ffill, .bfill is deprecated and will change in a future version. Call result.infer_objects(copy=False) instead. To opt-in to the future behavior, set `pd.set_option('future.no_silent_downcasting', True)`\n"
     ]
    },
    {
     "name": "stdout",
     "output_type": "stream",
     "text": [
      "✗ Failed: 'TRDPRC_1'\n",
      "[344/411] Processing NETCG.CO... "
     ]
    },
    {
     "name": "stderr",
     "output_type": "stream",
     "text": [
      "d:\\myenv\\Lib\\site-packages\\pandas\\core\\dtypes\\cast.py:1057:RuntimeWarning: invalid value encountered in cast\n",
      "d:\\myenv\\Lib\\site-packages\\pandas\\core\\dtypes\\cast.py:1081:RuntimeWarning: invalid value encountered in cast\n"
     ]
    },
    {
     "name": "stdout",
     "output_type": "stream",
     "text": [
      "✓ 1481 rows\n",
      "[345/411] Processing NOD.OL... "
     ]
    },
    {
     "name": "stderr",
     "output_type": "stream",
     "text": [
      "d:\\myenv\\Lib\\site-packages\\refinitiv\\data\\_tools\\_dataframe.py:177:FutureWarning: Downcasting object dtype arrays on .fillna, .ffill, .bfill is deprecated and will change in a future version. Call result.infer_objects(copy=False) instead. To opt-in to the future behavior, set `pd.set_option('future.no_silent_downcasting', True)`\n"
     ]
    },
    {
     "name": "stdout",
     "output_type": "stream",
     "text": [
      "✗ Failed: 'TRDPRC_1'\n",
      "[346/411] Processing OVH.PA... "
     ]
    },
    {
     "name": "stderr",
     "output_type": "stream",
     "text": [
      "d:\\myenv\\Lib\\site-packages\\refinitiv\\data\\_tools\\_dataframe.py:192:FutureWarning: Downcasting behavior in `replace` is deprecated and will be removed in a future version. To retain the old behavior, explicitly call `result.infer_objects(copy=False)`. To opt-in to the future behavior, set `pd.set_option('future.no_silent_downcasting', True)`\n",
      "d:\\myenv\\Lib\\site-packages\\pandas\\core\\dtypes\\cast.py:1057:RuntimeWarning: invalid value encountered in cast\n",
      "d:\\myenv\\Lib\\site-packages\\pandas\\core\\dtypes\\cast.py:1081:RuntimeWarning: invalid value encountered in cast\n"
     ]
    },
    {
     "name": "stdout",
     "output_type": "stream",
     "text": [
      "✓ 974 rows\n",
      "[347/411] Processing PSHG_p.DE... "
     ]
    },
    {
     "name": "stderr",
     "output_type": "stream",
     "text": [
      "d:\\myenv\\Lib\\site-packages\\refinitiv\\data\\_tools\\_dataframe.py:177:FutureWarning: Downcasting object dtype arrays on .fillna, .ffill, .bfill is deprecated and will change in a future version. Call result.infer_objects(copy=False) instead. To opt-in to the future behavior, set `pd.set_option('future.no_silent_downcasting', True)`\n"
     ]
    },
    {
     "name": "stdout",
     "output_type": "stream",
     "text": [
      "✗ Failed: 'TRDPRC_1'\n",
      "[348/411] Processing PUMG.DE... ✗ Failed: 'TRDPRC_1'\n",
      "[349/411] Processing QIA.DE... ✗ Failed: 'TRDPRC_1'\n",
      "[350/411] Processing QTCOM.HE... "
     ]
    },
    {
     "name": "stderr",
     "output_type": "stream",
     "text": [
      "d:\\myenv\\Lib\\site-packages\\pandas\\core\\dtypes\\cast.py:1057:RuntimeWarning: invalid value encountered in cast\n",
      "d:\\myenv\\Lib\\site-packages\\pandas\\core\\dtypes\\cast.py:1081:RuntimeWarning: invalid value encountered in cast\n"
     ]
    },
    {
     "name": "stdout",
     "output_type": "stream",
     "text": [
      "✓ 1487 rows\n",
      "[351/411] Processing RECSI.OL... "
     ]
    },
    {
     "name": "stderr",
     "output_type": "stream",
     "text": [
      "d:\\myenv\\Lib\\site-packages\\refinitiv\\data\\_tools\\_dataframe.py:177:FutureWarning: Downcasting object dtype arrays on .fillna, .ffill, .bfill is deprecated and will change in a future version. Call result.infer_objects(copy=False) instead. To opt-in to the future behavior, set `pd.set_option('future.no_silent_downcasting', True)`\n"
     ]
    },
    {
     "name": "stdout",
     "output_type": "stream",
     "text": [
      "✗ Failed: 'TRDPRC_1'\n",
      "[352/411] Processing SATG_p.DE... ✗ Failed: 'TRDPRC_1'\n",
      "[353/411] Processing SHLG.DE... ✗ Failed: 'TRDPRC_1'\n",
      "[354/411] Processing SINCH.ST... "
     ]
    },
    {
     "name": "stderr",
     "output_type": "stream",
     "text": [
      "d:\\myenv\\Lib\\site-packages\\pandas\\core\\dtypes\\cast.py:1057:RuntimeWarning: invalid value encountered in cast\n",
      "d:\\myenv\\Lib\\site-packages\\pandas\\core\\dtypes\\cast.py:1081:RuntimeWarning: invalid value encountered in cast\n",
      "d:\\myenv\\Lib\\site-packages\\pandas\\core\\dtypes\\cast.py:1057:RuntimeWarning: invalid value encountered in cast\n",
      "d:\\myenv\\Lib\\site-packages\\pandas\\core\\dtypes\\cast.py:1081:RuntimeWarning: invalid value encountered in cast\n"
     ]
    },
    {
     "name": "stdout",
     "output_type": "stream",
     "text": [
      "✓ 1488 rows\n",
      "[355/411] Processing STLAM.PA... "
     ]
    },
    {
     "name": "stderr",
     "output_type": "stream",
     "text": [
      "d:\\myenv\\Lib\\site-packages\\refinitiv\\data\\_tools\\_dataframe.py:177:FutureWarning: Downcasting object dtype arrays on .fillna, .ffill, .bfill is deprecated and will change in a future version. Call result.infer_objects(copy=False) instead. To opt-in to the future behavior, set `pd.set_option('future.no_silent_downcasting', True)`\n",
      "d:\\myenv\\Lib\\site-packages\\pandas\\core\\dtypes\\cast.py:1057:RuntimeWarning: invalid value encountered in cast\n",
      "d:\\myenv\\Lib\\site-packages\\pandas\\core\\dtypes\\cast.py:1081:RuntimeWarning: invalid value encountered in cast\n"
     ]
    },
    {
     "name": "stdout",
     "output_type": "stream",
     "text": [
      "✓ 1517 rows\n",
      "[356/411] Processing SY1G.DE... "
     ]
    },
    {
     "name": "stderr",
     "output_type": "stream",
     "text": [
      "d:\\myenv\\Lib\\site-packages\\refinitiv\\data\\_tools\\_dataframe.py:177:FutureWarning: Downcasting object dtype arrays on .fillna, .ffill, .bfill is deprecated and will change in a future version. Call result.infer_objects(copy=False) instead. To opt-in to the future behavior, set `pd.set_option('future.no_silent_downcasting', True)`\n"
     ]
    },
    {
     "name": "stdout",
     "output_type": "stream",
     "text": [
      "✗ Failed: 'TRDPRC_1'\n",
      "[357/411] Processing TE.PA... "
     ]
    },
    {
     "name": "stderr",
     "output_type": "stream",
     "text": [
      "d:\\myenv\\Lib\\site-packages\\refinitiv\\data\\_tools\\_dataframe.py:192:FutureWarning: Downcasting behavior in `replace` is deprecated and will be removed in a future version. To retain the old behavior, explicitly call `result.infer_objects(copy=False)`. To opt-in to the future behavior, set `pd.set_option('future.no_silent_downcasting', True)`\n",
      "d:\\myenv\\Lib\\site-packages\\pandas\\core\\dtypes\\cast.py:1057:RuntimeWarning: invalid value encountered in cast\n",
      "d:\\myenv\\Lib\\site-packages\\pandas\\core\\dtypes\\cast.py:1081:RuntimeWarning: invalid value encountered in cast\n"
     ]
    },
    {
     "name": "stdout",
     "output_type": "stream",
     "text": [
      "✓ 1145 rows\n",
      "[358/411] Processing UMG.AS... "
     ]
    },
    {
     "name": "stderr",
     "output_type": "stream",
     "text": [
      "d:\\myenv\\Lib\\site-packages\\refinitiv\\data\\_tools\\_dataframe.py:177:FutureWarning: Downcasting object dtype arrays on .fillna, .ffill, .bfill is deprecated and will change in a future version. Call result.infer_objects(copy=False) instead. To opt-in to the future behavior, set `pd.set_option('future.no_silent_downcasting', True)`\n",
      "d:\\myenv\\Lib\\site-packages\\refinitiv\\data\\_tools\\_dataframe.py:192:FutureWarning: Downcasting behavior in `replace` is deprecated and will be removed in a future version. To retain the old behavior, explicitly call `result.infer_objects(copy=False)`. To opt-in to the future behavior, set `pd.set_option('future.no_silent_downcasting', True)`\n",
      "d:\\myenv\\Lib\\site-packages\\pandas\\core\\dtypes\\cast.py:1057:RuntimeWarning: invalid value encountered in cast\n",
      "d:\\myenv\\Lib\\site-packages\\pandas\\core\\dtypes\\cast.py:1081:RuntimeWarning: invalid value encountered in cast\n"
     ]
    },
    {
     "name": "stdout",
     "output_type": "stream",
     "text": [
      "✓ 992 rows\n",
      "[359/411] Processing VLS.PA... "
     ]
    },
    {
     "name": "stderr",
     "output_type": "stream",
     "text": [
      "d:\\myenv\\Lib\\site-packages\\refinitiv\\data\\_tools\\_dataframe.py:177:FutureWarning: Downcasting object dtype arrays on .fillna, .ffill, .bfill is deprecated and will change in a future version. Call result.infer_objects(copy=False) instead. To opt-in to the future behavior, set `pd.set_option('future.no_silent_downcasting', True)`\n",
      "d:\\myenv\\Lib\\site-packages\\pandas\\core\\dtypes\\cast.py:1057:RuntimeWarning: invalid value encountered in cast\n",
      "d:\\myenv\\Lib\\site-packages\\pandas\\core\\dtypes\\cast.py:1081:RuntimeWarning: invalid value encountered in cast\n"
     ]
    },
    {
     "name": "stdout",
     "output_type": "stream",
     "text": [
      "✓ 1517 rows\n",
      "[360/411] Processing ZALG.DE... "
     ]
    },
    {
     "name": "stderr",
     "output_type": "stream",
     "text": [
      "d:\\myenv\\Lib\\site-packages\\refinitiv\\data\\_tools\\_dataframe.py:177:FutureWarning: Downcasting object dtype arrays on .fillna, .ffill, .bfill is deprecated and will change in a future version. Call result.infer_objects(copy=False) instead. To opt-in to the future behavior, set `pd.set_option('future.no_silent_downcasting', True)`\n"
     ]
    },
    {
     "name": "stdout",
     "output_type": "stream",
     "text": [
      "✗ Failed: 'TRDPRC_1'\n",
      "[361/411] Processing ANTIN.PA... "
     ]
    },
    {
     "name": "stderr",
     "output_type": "stream",
     "text": [
      "d:\\myenv\\Lib\\site-packages\\refinitiv\\data\\_tools\\_dataframe.py:192:FutureWarning: Downcasting behavior in `replace` is deprecated and will be removed in a future version. To retain the old behavior, explicitly call `result.infer_objects(copy=False)`. To opt-in to the future behavior, set `pd.set_option('future.no_silent_downcasting', True)`\n",
      "d:\\myenv\\Lib\\site-packages\\pandas\\core\\dtypes\\cast.py:1057:RuntimeWarning: invalid value encountered in cast\n",
      "d:\\myenv\\Lib\\site-packages\\pandas\\core\\dtypes\\cast.py:1081:RuntimeWarning: invalid value encountered in cast\n"
     ]
    },
    {
     "name": "stdout",
     "output_type": "stream",
     "text": [
      "✓ 989 rows\n",
      "[362/411] Processing AUTO.OL... "
     ]
    },
    {
     "name": "stderr",
     "output_type": "stream",
     "text": [
      "d:\\myenv\\Lib\\site-packages\\refinitiv\\data\\_tools\\_dataframe.py:177:FutureWarning: Downcasting object dtype arrays on .fillna, .ffill, .bfill is deprecated and will change in a future version. Call result.infer_objects(copy=False) instead. To opt-in to the future behavior, set `pd.set_option('future.no_silent_downcasting', True)`\n",
      "d:\\myenv\\Lib\\site-packages\\pandas\\core\\dtypes\\cast.py:1057:RuntimeWarning: invalid value encountered in cast\n",
      "d:\\myenv\\Lib\\site-packages\\pandas\\core\\dtypes\\cast.py:1081:RuntimeWarning: invalid value encountered in cast\n"
     ]
    },
    {
     "name": "stdout",
     "output_type": "stream",
     "text": [
      "✗ Failed: 'TRDPRC_1'\n",
      "[363/411] Processing BAVA.CO... "
     ]
    },
    {
     "name": "stderr",
     "output_type": "stream",
     "text": [
      "d:\\myenv\\Lib\\site-packages\\pandas\\core\\dtypes\\cast.py:1057:RuntimeWarning: invalid value encountered in cast\n",
      "d:\\myenv\\Lib\\site-packages\\pandas\\core\\dtypes\\cast.py:1081:RuntimeWarning: invalid value encountered in cast\n"
     ]
    },
    {
     "name": "stdout",
     "output_type": "stream",
     "text": [
      "✓ 1481 rows\n",
      "[364/411] Processing CTPNV.AS... "
     ]
    },
    {
     "name": "stderr",
     "output_type": "stream",
     "text": [
      "d:\\myenv\\Lib\\site-packages\\refinitiv\\data\\_tools\\_dataframe.py:177:FutureWarning: Downcasting object dtype arrays on .fillna, .ffill, .bfill is deprecated and will change in a future version. Call result.infer_objects(copy=False) instead. To opt-in to the future behavior, set `pd.set_option('future.no_silent_downcasting', True)`\n",
      "d:\\myenv\\Lib\\site-packages\\refinitiv\\data\\_tools\\_dataframe.py:192:FutureWarning: Downcasting behavior in `replace` is deprecated and will be removed in a future version. To retain the old behavior, explicitly call `result.infer_objects(copy=False)`. To opt-in to the future behavior, set `pd.set_option('future.no_silent_downcasting', True)`\n",
      "d:\\myenv\\Lib\\site-packages\\pandas\\core\\dtypes\\cast.py:1057:RuntimeWarning: invalid value encountered in cast\n",
      "d:\\myenv\\Lib\\site-packages\\pandas\\core\\dtypes\\cast.py:1081:RuntimeWarning: invalid value encountered in cast\n"
     ]
    },
    {
     "name": "stdout",
     "output_type": "stream",
     "text": [
      "✓ 1118 rows\n",
      "[365/411] Processing DAMA.PA^B23... "
     ]
    },
    {
     "name": "stderr",
     "output_type": "stream",
     "text": [
      "d:\\myenv\\Lib\\site-packages\\refinitiv\\data\\_tools\\_dataframe.py:177:FutureWarning: Downcasting object dtype arrays on .fillna, .ffill, .bfill is deprecated and will change in a future version. Call result.infer_objects(copy=False) instead. To opt-in to the future behavior, set `pd.set_option('future.no_silent_downcasting', True)`\n",
      "d:\\myenv\\Lib\\site-packages\\pandas\\core\\dtypes\\cast.py:1057:RuntimeWarning: invalid value encountered in cast\n",
      "d:\\myenv\\Lib\\site-packages\\pandas\\core\\dtypes\\cast.py:1081:RuntimeWarning: invalid value encountered in cast\n"
     ]
    },
    {
     "name": "stdout",
     "output_type": "stream",
     "text": [
      "✓ 1538 rows\n",
      "[366/411] Processing DTGGe.DE... "
     ]
    },
    {
     "name": "stderr",
     "output_type": "stream",
     "text": [
      "d:\\myenv\\Lib\\site-packages\\refinitiv\\data\\_tools\\_dataframe.py:177:FutureWarning: Downcasting object dtype arrays on .fillna, .ffill, .bfill is deprecated and will change in a future version. Call result.infer_objects(copy=False) instead. To opt-in to the future behavior, set `pd.set_option('future.no_silent_downcasting', True)`\n"
     ]
    },
    {
     "name": "stdout",
     "output_type": "stream",
     "text": [
      "✗ Failed: 'TRDPRC_1'\n",
      "[367/411] Processing EAPI.PA... "
     ]
    },
    {
     "name": "stderr",
     "output_type": "stream",
     "text": [
      "d:\\myenv\\Lib\\site-packages\\refinitiv\\data\\_tools\\_dataframe.py:192:FutureWarning: Downcasting behavior in `replace` is deprecated and will be removed in a future version. To retain the old behavior, explicitly call `result.infer_objects(copy=False)`. To opt-in to the future behavior, set `pd.set_option('future.no_silent_downcasting', True)`\n"
     ]
    },
    {
     "name": "stdout",
     "output_type": "stream",
     "text": [
      "✓ 831 rows\n",
      "[368/411] Processing EXOR.AS... "
     ]
    },
    {
     "name": "stderr",
     "output_type": "stream",
     "text": [
      "d:\\myenv\\Lib\\site-packages\\refinitiv\\data\\_tools\\_dataframe.py:177:FutureWarning: Downcasting object dtype arrays on .fillna, .ffill, .bfill is deprecated and will change in a future version. Call result.infer_objects(copy=False) instead. To opt-in to the future behavior, set `pd.set_option('future.no_silent_downcasting', True)`\n",
      "d:\\myenv\\Lib\\site-packages\\pandas\\core\\dtypes\\cast.py:1057:RuntimeWarning: invalid value encountered in cast\n",
      "d:\\myenv\\Lib\\site-packages\\pandas\\core\\dtypes\\cast.py:1081:RuntimeWarning: invalid value encountered in cast\n"
     ]
    },
    {
     "name": "stdout",
     "output_type": "stream",
     "text": [
      "✓ 761 rows\n",
      "[369/411] Processing HNRGn.DE... "
     ]
    },
    {
     "name": "stderr",
     "output_type": "stream",
     "text": [
      "d:\\myenv\\Lib\\site-packages\\refinitiv\\data\\_tools\\_dataframe.py:177:FutureWarning: Downcasting object dtype arrays on .fillna, .ffill, .bfill is deprecated and will change in a future version. Call result.infer_objects(copy=False) instead. To opt-in to the future behavior, set `pd.set_option('future.no_silent_downcasting', True)`\n"
     ]
    },
    {
     "name": "stdout",
     "output_type": "stream",
     "text": [
      "✗ Failed: 'TRDPRC_1'\n",
      "[370/411] Processing IETB.BR... "
     ]
    },
    {
     "name": "stderr",
     "output_type": "stream",
     "text": [
      "d:\\myenv\\Lib\\site-packages\\pandas\\core\\dtypes\\cast.py:1057:RuntimeWarning: invalid value encountered in cast\n",
      "d:\\myenv\\Lib\\site-packages\\pandas\\core\\dtypes\\cast.py:1081:RuntimeWarning: invalid value encountered in cast\n"
     ]
    },
    {
     "name": "stdout",
     "output_type": "stream",
     "text": [
      "✓ 1517 rows\n",
      "[371/411] Processing IMAF.PA... "
     ]
    },
    {
     "name": "stderr",
     "output_type": "stream",
     "text": [
      "d:\\myenv\\Lib\\site-packages\\refinitiv\\data\\_tools\\_dataframe.py:177:FutureWarning: Downcasting object dtype arrays on .fillna, .ffill, .bfill is deprecated and will change in a future version. Call result.infer_objects(copy=False) instead. To opt-in to the future behavior, set `pd.set_option('future.no_silent_downcasting', True)`\n",
      "d:\\myenv\\Lib\\site-packages\\pandas\\core\\dtypes\\cast.py:1057:RuntimeWarning: invalid value encountered in cast\n",
      "d:\\myenv\\Lib\\site-packages\\pandas\\core\\dtypes\\cast.py:1081:RuntimeWarning: invalid value encountered in cast\n"
     ]
    },
    {
     "name": "stdout",
     "output_type": "stream",
     "text": [
      "✓ 1517 rows\n",
      "[372/411] Processing IPAR.PA... "
     ]
    },
    {
     "name": "stderr",
     "output_type": "stream",
     "text": [
      "d:\\myenv\\Lib\\site-packages\\refinitiv\\data\\_tools\\_dataframe.py:177:FutureWarning: Downcasting object dtype arrays on .fillna, .ffill, .bfill is deprecated and will change in a future version. Call result.infer_objects(copy=False) instead. To opt-in to the future behavior, set `pd.set_option('future.no_silent_downcasting', True)`\n",
      "d:\\myenv\\Lib\\site-packages\\pandas\\core\\dtypes\\cast.py:1057:RuntimeWarning: invalid value encountered in cast\n",
      "d:\\myenv\\Lib\\site-packages\\pandas\\core\\dtypes\\cast.py:1081:RuntimeWarning: invalid value encountered in cast\n"
     ]
    },
    {
     "name": "stdout",
     "output_type": "stream",
     "text": [
      "✓ 1517 rows\n",
      "[373/411] Processing JYSK.CO... "
     ]
    },
    {
     "name": "stderr",
     "output_type": "stream",
     "text": [
      "d:\\myenv\\Lib\\site-packages\\refinitiv\\data\\_tools\\_dataframe.py:177:FutureWarning: Downcasting object dtype arrays on .fillna, .ffill, .bfill is deprecated and will change in a future version. Call result.infer_objects(copy=False) instead. To opt-in to the future behavior, set `pd.set_option('future.no_silent_downcasting', True)`\n",
      "d:\\myenv\\Lib\\site-packages\\pandas\\core\\dtypes\\cast.py:1057:RuntimeWarning: invalid value encountered in cast\n",
      "d:\\myenv\\Lib\\site-packages\\pandas\\core\\dtypes\\cast.py:1081:RuntimeWarning: invalid value encountered in cast\n"
     ]
    },
    {
     "name": "stdout",
     "output_type": "stream",
     "text": [
      "✓ 1481 rows\n",
      "[374/411] Processing KOG.OL... "
     ]
    },
    {
     "name": "stderr",
     "output_type": "stream",
     "text": [
      "d:\\myenv\\Lib\\site-packages\\refinitiv\\data\\_tools\\_dataframe.py:177:FutureWarning: Downcasting object dtype arrays on .fillna, .ffill, .bfill is deprecated and will change in a future version. Call result.infer_objects(copy=False) instead. To opt-in to the future behavior, set `pd.set_option('future.no_silent_downcasting', True)`\n"
     ]
    },
    {
     "name": "stdout",
     "output_type": "stream",
     "text": [
      "✗ Failed: 'TRDPRC_1'\n",
      "[375/411] Processing P911_p.DE... ✗ Failed: 'TRDPRC_1'\n",
      "[376/411] Processing PGS.OL^G24... ✗ Failed: 'TRDPRC_1'\n",
      "[377/411] Processing SBBb.ST... "
     ]
    },
    {
     "name": "stderr",
     "output_type": "stream",
     "text": [
      "d:\\myenv\\Lib\\site-packages\\pandas\\core\\dtypes\\cast.py:1057:RuntimeWarning: invalid value encountered in cast\n",
      "d:\\myenv\\Lib\\site-packages\\pandas\\core\\dtypes\\cast.py:1081:RuntimeWarning: invalid value encountered in cast\n",
      "d:\\myenv\\Lib\\site-packages\\pandas\\core\\dtypes\\cast.py:1057:RuntimeWarning: invalid value encountered in cast\n",
      "d:\\myenv\\Lib\\site-packages\\pandas\\core\\dtypes\\cast.py:1081:RuntimeWarning: invalid value encountered in cast\n"
     ]
    },
    {
     "name": "stdout",
     "output_type": "stream",
     "text": [
      "✓ 1488 rows\n",
      "[378/411] Processing SSABBH.HE... "
     ]
    },
    {
     "name": "stderr",
     "output_type": "stream",
     "text": [
      "d:\\myenv\\Lib\\site-packages\\refinitiv\\data\\_tools\\_dataframe.py:177:FutureWarning: Downcasting object dtype arrays on .fillna, .ffill, .bfill is deprecated and will change in a future version. Call result.infer_objects(copy=False) instead. To opt-in to the future behavior, set `pd.set_option('future.no_silent_downcasting', True)`\n",
      "d:\\myenv\\Lib\\site-packages\\pandas\\core\\dtypes\\cast.py:1057:RuntimeWarning: invalid value encountered in cast\n",
      "d:\\myenv\\Lib\\site-packages\\pandas\\core\\dtypes\\cast.py:1081:RuntimeWarning: invalid value encountered in cast\n"
     ]
    },
    {
     "name": "stdout",
     "output_type": "stream",
     "text": [
      "✓ 1487 rows\n",
      "[379/411] Processing TOKMAN.HE... "
     ]
    },
    {
     "name": "stderr",
     "output_type": "stream",
     "text": [
      "d:\\myenv\\Lib\\site-packages\\refinitiv\\data\\_tools\\_dataframe.py:177:FutureWarning: Downcasting object dtype arrays on .fillna, .ffill, .bfill is deprecated and will change in a future version. Call result.infer_objects(copy=False) instead. To opt-in to the future behavior, set `pd.set_option('future.no_silent_downcasting', True)`\n"
     ]
    },
    {
     "name": "stdout",
     "output_type": "stream",
     "text": [
      "✓ 1487 rows\n",
      "[380/411] Processing VAR.OL... "
     ]
    },
    {
     "name": "stderr",
     "output_type": "stream",
     "text": [
      "d:\\myenv\\Lib\\site-packages\\refinitiv\\data\\_tools\\_dataframe.py:177:FutureWarning: Downcasting object dtype arrays on .fillna, .ffill, .bfill is deprecated and will change in a future version. Call result.infer_objects(copy=False) instead. To opt-in to the future behavior, set `pd.set_option('future.no_silent_downcasting', True)`\n",
      "d:\\myenv\\Lib\\site-packages\\pandas\\core\\dtypes\\cast.py:1057:RuntimeWarning: invalid value encountered in cast\n",
      "d:\\myenv\\Lib\\site-packages\\pandas\\core\\dtypes\\cast.py:1081:RuntimeWarning: invalid value encountered in cast\n"
     ]
    },
    {
     "name": "stdout",
     "output_type": "stream",
     "text": [
      "✗ Failed: 'TRDPRC_1'\n",
      "[381/411] Processing VGP1.BR... "
     ]
    },
    {
     "name": "stderr",
     "output_type": "stream",
     "text": [
      "d:\\myenv\\Lib\\site-packages\\pandas\\core\\dtypes\\cast.py:1057:RuntimeWarning: invalid value encountered in cast\n",
      "d:\\myenv\\Lib\\site-packages\\pandas\\core\\dtypes\\cast.py:1081:RuntimeWarning: invalid value encountered in cast\n"
     ]
    },
    {
     "name": "stdout",
     "output_type": "stream",
     "text": [
      "✓ 1517 rows\n",
      "[382/411] Processing VU.PA... "
     ]
    },
    {
     "name": "stderr",
     "output_type": "stream",
     "text": [
      "d:\\myenv\\Lib\\site-packages\\refinitiv\\data\\_tools\\_dataframe.py:177:FutureWarning: Downcasting object dtype arrays on .fillna, .ffill, .bfill is deprecated and will change in a future version. Call result.infer_objects(copy=False) instead. To opt-in to the future behavior, set `pd.set_option('future.no_silent_downcasting', True)`\n",
      "d:\\myenv\\Lib\\site-packages\\pandas\\core\\dtypes\\cast.py:1057:RuntimeWarning: invalid value encountered in cast\n",
      "d:\\myenv\\Lib\\site-packages\\pandas\\core\\dtypes\\cast.py:1081:RuntimeWarning: invalid value encountered in cast\n"
     ]
    },
    {
     "name": "stdout",
     "output_type": "stream",
     "text": [
      "✓ 1518 rows\n",
      "[383/411] Processing ALLFG.AS... "
     ]
    },
    {
     "name": "stderr",
     "output_type": "stream",
     "text": [
      "d:\\myenv\\Lib\\site-packages\\refinitiv\\data\\_tools\\_dataframe.py:177:FutureWarning: Downcasting object dtype arrays on .fillna, .ffill, .bfill is deprecated and will change in a future version. Call result.infer_objects(copy=False) instead. To opt-in to the future behavior, set `pd.set_option('future.no_silent_downcasting', True)`\n",
      "d:\\myenv\\Lib\\site-packages\\refinitiv\\data\\_tools\\_dataframe.py:192:FutureWarning: Downcasting behavior in `replace` is deprecated and will be removed in a future version. To retain the old behavior, explicitly call `result.infer_objects(copy=False)`. To opt-in to the future behavior, set `pd.set_option('future.no_silent_downcasting', True)`\n",
      "d:\\myenv\\Lib\\site-packages\\pandas\\core\\dtypes\\cast.py:1057:RuntimeWarning: invalid value encountered in cast\n",
      "d:\\myenv\\Lib\\site-packages\\pandas\\core\\dtypes\\cast.py:1081:RuntimeWarning: invalid value encountered in cast\n"
     ]
    },
    {
     "name": "stdout",
     "output_type": "stream",
     "text": [
      "✓ 1099 rows\n",
      "[384/411] Processing ARGAN.PA... "
     ]
    },
    {
     "name": "stderr",
     "output_type": "stream",
     "text": [
      "d:\\myenv\\Lib\\site-packages\\refinitiv\\data\\_tools\\_dataframe.py:177:FutureWarning: Downcasting object dtype arrays on .fillna, .ffill, .bfill is deprecated and will change in a future version. Call result.infer_objects(copy=False) instead. To opt-in to the future behavior, set `pd.set_option('future.no_silent_downcasting', True)`\n",
      "d:\\myenv\\Lib\\site-packages\\pandas\\core\\dtypes\\cast.py:1057:RuntimeWarning: invalid value encountered in cast\n",
      "d:\\myenv\\Lib\\site-packages\\pandas\\core\\dtypes\\cast.py:1081:RuntimeWarning: invalid value encountered in cast\n"
     ]
    },
    {
     "name": "stdout",
     "output_type": "stream",
     "text": [
      "✓ 1517 rows\n",
      "[385/411] Processing BORR.OL^A25... "
     ]
    },
    {
     "name": "stderr",
     "output_type": "stream",
     "text": [
      "d:\\myenv\\Lib\\site-packages\\refinitiv\\data\\_tools\\_dataframe.py:177:FutureWarning: Downcasting object dtype arrays on .fillna, .ffill, .bfill is deprecated and will change in a future version. Call result.infer_objects(copy=False) instead. To opt-in to the future behavior, set `pd.set_option('future.no_silent_downcasting', True)`\n"
     ]
    },
    {
     "name": "stdout",
     "output_type": "stream",
     "text": [
      "✗ Failed: 'TRDPRC_1'\n",
      "[386/411] Processing CBKG.DE... ✗ Failed: 'TRDPRC_1'\n",
      "[387/411] Processing CBLP.PA... ✓ 1517 rows\n",
      "[388/411] Processing CHBE.PA... "
     ]
    },
    {
     "name": "stderr",
     "output_type": "stream",
     "text": [
      "d:\\myenv\\Lib\\site-packages\\refinitiv\\data\\_tools\\_dataframe.py:177:FutureWarning: Downcasting object dtype arrays on .fillna, .ffill, .bfill is deprecated and will change in a future version. Call result.infer_objects(copy=False) instead. To opt-in to the future behavior, set `pd.set_option('future.no_silent_downcasting', True)`\n"
     ]
    },
    {
     "name": "stdout",
     "output_type": "stream",
     "text": [
      "✓ 1517 rows\n",
      "[389/411] Processing DSFIR.AS... "
     ]
    },
    {
     "name": "stderr",
     "output_type": "stream",
     "text": [
      "d:\\myenv\\Lib\\site-packages\\refinitiv\\data\\_tools\\_dataframe.py:177:FutureWarning: Downcasting object dtype arrays on .fillna, .ffill, .bfill is deprecated and will change in a future version. Call result.infer_objects(copy=False) instead. To opt-in to the future behavior, set `pd.set_option('future.no_silent_downcasting', True)`\n",
      "d:\\myenv\\Lib\\site-packages\\refinitiv\\data\\_tools\\_dataframe.py:192:FutureWarning: Downcasting behavior in `replace` is deprecated and will be removed in a future version. To retain the old behavior, explicitly call `result.infer_objects(copy=False)`. To opt-in to the future behavior, set `pd.set_option('future.no_silent_downcasting', True)`\n",
      "d:\\myenv\\Lib\\site-packages\\pandas\\core\\dtypes\\cast.py:1057:RuntimeWarning: invalid value encountered in cast\n",
      "d:\\myenv\\Lib\\site-packages\\pandas\\core\\dtypes\\cast.py:1081:RuntimeWarning: invalid value encountered in cast\n"
     ]
    },
    {
     "name": "stdout",
     "output_type": "stream",
     "text": [
      "✓ 586 rows\n",
      "[390/411] Processing HAFNI.OL... "
     ]
    },
    {
     "name": "stderr",
     "output_type": "stream",
     "text": [
      "d:\\myenv\\Lib\\site-packages\\refinitiv\\data\\_tools\\_dataframe.py:177:FutureWarning: Downcasting object dtype arrays on .fillna, .ffill, .bfill is deprecated and will change in a future version. Call result.infer_objects(copy=False) instead. To opt-in to the future behavior, set `pd.set_option('future.no_silent_downcasting', True)`\n",
      "d:\\myenv\\Lib\\site-packages\\pandas\\core\\dtypes\\cast.py:1057:RuntimeWarning: invalid value encountered in cast\n",
      "d:\\myenv\\Lib\\site-packages\\pandas\\core\\dtypes\\cast.py:1081:RuntimeWarning: invalid value encountered in cast\n"
     ]
    },
    {
     "name": "stdout",
     "output_type": "stream",
     "text": [
      "✗ Failed: 'TRDPRC_1'\n",
      "[391/411] Processing HAUTO.OL... ✗ Failed: 'TRDPRC_1'\n",
      "[392/411] Processing IDLA.PA... "
     ]
    },
    {
     "name": "stderr",
     "output_type": "stream",
     "text": [
      "d:\\myenv\\Lib\\site-packages\\pandas\\core\\dtypes\\cast.py:1057:RuntimeWarning: invalid value encountered in cast\n",
      "d:\\myenv\\Lib\\site-packages\\pandas\\core\\dtypes\\cast.py:1081:RuntimeWarning: invalid value encountered in cast\n"
     ]
    },
    {
     "name": "stdout",
     "output_type": "stream",
     "text": [
      "✓ 1517 rows\n",
      "[393/411] Processing LECS.PA... "
     ]
    },
    {
     "name": "stderr",
     "output_type": "stream",
     "text": [
      "d:\\myenv\\Lib\\site-packages\\refinitiv\\data\\_tools\\_dataframe.py:177:FutureWarning: Downcasting object dtype arrays on .fillna, .ffill, .bfill is deprecated and will change in a future version. Call result.infer_objects(copy=False) instead. To opt-in to the future behavior, set `pd.set_option('future.no_silent_downcasting', True)`\n"
     ]
    },
    {
     "name": "stdout",
     "output_type": "stream",
     "text": [
      "✓ 1517 rows\n",
      "[394/411] Processing NIBEb.ST... "
     ]
    },
    {
     "name": "stderr",
     "output_type": "stream",
     "text": [
      "d:\\myenv\\Lib\\site-packages\\refinitiv\\data\\_tools\\_dataframe.py:177:FutureWarning: Downcasting object dtype arrays on .fillna, .ffill, .bfill is deprecated and will change in a future version. Call result.infer_objects(copy=False) instead. To opt-in to the future behavior, set `pd.set_option('future.no_silent_downcasting', True)`\n",
      "d:\\myenv\\Lib\\site-packages\\pandas\\core\\dtypes\\cast.py:1057:RuntimeWarning: invalid value encountered in cast\n",
      "d:\\myenv\\Lib\\site-packages\\pandas\\core\\dtypes\\cast.py:1081:RuntimeWarning: invalid value encountered in cast\n",
      "d:\\myenv\\Lib\\site-packages\\pandas\\core\\dtypes\\cast.py:1057:RuntimeWarning: invalid value encountered in cast\n",
      "d:\\myenv\\Lib\\site-packages\\pandas\\core\\dtypes\\cast.py:1081:RuntimeWarning: invalid value encountered in cast\n"
     ]
    },
    {
     "name": "stdout",
     "output_type": "stream",
     "text": [
      "✓ 1488 rows\n",
      "[395/411] Processing RHMG.DE... "
     ]
    },
    {
     "name": "stderr",
     "output_type": "stream",
     "text": [
      "d:\\myenv\\Lib\\site-packages\\refinitiv\\data\\_tools\\_dataframe.py:177:FutureWarning: Downcasting object dtype arrays on .fillna, .ffill, .bfill is deprecated and will change in a future version. Call result.infer_objects(copy=False) instead. To opt-in to the future behavior, set `pd.set_option('future.no_silent_downcasting', True)`\n",
      "d:\\myenv\\Lib\\site-packages\\pandas\\core\\dtypes\\cast.py:1057:RuntimeWarning: invalid value encountered in cast\n",
      "d:\\myenv\\Lib\\site-packages\\pandas\\core\\dtypes\\cast.py:1081:RuntimeWarning: invalid value encountered in cast\n"
     ]
    },
    {
     "name": "stdout",
     "output_type": "stream",
     "text": [
      "✗ Failed: 'TRDPRC_1'\n",
      "[396/411] Processing SYENS.BR... "
     ]
    },
    {
     "name": "stderr",
     "output_type": "stream",
     "text": [
      "d:\\myenv\\Lib\\site-packages\\refinitiv\\data\\_tools\\_dataframe.py:192:FutureWarning: Downcasting behavior in `replace` is deprecated and will be removed in a future version. To retain the old behavior, explicitly call `result.infer_objects(copy=False)`. To opt-in to the future behavior, set `pd.set_option('future.no_silent_downcasting', True)`\n",
      "d:\\myenv\\Lib\\site-packages\\pandas\\core\\dtypes\\cast.py:1057:RuntimeWarning: invalid value encountered in cast\n",
      "d:\\myenv\\Lib\\site-packages\\pandas\\core\\dtypes\\cast.py:1081:RuntimeWarning: invalid value encountered in cast\n"
     ]
    },
    {
     "name": "stdout",
     "output_type": "stream",
     "text": [
      "✓ 419 rows\n",
      "[397/411] Processing VLAN.AS... "
     ]
    },
    {
     "name": "stderr",
     "output_type": "stream",
     "text": [
      "d:\\myenv\\Lib\\site-packages\\refinitiv\\data\\_tools\\_dataframe.py:177:FutureWarning: Downcasting object dtype arrays on .fillna, .ffill, .bfill is deprecated and will change in a future version. Call result.infer_objects(copy=False) instead. To opt-in to the future behavior, set `pd.set_option('future.no_silent_downcasting', True)`\n",
      "d:\\myenv\\Lib\\site-packages\\pandas\\core\\dtypes\\cast.py:1057:RuntimeWarning: invalid value encountered in cast\n",
      "d:\\myenv\\Lib\\site-packages\\pandas\\core\\dtypes\\cast.py:1081:RuntimeWarning: invalid value encountered in cast\n"
     ]
    },
    {
     "name": "stdout",
     "output_type": "stream",
     "text": [
      "✓ 1517 rows\n",
      "[398/411] Processing VLTSA.PA... "
     ]
    },
    {
     "name": "stderr",
     "output_type": "stream",
     "text": [
      "d:\\myenv\\Lib\\site-packages\\refinitiv\\data\\_tools\\_dataframe.py:177:FutureWarning: Downcasting object dtype arrays on .fillna, .ffill, .bfill is deprecated and will change in a future version. Call result.infer_objects(copy=False) instead. To opt-in to the future behavior, set `pd.set_option('future.no_silent_downcasting', True)`\n",
      "d:\\myenv\\Lib\\site-packages\\pandas\\core\\dtypes\\cast.py:1057:RuntimeWarning: invalid value encountered in cast\n",
      "d:\\myenv\\Lib\\site-packages\\pandas\\core\\dtypes\\cast.py:1081:RuntimeWarning: invalid value encountered in cast\n"
     ]
    },
    {
     "name": "stdout",
     "output_type": "stream",
     "text": [
      "✓ 1517 rows\n",
      "[399/411] Processing XFAB.PA... "
     ]
    },
    {
     "name": "stderr",
     "output_type": "stream",
     "text": [
      "d:\\myenv\\Lib\\site-packages\\refinitiv\\data\\_tools\\_dataframe.py:177:FutureWarning: Downcasting object dtype arrays on .fillna, .ffill, .bfill is deprecated and will change in a future version. Call result.infer_objects(copy=False) instead. To opt-in to the future behavior, set `pd.set_option('future.no_silent_downcasting', True)`\n"
     ]
    },
    {
     "name": "stdout",
     "output_type": "stream",
     "text": [
      "✓ 1517 rows\n",
      "[400/411] Processing AZE.BR... "
     ]
    },
    {
     "name": "stderr",
     "output_type": "stream",
     "text": [
      "d:\\myenv\\Lib\\site-packages\\refinitiv\\data\\_tools\\_dataframe.py:177:FutureWarning: Downcasting object dtype arrays on .fillna, .ffill, .bfill is deprecated and will change in a future version. Call result.infer_objects(copy=False) instead. To opt-in to the future behavior, set `pd.set_option('future.no_silent_downcasting', True)`\n",
      "d:\\myenv\\Lib\\site-packages\\refinitiv\\data\\_tools\\_dataframe.py:192:FutureWarning: Downcasting behavior in `replace` is deprecated and will be removed in a future version. To retain the old behavior, explicitly call `result.infer_objects(copy=False)`. To opt-in to the future behavior, set `pd.set_option('future.no_silent_downcasting', True)`\n",
      "d:\\myenv\\Lib\\site-packages\\pandas\\core\\dtypes\\cast.py:1057:RuntimeWarning: invalid value encountered in cast\n",
      "d:\\myenv\\Lib\\site-packages\\pandas\\core\\dtypes\\cast.py:1081:RuntimeWarning: invalid value encountered in cast\n"
     ]
    },
    {
     "name": "stdout",
     "output_type": "stream",
     "text": [
      "✓ 994 rows\n",
      "[401/411] Processing ESSF.PA... "
     ]
    },
    {
     "name": "stderr",
     "output_type": "stream",
     "text": [
      "d:\\myenv\\Lib\\site-packages\\refinitiv\\data\\_tools\\_dataframe.py:177:FutureWarning: Downcasting object dtype arrays on .fillna, .ffill, .bfill is deprecated and will change in a future version. Call result.infer_objects(copy=False) instead. To opt-in to the future behavior, set `pd.set_option('future.no_silent_downcasting', True)`\n",
      "d:\\myenv\\Lib\\site-packages\\pandas\\core\\dtypes\\cast.py:1057:RuntimeWarning: invalid value encountered in cast\n",
      "d:\\myenv\\Lib\\site-packages\\pandas\\core\\dtypes\\cast.py:1081:RuntimeWarning: invalid value encountered in cast\n"
     ]
    },
    {
     "name": "stdout",
     "output_type": "stream",
     "text": [
      "✓ 1517 rows\n",
      "[402/411] Processing LOTB.BR... "
     ]
    },
    {
     "name": "stderr",
     "output_type": "stream",
     "text": [
      "d:\\myenv\\Lib\\site-packages\\refinitiv\\data\\_tools\\_dataframe.py:177:FutureWarning: Downcasting object dtype arrays on .fillna, .ffill, .bfill is deprecated and will change in a future version. Call result.infer_objects(copy=False) instead. To opt-in to the future behavior, set `pd.set_option('future.no_silent_downcasting', True)`\n",
      "d:\\myenv\\Lib\\site-packages\\pandas\\core\\dtypes\\cast.py:1057:RuntimeWarning: invalid value encountered in cast\n",
      "d:\\myenv\\Lib\\site-packages\\pandas\\core\\dtypes\\cast.py:1081:RuntimeWarning: invalid value encountered in cast\n"
     ]
    },
    {
     "name": "stdout",
     "output_type": "stream",
     "text": [
      "✓ 1517 rows\n",
      "[403/411] Processing MANTA.HE... "
     ]
    },
    {
     "name": "stderr",
     "output_type": "stream",
     "text": [
      "d:\\myenv\\Lib\\site-packages\\refinitiv\\data\\_tools\\_dataframe.py:177:FutureWarning: Downcasting object dtype arrays on .fillna, .ffill, .bfill is deprecated and will change in a future version. Call result.infer_objects(copy=False) instead. To opt-in to the future behavior, set `pd.set_option('future.no_silent_downcasting', True)`\n",
      "d:\\myenv\\Lib\\site-packages\\refinitiv\\data\\_tools\\_dataframe.py:192:FutureWarning: Downcasting behavior in `replace` is deprecated and will be removed in a future version. To retain the old behavior, explicitly call `result.infer_objects(copy=False)`. To opt-in to the future behavior, set `pd.set_option('future.no_silent_downcasting', True)`\n",
      "d:\\myenv\\Lib\\site-packages\\pandas\\core\\dtypes\\cast.py:1057:RuntimeWarning: invalid value encountered in cast\n",
      "d:\\myenv\\Lib\\site-packages\\pandas\\core\\dtypes\\cast.py:1081:RuntimeWarning: invalid value encountered in cast\n"
     ]
    },
    {
     "name": "stdout",
     "output_type": "stream",
     "text": [
      "✓ 459 rows\n",
      "[404/411] Processing MAUP.PA... "
     ]
    },
    {
     "name": "stderr",
     "output_type": "stream",
     "text": [
      "d:\\myenv\\Lib\\site-packages\\refinitiv\\data\\_tools\\_dataframe.py:177:FutureWarning: Downcasting object dtype arrays on .fillna, .ffill, .bfill is deprecated and will change in a future version. Call result.infer_objects(copy=False) instead. To opt-in to the future behavior, set `pd.set_option('future.no_silent_downcasting', True)`\n"
     ]
    },
    {
     "name": "stdout",
     "output_type": "stream",
     "text": [
      "✓ 1517 rows\n",
      "[405/411] Processing MEDCL.PA... "
     ]
    },
    {
     "name": "stderr",
     "output_type": "stream",
     "text": [
      "d:\\myenv\\Lib\\site-packages\\refinitiv\\data\\_tools\\_dataframe.py:177:FutureWarning: Downcasting object dtype arrays on .fillna, .ffill, .bfill is deprecated and will change in a future version. Call result.infer_objects(copy=False) instead. To opt-in to the future behavior, set `pd.set_option('future.no_silent_downcasting', True)`\n"
     ]
    },
    {
     "name": "stdout",
     "output_type": "stream",
     "text": [
      "✓ 1519 rows\n",
      "[406/411] Processing NKT.CO... "
     ]
    },
    {
     "name": "stderr",
     "output_type": "stream",
     "text": [
      "d:\\myenv\\Lib\\site-packages\\refinitiv\\data\\_tools\\_dataframe.py:177:FutureWarning: Downcasting object dtype arrays on .fillna, .ffill, .bfill is deprecated and will change in a future version. Call result.infer_objects(copy=False) instead. To opt-in to the future behavior, set `pd.set_option('future.no_silent_downcasting', True)`\n",
      "d:\\myenv\\Lib\\site-packages\\pandas\\core\\dtypes\\cast.py:1057:RuntimeWarning: invalid value encountered in cast\n",
      "d:\\myenv\\Lib\\site-packages\\pandas\\core\\dtypes\\cast.py:1081:RuntimeWarning: invalid value encountered in cast\n"
     ]
    },
    {
     "name": "stdout",
     "output_type": "stream",
     "text": [
      "✓ 1481 rows\n",
      "[407/411] Processing PLNW.PA... "
     ]
    },
    {
     "name": "stderr",
     "output_type": "stream",
     "text": [
      "d:\\myenv\\Lib\\site-packages\\refinitiv\\data\\_tools\\_dataframe.py:177:FutureWarning: Downcasting object dtype arrays on .fillna, .ffill, .bfill is deprecated and will change in a future version. Call result.infer_objects(copy=False) instead. To opt-in to the future behavior, set `pd.set_option('future.no_silent_downcasting', True)`\n",
      "d:\\myenv\\Lib\\site-packages\\refinitiv\\data\\_tools\\_dataframe.py:192:FutureWarning: Downcasting behavior in `replace` is deprecated and will be removed in a future version. To retain the old behavior, explicitly call `result.infer_objects(copy=False)`. To opt-in to the future behavior, set `pd.set_option('future.no_silent_downcasting', True)`\n",
      "d:\\myenv\\Lib\\site-packages\\pandas\\core\\dtypes\\cast.py:1057:RuntimeWarning: invalid value encountered in cast\n",
      "d:\\myenv\\Lib\\site-packages\\pandas\\core\\dtypes\\cast.py:1081:RuntimeWarning: invalid value encountered in cast\n"
     ]
    },
    {
     "name": "stdout",
     "output_type": "stream",
     "text": [
      "✓ 461 rows\n",
      "[408/411] Processing PLX.PA... "
     ]
    },
    {
     "name": "stderr",
     "output_type": "stream",
     "text": [
      "d:\\myenv\\Lib\\site-packages\\refinitiv\\data\\_tools\\_dataframe.py:177:FutureWarning: Downcasting object dtype arrays on .fillna, .ffill, .bfill is deprecated and will change in a future version. Call result.infer_objects(copy=False) instead. To opt-in to the future behavior, set `pd.set_option('future.no_silent_downcasting', True)`\n",
      "d:\\myenv\\Lib\\site-packages\\refinitiv\\data\\_tools\\_dataframe.py:192:FutureWarning: Downcasting behavior in `replace` is deprecated and will be removed in a future version. To retain the old behavior, explicitly call `result.infer_objects(copy=False)`. To opt-in to the future behavior, set `pd.set_option('future.no_silent_downcasting', True)`\n",
      "d:\\myenv\\Lib\\site-packages\\pandas\\core\\dtypes\\cast.py:1057:RuntimeWarning: invalid value encountered in cast\n",
      "d:\\myenv\\Lib\\site-packages\\pandas\\core\\dtypes\\cast.py:1081:RuntimeWarning: invalid value encountered in cast\n"
     ]
    },
    {
     "name": "stdout",
     "output_type": "stream",
     "text": [
      "✓ 384 rows\n",
      "[409/411] Processing SAABb.ST... "
     ]
    },
    {
     "name": "stderr",
     "output_type": "stream",
     "text": [
      "d:\\myenv\\Lib\\site-packages\\refinitiv\\data\\_tools\\_dataframe.py:177:FutureWarning: Downcasting object dtype arrays on .fillna, .ffill, .bfill is deprecated and will change in a future version. Call result.infer_objects(copy=False) instead. To opt-in to the future behavior, set `pd.set_option('future.no_silent_downcasting', True)`\n",
      "d:\\myenv\\Lib\\site-packages\\pandas\\core\\dtypes\\cast.py:1057:RuntimeWarning: invalid value encountered in cast\n",
      "d:\\myenv\\Lib\\site-packages\\pandas\\core\\dtypes\\cast.py:1081:RuntimeWarning: invalid value encountered in cast\n",
      "d:\\myenv\\Lib\\site-packages\\pandas\\core\\dtypes\\cast.py:1057:RuntimeWarning: invalid value encountered in cast\n",
      "d:\\myenv\\Lib\\site-packages\\pandas\\core\\dtypes\\cast.py:1081:RuntimeWarning: invalid value encountered in cast\n"
     ]
    },
    {
     "name": "stdout",
     "output_type": "stream",
     "text": [
      "✓ 1488 rows\n",
      "[410/411] Processing WAWI.OL... "
     ]
    },
    {
     "name": "stderr",
     "output_type": "stream",
     "text": [
      "d:\\myenv\\Lib\\site-packages\\refinitiv\\data\\_tools\\_dataframe.py:177:FutureWarning: Downcasting object dtype arrays on .fillna, .ffill, .bfill is deprecated and will change in a future version. Call result.infer_objects(copy=False) instead. To opt-in to the future behavior, set `pd.set_option('future.no_silent_downcasting', True)`\n"
     ]
    },
    {
     "name": "stdout",
     "output_type": "stream",
     "text": [
      "✗ Failed: 'TRDPRC_1'\n",
      "[411/411] Processing ZELA.CO... "
     ]
    },
    {
     "name": "stderr",
     "output_type": "stream",
     "text": [
      "d:\\myenv\\Lib\\site-packages\\pandas\\core\\dtypes\\cast.py:1057:RuntimeWarning: invalid value encountered in cast\n",
      "d:\\myenv\\Lib\\site-packages\\pandas\\core\\dtypes\\cast.py:1081:RuntimeWarning: invalid value encountered in cast\n",
      "d:\\myenv\\Lib\\site-packages\\pandas\\core\\dtypes\\cast.py:1057:RuntimeWarning: invalid value encountered in cast\n",
      "d:\\myenv\\Lib\\site-packages\\pandas\\core\\dtypes\\cast.py:1081:RuntimeWarning: invalid value encountered in cast\n"
     ]
    },
    {
     "name": "stdout",
     "output_type": "stream",
     "text": [
      "✓ 1481 rows\n",
      "\n",
      "================================================================================\n",
      "PROCESSING COMPLETE\n",
      "================================================================================\n",
      "Successfully processed: 323 stocks\n",
      "Failed: 88 stocks\n",
      "\n",
      "Failed RICs:\n",
      "  - 1COVG.DE\n",
      "  - ADSGn.DE\n",
      "  - AKER.OL\n",
      "  - AKRBP.OL\n",
      "  - ALVG.DE\n",
      "  - BAKKA.OL\n",
      "  - BASFn.DE\n",
      "  - BAYGn.DE\n",
      "  - BEIG.DE\n",
      "  - BMWG.DE\n",
      "  - BWLPG.OL\n",
      "  - BWO.OL\n",
      "  - CONG.DE\n",
      "  - DB1Gn.DE\n",
      "  - DBKGn.DE\n",
      "  - DHLn.DE\n",
      "  - DNB.OL\n",
      "  - DNO.OL\n",
      "  - DTEGn.DE\n",
      "  - EONGn.DE\n",
      "  - EQNR.OL\n",
      "  - FMEG.DE\n",
      "  - FREG.DE\n",
      "  - FRO.OL\n",
      "  - GJFG.OL\n",
      "  - GOGL.OL^H25\n",
      "  - HEIG.DE\n",
      "  - HNKG_p.DE\n",
      "  - IFXGn.DE\n",
      "  - LHAG.DE\n",
      "  - LIN.DE\n",
      "  - LSG.OL\n",
      "  - MBGn.DE\n",
      "  - MOWI.OL\n",
      "  - MRCG.DE\n",
      "  - MTXGn.DE\n",
      "  - MUVGn.DE\n",
      "  - NAS.OL\n",
      "  - NEL.OL\n",
      "  - NHY.OL\n",
      "  - ORK.OL\n",
      "  - RWEG.DE\n",
      "  - SALM.OL\n",
      "  - SAPG.DE\n",
      "  - SIEGn.DE\n",
      "  - STB.OL\n",
      "  - SUBC.OL\n",
      "  - TEL.OL\n",
      "  - TGS.OL\n",
      "  - TOM.OL\n",
      "  - VENDA.OL\n",
      "  - VNAn.DE\n",
      "  - VOWG_p.DE\n",
      "  - WDIG.DE^A21\n",
      "  - YAR.OL\n",
      "  - DHER.DE\n",
      "  - DWNG.DE\n",
      "  - ENTRA.OL\n",
      "  - SCATC.OL\n",
      "  - ADEA.OL^F24\n",
      "  - AIRG.DE\n",
      "  - BNRGn.DE\n",
      "  - ENR1n.DE\n",
      "  - HFGG.DE\n",
      "  - KAHOT.OL^A24\n",
      "  - MPCC.OL\n",
      "  - NOD.OL\n",
      "  - PSHG_p.DE\n",
      "  - PUMG.DE\n",
      "  - QIA.DE\n",
      "  - RECSI.OL\n",
      "  - SATG_p.DE\n",
      "  - SHLG.DE\n",
      "  - SY1G.DE\n",
      "  - ZALG.DE\n",
      "  - AUTO.OL\n",
      "  - DTGGe.DE\n",
      "  - HNRGn.DE\n",
      "  - KOG.OL\n",
      "  - P911_p.DE\n",
      "  - PGS.OL^G24\n",
      "  - VAR.OL\n",
      "  - BORR.OL^A25\n",
      "  - CBKG.DE\n",
      "  - HAFNI.OL\n",
      "  - HAUTO.OL\n",
      "  - RHMG.DE\n",
      "  - WAWI.OL\n",
      "\n",
      "Combined dataset shape: (476713, 8)\n",
      "Date range: 2019-09-02 00:00:00 to 2025-08-01 00:00:00\n",
      "Unique stocks: 323\n",
      "\n",
      "Sample data:\n",
      "       RIC       Date  price       tri  volume               cap    bid    ask\n",
      "0  AALB.AS 2019-09-02   <NA>  0.203725    <NA>     3089608049.88  34.33  34.44\n",
      "1  AALB.AS 2019-09-03   <NA>   -0.5228    <NA>     3113935672.32   34.2  34.26\n",
      "2  AALB.AS 2019-09-04   <NA>  1.576642    <NA>      3151532907.0  34.78  34.79\n",
      "3  AALB.AS 2019-09-05   <NA>  1.322219    <NA>     3186918539.64  35.25  35.26\n",
      "4  AALB.AS 2019-09-06   <NA>       0.0    <NA>     3131628488.64  35.24  35.26\n",
      "5  AALB.AS 2019-09-09   <NA>  0.992908    <NA>     3076338437.64  35.56   35.6\n",
      "6  AALB.AS 2019-09-10   <NA>  1.601124    <NA>     3023259988.68  36.15  36.25\n",
      "7  AALB.AS 2019-09-11   <NA>  3.207078    <NA>      3505389233.4  37.28  37.33\n",
      "8  AALB.AS 2019-09-12   <NA>  0.750067    <NA>  3385962723.23999  37.61  37.62\n",
      "9  AALB.AS 2019-09-13   <NA>  2.233449    <NA>  3472215202.79999  38.41  38.46\n",
      "\n",
      "✓ Saved to all_stocks_data.csv\n",
      "\n",
      "Null counts by column:\n",
      "RIC            0\n",
      "Date           0\n",
      "price     205811\n",
      "tri          353\n",
      "volume    205897\n",
      "cap         2323\n",
      "bid          494\n",
      "ask          563\n",
      "dtype: int64\n",
      "\n",
      "Done!\n"
     ]
    }
   ],
   "source": [
    "import time\n",
    "\n",
    "rd.open_session()\n",
    "\n",
    "unique_rics = universe['RIC'].unique()\n",
    "print(f\"Total rows in universe: {len(universe)}\")\n",
    "print(f\"Unique RICs to process: {len(unique_rics)}\")\n",
    "\n",
    "start_date = \"2019-09-01\"\n",
    "end_date = \"2025-08-01\"\n",
    "\n",
    "all_data = []\n",
    "failed_rics = []\n",
    "\n",
    "total_rics = len(unique_rics)\n",
    "print(f\"\\nProcessing {total_rics} unique stocks...\")\n",
    "\n",
    "for idx, ric in enumerate(unique_rics, 1):\n",
    "    print(f\"[{idx}/{total_rics}] Processing {ric}...\", end=' ')\n",
    "    \n",
    "    try:\n",
    "        # --- Fetch historical PRICING data ---\n",
    "        price_df = rd.get_history(\n",
    "            universe=ric,\n",
    "            start=start_date,\n",
    "            end=end_date,\n",
    "            interval=\"daily\"\n",
    "        )\n",
    "        \n",
    "        # Extract only what we need\n",
    "        df = pd.DataFrame({\n",
    "            'RIC': ric,  # Add RIC column\n",
    "            'price': price_df['TRDPRC_1'],\n",
    "            'volume_shares': price_df['ACVOL_UNS'],\n",
    "            'bid': price_df['BID'],\n",
    "            'ask': price_df['ASK']\n",
    "        })\n",
    "        \n",
    "        # --- Fetch FUNDAMENTAL data WITH DATES ---\n",
    "        fundamental_response = rd.get_data(\n",
    "            universe=ric,\n",
    "            fields=[\n",
    "                \"TR.TotalReturn.Date\",\n",
    "                \"TR.TotalReturn\",\n",
    "                \"TR.PriceToBook\",\n",
    "                \"TR.CompanyMarketCap\"\n",
    "            ],\n",
    "            parameters={\n",
    "                \"SDate\": start_date,\n",
    "                \"EDate\": end_date,\n",
    "                \"Frq\": \"D\",\n",
    "                \"Curn\": \"EUR\"\n",
    "            }\n",
    "        )\n",
    "        \n",
    "        # Process fundamental data\n",
    "        if fundamental_response is not None and isinstance(fundamental_response, pd.DataFrame):\n",
    "            fund_df = fundamental_response.copy()\n",
    "            \n",
    "            if 'Date' in fund_df.columns:\n",
    "                fund_df['Date'] = pd.to_datetime(fund_df['Date'])\n",
    "                fund_df.set_index('Date', inplace=True)\n",
    "                \n",
    "                if 'Instrument' in fund_df.columns:\n",
    "                    fund_df.drop('Instrument', axis=1, inplace=True)\n",
    "                \n",
    "                # Merge with price data\n",
    "                df = df.join(fund_df, how='left')\n",
    "        \n",
    "        # Rename columns\n",
    "        column_mapping = {\n",
    "            'Total Return': 'tri',\n",
    "            'Price To Book Value': 'mtbv',\n",
    "            'Company Market Cap': 'cap'\n",
    "        }\n",
    "        \n",
    "        for old_name, new_name in column_mapping.items():\n",
    "            if old_name in df.columns:\n",
    "                df.rename(columns={old_name: new_name}, inplace=True)\n",
    "        \n",
    "        # Compute volume in EUR\n",
    "        df['volume'] = df['volume_shares'] * df['price']\n",
    "        df.drop('volume_shares', axis=1, inplace=True)\n",
    "        \n",
    "        # Forward-fill mtbv and cap\n",
    "        if 'mtbv' in df.columns:\n",
    "            df['mtbv'] = df['mtbv'].ffill()\n",
    "        if 'cap' in df.columns:\n",
    "            df['cap'] = df['cap'].ffill()\n",
    "        \n",
    "        # Reset index to make Date a column\n",
    "        df.reset_index(inplace=True)\n",
    "        df.rename(columns={'index': 'Date'}, inplace=True)\n",
    "        \n",
    "        # Reorder columns\n",
    "        desired_order = ['RIC', 'Date', 'price', 'tri', 'volume', 'mtbv', 'cap', 'bid', 'ask']\n",
    "        existing_cols = [col for col in desired_order if col in df.columns]\n",
    "        df = df[existing_cols]\n",
    "        \n",
    "        # Append to list\n",
    "        all_data.append(df)\n",
    "        \n",
    "        print(f\"✓ {len(df)} rows\")\n",
    "        \n",
    "        # Rate limiting - sleep briefly to avoid overwhelming the API\n",
    "        if idx % 10 == 0:\n",
    "            time.sleep(2)\n",
    "        \n",
    "    except Exception as e:\n",
    "        print(f\"✗ Failed: {e}\")\n",
    "        failed_rics.append(ric)\n",
    "        continue\n",
    "\n",
    "# --- 6. Combine all data ---\n",
    "print(\"\\n\" + \"=\"*80)\n",
    "print(\"PROCESSING COMPLETE\")\n",
    "print(\"=\"*80)\n",
    "print(f\"Successfully processed: {len(all_data)} stocks\")\n",
    "print(f\"Failed: {len(failed_rics)} stocks\")\n",
    "\n",
    "if failed_rics:\n",
    "    print(f\"\\nFailed RICs:\")\n",
    "    for ric in failed_rics:\n",
    "        print(f\"  - {ric}\")\n",
    "\n",
    "# --- 7. Create combined DataFrame ---\n",
    "if all_data:\n",
    "    combined_df = pd.concat(all_data, ignore_index=True)\n",
    "    \n",
    "    print(f\"\\nCombined dataset shape: {combined_df.shape}\")\n",
    "    print(f\"Date range: {combined_df['Date'].min()} to {combined_df['Date'].max()}\")\n",
    "    print(f\"Unique stocks: {combined_df['RIC'].nunique()}\")\n",
    "    \n",
    "    # Display sample\n",
    "    print(\"\\nSample data:\")\n",
    "    print(combined_df.head(10))\n",
    "    \n",
    "    # Save to CSV\n",
    "    combined_df.to_csv(\"all_stocks_data.csv\", index=False)\n",
    "    print(f\"\\n✓ Saved to all_stocks_data.csv\")\n",
    "    \n",
    "    # Show null counts\n",
    "    print(\"\\nNull counts by column:\")\n",
    "    print(combined_df.isnull().sum())\n",
    "else:\n",
    "    print(\"\\nNo data retrieved!\")\n",
    "\n",
    "# --- 8. Close session ---\n",
    "rd.close_session()\n",
    "\n",
    "print(\"\\nDone!\")"
   ]
  },
  {
   "cell_type": "code",
   "execution_count": null,
   "id": "6390b70d",
   "metadata": {},
   "outputs": [],
   "source": []
  },
  {
   "cell_type": "code",
   "execution_count": 37,
   "id": "c4313fd9",
   "metadata": {},
   "outputs": [
    {
     "name": "stdout",
     "output_type": "stream",
     "text": [
      "Missing: 88 RICs\n",
      "['1COVG.DE', 'ADEA.OL^F24', 'ADSGn.DE', 'AIRG.DE', 'AKER.OL', 'AKRBP.OL', 'ALVG.DE', 'AUTO.OL', 'BAKKA.OL', 'BASFn.DE', 'BAYGn.DE', 'BEIG.DE', 'BMWG.DE', 'BNRGn.DE', 'BORR.OL^A25', 'BWLPG.OL', 'BWO.OL', 'CBKG.DE', 'CONG.DE', 'DB1Gn.DE', 'DBKGn.DE', 'DHER.DE', 'DHLn.DE', 'DNB.OL', 'DNO.OL', 'DTEGn.DE', 'DTGGe.DE', 'DWNG.DE', 'ENR1n.DE', 'ENTRA.OL', 'EONGn.DE', 'EQNR.OL', 'FMEG.DE', 'FREG.DE', 'FRO.OL', 'GJFG.OL', 'GOGL.OL^H25', 'HAFNI.OL', 'HAUTO.OL', 'HEIG.DE', 'HFGG.DE', 'HNKG_p.DE', 'HNRGn.DE', 'IFXGn.DE', 'KAHOT.OL^A24', 'KOG.OL', 'LHAG.DE', 'LIN.DE', 'LSG.OL', 'MBGn.DE', 'MOWI.OL', 'MPCC.OL', 'MRCG.DE', 'MTXGn.DE', 'MUVGn.DE', 'NAS.OL', 'NEL.OL', 'NHY.OL', 'NOD.OL', 'ORK.OL', 'P911_p.DE', 'PGS.OL^G24', 'PSHG_p.DE', 'PUMG.DE', 'QIA.DE', 'RECSI.OL', 'RHMG.DE', 'RWEG.DE', 'SALM.OL', 'SAPG.DE', 'SATG_p.DE', 'SCATC.OL', 'SHLG.DE', 'SIEGn.DE', 'STB.OL', 'SUBC.OL', 'SY1G.DE', 'TEL.OL', 'TGS.OL', 'TOM.OL', 'VAR.OL', 'VENDA.OL', 'VNAn.DE', 'VOWG_p.DE', 'WAWI.OL', 'WDIG.DE^A21', 'YAR.OL', 'ZALG.DE']\n"
     ]
    }
   ],
   "source": [
    "missing = set(universe['RIC'].unique()) - set(pd.read_csv(\"all_stocks_data.csv\")['RIC'].unique())\n",
    "print(f\"Missing: {len(missing)} RICs\")\n",
    "print(sorted(missing))"
   ]
  },
  {
   "cell_type": "code",
   "execution_count": null,
   "id": "a21cffb3",
   "metadata": {},
   "outputs": [],
   "source": []
  },
  {
   "cell_type": "code",
   "execution_count": 43,
   "id": "9f7fc5de",
   "metadata": {},
   "outputs": [],
   "source": [
    "df = pd.read_csv(\"all_stocks_data.csv\")\n",
    "\n",
    "myday = df[['Date']].drop_duplicates().sort_values('Date')\n",
    "myday.to_csv(\"myday.csv\", index=False)"
   ]
  },
  {
   "cell_type": "code",
   "execution_count": null,
   "id": "1b35bb7c",
   "metadata": {},
   "outputs": [],
   "source": []
  },
  {
   "cell_type": "code",
   "execution_count": 44,
   "id": "d339288a",
   "metadata": {},
   "outputs": [
    {
     "name": "stdout",
     "output_type": "stream",
     "text": [
      "Analyzing existing data for incomplete RICs...\n",
      "================================================================================\n",
      "Columns in CSV: ['RIC', 'Date', 'price', 'tri', 'volume', 'cap', 'bid', 'ask']\n",
      "Shape: (476713, 8)\n",
      "\n",
      "Checking these columns for missing data: ['price', 'tri', 'volume', 'cap', 'bid', 'ask']\n",
      "\n",
      "RICs with complete data: 13\n",
      "RICs with missing data: 310\n",
      "\n",
      "Incomplete RICs: ['AALB.AS', 'ABB.ST', 'ABI.BR', 'ABIO.PA^J22', 'ABNd.AS', 'ACCP.PA', 'ACKB.BR', 'AD.AS', 'ADP.PA', 'ADYEN.AS', 'AEGN.AS', 'AIR.PA', 'AIRF.PA', 'AIRP.PA', 'AKE.PA', 'AKZO.AS', 'ALFA.ST', 'ALFEN.AS', 'ALIVsdb.ST', 'ALLFG.AS']\n",
      "... and 290 more\n",
      "\n",
      "Missing data breakdown for incomplete RICs:\n",
      "              RIC  price  tri  volume  cap  bid  ask  total_missing\n",
      "91     EDF.PA^F23   1536   19    1536    0   15   17           3123\n",
      "78    DAMA.PA^B23   1538   21    1538    0    4   19           3120\n",
      "3     ABIO.PA^J22   1538   21    1538    0    0   20           3117\n",
      "250   SEVI.PA^B22   1532   15    1532    0   14   14           3107\n",
      "70    CNPP.PA^F22   1528   11    1528    0    9   10           3086\n",
      "140    ILD.PA^J21   1528   11    1528    0    3   10           3080\n",
      "145   INGC.PA^K20   1525    8    1525    0    6    7           3071\n",
      "69    CNAT.PA^G21   1524    7    1524    0    6    7           3068\n",
      "23    ALTT.PA^D20   1524    7    1524    0    4    7           3066\n",
      "106  EUCAR.PA^G22   1524    7    1524    0    5    5           3065\n",
      "130   GVNV.AS^A22   1518    1    1518    0    1    1           3039\n",
      "56    BOSN.AS^K22   1517    0    1517    0    1    1           3036\n",
      "38    ATCA.AS^A21   1517    0    1517    0    1    1           3036\n",
      "296    UNA.AS^K20   1517    0    1517    0    0    0           3034\n",
      "119    FTI.PA^B22   1517    0    1517    0    0    0           3034\n",
      "213   PEUP.PA^A21   1517    0    1517    0    0    0           3034\n",
      "86    DSMN.AS^E23   1517    0    1517    0    0    0           3034\n",
      "147  INTER.AS^L22   1517    0    1517    0    0    0           3034\n",
      "21       ALMCP.PA   1009   20    1009    0   17   18           2073\n",
      "191  NEOEN.PA^D25   1003   14    1003    0    6   11           2037\n",
      "\n",
      "================================================================================\n",
      "RETRYING 310 INCOMPLETE RICs\n",
      "================================================================================\n",
      "[1/310] Processing AALB.AS... ✓ 1517 rows\n",
      "[2/310] Processing ABB.ST... ✓ 1488 rows\n",
      "[3/310] Processing ABI.BR... ✓ 1517 rows\n",
      "[4/310] Processing ABIO.PA^J22... ✓ 1538 rows\n",
      "[5/310] Processing ABNd.AS... ✓ 1517 rows\n",
      "[6/310] Processing ACCP.PA... ✓ 1517 rows\n",
      "[7/310] Processing ACKB.BR... ✓ 1517 rows\n",
      "[8/310] Processing AD.AS... ✓ 1517 rows\n",
      "[9/310] Processing ADP.PA... ✓ 1517 rows\n",
      "[10/310] Processing ADYEN.AS... ✓ 1517 rows\n",
      "[11/310] Processing AEGN.AS... ✓ 1517 rows\n",
      "[12/310] Processing AIR.PA... ✓ 1517 rows\n",
      "[13/310] Processing AIRF.PA... ✓ 1517 rows\n",
      "[14/310] Processing AIRP.PA... ✓ 1517 rows\n",
      "[15/310] Processing AKE.PA... ✓ 1517 rows\n",
      "[16/310] Processing AKZO.AS... ✓ 1517 rows\n",
      "[17/310] Processing ALFA.ST... ✓ 1488 rows\n",
      "[18/310] Processing ALFEN.AS... ✓ 1517 rows\n",
      "[19/310] Processing ALIVsdb.ST... ✓ 1488 rows\n",
      "[20/310] Processing ALLFG.AS... ✓ 1099 rows\n",
      "[21/310] Processing ALMCP.PA... ✓ 1537 rows\n",
      "[22/310] Processing ALSO.PA... ✓ 1517 rows\n",
      "[23/310] Processing ALTT.PA^D20... ✓ 1524 rows\n",
      "[24/310] Processing AM.PA... ✓ 1517 rows\n",
      "[25/310] Processing AMBUb.CO... ✓ 1481 rows\n",
      "[26/310] Processing AMG.AS... ✓ 1517 rows\n",
      "[27/310] Processing AMUN.PA... ✓ 1517 rows\n",
      "[28/310] Processing ANTIN.PA... ✓ 989 rows\n",
      "[29/310] Processing APAM.AS... ✓ 1517 rows\n",
      "[30/310] Processing ARDS.AS... ✓ 1517 rows\n",
      "[31/310] Processing ARGAN.PA... ✓ 1517 rows\n",
      "[32/310] Processing ARGX.BR... ✓ 1521 rows\n",
      "[33/310] Processing ASMI.AS... ✓ 1517 rows\n",
      "[34/310] Processing ASML.AS... ✓ 1517 rows\n",
      "[35/310] Processing ASRNL.AS... ✓ 1517 rows\n",
      "[36/310] Processing ASSAb.ST... ✓ 1488 rows\n",
      "[37/310] Processing ATCA.AS^A21... ✓ 1517 rows\n",
      "[38/310] Processing ATCOa.ST... ✓ 1488 rows\n",
      "[39/310] Processing ATCOb.ST... ✓ 1488 rows\n",
      "[40/310] Processing ATOS.PA... ✓ 1517 rows\n",
      "[41/310] Processing AXAF.PA... ✓ 1517 rows\n",
      "[42/310] Processing AYV.PA... ✓ 1517 rows\n",
      "[43/310] Processing AZE.BR... ✓ 994 rows\n",
      "[44/310] Processing AZN.ST... ✓ 1488 rows\n",
      "[45/310] Processing BAMN.AS... ✓ 1517 rows\n",
      "[46/310] Processing BAR.BR... ✓ 1517 rows\n",
      "[47/310] Processing BAVA.CO... ✓ 1481 rows\n",
      "[48/310] Processing BESI.AS... ✓ 1517 rows\n",
      "[49/310] Processing BFIT.AS... ✓ 1517 rows\n",
      "[50/310] Processing BICP.PA... ✓ 1517 rows\n",
      "[51/310] Processing BIOX.PA... ✓ 1517 rows\n",
      "[52/310] Processing BNPP.PA... ✓ 1517 rows\n",
      "[53/310] Processing BOL.ST... ✓ 1488 rows\n",
      "[54/310] Processing BOLL.PA... ✓ 1517 rows\n",
      "[55/310] Processing BOSN.AS^K22... ✓ 1517 rows\n",
      "[56/310] Processing BOUY.PA... ✓ 1517 rows\n",
      "[57/310] Processing BVI.PA... ✓ 1517 rows\n",
      "[58/310] Processing CAGR.PA... ✓ 1517 rows\n",
      "[59/310] Processing CAPP.PA... ✓ 1517 rows\n",
      "[60/310] Processing CARLb.CO... ✓ 1481 rows\n",
      "[61/310] Processing CARM.PA... ✓ 1517 rows\n",
      "[62/310] Processing CARR.PA... ✓ 1517 rows\n",
      "[63/310] Processing CASP.PA... ✓ 1526 rows\n",
      "[64/310] Processing CBLP.PA... ✓ 1517 rows\n",
      "[65/310] Processing CHBE.PA... ✓ 1517 rows\n",
      "[66/310] Processing CHRH.CO^A24... ✓ 1481 rows\n",
      "[67/310] Processing CLARI.PA... ✓ 1517 rows\n",
      "[68/310] Processing CNAT.PA^G21... ✓ 1524 rows\n",
      "[69/310] Processing CNPP.PA^F22... ✓ 1528 rows\n",
      "[70/310] Processing COFA.PA... ✓ 1517 rows\n",
      "[71/310] Processing COLOb.CO... ✓ 1481 rows\n",
      "[72/310] Processing CORB.AS... ✓ 1517 rows\n",
      "[73/310] Processing CTPNV.AS... ✓ 1118 rows\n",
      "[74/310] Processing CVO.PA... ✓ 1517 rows\n",
      "[75/310] Processing DAMA.PA^B23... ✓ 1538 rows\n",
      "[76/310] Processing DANO.PA... ✓ 1517 rows\n",
      "[77/310] Processing DANSKE.CO... ✓ 1481 rows\n",
      "[78/310] Processing DAST.PA... ✓ 1517 rows\n",
      "[79/310] Processing DBG.PA... ✓ 1517 rows\n",
      "[80/310] Processing DBV.PA... ✓ 1517 rows\n",
      "[81/310] Processing DEMANT.CO... ✓ 1481 rows\n",
      "[82/310] Processing DSFIR.AS... ✓ 586 rows\n",
      "[83/310] Processing DSMN.AS^E23... ✓ 1517 rows\n",
      "[84/310] Processing DSV.CO... ✓ 1481 rows\n",
      "[85/310] Processing EAPI.PA... ✓ 831 rows\n",
      "[86/310] Processing ECMPA.AS... ✓ 1517 rows\n",
      "[87/310] Processing EDEN.PA... ✓ 1517 rows\n",
      "[88/310] Processing EDF.PA^F23... ✓ 1536 rows\n",
      "[89/310] Processing ELIOR.PA... ✓ 1517 rows\n",
      "[90/310] Processing ELIS.PA... ✓ 1517 rows\n",
      "[91/310] Processing ELISA.HE... ✓ 1487 rows\n",
      "[92/310] Processing ELUXb.ST... ✓ 1488 rows\n",
      "[93/310] Processing EMEIS.PA... ✓ 1522 rows\n",
      "[94/310] Processing ENGIE.PA... ✓ 1517 rows\n",
      "[95/310] Processing ENX.PA... ✓ 1517 rows\n",
      "[96/310] Processing ERICb.ST... ✓ 1488 rows\n",
      "[97/310] Processing ERMT.PA... ✓ 1517 rows\n",
      "[98/310] Processing ESLX.PA... ✓ 1517 rows\n",
      "[99/310] Processing ESSF.PA... ✓ 1517 rows\n",
      "[100/310] Processing ESSITYb.ST... ✓ 1488 rows\n",
      "[101/310] Processing ETL.PA... ✓ 1517 rows\n",
      "[102/310] Processing EUCAR.PA^G22... ✓ 1524 rows\n",
      "[103/310] Processing EUFI.PA... ✓ 1517 rows\n",
      "[104/310] Processing EURA.PA... ✓ 1517 rows\n",
      "[105/310] Processing EVOG.ST... ✓ 1488 rows\n",
      "[106/310] Processing EXHO.PA... ✓ 1517 rows\n",
      "[107/310] Processing EXOR.AS... ✓ 761 rows\n",
      "[108/310] Processing FAGRO.BR... ✓ 1517 rows\n",
      "[109/310] Processing FDJU.PA... ✓ 1461 rows\n",
      "[110/310] Processing FLOW.AS... ✓ 1517 rows\n",
      "[111/310] Processing FNAC.PA... ✓ 1517 rows\n",
      "[112/310] Processing FORTUM.HE... ✓ 1487 rows\n",
      "[113/310] Processing FOUG.PA... ✓ 1517 rows\n",
      "[114/310] Processing FRVIA.PA... ✓ 1518 rows\n",
      "[115/310] Processing FTI.PA^B22... ✓ 1517 rows\n",
      "[116/310] Processing FUGR.AS... ✓ 1517 rows\n",
      "[117/310] Processing GBLB.BR... ✓ 1517 rows\n",
      "[118/310] Processing GETIb.ST... ✓ 1488 rows\n",
      "[119/310] Processing GETP.PA... ✓ 1517 rows\n",
      "[120/310] Processing GFCP.PA... ✓ 1517 rows\n",
      "[121/310] Processing GLPG.AS... ✓ 1517 rows\n",
      "[122/310] Processing GMAB.CO... ✓ 1481 rows\n",
      "[123/310] Processing GN.CO... ✓ 1481 rows\n",
      "[124/310] Processing GNFT.PA... ✓ 1517 rows\n",
      "[125/310] Processing GTT.PA... ✓ 1517 rows\n",
      "[126/310] Processing GVNV.AS^A22... ✓ 1518 rows\n",
      "[127/310] Processing HEIN.AS... ✓ 1517 rows\n",
      "[128/310] Processing HEXAb.ST... ✓ 1488 rows\n",
      "[129/310] Processing HIAB.HE... ✓ 1487 rows\n",
      "[130/310] Processing HMb.ST... ✓ 1488 rows\n",
      "[131/310] Processing HRMS.PA... ✓ 1517 rows\n",
      "[132/310] Processing HUH1V.HE... ✓ 1487 rows\n",
      "[133/310] Processing ICAD.PA... ✓ 1517 rows\n",
      "[134/310] Processing IDLA.PA... ✓ 1517 rows\n",
      "[135/310] Processing IETB.BR... ✓ 1517 rows\n",
      "[136/310] Processing ILD.PA^J21... ✓ 1528 rows\n",
      "[137/310] Processing IMAF.PA... ✓ 1517 rows\n",
      "[138/310] Processing IMCD.AS... ✓ 1517 rows\n",
      "[139/310] Processing IMTP.PA... ✓ 1517 rows\n",
      "[140/310] Processing INGA.AS... ✓ 1517 rows\n",
      "[141/310] Processing INGC.PA^K20... ✓ 1525 rows\n",
      "[142/310] Processing INPST.AS... ✓ 1159 rows\n",
      "[143/310] Processing INTER.AS^L22... ✓ 1517 rows\n",
      "[144/310] Processing INVEb.ST... ✓ 1488 rows\n",
      "[145/310] Processing IPAR.PA... ✓ 1517 rows\n",
      "[146/310] Processing IPN.PA... ✓ 1517 rows\n",
      "[147/310] Processing ISOS.PA... ✓ 1517 rows\n",
      "[148/310] Processing ISS.CO... ✓ 1481 rows\n",
      "[149/310] Processing JCDX.PA... ✓ 1517 rows\n",
      "[150/310] Processing JDEP.AS... ✓ 1329 rows\n",
      "[151/310] Processing JYSK.CO... ✓ 1481 rows\n",
      "[152/310] Processing KBC.BR... ✓ 1517 rows\n",
      "[153/310] Processing KCRA.HE... ✓ 1487 rows\n",
      "[154/310] Processing KEMIRA.HE... ✓ 1487 rows\n",
      "[155/310] Processing KESKOB.HE... ✓ 1487 rows\n",
      "[156/310] Processing KINVb.ST... ✓ 1488 rows\n",
      "[157/310] Processing KNEBV.HE... ✓ 1487 rows\n",
      "[158/310] Processing KOF.PA... ✓ 1517 rows\n",
      "[159/310] Processing KOJAMO.HE... ✓ 1487 rows\n",
      "[160/310] Processing KPN.AS... ✓ 1517 rows\n",
      "[161/310] Processing LAGA.PA... ✓ 1517 rows\n",
      "[162/310] Processing LECS.PA... ✓ 1517 rows\n",
      "[163/310] Processing LEGD.PA... ✓ 1517 rows\n",
      "[164/310] Processing LIGHT.AS... ✓ 1517 rows\n",
      "[165/310] Processing LOIM.PA... ✓ 1517 rows\n",
      "[166/310] Processing LTEN.PA... ✓ 1517 rows\n",
      "[167/310] Processing LVMH.PA... ✓ 1517 rows\n",
      "[168/310] Processing MAERSKa.CO... ✓ 1481 rows\n",
      "[169/310] Processing MAERSKb.CO... ✓ 1481 rows\n",
      "[170/310] Processing MANTA.HE... ✓ 459 rows\n",
      "[171/310] Processing MAUP.PA... ✓ 1517 rows\n",
      "[172/310] Processing MDM.PA... ✓ 1517 rows\n",
      "[173/310] Processing MEDCL.PA... ✓ 1519 rows\n",
      "[174/310] Processing MERY.PA... ✓ 1517 rows\n",
      "[175/310] Processing METSB.HE... ✓ 1487 rows\n",
      "[176/310] Processing METSO.HE... ✓ 1487 rows\n",
      "[177/310] Processing MICP.PA... ✓ 1517 rows\n",
      "[178/310] Processing MMTP.PA... ✓ 1517 rows\n",
      "[179/310] Processing MT.AS... ✓ 1517 rows\n",
      "[180/310] Processing MWDP.PA... ✓ 1517 rows\n",
      "[181/310] Processing NDAFI.HE... ✓ 1487 rows\n",
      "[182/310] Processing NDASE.ST... ✓ 1488 rows\n",
      "[183/310] Processing NEOEN.PA^D25... ✓ 1531 rows\n",
      "[184/310] Processing NESTE.HE... ✓ 1487 rows\n",
      "[185/310] Processing NETCG.CO... ✓ 1481 rows\n",
      "[186/310] Processing NEXI.PA... ✓ 1517 rows\n",
      "[187/310] Processing NEXS.PA... ✓ 1517 rows\n",
      "[188/310] Processing NIBEb.ST... ✓ 1488 rows\n",
      "[189/310] Processing NKT.CO... ✓ 1481 rows\n",
      "[190/310] Processing NN.AS... ✓ 1517 rows\n",
      "[191/310] Processing NOKIA.HE... ✓ 1487 rows\n",
      "[192/310] Processing NOVOb.CO... ✓ 1481 rows\n",
      "[193/310] Processing NSISb.CO... ✓ 1481 rows\n",
      "[194/310] Processing NSTEc.AS... ✓ 1517 rows\n",
      "[195/310] Processing OCI.AS... ✓ 1517 rows\n",
      "[196/310] Processing OPM.PA... ✓ 1517 rows\n",
      "[197/310] Processing ORAN.PA... ✓ 1517 rows\n",
      "[198/310] Processing OREP.PA... ✓ 1517 rows\n",
      "[199/310] Processing ORNBV.HE... ✓ 1487 rows\n",
      "[200/310] Processing ORSTED.CO... ✓ 1481 rows\n",
      "[201/310] Processing OUT1V.HE... ✓ 1487 rows\n",
      "[202/310] Processing OVH.PA... ✓ 974 rows\n",
      "[203/310] Processing PERP.PA... ✓ 1517 rows\n",
      "[204/310] Processing PEUP.PA^A21... ✓ 1517 rows\n",
      "[205/310] Processing PHAR.AS... ✓ 1517 rows\n",
      "[206/310] Processing PHG.AS... ✓ 1517 rows\n",
      "[207/310] Processing PLNW.PA... ✓ 461 rows\n",
      "[208/310] Processing PLX.PA... ✓ 384 rows\n",
      "[209/310] Processing PNDORA.CO... ✓ 1481 rows\n",
      "[210/310] Processing PROX.BR... ✓ 1517 rows\n",
      "[211/310] Processing PRTP.PA... ✓ 1517 rows\n",
      "[212/310] Processing PRX.AS... ✓ 1511 rows\n",
      "[213/310] Processing PTNL.AS... ✓ 1517 rows\n",
      "[214/310] Processing PUBP.PA... ✓ 1517 rows\n",
      "[215/310] Processing QDT.PA... ✓ 1517 rows\n",
      "[216/310] Processing QTCOM.HE... ✓ 1487 rows\n",
      "[217/310] Processing RAND.AS... ✓ 1517 rows\n",
      "[218/310] Processing RBREW.CO... ✓ 1481 rows\n",
      "[219/310] Processing RCOP.PA... ✓ 1517 rows\n",
      "[220/310] Processing REL.AS... ✓ 1517 rows\n",
      "[221/310] Processing RENA.PA... ✓ 1517 rows\n",
      "[222/310] Processing ROBF.PA... ✓ 1517 rows\n",
      "[223/310] Processing ROCKb.CO... ✓ 1481 rows\n",
      "[224/310] Processing RUBF.PA... ✓ 1517 rows\n",
      "[225/310] Processing RXL.PA... ✓ 1517 rows\n",
      "[226/310] Processing S30.PA... ✓ 1529 rows\n",
      "[227/310] Processing SAABb.ST... ✓ 1488 rows\n",
      "[228/310] Processing SAF.PA... ✓ 1517 rows\n",
      "[229/310] Processing SAMPO.HE... ✓ 1487 rows\n",
      "[230/310] Processing SAND.ST... ✓ 1488 rows\n",
      "[231/310] Processing SASY.PA... ✓ 1517 rows\n",
      "[232/310] Processing SBBb.ST... ✓ 1488 rows\n",
      "[233/310] Processing SBMO.AS... ✓ 1517 rows\n",
      "[234/310] Processing SCAb.ST... ✓ 1488 rows\n",
      "[235/310] Processing SCHN.PA... ✓ 1517 rows\n",
      "[236/310] Processing SCOR.PA... ✓ 1517 rows\n",
      "[237/310] Processing SEBF.PA... ✓ 1517 rows\n",
      "[238/310] Processing SEBa.ST... ✓ 1488 rows\n",
      "[239/310] Processing SECUb.ST... ✓ 1488 rows\n",
      "[240/310] Processing SESFd.PA... ✓ 1517 rows\n",
      "[241/310] Processing SEVI.PA^B22... ✓ 1532 rows\n",
      "[242/310] Processing SGEF.PA... ✓ 1517 rows\n",
      "[243/310] Processing SGOB.PA... ✓ 1517 rows\n",
      "[244/310] Processing SHBa.ST... ✓ 1488 rows\n",
      "[245/310] Processing SHEL.AS... ✓ 1517 rows\n",
      "[246/310] Processing SIM.CO^J23... ✓ 1481 rows\n",
      "[247/310] Processing SINCH.ST... ✓ 1488 rows\n",
      "[248/310] Processing SKAb.ST... ✓ 1488 rows\n",
      "[249/310] Processing SKFb.ST... ✓ 1488 rows\n",
      "[250/310] Processing SOF.BR... ✓ 1517 rows\n",
      "[251/310] Processing SOGN.PA... ✓ 1517 rows\n",
      "[252/310] Processing SOIT.PA... ✓ 1517 rows\n",
      "[253/310] Processing SOLB.BR... ✓ 1517 rows\n",
      "[254/310] Processing SOPR.PA... ✓ 1517 rows\n",
      "[255/310] Processing SPIE.PA... ✓ 1517 rows\n",
      "[256/310] Processing SSABBH.HE... ✓ 1487 rows\n",
      "[257/310] Processing SSABa.ST... ✓ 1488 rows\n",
      "[258/310] Processing STDM.PA... ✓ 1517 rows\n",
      "[259/310] Processing STERV.HE... ✓ 1487 rows\n",
      "[260/310] Processing STLAM.PA... ✓ 1517 rows\n",
      "[261/310] Processing STMPA.PA... ✓ 1517 rows\n",
      "[262/310] Processing SWEDa.ST... ✓ 1488 rows\n",
      "[263/310] Processing SWMA.ST^A23... ✓ 1488 rows\n",
      "[264/310] Processing SYENS.BR... ✓ 419 rows\n",
      "[265/310] Processing TCFP.PA... ✓ 1517 rows\n",
      "[266/310] Processing TE.PA... ✓ 1145 rows\n",
      "[267/310] Processing TEL2b.ST... ✓ 1488 rows\n",
      "[268/310] Processing TELIA.ST... ✓ 1488 rows\n",
      "[269/310] Processing TELIA1.HE... ✓ 1487 rows\n",
      "[270/310] Processing TEPRF.PA... ✓ 1517 rows\n",
      "[271/310] Processing TFFP.PA... ✓ 1517 rows\n",
      "[272/310] Processing TIETO.HE... ✓ 1487 rows\n",
      "[273/310] Processing TKTT.PA... ✓ 1522 rows\n",
      "[274/310] Processing TKWY.AS... ✓ 1517 rows\n",
      "[275/310] Processing TNET.BR^J23... ✓ 1519 rows\n",
      "[276/310] Processing TOKMAN.HE... ✓ 1487 rows\n",
      "[277/310] Processing TRIA.PA... ✓ 1517 rows\n",
      "[278/310] Processing TRYG.CO... ✓ 1481 rows\n",
      "[279/310] Processing TTEF.PA... ✓ 1517 rows\n",
      "[280/310] Processing TWKNc.AS... ✓ 1517 rows\n",
      "[281/310] Processing TYRES.HE... ✓ 1487 rows\n",
      "[282/310] Processing UBIP.PA... ✓ 1517 rows\n",
      "[283/310] Processing ULVR.AS... ✓ 1517 rows\n",
      "[284/310] Processing UMG.AS... ✓ 992 rows\n",
      "[285/310] Processing UMI.BR... ✓ 1517 rows\n",
      "[286/310] Processing UNA.AS^K20... ✓ 1517 rows\n",
      "[287/310] Processing UPM.HE... ✓ 1487 rows\n",
      "[288/310] Processing URW.PA... ✓ 1517 rows\n",
      "[289/310] Processing VALMT.HE... ✓ 1487 rows\n",
      "[290/310] Processing VCTP.PA... ✓ 1517 rows\n",
      "[291/310] Processing VIE.PA... ✓ 1517 rows\n",
      "[292/310] Processing VIRB.PA... ✓ 1517 rows\n",
      "[293/310] Processing VIRI.PA... ✓ 1517 rows\n",
      "[294/310] Processing VIV.PA... ✓ 1517 rows\n",
      "[295/310] Processing VLAN.AS... ✓ 1517 rows\n",
      "[296/310] Processing VLLP.PA... ✓ 1520 rows\n",
      "[297/310] Processing VLOF.PA... ✓ 1517 rows\n",
      "[298/310] Processing VLS.PA... ✓ 1517 rows\n",
      "[299/310] Processing VLTSA.PA... ✓ 1517 rows\n",
      "[300/310] Processing VOLVb.ST... ✓ 1488 rows\n",
      "[301/310] Processing VOPA.AS... ✓ 1517 rows\n",
      "[302/310] Processing VRLA.PA... ✓ 1494 rows\n",
      "[303/310] Processing VU.PA... ✓ 1518 rows\n",
      "[304/310] Processing VWS.CO... ✓ 1481 rows\n",
      "[305/310] Processing WEHA.AS... ✓ 1517 rows\n",
      "[306/310] Processing WLN.PA... ✓ 1517 rows\n",
      "[307/310] Processing WLSNc.AS... ✓ 1517 rows\n",
      "[308/310] Processing WRT1V.HE... ✓ 1487 rows\n",
      "[309/310] Processing XFAB.PA... ✓ 1517 rows\n",
      "[310/310] Processing ZELA.CO... ✓ 1481 rows\n",
      "\n",
      "================================================================================\n",
      "RETRY COMPLETE\n",
      "================================================================================\n",
      "Successfully re-retrieved: 310 RICs\n",
      "Failed on retry: 0 RICs\n",
      "Total rows in attempt2: 457058\n",
      "Date range: 2019-09-02 00:00:00 to 2025-08-01 00:00:00\n",
      "\n",
      "Missing data in attempt2:\n",
      "RIC            0\n",
      "Date           0\n",
      "price     205811\n",
      "tri          353\n",
      "volume    205897\n",
      "cap         2323\n",
      "bid          494\n",
      "ask          563\n",
      "dtype: int64\n",
      "\n",
      "✓ Saved to attempt2.csv\n",
      "\n",
      "Warning: 310 RICs still have missing data after retry:\n",
      "RIC\n",
      "EDF.PA^F23      3123\n",
      "DAMA.PA^B23     3120\n",
      "ABIO.PA^J22     3117\n",
      "SEVI.PA^B22     3107\n",
      "CNPP.PA^F22     3086\n",
      "ILD.PA^J21      3080\n",
      "INGC.PA^K20     3071\n",
      "CNAT.PA^G21     3068\n",
      "ALTT.PA^D20     3066\n",
      "EUCAR.PA^G22    3065\n",
      "GVNV.AS^A22     3039\n",
      "BOSN.AS^K22     3036\n",
      "ATCA.AS^A21     3036\n",
      "UNA.AS^K20      3034\n",
      "FTI.PA^B22      3034\n",
      "PEUP.PA^A21     3034\n",
      "DSMN.AS^E23     3034\n",
      "INTER.AS^L22    3034\n",
      "ALMCP.PA        2073\n",
      "NEOEN.PA^D25    2037\n",
      "dtype: int64\n",
      "\n",
      "Done!\n"
     ]
    },
    {
     "name": "stderr",
     "output_type": "stream",
     "text": [
      "C:\\Users\\Pranay Kumar\\AppData\\Local\\Temp\\ipykernel_12236\\533499807.py:178:DeprecationWarning: DataFrameGroupBy.apply operated on the grouping columns. This behavior is deprecated, and in a future version of pandas the grouping columns will be excluded from the operation. Either pass `include_groups=False` to exclude the groupings or explicitly select the grouping columns after groupby to silence this warning.\n"
     ]
    }
   ],
   "source": [
    "combined_df = pd.read_csv(\"all_stocks_data.csv\")\n",
    "\n",
    "print(\"Analyzing existing data for incomplete RICs...\")\n",
    "print(\"=\"*80)\n",
    "print(f\"Columns in CSV: {combined_df.columns.tolist()}\")\n",
    "print(f\"Shape: {combined_df.shape}\")\n",
    "\n",
    "# --- Find RICs with ANY missing data ---\n",
    "# Only check columns that actually exist\n",
    "columns_to_check = ['price', 'tri', 'volume', 'cap', 'bid', 'ask']\n",
    "existing_columns = [col for col in columns_to_check if col in combined_df.columns]\n",
    "\n",
    "print(f\"\\nChecking these columns for missing data: {existing_columns}\")\n",
    "\n",
    "agg_dict = {col: lambda x: x.isnull().sum() for col in existing_columns}\n",
    "\n",
    "rics_with_missing = combined_df.groupby('RIC').agg(agg_dict).reset_index()\n",
    "\n",
    "# Calculate total missing per RIC\n",
    "rics_with_missing['total_missing'] = rics_with_missing[existing_columns].sum(axis=1)\n",
    "\n",
    "# Filter to only RICs with ANY missing data\n",
    "incomplete_rics = rics_with_missing[rics_with_missing['total_missing'] > 0]['RIC'].tolist()\n",
    "\n",
    "print(f\"\\nRICs with complete data: {len(rics_with_missing) - len(incomplete_rics)}\")\n",
    "print(f\"RICs with missing data: {len(incomplete_rics)}\")\n",
    "\n",
    "if len(incomplete_rics) == 0:\n",
    "    print(\"\\nNo incomplete RICs found! All data is complete.\")\n",
    "else:\n",
    "    print(f\"\\nIncomplete RICs: {incomplete_rics[:20]}\")  # Show first 20\n",
    "    if len(incomplete_rics) > 20:\n",
    "        print(f\"... and {len(incomplete_rics) - 20} more\")\n",
    "    \n",
    "    # Show summary of what's missing\n",
    "    print(\"\\nMissing data breakdown for incomplete RICs:\")\n",
    "    print(rics_with_missing[rics_with_missing['total_missing'] > 0].sort_values('total_missing', ascending=False).head(20))\n",
    "\n",
    "# --- Retry all incomplete RICs ---\n",
    "print(\"\\n\" + \"=\"*80)\n",
    "print(f\"RETRYING {len(incomplete_rics)} INCOMPLETE RICs\")\n",
    "print(\"=\"*80)\n",
    "\n",
    "rd.open_session()\n",
    "\n",
    "retry_data = []\n",
    "retry_failed = {}\n",
    "\n",
    "start_date = \"2019-09-01\"\n",
    "end_date = \"2025-08-01\"\n",
    "\n",
    "for idx, ric in enumerate(incomplete_rics, 1):\n",
    "    print(f\"[{idx}/{len(incomplete_rics)}] Processing {ric}...\", end=' ')\n",
    "    \n",
    "    try:\n",
    "        # --- Fetch historical PRICING data ---\n",
    "        price_df = rd.get_history(\n",
    "            universe=ric,\n",
    "            start=start_date,\n",
    "            end=end_date,\n",
    "            interval=\"daily\"\n",
    "        )\n",
    "        \n",
    "        # Extract only what we need\n",
    "        df = pd.DataFrame({\n",
    "            'RIC': ric,\n",
    "            'price': price_df['TRDPRC_1'] if 'TRDPRC_1' in price_df.columns else None,\n",
    "            'volume_shares': price_df['ACVOL_UNS'] if 'ACVOL_UNS' in price_df.columns else None,\n",
    "            'bid': price_df['BID'] if 'BID' in price_df.columns else None,\n",
    "            'ask': price_df['ASK'] if 'ASK' in price_df.columns else None\n",
    "        })\n",
    "        \n",
    "        # --- Fetch FUNDAMENTAL data WITH DATES ---\n",
    "        try:\n",
    "            fundamental_response = rd.get_data(\n",
    "                universe=ric,\n",
    "                fields=[\n",
    "                    \"TR.TotalReturn.Date\",\n",
    "                    \"TR.TotalReturn\",\n",
    "                    \"TR.PriceToBook\",\n",
    "                    \"TR.CompanyMarketCap\"\n",
    "                ],\n",
    "                parameters={\n",
    "                    \"SDate\": start_date,\n",
    "                    \"EDate\": end_date,\n",
    "                    \"Frq\": \"D\",\n",
    "                    \"Curn\": \"EUR\"\n",
    "                }\n",
    "            )\n",
    "            \n",
    "            # Process fundamental data\n",
    "            if fundamental_response is not None and isinstance(fundamental_response, pd.DataFrame):\n",
    "                fund_df = fundamental_response.copy()\n",
    "                \n",
    "                if 'Date' in fund_df.columns:\n",
    "                    fund_df['Date'] = pd.to_datetime(fund_df['Date'])\n",
    "                    fund_df.set_index('Date', inplace=True)\n",
    "                    \n",
    "                    if 'Instrument' in fund_df.columns:\n",
    "                        fund_df.drop('Instrument', axis=1, inplace=True)\n",
    "                    \n",
    "                    # Merge with price data\n",
    "                    df = df.join(fund_df, how='left')\n",
    "        \n",
    "        except Exception as fund_error:\n",
    "            pass  # Continue even if fundamentals fail\n",
    "        \n",
    "        # Rename columns\n",
    "        column_mapping = {\n",
    "            'Total Return': 'tri',\n",
    "            'Price To Book Value': 'mtbv',\n",
    "            'Company Market Cap': 'cap'\n",
    "        }\n",
    "        \n",
    "        for old_name, new_name in column_mapping.items():\n",
    "            if old_name in df.columns:\n",
    "                df.rename(columns={old_name: new_name}, inplace=True)\n",
    "        \n",
    "        # Compute volume in EUR\n",
    "        if 'volume_shares' in df.columns and 'price' in df.columns:\n",
    "            df['volume'] = df['volume_shares'] * df['price']\n",
    "            df.drop('volume_shares', axis=1, inplace=True)\n",
    "        \n",
    "        # Forward-fill mtbv and cap\n",
    "        if 'mtbv' in df.columns:\n",
    "            df['mtbv'] = df['mtbv'].ffill()\n",
    "        if 'cap' in df.columns:\n",
    "            df['cap'] = df['cap'].ffill()\n",
    "        \n",
    "        # Reset index to make Date a column\n",
    "        df.reset_index(inplace=True)\n",
    "        if 'index' in df.columns:\n",
    "            df.rename(columns={'index': 'Date'}, inplace=True)\n",
    "        \n",
    "        # Reorder columns - only include columns that exist\n",
    "        desired_order = ['RIC', 'Date', 'price', 'tri', 'volume', 'mtbv', 'cap', 'bid', 'ask']\n",
    "        existing_cols = [col for col in desired_order if col in df.columns]\n",
    "        df = df[existing_cols]\n",
    "        \n",
    "        # Append to list\n",
    "        retry_data.append(df)\n",
    "        \n",
    "        print(f\"✓ {len(df)} rows\")\n",
    "        \n",
    "        # Rate limiting\n",
    "        if idx % 10 == 0:\n",
    "            time.sleep(2)\n",
    "        \n",
    "    except Exception as e:\n",
    "        print(f\"✗ Failed: {e}\")\n",
    "        retry_failed[ric] = str(e)\n",
    "        continue\n",
    "\n",
    "rd.close_session()\n",
    "\n",
    "# --- Save retry results ---\n",
    "print(\"\\n\" + \"=\"*80)\n",
    "print(\"RETRY COMPLETE\")\n",
    "print(\"=\"*80)\n",
    "\n",
    "if retry_data:\n",
    "    attempt2_df = pd.concat(retry_data, ignore_index=True)\n",
    "    \n",
    "    print(f\"Successfully re-retrieved: {len(retry_data)} RICs\")\n",
    "    print(f\"Failed on retry: {len(retry_failed)} RICs\")\n",
    "    print(f\"Total rows in attempt2: {len(attempt2_df)}\")\n",
    "    print(f\"Date range: {attempt2_df['Date'].min()} to {attempt2_df['Date'].max()}\")\n",
    "    \n",
    "    # Check if data is still incomplete\n",
    "    print(\"\\nMissing data in attempt2:\")\n",
    "    print(attempt2_df.isnull().sum())\n",
    "    \n",
    "    # Save to CSV\n",
    "    attempt2_df.to_csv(\"attempt2.csv\", index=False)\n",
    "    print(f\"\\n✓ Saved to attempt2.csv\")\n",
    "    \n",
    "    # Show which RICs still have issues\n",
    "    rics_still_incomplete = attempt2_df.groupby('RIC').apply(\n",
    "        lambda x: x.isnull().sum().sum()\n",
    "    )\n",
    "    rics_still_incomplete = rics_still_incomplete[rics_still_incomplete > 0]\n",
    "    \n",
    "    if len(rics_still_incomplete) > 0:\n",
    "        print(f\"\\nWarning: {len(rics_still_incomplete)} RICs still have missing data after retry:\")\n",
    "        print(rics_still_incomplete.sort_values(ascending=False).head(20))\n",
    "else:\n",
    "    print(\"\\nNo data retrieved on retry!\")\n",
    "\n",
    "if retry_failed:\n",
    "    print(f\"\\nFailed RICs:\")\n",
    "    for ric, error in list(retry_failed.items())[:10]:\n",
    "        print(f\"  {ric}: {error[:80]}\")\n",
    "    \n",
    "    # Save failed list\n",
    "    pd.DataFrame([\n",
    "        {'RIC': ric, 'Error': error} \n",
    "        for ric, error in retry_failed.items()\n",
    "    ]).to_csv(\"retry_failed_rics.csv\", index=False)\n",
    "    print(f\"\\n✓ Saved failed RICs to retry_failed_rics.csv\")\n",
    "\n",
    "print(\"\\nDone!\")"
   ]
  },
  {
   "cell_type": "code",
   "execution_count": 45,
   "id": "84720a32",
   "metadata": {},
   "outputs": [
    {
     "data": {
      "text/plain": [
       "RIC            0\n",
       "Date           0\n",
       "price     205811\n",
       "tri          360\n",
       "volume    205897\n",
       "cap         2323\n",
       "bid          494\n",
       "ask          563\n",
       "dtype: int64"
      ]
     },
     "execution_count": 45,
     "metadata": {},
     "output_type": "execute_result"
    }
   ],
   "source": [
    "pd.read_csv(\"attempt2.csv\").isnull().sum()"
   ]
  },
  {
   "cell_type": "code",
   "execution_count": null,
   "id": "88335e3b",
   "metadata": {},
   "outputs": [],
   "source": []
  }
 ],
 "metadata": {
  "kernelspec": {
   "display_name": "Python 3",
   "language": "python",
   "name": "python3"
  },
  "language_info": {
   "codemirror_mode": {
    "name": "ipython",
    "version": 3
   },
   "file_extension": ".py",
   "mimetype": "text/x-python",
   "name": "python",
   "nbconvert_exporter": "python",
   "pygments_lexer": "ipython3",
   "version": "3.12.4"
  }
 },
 "nbformat": 4,
 "nbformat_minor": 5
}
